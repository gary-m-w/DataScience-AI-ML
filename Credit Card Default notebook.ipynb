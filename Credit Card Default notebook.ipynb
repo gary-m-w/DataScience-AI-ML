{
  "cells": [
    {
      "cell_type": "markdown",
      "id": "08d6ae49",
      "metadata": {
        "id": "08d6ae49"
      },
      "source": [
        "## Imports"
      ]
    },
    {
      "cell_type": "code",
      "execution_count": null,
      "id": "c2a5c29c",
      "metadata": {
        "id": "c2a5c29c"
      },
      "outputs": [],
      "source": [
        "#!pip install catboost\n",
        "#from catboost import CatBoostClassifier, Pool, metrics as catmets, cv as catcross\n",
        "import pandas as pd\n",
        "import numpy as np\n",
        "from sklearn import metrics\n",
        "from sklearn.compose import ColumnTransformer\n",
        "from sklearn.pipeline import Pipeline\n",
        "from sklearn.impute import SimpleImputer\n",
        "from sklearn.preprocessing import OneHotEncoder\n",
        "from sklearn.preprocessing import StandardScaler\n",
        "from sklearn.model_selection import train_test_split\n",
        "from sklearn.model_selection import cross_val_score\n",
        "from xgboost import XGBClassifier\n",
        "from sklearn.linear_model import LogisticRegression\n",
        "from sklearn.ensemble import RandomForestClassifier\n",
        "from sklearn.neighbors import KNeighborsClassifier\n",
        "from sklearn.preprocessing import MinMaxScaler\n",
        "import matplotlib.pyplot as plt\n",
        "from sklearn.model_selection import train_test_split\n",
        "from sklearn.model_selection import StratifiedKFold\n",
        "from sklearn.metrics import roc_auc_score, accuracy_score, roc_curve\n",
        "from sklearn.model_selection import GridSearchCV\n",
        "import seaborn as sns\n",
        "from sklearn.ensemble import VotingClassifier"
      ]
    },
    {
      "cell_type": "markdown",
      "id": "a243d557",
      "metadata": {
        "id": "a243d557"
      },
      "source": [
        "## Load data"
      ]
    },
    {
      "cell_type": "code",
      "execution_count": null,
      "id": "54428e51",
      "metadata": {
        "id": "54428e51",
        "outputId": "b1b3bd1c-567f-425d-ee66-4afb2e4bf997",
        "colab": {
          "base_uri": "https://localhost:8080/"
        }
      },
      "outputs": [
        {
          "output_type": "stream",
          "name": "stdout",
          "text": [
            "train shape: (22500, 25)\n",
            "test shape: (7500, 24)\n"
          ]
        }
      ],
      "source": [
        "train = pd.read_csv(\"train.csv\")\n",
        "test = pd.read_csv(\"test.csv\")\n",
        "print(f'train shape: {train.shape}')\n",
        "print(f'test shape: {test.shape}')"
      ]
    },
    {
      "cell_type": "code",
      "execution_count": null,
      "id": "ce2586c3",
      "metadata": {
        "id": "ce2586c3",
        "outputId": "24c8906b-dfa6-4c4f-d9fd-c2a0969ef130",
        "colab": {
          "base_uri": "https://localhost:8080/"
        }
      },
      "outputs": [
        {
          "output_type": "execute_result",
          "data": {
            "text/plain": [
              "Index(['ID', 'LIMIT_BAL', 'SEX', 'EDUCATION', 'MARRIAGE', 'AGE', 'PAY_0',\n",
              "       'PAY_2', 'PAY_3', 'PAY_4', 'PAY_5', 'PAY_6', 'BILL_AMT1', 'BILL_AMT2',\n",
              "       'BILL_AMT3', 'BILL_AMT4', 'BILL_AMT5', 'BILL_AMT6', 'PAY_AMT1',\n",
              "       'PAY_AMT2', 'PAY_AMT3', 'PAY_AMT4', 'PAY_AMT5', 'PAY_AMT6',\n",
              "       'default.payment.next.month'],\n",
              "      dtype='object')"
            ]
          },
          "metadata": {},
          "execution_count": 4
        }
      ],
      "source": [
        "train.columns"
      ]
    },
    {
      "cell_type": "code",
      "execution_count": null,
      "id": "3fc744f4",
      "metadata": {
        "id": "3fc744f4"
      },
      "outputs": [],
      "source": [
        "testIds = test['ID']\n",
        "train.drop(['ID'], axis=1, inplace=True)\n",
        "test.drop(['ID'], axis=1, inplace=True)"
      ]
    },
    {
      "cell_type": "markdown",
      "source": [
        "### Exploratory Data Analysis"
      ],
      "metadata": {
        "id": "nBkUpDtnG6Pc"
      },
      "id": "nBkUpDtnG6Pc"
    },
    {
      "cell_type": "code",
      "source": [
        "train.info()"
      ],
      "metadata": {
        "colab": {
          "base_uri": "https://localhost:8080/"
        },
        "id": "_tT6QgVeHItb",
        "outputId": "a2d2d145-88b0-4a6c-8537-fbc595ef257c"
      },
      "id": "_tT6QgVeHItb",
      "execution_count": null,
      "outputs": [
        {
          "output_type": "stream",
          "name": "stdout",
          "text": [
            "<class 'pandas.core.frame.DataFrame'>\n",
            "RangeIndex: 22500 entries, 0 to 22499\n",
            "Data columns (total 24 columns):\n",
            " #   Column                      Non-Null Count  Dtype  \n",
            "---  ------                      --------------  -----  \n",
            " 0   LIMIT_BAL                   22500 non-null  float64\n",
            " 1   SEX                         22500 non-null  int64  \n",
            " 2   EDUCATION                   22500 non-null  int64  \n",
            " 3   MARRIAGE                    22500 non-null  int64  \n",
            " 4   AGE                         22500 non-null  int64  \n",
            " 5   PAY_0                       22500 non-null  int64  \n",
            " 6   PAY_2                       22500 non-null  int64  \n",
            " 7   PAY_3                       22500 non-null  int64  \n",
            " 8   PAY_4                       22500 non-null  int64  \n",
            " 9   PAY_5                       22500 non-null  int64  \n",
            " 10  PAY_6                       22500 non-null  int64  \n",
            " 11  BILL_AMT1                   22500 non-null  float64\n",
            " 12  BILL_AMT2                   22500 non-null  float64\n",
            " 13  BILL_AMT3                   22500 non-null  float64\n",
            " 14  BILL_AMT4                   22500 non-null  float64\n",
            " 15  BILL_AMT5                   22500 non-null  float64\n",
            " 16  BILL_AMT6                   22500 non-null  float64\n",
            " 17  PAY_AMT1                    22500 non-null  float64\n",
            " 18  PAY_AMT2                    22500 non-null  float64\n",
            " 19  PAY_AMT3                    22500 non-null  float64\n",
            " 20  PAY_AMT4                    22500 non-null  float64\n",
            " 21  PAY_AMT5                    22500 non-null  float64\n",
            " 22  PAY_AMT6                    22500 non-null  float64\n",
            " 23  default.payment.next.month  22500 non-null  int64  \n",
            "dtypes: float64(13), int64(11)\n",
            "memory usage: 4.1 MB\n"
          ]
        }
      ]
    },
    {
      "cell_type": "code",
      "source": [
        "train.describe()"
      ],
      "metadata": {
        "colab": {
          "base_uri": "https://localhost:8080/",
          "height": 320
        },
        "id": "bYJppbRhD5zd",
        "outputId": "6c5aabb8-3986-4a55-c338-829c1f8ea5e1"
      },
      "id": "bYJppbRhD5zd",
      "execution_count": null,
      "outputs": [
        {
          "output_type": "execute_result",
          "data": {
            "text/html": [
              "<div>\n",
              "<style scoped>\n",
              "    .dataframe tbody tr th:only-of-type {\n",
              "        vertical-align: middle;\n",
              "    }\n",
              "\n",
              "    .dataframe tbody tr th {\n",
              "        vertical-align: top;\n",
              "    }\n",
              "\n",
              "    .dataframe thead th {\n",
              "        text-align: right;\n",
              "    }\n",
              "</style>\n",
              "<table border=\"1\" class=\"dataframe\">\n",
              "  <thead>\n",
              "    <tr style=\"text-align: right;\">\n",
              "      <th></th>\n",
              "      <th>LIMIT_BAL</th>\n",
              "      <th>SEX</th>\n",
              "      <th>EDUCATION</th>\n",
              "      <th>MARRIAGE</th>\n",
              "      <th>AGE</th>\n",
              "      <th>PAY_0</th>\n",
              "      <th>PAY_2</th>\n",
              "      <th>PAY_3</th>\n",
              "      <th>PAY_4</th>\n",
              "      <th>PAY_5</th>\n",
              "      <th>PAY_6</th>\n",
              "      <th>BILL_AMT1</th>\n",
              "      <th>BILL_AMT2</th>\n",
              "      <th>BILL_AMT3</th>\n",
              "      <th>BILL_AMT4</th>\n",
              "      <th>BILL_AMT5</th>\n",
              "      <th>BILL_AMT6</th>\n",
              "      <th>PAY_AMT1</th>\n",
              "      <th>PAY_AMT2</th>\n",
              "      <th>PAY_AMT3</th>\n",
              "      <th>PAY_AMT4</th>\n",
              "      <th>PAY_AMT5</th>\n",
              "      <th>PAY_AMT6</th>\n",
              "      <th>default.payment.next.month</th>\n",
              "    </tr>\n",
              "  </thead>\n",
              "  <tbody>\n",
              "    <tr>\n",
              "      <th>count</th>\n",
              "      <td>22500.000000</td>\n",
              "      <td>22500.000000</td>\n",
              "      <td>22500.000000</td>\n",
              "      <td>22500.000000</td>\n",
              "      <td>22500.000000</td>\n",
              "      <td>22500.000000</td>\n",
              "      <td>22500.000000</td>\n",
              "      <td>22500.000000</td>\n",
              "      <td>22500.000000</td>\n",
              "      <td>22500.000000</td>\n",
              "      <td>22500.000000</td>\n",
              "      <td>22500.000000</td>\n",
              "      <td>22500.000000</td>\n",
              "      <td>2.250000e+04</td>\n",
              "      <td>22500.000000</td>\n",
              "      <td>22500.000000</td>\n",
              "      <td>22500.000000</td>\n",
              "      <td>22500.000000</td>\n",
              "      <td>2.250000e+04</td>\n",
              "      <td>22500.000000</td>\n",
              "      <td>22500.000000</td>\n",
              "      <td>22500.000000</td>\n",
              "      <td>22500.000000</td>\n",
              "      <td>22500.000000</td>\n",
              "    </tr>\n",
              "    <tr>\n",
              "      <th>mean</th>\n",
              "      <td>163424.608000</td>\n",
              "      <td>1.610178</td>\n",
              "      <td>1.840667</td>\n",
              "      <td>1.564133</td>\n",
              "      <td>35.212889</td>\n",
              "      <td>0.015067</td>\n",
              "      <td>-0.106978</td>\n",
              "      <td>-0.137422</td>\n",
              "      <td>-0.197333</td>\n",
              "      <td>-0.237067</td>\n",
              "      <td>-0.263067</td>\n",
              "      <td>50340.516000</td>\n",
              "      <td>48361.388311</td>\n",
              "      <td>4.609077e+04</td>\n",
              "      <td>42008.863511</td>\n",
              "      <td>39750.329956</td>\n",
              "      <td>38353.361956</td>\n",
              "      <td>5495.471067</td>\n",
              "      <td>5.784070e+03</td>\n",
              "      <td>4870.560533</td>\n",
              "      <td>4692.143200</td>\n",
              "      <td>4694.131200</td>\n",
              "      <td>5088.028222</td>\n",
              "      <td>0.226133</td>\n",
              "    </tr>\n",
              "    <tr>\n",
              "      <th>std</th>\n",
              "      <td>128515.245979</td>\n",
              "      <td>0.487721</td>\n",
              "      <td>0.775181</td>\n",
              "      <td>0.521311</td>\n",
              "      <td>9.307266</td>\n",
              "      <td>1.119824</td>\n",
              "      <td>1.197125</td>\n",
              "      <td>1.202637</td>\n",
              "      <td>1.164344</td>\n",
              "      <td>1.137459</td>\n",
              "      <td>1.160254</td>\n",
              "      <td>71747.640023</td>\n",
              "      <td>69498.374865</td>\n",
              "      <td>6.735400e+04</td>\n",
              "      <td>62189.619882</td>\n",
              "      <td>59596.457496</td>\n",
              "      <td>58733.356897</td>\n",
              "      <td>15087.642904</td>\n",
              "      <td>2.113294e+04</td>\n",
              "      <td>15959.242382</td>\n",
              "      <td>14823.164919</td>\n",
              "      <td>15023.608194</td>\n",
              "      <td>17300.349898</td>\n",
              "      <td>0.418336</td>\n",
              "    </tr>\n",
              "    <tr>\n",
              "      <th>min</th>\n",
              "      <td>10000.000000</td>\n",
              "      <td>1.000000</td>\n",
              "      <td>0.000000</td>\n",
              "      <td>0.000000</td>\n",
              "      <td>21.000000</td>\n",
              "      <td>-2.000000</td>\n",
              "      <td>-2.000000</td>\n",
              "      <td>-2.000000</td>\n",
              "      <td>-2.000000</td>\n",
              "      <td>-2.000000</td>\n",
              "      <td>-2.000000</td>\n",
              "      <td>-165580.000000</td>\n",
              "      <td>-69777.000000</td>\n",
              "      <td>-1.572640e+05</td>\n",
              "      <td>-170000.000000</td>\n",
              "      <td>-46627.000000</td>\n",
              "      <td>-339603.000000</td>\n",
              "      <td>0.000000</td>\n",
              "      <td>0.000000e+00</td>\n",
              "      <td>0.000000</td>\n",
              "      <td>0.000000</td>\n",
              "      <td>0.000000</td>\n",
              "      <td>0.000000</td>\n",
              "      <td>0.000000</td>\n",
              "    </tr>\n",
              "    <tr>\n",
              "      <th>25%</th>\n",
              "      <td>50000.000000</td>\n",
              "      <td>1.000000</td>\n",
              "      <td>1.000000</td>\n",
              "      <td>1.000000</td>\n",
              "      <td>28.000000</td>\n",
              "      <td>-1.000000</td>\n",
              "      <td>-1.000000</td>\n",
              "      <td>-1.000000</td>\n",
              "      <td>-1.000000</td>\n",
              "      <td>-1.000000</td>\n",
              "      <td>-1.000000</td>\n",
              "      <td>3785.750000</td>\n",
              "      <td>3221.500000</td>\n",
              "      <td>2.909500e+03</td>\n",
              "      <td>2400.000000</td>\n",
              "      <td>1795.750000</td>\n",
              "      <td>1243.750000</td>\n",
              "      <td>1000.000000</td>\n",
              "      <td>7.980000e+02</td>\n",
              "      <td>367.000000</td>\n",
              "      <td>270.000000</td>\n",
              "      <td>247.000000</td>\n",
              "      <td>56.000000</td>\n",
              "      <td>0.000000</td>\n",
              "    </tr>\n",
              "    <tr>\n",
              "      <th>50%</th>\n",
              "      <td>135000.000000</td>\n",
              "      <td>2.000000</td>\n",
              "      <td>2.000000</td>\n",
              "      <td>2.000000</td>\n",
              "      <td>33.000000</td>\n",
              "      <td>0.000000</td>\n",
              "      <td>0.000000</td>\n",
              "      <td>0.000000</td>\n",
              "      <td>0.000000</td>\n",
              "      <td>0.000000</td>\n",
              "      <td>0.000000</td>\n",
              "      <td>22717.500000</td>\n",
              "      <td>21745.500000</td>\n",
              "      <td>2.024350e+04</td>\n",
              "      <td>19051.000000</td>\n",
              "      <td>18259.500000</td>\n",
              "      <td>17175.000000</td>\n",
              "      <td>2098.000000</td>\n",
              "      <td>2.000000e+03</td>\n",
              "      <td>1676.000000</td>\n",
              "      <td>1500.000000</td>\n",
              "      <td>1500.000000</td>\n",
              "      <td>1463.000000</td>\n",
              "      <td>0.000000</td>\n",
              "    </tr>\n",
              "    <tr>\n",
              "      <th>75%</th>\n",
              "      <td>230000.000000</td>\n",
              "      <td>2.000000</td>\n",
              "      <td>2.000000</td>\n",
              "      <td>2.000000</td>\n",
              "      <td>41.000000</td>\n",
              "      <td>0.000000</td>\n",
              "      <td>0.000000</td>\n",
              "      <td>0.000000</td>\n",
              "      <td>0.000000</td>\n",
              "      <td>0.000000</td>\n",
              "      <td>0.000000</td>\n",
              "      <td>65593.000000</td>\n",
              "      <td>62711.250000</td>\n",
              "      <td>5.915425e+04</td>\n",
              "      <td>51814.500000</td>\n",
              "      <td>49635.500000</td>\n",
              "      <td>48739.750000</td>\n",
              "      <td>5000.000000</td>\n",
              "      <td>5.000000e+03</td>\n",
              "      <td>4193.750000</td>\n",
              "      <td>4000.000000</td>\n",
              "      <td>4000.000000</td>\n",
              "      <td>4000.000000</td>\n",
              "      <td>0.000000</td>\n",
              "    </tr>\n",
              "    <tr>\n",
              "      <th>max</th>\n",
              "      <td>1000000.000000</td>\n",
              "      <td>2.000000</td>\n",
              "      <td>6.000000</td>\n",
              "      <td>3.000000</td>\n",
              "      <td>79.000000</td>\n",
              "      <td>8.000000</td>\n",
              "      <td>8.000000</td>\n",
              "      <td>8.000000</td>\n",
              "      <td>8.000000</td>\n",
              "      <td>8.000000</td>\n",
              "      <td>8.000000</td>\n",
              "      <td>964511.000000</td>\n",
              "      <td>983931.000000</td>\n",
              "      <td>1.664089e+06</td>\n",
              "      <td>891586.000000</td>\n",
              "      <td>927171.000000</td>\n",
              "      <td>961664.000000</td>\n",
              "      <td>505000.000000</td>\n",
              "      <td>1.684259e+06</td>\n",
              "      <td>896040.000000</td>\n",
              "      <td>497000.000000</td>\n",
              "      <td>417990.000000</td>\n",
              "      <td>528666.000000</td>\n",
              "      <td>1.000000</td>\n",
              "    </tr>\n",
              "  </tbody>\n",
              "</table>\n",
              "</div>"
            ],
            "text/plain": [
              "            LIMIT_BAL           SEX  ...       PAY_AMT6  default.payment.next.month\n",
              "count    22500.000000  22500.000000  ...   22500.000000                22500.000000\n",
              "mean    163424.608000      1.610178  ...    5088.028222                    0.226133\n",
              "std     128515.245979      0.487721  ...   17300.349898                    0.418336\n",
              "min      10000.000000      1.000000  ...       0.000000                    0.000000\n",
              "25%      50000.000000      1.000000  ...      56.000000                    0.000000\n",
              "50%     135000.000000      2.000000  ...    1463.000000                    0.000000\n",
              "75%     230000.000000      2.000000  ...    4000.000000                    0.000000\n",
              "max    1000000.000000      2.000000  ...  528666.000000                    1.000000\n",
              "\n",
              "[8 rows x 24 columns]"
            ]
          },
          "metadata": {},
          "execution_count": 7
        }
      ]
    },
    {
      "cell_type": "code",
      "source": [
        "plt.rcParams['figure.dpi'] = 120\n",
        "sns.distplot(train['AGE'])\n",
        "plt.title('Age Distribution')"
      ],
      "metadata": {
        "colab": {
          "base_uri": "https://localhost:8080/",
          "height": 554
        },
        "id": "Uepon-a_H2Na",
        "outputId": "0cb2c99e-ba3e-4db5-9cdb-4067dbf9a0f1"
      },
      "id": "Uepon-a_H2Na",
      "execution_count": null,
      "outputs": [
        {
          "output_type": "stream",
          "name": "stderr",
          "text": [
            "/usr/local/lib/python3.7/dist-packages/seaborn/distributions.py:2619: FutureWarning: `distplot` is a deprecated function and will be removed in a future version. Please adapt your code to use either `displot` (a figure-level function with similar flexibility) or `histplot` (an axes-level function for histograms).\n",
            "  warnings.warn(msg, FutureWarning)\n"
          ]
        },
        {
          "output_type": "execute_result",
          "data": {
            "text/plain": [
              "Text(0.5, 1.0, 'Age Distribution')"
            ]
          },
          "metadata": {},
          "execution_count": 9
        },
        {
          "output_type": "display_data",
          "data": {
            "image/png": "[encoded data removed]",
            "text/plain": [
              "<Figure size 720x480 with 1 Axes>"
            ]
          },
          "metadata": {
            "needs_background": "light"
          }
        }
      ]
    },
    {
      "cell_type": "code",
      "source": [
        "#Here we can see that, between age 20 to 45 most of the people will fall into default payment is 0.\n",
        "xticks = [i for i in range(20,85,3)]\n",
        "train.groupby('default.payment.next.month')['AGE'].plot.hist(legend=True, xticks = xticks, \n",
        "                                                             title = 'Number of people for each Age group')\n",
        "plt.xlabel('Age')\n",
        "plt.ylabel('People')\n",
        "plt.show()"
      ],
      "metadata": {
        "colab": {
          "base_uri": "https://localhost:8080/",
          "height": 482
        },
        "id": "waOI_4MdILaV",
        "outputId": "b93dcee6-51e2-44fe-e29e-b9a23f6ee5ec"
      },
      "id": "waOI_4MdILaV",
      "execution_count": null,
      "outputs": [
        {
          "output_type": "display_data",
          "data": {
            "image/png": "[encoded data removed]",
            "text/plain": [
              "<Figure size 720x480 with 1 Axes>"
            ]
          },
          "metadata": {
            "needs_background": "light"
          }
        }
      ]
    },
    {
      "cell_type": "code",
      "source": [
        "# EDUCATION: (1=graduate school, 2=university, 3=high school, 4=others, 5=unknown, 6=unknown)\n",
        "# Here we can see that in our data set most people are high school degree and above, Most people have university degree.\n",
        "ax = sns.countplot(x='EDUCATION', data = train, order = train['EDUCATION'].value_counts(ascending=True).index, hue=\"EDUCATION\")\n",
        "plt.title ('Number of people for each Education group')\n",
        "labels = train['EDUCATION'].value_counts(ascending=True)\n",
        "for index, count in enumerate(labels):\n",
        "    ax.text(index, count, count, horizontalalignment='center')\n",
        "plt.xlabel('Education Type')\n",
        "plt.ylabel('People')\n",
        "plt.legend(loc=0)\n",
        "#plt.savefig('EDA_Education.png',dpi=500)\n",
        "plt.show()"
      ],
      "metadata": {
        "colab": {
          "base_uri": "https://localhost:8080/",
          "height": 482
        },
        "id": "h8ML6f6OIteo",
        "outputId": "ceb63340-0c80-4144-90ae-6f10b483a23d"
      },
      "id": "h8ML6f6OIteo",
      "execution_count": null,
      "outputs": [
        {
          "output_type": "display_data",
          "data": {
            "image/png": "[encoded data removed]",
            "text/plain": [
              "<Figure size 720x480 with 1 Axes>"
            ]
          },
          "metadata": {
            "needs_background": "light"
          }
        }
      ]
    },
    {
      "cell_type": "code",
      "source": [
        "g = sns.catplot(x='EDUCATION', hue='EDUCATION', col='default.payment.next.month',\n",
        "                data=train, kind=\"count\",\n",
        "                height=4, aspect=1);\n",
        "(g.set_axis_labels(\"Education Type\", \"Number of People\"))\n",
        "axes = g.axes.flatten()\n",
        "axes[0].set_title(\"Default Payment 0\")\n",
        "axes[1].set_title(\"Default Payment 1\")\n",
        "g.fig.suptitle('Number of people for each Education group')\n",
        "g.fig.subplots_adjust(top=0.8)\n",
        "plt.savefig('EDA_Education_2.png',dpi=500)"
      ],
      "metadata": {
        "colab": {
          "base_uri": "https://localhost:8080/",
          "height": 493
        },
        "id": "9PISSiwdTxvd",
        "outputId": "679e00f6-442d-4318-9a5e-216fdd22248c"
      },
      "id": "9PISSiwdTxvd",
      "execution_count": null,
      "outputs": [
        {
          "output_type": "display_data",
          "data": {
            "image/png": "[encoded data removed]",
            "text/plain": [
              "<Figure size 960x480 with 2 Axes>"
            ]
          },
          "metadata": {
            "needs_background": "light"
          }
        }
      ]
    },
    {
      "cell_type": "code",
      "source": [
        "#SEX: Gender (1=male, 2=female)\n",
        "ax = sns.countplot(x=\"SEX\", hue=\"default.payment.next.month\", data=train)\n",
        "for rect in ax.patches:\n",
        "  height = rect.get_height()\n",
        "  ax.annotate(f'{int(height)}', xy=(rect.get_x()+rect.get_width()/2, height), xytext=(1, 0),\n",
        "              textcoords='offset points', ha='center', va='bottom')\n",
        "plt.title('Number of people for each Sex group')\n",
        "plt.xlabel('Sex')\n",
        "plt.ylabel('People')\n",
        "plt.legend(title='Default Payment')\n",
        "plt.savefig('EDA_Sex.png',dpi=500)\n",
        "plt.show()"
      ],
      "metadata": {
        "colab": {
          "base_uri": "https://localhost:8080/",
          "height": 482
        },
        "id": "RPGavBS52biX",
        "outputId": "3281acd0-1597-480f-f642-5380c675c302"
      },
      "id": "RPGavBS52biX",
      "execution_count": null,
      "outputs": [
        {
          "output_type": "display_data",
          "data": {
            "image/png": "[encoded data removed]",
            "text/plain": [
              "<Figure size 720x480 with 1 Axes>"
            ]
          },
          "metadata": {
            "needs_background": "light"
          }
        }
      ]
    },
    {
      "cell_type": "code",
      "source": [
        "#MARRIAGE: Marital status (1=married, 2=single, 3=others)\n",
        "ax = sns.countplot(x=\"MARRIAGE\", hue=\"default.payment.next.month\", data=train)\n",
        "for rect in ax.patches:\n",
        "  height = rect.get_height()\n",
        "  ax.annotate(f'{int(height)}', xy=(rect.get_x()+rect.get_width()/2, height), xytext=(1, 0),\n",
        "              textcoords='offset points', ha='center', va='bottom')\n",
        "plt.title('Number of people for each Marriage group')\n",
        "plt.xlabel('Marriage')\n",
        "plt.ylabel('People')\n",
        "plt.legend(title='Default Payment')\n",
        "plt.savefig('EDA_Marriage.png',dpi=500)\n",
        "plt.show()"
      ],
      "metadata": {
        "colab": {
          "base_uri": "https://localhost:8080/",
          "height": 482
        },
        "id": "0yDK_IVnLIjx",
        "outputId": "fb1e9c36-7bf3-4a32-bc6c-a49cbc405bf5"
      },
      "id": "0yDK_IVnLIjx",
      "execution_count": null,
      "outputs": [
        {
          "output_type": "display_data",
          "data": {
            "image/png": "[encoded data removed]",
            "text/plain": [
              "<Figure size 720x480 with 1 Axes>"
            ]
          },
          "metadata": {
            "needs_background": "light"
          }
        }
      ]
    },
    {
      "cell_type": "code",
      "source": [
        "numerical_columns = ['LIMIT_BAL', 'BILL_AMT1', 'BILL_AMT2','BILL_AMT3',\n",
        "                'BILL_AMT4', 'BILL_AMT5', 'BILL_AMT6', 'PAY_AMT1',\n",
        "                'PAY_AMT2', 'PAY_AMT3', 'PAY_AMT4', 'PAY_AMT5', 'PAY_AMT6']"
      ],
      "metadata": {
        "id": "GXct7GOgNdPc"
      },
      "id": "GXct7GOgNdPc",
      "execution_count": null,
      "outputs": []
    },
    {
      "cell_type": "code",
      "source": [
        "#Plots exploring numerical features\n",
        "df_num = train[numerical_columns]\n",
        "df_num.hist(figsize=(20, 20))"
      ],
      "metadata": {
        "colab": {
          "base_uri": "https://localhost:8080/",
          "height": 1000
        },
        "id": "GBGJB2t_O4cP",
        "outputId": "e762a7d3-d92c-49c0-8b66-e7ff200cad70"
      },
      "id": "GBGJB2t_O4cP",
      "execution_count": null,
      "outputs": [
        {
          "output_type": "execute_result",
          "data": {
            "text/plain": [
              "array([[<matplotlib.axes._subplots.AxesSubplot object at 0x7feadb564e50>,\n",
              "        <matplotlib.axes._subplots.AxesSubplot object at 0x7feadafe7790>,\n",
              "        <matplotlib.axes._subplots.AxesSubplot object at 0x7feadaf2e110>,\n",
              "        <matplotlib.axes._subplots.AxesSubplot object at 0x7feadaf645d0>],\n",
              "       [<matplotlib.axes._subplots.AxesSubplot object at 0x7feadaf19ad0>,\n",
              "        <matplotlib.axes._subplots.AxesSubplot object at 0x7feadaec4b10>,\n",
              "        <matplotlib.axes._subplots.AxesSubplot object at 0x7feadae8f590>,\n",
              "        <matplotlib.axes._subplots.AxesSubplot object at 0x7feadae459d0>],\n",
              "       [<matplotlib.axes._subplots.AxesSubplot object at 0x7feadae45a10>,\n",
              "        <matplotlib.axes._subplots.AxesSubplot object at 0x7feadae08050>,\n",
              "        <matplotlib.axes._subplots.AxesSubplot object at 0x7feadad73950>,\n",
              "        <matplotlib.axes._subplots.AxesSubplot object at 0x7feadada9e50>],\n",
              "       [<matplotlib.axes._subplots.AxesSubplot object at 0x7feadad6b390>,\n",
              "        <matplotlib.axes._subplots.AxesSubplot object at 0x7feadad21890>,\n",
              "        <matplotlib.axes._subplots.AxesSubplot object at 0x7feadacd7d90>,\n",
              "        <matplotlib.axes._subplots.AxesSubplot object at 0x7feadac9a2d0>]],\n",
              "      dtype=object)"
            ]
          },
          "metadata": {},
          "execution_count": 73
        },
        {
          "output_type": "display_data",
          "data": {
            "image/png": "[encoded data removed]",
            "text/plain": [
              "<Figure size 2400x2400 with 16 Axes>"
            ]
          },
          "metadata": {
            "needs_background": "light"
          }
        }
      ]
    },
    {
      "cell_type": "markdown",
      "id": "c686eda6",
      "metadata": {
        "id": "c686eda6"
      },
      "source": [
        "## Function for CrossValidation"
      ]
    },
    {
      "cell_type": "code",
      "execution_count": null,
      "id": "9b207417",
      "metadata": {
        "id": "9b207417"
      },
      "outputs": [],
      "source": [
        "def crossValidation(X_train, y_train, model, cv=5, scoring='roc_auc'):\n",
        "    skf = StratifiedKFold(n_splits=cv, shuffle=True)\n",
        "    scores = cross_val_score(model, X_train, y_train, cv=skf, scoring=scoring)\n",
        "    print(f'scores: {scores}')\n",
        "    print(f'cv_score: {round(scores.mean(), 5)}')"
      ]
    },
    {
      "cell_type": "markdown",
      "id": "f1f0c1a5",
      "metadata": {
        "id": "f1f0c1a5"
      },
      "source": [
        "## Function for model scoring"
      ]
    },
    {
      "cell_type": "code",
      "execution_count": null,
      "id": "f62e55b2",
      "metadata": {
        "id": "f62e55b2"
      },
      "outputs": [],
      "source": [
        "y_test = pd.read_csv(\"data/test_labels.csv\")\n",
        "\n",
        "def model_score(X_test, model):\n",
        "    y_pred = model.predict_proba(X_test)\n",
        "    auc = roc_auc_score(y_test['default.payment.next.month'], y_pred[:,1])\n",
        "    print(f'auc_score: {auc}')\n",
        "    fpr, tpr, _ = roc_curve(y_test['default.payment.next.month'],  y_pred[:,1])\n",
        "    plt.plot(fpr,tpr,label=\"data 1, auc=\"+str(auc))\n",
        "    plt.legend(loc=4)\n",
        "    plt.show()"
      ]
    },
    {
      "cell_type": "markdown",
      "id": "5d160ba6",
      "metadata": {
        "id": "5d160ba6"
      },
      "source": [
        "## Custom Transformers"
      ]
    },
    {
      "cell_type": "markdown",
      "id": "8acaeb39",
      "metadata": {
        "id": "8acaeb39"
      },
      "source": [
        "### TargetCounter"
      ]
    },
    {
      "cell_type": "code",
      "execution_count": null,
      "id": "2d6f1f26",
      "metadata": {
        "id": "2d6f1f26"
      },
      "outputs": [],
      "source": [
        "# Takes feature, label column input\n",
        "# Count how many times the label was 0/1 for that feature value and add new column\n",
        "\n",
        "from sklearn.base import BaseEstimator,TransformerMixin\n",
        "\n",
        "class TargetCounter(BaseEstimator,TransformerMixin):\n",
        "    def __init__(self, cols=None, target=0):\n",
        "        self.target = target\n",
        "        if isinstance(cols, str):\n",
        "            self.cols = [cols]\n",
        "        else:\n",
        "            self.cols = cols\n",
        "\n",
        "    def fit(self,X,y=None):\n",
        "        # Encode each element of each column\n",
        "        self.maps = dict() #dict to store map for each column\n",
        "        for col in self.cols:\n",
        "            tmap = dict()\n",
        "            uniques = X[col].unique()\n",
        "            for unique in uniques:\n",
        "                tmap[unique] = y[(X[col]==unique) & (y==self.target)].count()\n",
        "            self.maps[col] = tmap\n",
        "        return self\n",
        "    \n",
        "    def transform(self,X,y=None):\n",
        "        Xo = X.copy()\n",
        "        for col, tmap in self.maps.items():\n",
        "            vals = np.full(X.shape[0], 0)\n",
        "            for val, zc in tmap.items():\n",
        "                vals[X[col]==val] = zc\n",
        "            Xo[col] = vals\n",
        "        return Xo\n",
        "    \n",
        "    def fit_transform(self, X, y=None):\n",
        "        return self.fit(X, y).transform(X, y)"
      ]
    },
    {
      "cell_type": "markdown",
      "id": "40c04870",
      "metadata": {
        "id": "40c04870"
      },
      "source": [
        "### Thread from kaggle discussion\n",
        "PAY_0 and PAY_2–PAY_6: These columns show the status of repayments made by each credit-card customer whose details are listed in the dataset. The six columns cover repayments made from April 2005 through September 2005, in reverse order. For example, PAY_0 indicates a customer's repayment status in September 2005 and PAY_6 indicates the customer's repayment status in April 2005.\n",
        "\n",
        "In each of the six PAY_X columns, the status code -1 means that payment was made on time and the\n",
        "code 1 means that payment was delayed by one month. The codes 2 through 8 represent delays in\n",
        "payment by two through eight months, respectively. And 9 means that payment was delayed by nine\n",
        "or more months.\n",
        "\n",
        "PAY_0 should ideally be renamed to PAY_1. This will ensure that the PAY_X names conform to\n",
        "the naming convention used for the BILL_AMTX and PAY_AMTX columns. It will also preclude any\n",
        "questions about why PAY_0 is followed immediately by PAY_2.\n",
        "\n",
        "\n",
        "BILL_AMT1–BILL_AMT6: These columns list the amount billed to each customer from April 2005 through September 2005, in reverse order. The amounts are in New Taiwan (NT) dollars.\n",
        "\n",
        "\n",
        "PAY_AMT1–PAY_AMT6: These columns list, in reverse order, the amount that each customer paid back to the credit-card company from April 2005 through September 2005. Each of these amounts was paid to settle the preceding month's bill, either in full or partially. For example, each September 2005 amount was paid to settle the corresponding customer's August 2005 bill. The amounts are in NT dollars."
      ]
    },
    {
      "cell_type": "markdown",
      "id": "6a25cef5",
      "metadata": {
        "id": "6a25cef5"
      },
      "source": [
        "## Feature processing pipeline"
      ]
    },
    {
      "cell_type": "code",
      "execution_count": null,
      "id": "8a156b75",
      "metadata": {
        "id": "8a156b75"
      },
      "outputs": [],
      "source": [
        "categorical_columns = ['SEX', 'EDUCATION', 'MARRIAGE', 'AGE', 'PAY_0',\n",
        "            'PAY_2', 'PAY_3', 'PAY_4', 'PAY_5', 'PAY_6']\n",
        "\n",
        "numerical_columns = ['LIMIT_BAL', 'BILL_AMT1', 'BILL_AMT2','BILL_AMT3',\n",
        "                'BILL_AMT4', 'BILL_AMT5', 'BILL_AMT6', 'PAY_AMT1',\n",
        "                'PAY_AMT2', 'PAY_AMT3', 'PAY_AMT4', 'PAY_AMT5', 'PAY_AMT6']"
      ]
    },
    {
      "cell_type": "code",
      "execution_count": null,
      "id": "13776e19",
      "metadata": {
        "id": "13776e19"
      },
      "outputs": [],
      "source": [
        "# Preprocessing for numerical data\n",
        "numerical_transformer = Pipeline(steps=[\n",
        "    ('scaler', StandardScaler()),\n",
        "    ('imputer', SimpleImputer(strategy='mean')), # replace nan by mean\n",
        "])\n",
        "\n",
        "# Preprocessing for categorical data\n",
        "categorical_transformer = Pipeline(steps=[\n",
        "    ('imputer', SimpleImputer(strategy='most_frequent')), # replace missing value with most frequent value in the column\n",
        "    ('onehot', OneHotEncoder(handle_unknown='ignore')), # onehotencode: converts category to numeric as we were doing with getdummies\n",
        "])\n",
        "\n",
        "fetaure_preprocessor = ColumnTransformer(\n",
        "    transformers=[\n",
        "        ('numeric', numerical_transformer, numerical_columns ),\n",
        "        ('categorical', categorical_transformer, categorical_columns),\n",
        "        ('onecounter', TargetCounter(cols=categorical_columns, target=1), categorical_columns),\n",
        "])"
      ]
    },
    {
      "cell_type": "markdown",
      "id": "bee94ea0",
      "metadata": {
        "id": "bee94ea0"
      },
      "source": [
        "### Processed train data"
      ]
    },
    {
      "cell_type": "code",
      "execution_count": null,
      "id": "5b27cc85",
      "metadata": {
        "id": "5b27cc85",
        "outputId": "4adfb993-a9dc-4f02-cb47-ea6879835938",
        "colab": {
          "base_uri": "https://localhost:8080/"
        }
      },
      "outputs": [
        {
          "output_type": "execute_result",
          "data": {
            "text/plain": [
              "(22500, 155)"
            ]
          },
          "metadata": {},
          "execution_count": 19
        }
      ],
      "source": [
        "# Grab target as y, remove target from X\n",
        "train_copy = train.copy()\n",
        "y_train = train_copy['default.payment.next.month']\n",
        "X_train = train_copy.drop(columns=['default.payment.next.month'])\n",
        "\n",
        "# Fit the preprocessor using the training data\n",
        "X_train_p = fetaure_preprocessor.fit_transform(X_train, y_train)\n",
        "X_train_p.shape"
      ]
    },
    {
      "cell_type": "markdown",
      "id": "06718583",
      "metadata": {
        "id": "06718583"
      },
      "source": [
        "### Processed test data"
      ]
    },
    {
      "cell_type": "code",
      "execution_count": null,
      "id": "60a0db80",
      "metadata": {
        "id": "60a0db80",
        "outputId": "eb431bb7-a7bd-4fc8-857e-741c06e15eb2",
        "colab": {
          "base_uri": "https://localhost:8080/"
        }
      },
      "outputs": [
        {
          "output_type": "execute_result",
          "data": {
            "text/plain": [
              "(7500, 155)"
            ]
          },
          "metadata": {},
          "execution_count": 20
        }
      ],
      "source": [
        "# transform test data\n",
        "X_test = test.copy()\n",
        "X_test_p = fetaure_preprocessor.transform(X_test)\n",
        "X_test_p.shape"
      ]
    },
    {
      "cell_type": "markdown",
      "id": "322ab426",
      "metadata": {
        "id": "322ab426"
      },
      "source": [
        "## Model Training"
      ]
    },
    {
      "cell_type": "markdown",
      "id": "6f96f0ae",
      "metadata": {
        "id": "6f96f0ae"
      },
      "source": [
        "### Logistic Regression"
      ]
    },
    {
      "cell_type": "code",
      "execution_count": null,
      "id": "8d9fc7f7",
      "metadata": {
        "id": "8d9fc7f7",
        "outputId": "c00c701e-e499-44b0-97de-d6ecb06a5313"
      },
      "outputs": [
        {
          "name": "stdout",
          "output_type": "stream",
          "text": [
            "tuned hyperparameters :(best parameters) {'C': 5, 'penalty': 'l2'}\n"
          ]
        }
      ],
      "source": [
        "grid = {\n",
        "        \"C\":[0.001, 0.005, 0.01, 0.05, 0.1, 0.5, 1, 5, 10, 50, 100, 500, 1000], \n",
        "        \"penalty\":[\"l2\"]\n",
        "       }\n",
        "\n",
        "logreg = LogisticRegression()\n",
        "logreg_cv = GridSearchCV(logreg,grid)\n",
        "logreg_cv.fit(X_train_p,y_train)\n",
        "\n",
        "print(\"tuned hyperparameters :(best parameters)\", logreg_cv.best_params_)"
      ]
    },
    {
      "cell_type": "markdown",
      "id": "10113e5c",
      "metadata": {
        "id": "10113e5c"
      },
      "source": [
        "#### Retrain Model with whole train data"
      ]
    },
    {
      "cell_type": "code",
      "execution_count": null,
      "id": "39bc8718",
      "metadata": {
        "id": "39bc8718",
        "outputId": "1c355c84-4279-4169-d947-41b2639d2765"
      },
      "outputs": [
        {
          "data": {
            "text/plain": [
              "LogisticRegression(C=5)"
            ]
          },
          "execution_count": 333,
          "metadata": {},
          "output_type": "execute_result"
        }
      ],
      "source": [
        "lr_model = LogisticRegression(C=5, penalty='l2')\n",
        "lr_model.fit(X_train_p, y_train)"
      ]
    },
    {
      "cell_type": "markdown",
      "id": "590bc7aa",
      "metadata": {
        "id": "590bc7aa"
      },
      "source": [
        "#### Test Model"
      ]
    },
    {
      "cell_type": "code",
      "execution_count": null,
      "id": "042471f4",
      "metadata": {
        "id": "042471f4",
        "outputId": "d8760879-9673-4cb7-c503-d69b5db68a60"
      },
      "outputs": [
        {
          "name": "stdout",
          "output_type": "stream",
          "text": [
            "auc_score: 0.7621274350705731\n"
          ]
        },
        {
          "data": {
            "image/png": "[encoded data removed]",
            "text/plain": [
              "<Figure size 432x288 with 1 Axes>"
            ]
          },
          "metadata": {
            "needs_background": "light"
          },
          "output_type": "display_data"
        }
      ],
      "source": [
        "model_score(X_test=X_test_p,model=lr_model)"
      ]
    },
    {
      "cell_type": "markdown",
      "id": "fb4c01fa",
      "metadata": {
        "id": "fb4c01fa"
      },
      "source": [
        "### RandomForest Classifier"
      ]
    },
    {
      "cell_type": "markdown",
      "id": "ca3b0406",
      "metadata": {
        "id": "ca3b0406"
      },
      "source": [
        "#### Test performance before tuning parameter"
      ]
    },
    {
      "cell_type": "code",
      "execution_count": null,
      "id": "0406c456",
      "metadata": {
        "id": "0406c456",
        "outputId": "42b5a832-bba2-47be-b440-7ad7df4e6cef"
      },
      "outputs": [
        {
          "name": "stdout",
          "output_type": "stream",
          "text": [
            "auc_score: 0.7696806471583175\n"
          ]
        },
        {
          "data": {
            "image/png": "[encoded data removed]",
            "text/plain": [
              "<Figure size 432x288 with 1 Axes>"
            ]
          },
          "metadata": {
            "needs_background": "light"
          },
          "output_type": "display_data"
        }
      ],
      "source": [
        "rfc = RandomForestClassifier(n_estimators=100, max_depth=4, random_state=5)\n",
        "rfc.fit(X_train_p,y_train)\n",
        "model_score(X_test_p,rfc)"
      ]
    },
    {
      "cell_type": "markdown",
      "id": "b95696dc",
      "metadata": {
        "id": "b95696dc"
      },
      "source": [
        "#### Hyperparameter tuning (n_estimators)"
      ]
    },
    {
      "cell_type": "code",
      "execution_count": null,
      "id": "4dc9f661",
      "metadata": {
        "id": "4dc9f661",
        "outputId": "330a7d50-052d-448f-aca9-7ff45d4764f1"
      },
      "outputs": [
        {
          "name": "stdout",
          "output_type": "stream",
          "text": [
            "\n",
            "n_esitmators: 200, max_depth: 4\n",
            "scores: [0.75766234 0.76814143 0.77029142 0.77199184 0.74586734]\n",
            "cv_score: 0.76279\n",
            "\n",
            "n_esitmators: 300, max_depth: 4\n",
            "scores: [0.76168273 0.75900237 0.76190095 0.774822   0.75779718]\n",
            "cv_score: 0.76304\n",
            "\n",
            "n_esitmators: 400, max_depth: 4\n",
            "scores: [0.76968149 0.76449991 0.75423325 0.75998084 0.76913177]\n",
            "cv_score: 0.76351\n",
            "\n",
            "n_esitmators: 500, max_depth: 4\n",
            "scores: [0.76185271 0.76581611 0.76078364 0.77327663 0.75583216]\n",
            "cv_score: 0.76351\n"
          ]
        }
      ],
      "source": [
        "for n_estimators in [200, 300, 400, 500]:\n",
        "    for max_depth in [4]:\n",
        "        model = RandomForestClassifier(n_estimators=n_estimators, max_depth=max_depth, n_jobs=-1)\n",
        "        print(f'\\nn_esitmators: {n_estimators}, max_depth: {max_depth}')\n",
        "        crossValidation(X_train_p, y_train, model)"
      ]
    },
    {
      "cell_type": "code",
      "execution_count": null,
      "id": "ce343fa7",
      "metadata": {
        "id": "ce343fa7",
        "outputId": "fae4c0fd-7775-440f-8a6c-603d5ee6e049"
      },
      "outputs": [
        {
          "name": "stdout",
          "output_type": "stream",
          "text": [
            "\n",
            "n_esitmators: 600, max_depth: 4\n",
            "scores: [0.76524907 0.75449167 0.75134328 0.77160451 0.77690403]\n",
            "cv_score: 0.76392\n",
            "\n",
            "n_esitmators: 700, max_depth: 4\n",
            "scores: [0.75766276 0.76053086 0.76055781 0.76808426 0.77062857]\n",
            "cv_score: 0.76349\n"
          ]
        }
      ],
      "source": [
        "for n_estimators in [600, 700]:\n",
        "    for max_depth in [4]:\n",
        "        model = RandomForestClassifier(n_estimators=n_estimators, max_depth=max_depth, n_jobs=-1)\n",
        "        print(f'\\nn_esitmators: {n_estimators}, max_depth: {max_depth}')\n",
        "        crossValidation(X_train_p, y_train, model)"
      ]
    },
    {
      "cell_type": "markdown",
      "id": "b6ddbfcb",
      "metadata": {
        "id": "b6ddbfcb"
      },
      "source": [
        "#### Hyperparameter tuning (max_depth)"
      ]
    },
    {
      "cell_type": "code",
      "execution_count": null,
      "id": "fbf8f079",
      "metadata": {
        "id": "fbf8f079",
        "outputId": "25a4dffd-55be-4d40-d595-707cbf7b258b"
      },
      "outputs": [
        {
          "name": "stdout",
          "output_type": "stream",
          "text": [
            "\n",
            "n_esitmators: 600, max_depth: 4\n",
            "scores: [0.75530048 0.76001784 0.76727972 0.76879666 0.76848852]\n",
            "cv_score: 0.76398\n",
            "\n",
            "n_esitmators: 600, max_depth: 5\n",
            "scores: [0.76199151 0.7652904  0.76972649 0.76324646 0.77494522]\n",
            "cv_score: 0.76704\n",
            "\n",
            "n_esitmators: 600, max_depth: 6\n",
            "scores: [0.7762598  0.77249909 0.77822896 0.75492722 0.76794748]\n",
            "cv_score: 0.76997\n",
            "\n",
            "n_esitmators: 600, max_depth: 7\n",
            "scores: [0.7640364  0.77511118 0.76498741 0.77603706 0.77934008]\n",
            "cv_score: 0.7719\n"
          ]
        }
      ],
      "source": [
        "for n_estimators in [600]:\n",
        "    for max_depth in [4, 5, 6, 7]:\n",
        "        model = RandomForestClassifier(n_estimators=n_estimators, max_depth=max_depth, n_jobs=-1)\n",
        "        print(f'\\nn_esitmators: {n_estimators}, max_depth: {max_depth}')\n",
        "        crossValidation(X_train_p, y_train, model)"
      ]
    },
    {
      "cell_type": "code",
      "execution_count": null,
      "id": "61f2611a",
      "metadata": {
        "id": "61f2611a",
        "outputId": "12dfe3ac-a195-4303-a5d5-123c3b8f1136"
      },
      "outputs": [
        {
          "name": "stdout",
          "output_type": "stream",
          "text": [
            "\n",
            "n_esitmators: 600, max_depth: 8\n",
            "scores: [0.7744406  0.77837354 0.76281979 0.78071718 0.77327028]\n",
            "cv_score: 0.77392\n",
            "\n",
            "n_esitmators: 600, max_depth: 9\n",
            "scores: [0.7713619  0.77504277 0.77722548 0.7763891  0.77357786]\n",
            "cv_score: 0.77472\n",
            "\n",
            "n_esitmators: 600, max_depth: 10\n",
            "scores: [0.77787476 0.78008145 0.78038642 0.7651783  0.77919723]\n",
            "cv_score: 0.77654\n",
            "\n",
            "n_esitmators: 600, max_depth: 11\n",
            "scores: [0.76088647 0.80173943 0.78021066 0.78431706 0.75642021]\n",
            "cv_score: 0.77671\n"
          ]
        }
      ],
      "source": [
        "for n_estimators in [600]:\n",
        "    for max_depth in [8, 9, 10, 11]:\n",
        "        model = RandomForestClassifier(n_estimators=n_estimators, max_depth=max_depth, n_jobs=-1)\n",
        "        print(f'\\nn_esitmators: {n_estimators}, max_depth: {max_depth}')\n",
        "        crossValidation(X_train_p, y_train, model)"
      ]
    },
    {
      "cell_type": "code",
      "execution_count": null,
      "id": "a4208dd0",
      "metadata": {
        "id": "a4208dd0",
        "outputId": "df227da6-68e6-456e-f056-301f825a7391"
      },
      "outputs": [
        {
          "name": "stdout",
          "output_type": "stream",
          "text": [
            "\n",
            "n_esitmators: 600, max_depth: 12\n",
            "scores: [0.75427684 0.77646137 0.78803902 0.78315676 0.78076729]\n",
            "cv_score: 0.77654\n",
            "\n",
            "n_esitmators: 600, max_depth: 13\n",
            "scores: [0.78798923 0.78574755 0.76488712 0.77794603 0.76640621]\n",
            "cv_score: 0.7766\n",
            "\n",
            "n_esitmators: 600, max_depth: 14\n",
            "scores: [0.7812092  0.77423268 0.7817273  0.75673781 0.78634009]\n",
            "cv_score: 0.77605\n",
            "\n",
            "n_esitmators: 600, max_depth: 15\n",
            "scores: [0.77394902 0.76762785 0.76740554 0.78919099 0.77831642]\n",
            "cv_score: 0.7753\n"
          ]
        }
      ],
      "source": [
        "for n_estimators in [600]:\n",
        "    for max_depth in [12, 13, 14, 15]:\n",
        "        model = RandomForestClassifier(n_estimators=n_estimators, max_depth=max_depth, n_jobs=-1)\n",
        "        print(f'\\nn_esitmators: {n_estimators}, max_depth: {max_depth}')\n",
        "        crossValidation(X_train_p, y_train, model)"
      ]
    },
    {
      "cell_type": "markdown",
      "id": "5b9909d0",
      "metadata": {
        "id": "5b9909d0"
      },
      "source": [
        "#### Retrain Model with whole train data"
      ]
    },
    {
      "cell_type": "code",
      "execution_count": null,
      "id": "d55cf860",
      "metadata": {
        "id": "d55cf860",
        "outputId": "e59eb4cc-1edb-4b54-97b6-ed7cb61ff32b"
      },
      "outputs": [
        {
          "data": {
            "text/plain": [
              "RandomForestClassifier(max_depth=11, n_estimators=600, n_jobs=-1)"
            ]
          },
          "execution_count": 336,
          "metadata": {},
          "output_type": "execute_result"
        }
      ],
      "source": [
        "n_estimators = 600\n",
        "max_depth = 11\n",
        "\n",
        "rf_model = RandomForestClassifier(n_estimators=n_estimators, max_depth=max_depth, n_jobs=-1)\n",
        "rf_model.fit(X_train_p, y_train)"
      ]
    },
    {
      "cell_type": "markdown",
      "id": "5521bd19",
      "metadata": {
        "id": "5521bd19"
      },
      "source": [
        "#### Test Model"
      ]
    },
    {
      "cell_type": "code",
      "execution_count": null,
      "id": "0829268b",
      "metadata": {
        "id": "0829268b",
        "outputId": "5591aa73-bf39-4dde-c47c-57147921b46f"
      },
      "outputs": [
        {
          "name": "stdout",
          "output_type": "stream",
          "text": [
            "auc_score: 0.7899839000548747\n"
          ]
        },
        {
          "data": {
            "image/png": "[encoded data removed]",
            "text/plain": [
              "<Figure size 432x288 with 1 Axes>"
            ]
          },
          "metadata": {
            "needs_background": "light"
          },
          "output_type": "display_data"
        }
      ],
      "source": [
        "model_score(X_test=X_test_p, model=rf_model)"
      ]
    },
    {
      "cell_type": "markdown",
      "id": "d175d504",
      "metadata": {
        "id": "d175d504"
      },
      "source": [
        "#### Hyperparameter tuning (grid search)"
      ]
    },
    {
      "cell_type": "code",
      "execution_count": null,
      "id": "9167f8ef",
      "metadata": {
        "id": "9167f8ef",
        "outputId": "c91e5d96-6e85-4c92-89e8-468ba10decf5"
      },
      "outputs": [
        {
          "name": "stdout",
          "output_type": "stream",
          "text": [
            "tuned hyperparameters :(best parameters) {'max_depth': 11, 'n_estimators': 575, 'n_jobs': -1}\n"
          ]
        }
      ],
      "source": [
        "grid = {\n",
        "        \"n_estimators\":[575, 600, 625], \n",
        "        \"max_depth\":[10, 11, 12],\n",
        "        \"n_jobs\":[-1]\n",
        "       }\n",
        "\n",
        "rfcg = RandomForestClassifier()\n",
        "rfcg_cv = GridSearchCV(rfcg,grid)\n",
        "rfcg_cv.fit(X_train_p,y_train)\n",
        "\n",
        "print(\"tuned hyperparameters :(best parameters)\", rfcg_cv.best_params_)"
      ]
    },
    {
      "cell_type": "markdown",
      "id": "8bbbbb47",
      "metadata": {
        "id": "8bbbbb47"
      },
      "source": [
        "#### Retrain model with whole training data"
      ]
    },
    {
      "cell_type": "code",
      "execution_count": null,
      "id": "98d6b78a",
      "metadata": {
        "id": "98d6b78a",
        "outputId": "c5d8b084-8034-48bb-cd71-feeeef815edb"
      },
      "outputs": [
        {
          "data": {
            "text/plain": [
              "RandomForestClassifier(max_depth=11, n_estimators=575, n_jobs=-1,\n",
              "                       random_state=5)"
            ]
          },
          "execution_count": 338,
          "metadata": {},
          "output_type": "execute_result"
        }
      ],
      "source": [
        "rf_model = RandomForestClassifier(n_estimators=575, max_depth=11, random_state=5, n_jobs=-1)\n",
        "rf_model.fit(X_train_p, y_train)"
      ]
    },
    {
      "cell_type": "markdown",
      "id": "482fcb4c",
      "metadata": {
        "id": "482fcb4c"
      },
      "source": [
        "#### Test model"
      ]
    },
    {
      "cell_type": "code",
      "execution_count": null,
      "id": "c2c73fab",
      "metadata": {
        "id": "c2c73fab",
        "outputId": "2e446f33-bf40-4a65-a068-4ba409e81bd4"
      },
      "outputs": [
        {
          "name": "stdout",
          "output_type": "stream",
          "text": [
            "auc_score: 0.7889617261086105\n"
          ]
        },
        {
          "data": {
            "image/png": "[encoded data removed]",
            "text/plain": [
              "<Figure size 432x288 with 1 Axes>"
            ]
          },
          "metadata": {
            "needs_background": "light"
          },
          "output_type": "display_data"
        }
      ],
      "source": [
        "model_score(X_test_p, rf_model)"
      ]
    },
    {
      "cell_type": "markdown",
      "id": "778475e2",
      "metadata": {
        "id": "778475e2"
      },
      "source": [
        "### XGBClassifier (Alternate)"
      ]
    },
    {
      "cell_type": "markdown",
      "id": "a74ea421",
      "metadata": {
        "id": "a74ea421"
      },
      "source": [
        "#### Hyperparameter tuning (n_estimators)"
      ]
    },
    {
      "cell_type": "code",
      "execution_count": null,
      "id": "a73ae5d0",
      "metadata": {
        "id": "a73ae5d0",
        "outputId": "b19dcb92-0e38-4df5-b4ce-fce2f6213d79"
      },
      "outputs": [
        {
          "name": "stdout",
          "output_type": "stream",
          "text": [
            "\n",
            "colsample_bytree: 0.3, learning_rate: 0.01, n_estimators: 200, max_depth: 4\n",
            "scores: [0.77388808 0.75964926 0.76133898 0.77744508 0.7845374 ]\n",
            "cv_score: 0.77137\n",
            "\n",
            "colsample_bytree: 0.3, learning_rate: 0.01, n_estimators: 300, max_depth: 4\n",
            "scores: [0.77617954 0.78575813 0.76519631 0.76825124 0.77367935]\n",
            "cv_score: 0.77381\n",
            "\n",
            "colsample_bytree: 0.3, learning_rate: 0.01, n_estimators: 400, max_depth: 4\n",
            "scores: [0.78656131 0.7794309  0.7546347  0.77644175 0.7850272 ]\n",
            "cv_score: 0.77642\n",
            "\n",
            "colsample_bytree: 0.3, learning_rate: 0.01, n_estimators: 500, max_depth: 4\n",
            "scores: [0.77789098 0.77171919 0.77784302 0.77237296 0.78616195]\n",
            "cv_score: 0.7772\n",
            "\n",
            "colsample_bytree: 0.3, learning_rate: 0.01, n_estimators: 600, max_depth: 4\n",
            "scores: [0.77044249 0.76990746 0.77318519 0.78946299 0.78945481]\n",
            "cv_score: 0.77849\n",
            "\n",
            "colsample_bytree: 0.3, learning_rate: 0.01, n_estimators: 700, max_depth: 4\n",
            "scores: [0.76984328 0.77505419 0.79087778 0.77697616 0.77935335]\n",
            "cv_score: 0.77842\n"
          ]
        }
      ],
      "source": [
        "import warnings\n",
        "warnings.filterwarnings(\"ignore\", category=UserWarning)\n",
        "\n",
        "for colsample_bytree in [0.3]:\n",
        "    for learning_rate in [0.01]:\n",
        "        for n_estimators in [200, 300, 400, 500, 600, 700]:\n",
        "                for max_depth in [4]:\n",
        "                    print(f'\\ncolsample_bytree: {colsample_bytree}, learning_rate: {learning_rate}, n_estimators: {n_estimators}, max_depth: {max_depth}')\n",
        "                    model = XGBClassifier(colsample_bytree=colsample_bytree, early_stopping_rounds=5, n_estimators=n_estimators, max_depth=max_depth, n_jobs=-1, \n",
        "                                          learning_rate=learning_rate, objective='binary:logistic', verbosity = 0, silent=True)\n",
        "                    crossValidation(X_train=X_train_p, y_train=y_train, model=model)"
      ]
    },
    {
      "cell_type": "code",
      "execution_count": null,
      "id": "5b35051d",
      "metadata": {
        "id": "5b35051d",
        "outputId": "b93d7294-e8eb-4202-af65-1bf427362ccd"
      },
      "outputs": [
        {
          "name": "stdout",
          "output_type": "stream",
          "text": [
            "\n",
            "colsample_bytree: 0.3, learning_rate: 0.01, n_estimators: 800, max_depth: 4\n",
            "scores: [0.76136267 0.76752741 0.7964553  0.78485457 0.78113839]\n",
            "cv_score: 0.77827\n",
            "\n",
            "colsample_bytree: 0.3, learning_rate: 0.01, n_estimators: 900, max_depth: 4\n",
            "scores: [0.76972014 0.77646208 0.78735602 0.7825011  0.78034736]\n",
            "cv_score: 0.77928\n",
            "\n",
            "colsample_bytree: 0.3, learning_rate: 0.01, n_estimators: 1000, max_depth: 4\n",
            "scores: [0.78669334 0.77512007 0.77947561 0.78249277 0.76829175]\n",
            "cv_score: 0.77841\n",
            "\n",
            "colsample_bytree: 0.3, learning_rate: 0.01, n_estimators: 1100, max_depth: 4\n",
            "scores: [0.78172674 0.78099606 0.77020819 0.78491626 0.77328412]\n",
            "cv_score: 0.77823\n",
            "\n",
            "colsample_bytree: 0.3, learning_rate: 0.01, n_estimators: 1200, max_depth: 4\n",
            "scores: [0.78032548 0.78385669 0.76079972 0.78255417 0.7833102 ]\n",
            "cv_score: 0.77817\n"
          ]
        }
      ],
      "source": [
        "for colsample_bytree in [0.3]:\n",
        "    for learning_rate in [0.01]:\n",
        "        for n_estimators in [800, 900, 1000, 1100, 1200]:\n",
        "                for max_depth in [4]:\n",
        "                    print(f'\\ncolsample_bytree: {colsample_bytree}, learning_rate: {learning_rate}, n_estimators: {n_estimators}, max_depth: {max_depth}')\n",
        "                    model = XGBClassifier(colsample_bytree=colsample_bytree, early_stopping_rounds=5, n_estimators=n_estimators, max_depth=max_depth, n_jobs=-1, \n",
        "                                          learning_rate=learning_rate, objective='binary:logistic', verbosity = 0, silent=True)\n",
        "                    crossValidation(X_train=X_train_p, y_train=y_train, model=model)"
      ]
    },
    {
      "cell_type": "markdown",
      "id": "0961cf58",
      "metadata": {
        "id": "0961cf58"
      },
      "source": [
        "#### Hyperparameter tuning (max_depth)"
      ]
    },
    {
      "cell_type": "code",
      "execution_count": null,
      "id": "6cccb2e8",
      "metadata": {
        "id": "6cccb2e8",
        "outputId": "5ea17780-efef-42de-c661-0d8126cc130a"
      },
      "outputs": [
        {
          "name": "stdout",
          "output_type": "stream",
          "text": [
            "\n",
            "colsample_bytree: 0.3, learning_rate: 0.01, n_estimators: 600, max_depth: 5\n",
            "scores: [0.77791919 0.77895074 0.77862927 0.77526    0.78402317]\n",
            "cv_score: 0.77896\n",
            "\n",
            "colsample_bytree: 0.3, learning_rate: 0.01, n_estimators: 600, max_depth: 6\n",
            "scores: [0.77619901 0.77397173 0.77842545 0.78752847 0.79101711]\n",
            "cv_score: 0.78143\n",
            "\n",
            "colsample_bytree: 0.3, learning_rate: 0.01, n_estimators: 600, max_depth: 7\n",
            "scores: [0.78748142 0.7734635  0.78440484 0.76876702 0.78475478]\n",
            "cv_score: 0.77977\n",
            "\n",
            "colsample_bytree: 0.3, learning_rate: 0.01, n_estimators: 600, max_depth: 8\n",
            "scores: [0.784862   0.77382982 0.77971682 0.78178883 0.77492673]\n",
            "cv_score: 0.77902\n"
          ]
        }
      ],
      "source": [
        "import warnings\n",
        "warnings.filterwarnings(\"ignore\", category=UserWarning)\n",
        "\n",
        "for colsample_bytree in [0.3]:\n",
        "    for learning_rate in [0.01]:\n",
        "        for n_estimators in [600]:\n",
        "                for max_depth in [5,6,7,8]:\n",
        "                    print(f'\\ncolsample_bytree: {colsample_bytree}, learning_rate: {learning_rate}, n_estimators: {n_estimators}, max_depth: {max_depth}')\n",
        "                    model = XGBClassifier(colsample_bytree=colsample_bytree, early_stopping_rounds=5, n_estimators=n_estimators, max_depth=max_depth, n_jobs=-1, \n",
        "                                          learning_rate=learning_rate, objective='binary:logistic', verbosity = 0, silent=True)\n",
        "                    crossValidation(X_train=X_train_p, y_train=y_train, model=model)"
      ]
    },
    {
      "cell_type": "code",
      "execution_count": null,
      "id": "9fb0be56",
      "metadata": {
        "id": "9fb0be56",
        "outputId": "35b34c06-5b54-43c3-b9a9-0423b8e4b626"
      },
      "outputs": [
        {
          "name": "stdout",
          "output_type": "stream",
          "text": [
            "\n",
            "colsample_bytree: 0.3, learning_rate: 0.01, n_estimators: 900, max_depth: 5\n",
            "scores: [0.79048198 0.77862462 0.78582316 0.76317165 0.77920401]\n",
            "cv_score: 0.77946\n",
            "\n",
            "colsample_bytree: 0.3, learning_rate: 0.01, n_estimators: 900, max_depth: 6\n",
            "scores: [0.77855705 0.77736766 0.78369814 0.77592456 0.77897844]\n",
            "cv_score: 0.77891\n",
            "\n",
            "colsample_bytree: 0.3, learning_rate: 0.01, n_estimators: 900, max_depth: 7\n",
            "scores: [0.77624387 0.77376508 0.79062177 0.77930211 0.77484571]\n",
            "cv_score: 0.77896\n",
            "\n",
            "colsample_bytree: 0.3, learning_rate: 0.01, n_estimators: 900, max_depth: 8\n",
            "scores: [0.77874254 0.78160091 0.76838476 0.77769605 0.78708948]\n",
            "cv_score: 0.7787\n"
          ]
        }
      ],
      "source": [
        "import warnings\n",
        "warnings.filterwarnings(\"ignore\", category=UserWarning)\n",
        "\n",
        "for colsample_bytree in [0.3]:\n",
        "    for learning_rate in [0.01]:\n",
        "        for n_estimators in [900]:\n",
        "                for max_depth in [5,6,7,8]:\n",
        "                    print(f'\\ncolsample_bytree: {colsample_bytree}, learning_rate: {learning_rate}, n_estimators: {n_estimators}, max_depth: {max_depth}')\n",
        "                    model = XGBClassifier(colsample_bytree=colsample_bytree, early_stopping_rounds=5, n_estimators=n_estimators, max_depth=max_depth, n_jobs=-1, \n",
        "                                          learning_rate=learning_rate, objective='binary:logistic', verbosity = 0, silent=True)\n",
        "                    crossValidation(X_train=X_train_p, y_train=y_train, model=model)"
      ]
    },
    {
      "cell_type": "markdown",
      "id": "31c1acac",
      "metadata": {
        "id": "31c1acac"
      },
      "source": [
        "#### Hyperparameter tuning (colsample_bytree)"
      ]
    },
    {
      "cell_type": "code",
      "execution_count": null,
      "id": "2f4a5d95",
      "metadata": {
        "id": "2f4a5d95",
        "outputId": "083fbcb2-72c2-4dff-e0b0-8480644cbe18"
      },
      "outputs": [
        {
          "name": "stdout",
          "output_type": "stream",
          "text": [
            "\n",
            "colsample_bytree: 0.25, learning_rate: 0.01, n_estimators: 600, max_depth: 7\n",
            "scores: [0.77888106 0.78009062 0.78480276 0.77302072 0.77910873]\n",
            "cv_score: 0.77918\n",
            "\n",
            "colsample_bytree: 0.35, learning_rate: 0.01, n_estimators: 600, max_depth: 7\n",
            "scores: [0.77877893 0.78467905 0.78162644 0.7760132  0.77654281]\n",
            "cv_score: 0.77953\n"
          ]
        }
      ],
      "source": [
        "import warnings\n",
        "warnings.filterwarnings(\"ignore\", category=UserWarning)\n",
        "\n",
        "for colsample_bytree in [0.25, 0.3, 0.35]:\n",
        "    for learning_rate in [0.01]:\n",
        "        for n_estimators in [600]:\n",
        "                for max_depth in [7]:\n",
        "                    print(f'\\ncolsample_bytree: {colsample_bytree}, learning_rate: {learning_rate}, n_estimators: {n_estimators}, max_depth: {max_depth}')\n",
        "                    model = XGBClassifier(colsample_bytree=colsample_bytree, early_stopping_rounds=5, n_estimators=n_estimators, max_depth=max_depth, n_jobs=-1, \n",
        "                                          learning_rate=learning_rate, objective='binary:logistic', verbosity = 0, silent=True)\n",
        "                    crossValidation(X_train=X_train_p, y_train=y_train, model=model)"
      ]
    },
    {
      "cell_type": "markdown",
      "id": "04577a25",
      "metadata": {
        "id": "04577a25"
      },
      "source": [
        "#### Retrain Model with whole train data"
      ]
    },
    {
      "cell_type": "code",
      "execution_count": null,
      "id": "eddbad48",
      "metadata": {
        "id": "eddbad48",
        "outputId": "cf94059c-251e-4103-a592-4862845866c2"
      },
      "outputs": [
        {
          "data": {
            "text/plain": [
              "XGBClassifier(base_score=0.5, booster='gbtree', colsample_bylevel=1,\n",
              "              colsample_bynode=1, colsample_bytree=0.3, early_stopping_rounds=5,\n",
              "              gamma=0, gpu_id=-1, importance_type='gain',\n",
              "              interaction_constraints='', learning_rate=0.01, max_delta_step=0,\n",
              "              max_depth=7, min_child_weight=1, missing=nan,\n",
              "              monotone_constraints='()', n_estimators=600, n_jobs=-1,\n",
              "              num_parallel_tree=1, random_state=0, reg_alpha=0, reg_lambda=1,\n",
              "              scale_pos_weight=1, subsample=1, tree_method='exact',\n",
              "              validate_parameters=1, verbosity=None)"
            ]
          },
          "execution_count": 340,
          "metadata": {},
          "output_type": "execute_result"
        }
      ],
      "source": [
        "colsample_bytree = 0.3\n",
        "n_estimators = 600\n",
        "max_depth = 7\n",
        "learning_rate = 0.01\n",
        "\n",
        "xgb_model = XGBClassifier(colsample_bytree=colsample_bytree, early_stopping_rounds=5, n_estimators=n_estimators, max_depth=max_depth, n_jobs=-1, learning_rate=learning_rate, objective='binary:logistic')\n",
        "xgb_model.fit(X_train_p, y_train)"
      ]
    },
    {
      "cell_type": "markdown",
      "id": "71a1df07",
      "metadata": {
        "id": "71a1df07"
      },
      "source": [
        "#### Test Model"
      ]
    },
    {
      "cell_type": "code",
      "execution_count": null,
      "id": "9589c642",
      "metadata": {
        "id": "9589c642",
        "outputId": "49c9c8fd-f6a2-46f6-b919-a16dc189ab45"
      },
      "outputs": [
        {
          "name": "stdout",
          "output_type": "stream",
          "text": [
            "auc_score: 0.7966432254765081\n"
          ]
        },
        {
          "data": {
            "image/png": "[encoded data removed]",
            "text/plain": [
              "<Figure size 432x288 with 1 Axes>"
            ]
          },
          "metadata": {
            "needs_background": "light"
          },
          "output_type": "display_data"
        }
      ],
      "source": [
        "model_score(X_test=X_test_p, model=xgb_model)"
      ]
    },
    {
      "cell_type": "markdown",
      "id": "a3d04a8e",
      "metadata": {
        "id": "a3d04a8e"
      },
      "source": [
        "#### Hyperparameter tuning (grid search)"
      ]
    },
    {
      "cell_type": "code",
      "execution_count": null,
      "id": "21991ba4",
      "metadata": {
        "id": "21991ba4",
        "outputId": "938e0921-f36f-44fb-f0b0-3e17fa482848"
      },
      "outputs": [
        {
          "name": "stdout",
          "output_type": "stream",
          "text": [
            "tuned hyperparameters :(best parameters) {'colsample_bytree': 0.3, 'learning_rate': 0.01, 'max_depth': 6, 'n_estimators': 600, 'n_jobs': -1}\n"
          ]
        }
      ],
      "source": [
        "grid = {\n",
        "        \"n_estimators\":[590, 600, 610], \n",
        "        \"max_depth\":[6, 7, 8],\n",
        "        \"colsample_bytree\" : [0.3],\n",
        "        \"learning_rate\" : [0.01],\n",
        "        \"n_jobs\":[-1]\n",
        "       }\n",
        "\n",
        "xgb = XGBClassifier()\n",
        "xgb_cv = GridSearchCV(xgb,grid)\n",
        "xgb_cv.fit(X_train_p,y_train)\n",
        "\n",
        "print(\"tuned hyperparameters :(best parameters)\", xgb_cv.best_params_)"
      ]
    },
    {
      "cell_type": "markdown",
      "id": "fca388b6",
      "metadata": {
        "id": "fca388b6"
      },
      "source": [
        "#### Retrain Model with whole train data"
      ]
    },
    {
      "cell_type": "code",
      "execution_count": null,
      "id": "d141420e",
      "metadata": {
        "id": "d141420e",
        "outputId": "df8bfffc-0b6c-4629-fb56-364712e27982"
      },
      "outputs": [
        {
          "data": {
            "text/plain": [
              "XGBClassifier(base_score=0.5, booster='gbtree', colsample_bylevel=1,\n",
              "              colsample_bynode=1, colsample_bytree=0.3, early_stopping_rounds=5,\n",
              "              gamma=0, gpu_id=-1, importance_type='gain',\n",
              "              interaction_constraints='', learning_rate=0.01, max_delta_step=0,\n",
              "              max_depth=6, min_child_weight=1, missing=nan,\n",
              "              monotone_constraints='()', n_estimators=600, n_jobs=-1,\n",
              "              num_parallel_tree=1, random_state=0, reg_alpha=0, reg_lambda=1,\n",
              "              scale_pos_weight=1, subsample=1, tree_method='exact',\n",
              "              validate_parameters=1, verbosity=None)"
            ]
          },
          "execution_count": 342,
          "metadata": {},
          "output_type": "execute_result"
        }
      ],
      "source": [
        "colsample_bytree = 0.3\n",
        "n_estimators = 600\n",
        "max_depth = 6\n",
        "learning_rate = 0.01\n",
        "\n",
        "xgb_model = XGBClassifier(colsample_bytree=colsample_bytree, early_stopping_rounds=5, n_estimators=n_estimators, max_depth=max_depth, n_jobs=-1, learning_rate=learning_rate, objective='binary:logistic')\n",
        "xgb_model.fit(X_train_p, y_train)"
      ]
    },
    {
      "cell_type": "markdown",
      "id": "733d0c28",
      "metadata": {
        "id": "733d0c28"
      },
      "source": [
        "#### Test model"
      ]
    },
    {
      "cell_type": "code",
      "execution_count": null,
      "id": "66ee1450",
      "metadata": {
        "id": "66ee1450",
        "outputId": "0f6c2a6c-75c0-4d35-dd2d-19d53addefea"
      },
      "outputs": [
        {
          "name": "stdout",
          "output_type": "stream",
          "text": [
            "auc_score: 0.797181825838404\n"
          ]
        },
        {
          "data": {
            "image/png": "[encoded data removed]",
            "text/plain": [
              "<Figure size 432x288 with 1 Axes>"
            ]
          },
          "metadata": {
            "needs_background": "light"
          },
          "output_type": "display_data"
        }
      ],
      "source": [
        "model_score(X_test=X_test_p, model=xgb_model)"
      ]
    },
    {
      "cell_type": "markdown",
      "id": "d940b745",
      "metadata": {
        "id": "d940b745"
      },
      "source": [
        "### CatBoost Classifier"
      ]
    },
    {
      "cell_type": "code",
      "execution_count": null,
      "id": "19c9f396",
      "metadata": {
        "id": "19c9f396"
      },
      "outputs": [],
      "source": [
        "catb = CatBoostClassifier(\n",
        "    custom_loss='AUC',\n",
        "    random_seed=1,\n",
        "    logging_level='Silent',\n",
        "    loss_function='MultiClass'\n",
        ")"
      ]
    },
    {
      "cell_type": "code",
      "execution_count": null,
      "id": "886586e9",
      "metadata": {
        "id": "886586e9",
        "outputId": "536708dd-b987-4b6d-f3f3-cc6779ca8b38"
      },
      "outputs": [
        {
          "data": {
            "text/plain": [
              "<catboost.core.CatBoostClassifier at 0x7f2c59025280>"
            ]
          },
          "execution_count": 45,
          "metadata": {},
          "output_type": "execute_result"
        }
      ],
      "source": [
        "catb.fit(\n",
        "    X_train, y_train\n",
        ")"
      ]
    },
    {
      "cell_type": "code",
      "execution_count": null,
      "id": "9e17019f",
      "metadata": {
        "id": "9e17019f",
        "outputId": "15cf8c71-fe69-424a-ffaa-b7e9e0eb5bf8"
      },
      "outputs": [
        {
          "name": "stdout",
          "output_type": "stream",
          "text": [
            "auc_score: 0.7836978233273596\n"
          ]
        }
      ],
      "source": [
        "model_score(X_test=X_test, model=catb)"
      ]
    },
    {
      "cell_type": "markdown",
      "id": "19b46555",
      "metadata": {
        "id": "19b46555"
      },
      "source": [
        "#### 2nd Cat Model - parameter adjustments"
      ]
    },
    {
      "cell_type": "code",
      "execution_count": null,
      "id": "e2f3389a",
      "metadata": {
        "id": "e2f3389a"
      },
      "outputs": [],
      "source": [
        "catb2 = CatBoostClassifier(custom_loss=[catmets.Accuracy()],\n",
        "                          learning_rate=0.055, \n",
        "                          n_estimators=1000, \n",
        "                          subsample=0.075, \n",
        "                          max_depth=3, \n",
        "                          verbose=100,\n",
        "                          l2_leaf_reg = 7,\n",
        "                          bootstrap_type=\"Bernoulli\",\n",
        "                          class_weights=[1, 1],\n",
        "                          loss_function='MultiClass')"
      ]
    },
    {
      "cell_type": "code",
      "execution_count": null,
      "id": "77940ebd",
      "metadata": {
        "id": "77940ebd",
        "outputId": "fb7a35dc-ae6a-4c52-e515-078bee2cce00"
      },
      "outputs": [
        {
          "name": "stdout",
          "output_type": "stream",
          "text": [
            "0:\tlearn: 0.6703845\ttotal: 4.45ms\tremaining: 4.44s\n",
            "100:\tlearn: 0.4422624\ttotal: 358ms\tremaining: 3.19s\n",
            "200:\tlearn: 0.4377894\ttotal: 721ms\tremaining: 2.87s\n",
            "300:\tlearn: 0.4350197\ttotal: 1.32s\tremaining: 3.06s\n",
            "400:\tlearn: 0.4331426\ttotal: 1.76s\tremaining: 2.64s\n",
            "500:\tlearn: 0.4314011\ttotal: 2.16s\tremaining: 2.15s\n",
            "600:\tlearn: 0.4301015\ttotal: 2.57s\tremaining: 1.71s\n",
            "700:\tlearn: 0.4288939\ttotal: 2.99s\tremaining: 1.27s\n",
            "800:\tlearn: 0.4277478\ttotal: 3.52s\tremaining: 874ms\n",
            "900:\tlearn: 0.4267326\ttotal: 3.96s\tremaining: 435ms\n",
            "999:\tlearn: 0.4257813\ttotal: 4.41s\tremaining: 0us\n"
          ]
        },
        {
          "data": {
            "text/plain": [
              "<catboost.core.CatBoostClassifier at 0x7f2c58b38d30>"
            ]
          },
          "execution_count": 48,
          "metadata": {},
          "output_type": "execute_result"
        }
      ],
      "source": [
        "categorical_features_indices = np.where(X_train.dtypes != np.float)[0]\n",
        "catb2.fit(\n",
        "    X_train, y_train,\n",
        "    cat_features=categorical_features_indices,\n",
        "    )"
      ]
    },
    {
      "cell_type": "code",
      "execution_count": null,
      "id": "5e5ff416",
      "metadata": {
        "id": "5e5ff416",
        "outputId": "2ef52c17-9246-4997-bf1f-9bd435531871"
      },
      "outputs": [
        {
          "name": "stdout",
          "output_type": "stream",
          "text": [
            "Training on fold [0/3]\n",
            "0:\tlearn: 0.6708201\ttest: 0.6707703\tbest: 0.6707703 (0)\ttotal: 6.96ms\tremaining: 6.95s\n",
            "100:\tlearn: 0.4430222\ttest: 0.4419381\tbest: 0.4419381 (100)\ttotal: 352ms\tremaining: 3.13s\n",
            "200:\tlearn: 0.4383795\ttest: 0.4380910\tbest: 0.4380910 (200)\ttotal: 698ms\tremaining: 2.77s\n",
            "300:\tlearn: 0.4352206\ttest: 0.4361840\tbest: 0.4361840 (300)\ttotal: 1.07s\tremaining: 2.49s\n",
            "400:\tlearn: 0.4328231\ttest: 0.4350958\tbest: 0.4350958 (400)\ttotal: 1.65s\tremaining: 2.46s\n",
            "500:\tlearn: 0.4308539\ttest: 0.4340142\tbest: 0.4340142 (500)\ttotal: 2.13s\tremaining: 2.12s\n",
            "600:\tlearn: 0.4291801\ttest: 0.4335819\tbest: 0.4335700 (594)\ttotal: 2.51s\tremaining: 1.67s\n",
            "700:\tlearn: 0.4275809\ttest: 0.4333903\tbest: 0.4333834 (687)\ttotal: 2.98s\tremaining: 1.27s\n",
            "800:\tlearn: 0.4261340\ttest: 0.4330736\tbest: 0.4330736 (800)\ttotal: 3.46s\tremaining: 860ms\n",
            "900:\tlearn: 0.4248191\ttest: 0.4327099\tbest: 0.4326990 (889)\ttotal: 3.82s\tremaining: 420ms\n",
            "999:\tlearn: 0.4235472\ttest: 0.4327186\tbest: 0.4326693 (976)\ttotal: 4.18s\tremaining: 0us\n",
            "\n",
            "bestTest = 0.4326692745\n",
            "bestIteration = 976\n",
            "\n",
            "Training on fold [1/3]\n",
            "0:\tlearn: 0.6714691\ttest: 0.6711394\tbest: 0.6711394 (0)\ttotal: 4.03ms\tremaining: 4.03s\n",
            "100:\tlearn: 0.4419209\ttest: 0.4441088\tbest: 0.4441088 (100)\ttotal: 361ms\tremaining: 3.22s\n",
            "200:\tlearn: 0.4364824\ttest: 0.4413071\tbest: 0.4413071 (200)\ttotal: 712ms\tremaining: 2.83s\n",
            "300:\tlearn: 0.4329789\ttest: 0.4399619\tbest: 0.4399386 (297)\ttotal: 1.23s\tremaining: 2.87s\n",
            "400:\tlearn: 0.4306449\ttest: 0.4393831\tbest: 0.4393796 (398)\ttotal: 1.69s\tremaining: 2.53s\n",
            "500:\tlearn: 0.4284347\ttest: 0.4387098\tbest: 0.4387098 (500)\ttotal: 2.09s\tremaining: 2.08s\n",
            "600:\tlearn: 0.4264822\ttest: 0.4382800\tbest: 0.4382771 (588)\ttotal: 2.45s\tremaining: 1.62s\n",
            "700:\tlearn: 0.4249050\ttest: 0.4379535\tbest: 0.4379193 (685)\ttotal: 3.01s\tremaining: 1.28s\n",
            "800:\tlearn: 0.4233242\ttest: 0.4378061\tbest: 0.4378037 (784)\ttotal: 3.39s\tremaining: 843ms\n",
            "900:\tlearn: 0.4219685\ttest: 0.4376947\tbest: 0.4376917 (899)\ttotal: 3.75s\tremaining: 413ms\n",
            "999:\tlearn: 0.4205269\ttest: 0.4374101\tbest: 0.4374001 (997)\ttotal: 4.12s\tremaining: 0us\n",
            "\n",
            "bestTest = 0.4374000761\n",
            "bestIteration = 997\n",
            "\n",
            "Training on fold [2/3]\n",
            "0:\tlearn: 0.6712078\ttest: 0.6711759\tbest: 0.6711759 (0)\ttotal: 4.1ms\tremaining: 4.1s\n",
            "100:\tlearn: 0.4415720\ttest: 0.4446767\tbest: 0.4446767 (100)\ttotal: 341ms\tremaining: 3.03s\n",
            "200:\tlearn: 0.4369290\ttest: 0.4416322\tbest: 0.4416322 (200)\ttotal: 712ms\tremaining: 2.83s\n",
            "300:\tlearn: 0.4333442\ttest: 0.4398848\tbest: 0.4398848 (300)\ttotal: 1.16s\tremaining: 2.7s\n",
            "400:\tlearn: 0.4306279\ttest: 0.4388905\tbest: 0.4388788 (397)\ttotal: 1.68s\tremaining: 2.5s\n",
            "500:\tlearn: 0.4284797\ttest: 0.4384219\tbest: 0.4383555 (497)\ttotal: 2.06s\tremaining: 2.06s\n",
            "600:\tlearn: 0.4265562\ttest: 0.4380219\tbest: 0.4380219 (600)\ttotal: 2.44s\tremaining: 1.62s\n",
            "700:\tlearn: 0.4249455\ttest: 0.4376493\tbest: 0.4376375 (699)\ttotal: 2.82s\tremaining: 1.2s\n",
            "800:\tlearn: 0.4231723\ttest: 0.4373447\tbest: 0.4373447 (800)\ttotal: 3.22s\tremaining: 800ms\n",
            "900:\tlearn: 0.4217620\ttest: 0.4372583\tbest: 0.4372515 (882)\ttotal: 3.64s\tremaining: 400ms\n",
            "999:\tlearn: 0.4204385\ttest: 0.4372301\tbest: 0.4371508 (936)\ttotal: 4.02s\tremaining: 0us\n",
            "\n",
            "bestTest = 0.4371508201\n",
            "bestIteration = 936\n",
            "\n"
          ]
        }
      ],
      "source": [
        "cv_params = catb2.get_params()\n",
        "\n",
        "cv_data = catcross(\n",
        "    Pool(X_train, y_train, cat_features=categorical_features_indices),\n",
        "    cv_params\n",
        "    )"
      ]
    },
    {
      "cell_type": "code",
      "execution_count": null,
      "id": "d36d7ff1",
      "metadata": {
        "id": "d36d7ff1",
        "outputId": "f07c983b-d12d-44f6-9aee-babff40f32d7"
      },
      "outputs": [
        {
          "name": "stdout",
          "output_type": "stream",
          "text": [
            "Best validation accuracy score: 0.67±0.00 on step 0\n",
            "Precise validation accuracy score: 0.6710285298580695\n"
          ]
        }
      ],
      "source": [
        "print('Best validation accuracy score: {:.2f}±{:.2f} on step {}'.format(\n",
        "    np.max(cv_data['test-MultiClass-mean']),\n",
        "    cv_data['test-MultiClass-std'][np.argmax(cv_data['test-MultiClass-mean'])],\n",
        "    np.argmax(cv_data['test-MultiClass-mean'])\n",
        "))\n",
        "print('Precise validation accuracy score: {}'.format(np.max(cv_data['test-MultiClass-mean'])))"
      ]
    },
    {
      "cell_type": "code",
      "execution_count": null,
      "id": "9ed05a17",
      "metadata": {
        "id": "9ed05a17"
      },
      "outputs": [],
      "source": [
        "params = {\n",
        "    'iterations': 500,\n",
        "    'learning_rate': 0.1,\n",
        "    'eval_metric': 'AUC',\n",
        "    'random_seed': 1,\n",
        "    'logging_level': 'Silent',\n",
        "    'use_best_model': False\n",
        "}\n",
        "train_pool = Pool(X_train, y_train, cat_features=categorical_features_indices)\n",
        "validate_pool = Pool(X_test, y_test.drop('ID', axis=1), cat_features=categorical_features_indices)"
      ]
    },
    {
      "cell_type": "code",
      "execution_count": null,
      "id": "ac0d89e6",
      "metadata": {
        "id": "ac0d89e6",
        "outputId": "46a7b394-a6da-4e59-acd8-bec7230bc1ec"
      },
      "outputs": [
        {
          "data": {
            "text/plain": [
              "<catboost.core.CatBoostClassifier at 0x7f2d016299a0>"
            ]
          },
          "execution_count": 52,
          "metadata": {},
          "output_type": "execute_result"
        }
      ],
      "source": [
        "catb22 = CatBoostClassifier(**params)\n",
        "catb22.fit(train_pool, eval_set=validate_pool)\n",
        "\n",
        "best_model_params = params.copy()\n",
        "best_model_params.update({\n",
        "    'use_best_model': True\n",
        "})\n",
        "best_model = CatBoostClassifier(**best_model_params)\n",
        "best_model.fit(train_pool, eval_set=validate_pool)"
      ]
    },
    {
      "cell_type": "code",
      "execution_count": null,
      "id": "c84c7e77",
      "metadata": {
        "id": "c84c7e77",
        "outputId": "cae7086d-8530-49c0-9692-557df0747d3c"
      },
      "outputs": [
        {
          "name": "stdout",
          "output_type": "stream",
          "text": [
            "Simple model validation accuracy: 0.8319\n",
            "\n",
            "Best model validation accuracy: 0.8355\n"
          ]
        }
      ],
      "source": [
        "print('Simple model validation accuracy: {:.4}'.format(\n",
        "    accuracy_score(y_test.drop('ID', axis=1), catb22.predict(X_test))\n",
        "))\n",
        "print('')\n",
        "\n",
        "print('Best model validation accuracy: {:.4}'.format(\n",
        "    accuracy_score(y_test.drop('ID', axis=1), best_model.predict(X_test))\n",
        "))"
      ]
    },
    {
      "cell_type": "code",
      "execution_count": null,
      "id": "7f9053a3",
      "metadata": {
        "id": "7f9053a3",
        "outputId": "028cca42-32f3-4a2f-b9ff-03bc8f130bc7"
      },
      "outputs": [
        {
          "name": "stdout",
          "output_type": "stream",
          "text": [
            "auc_score: 0.792514480616682\n"
          ]
        }
      ],
      "source": [
        "model_score(X_test, catb22)"
      ]
    },
    {
      "cell_type": "markdown",
      "id": "d4921d01",
      "metadata": {
        "id": "d4921d01"
      },
      "source": [
        "#### 3rd Cat Model - more parameter adjustments"
      ]
    },
    {
      "cell_type": "code",
      "execution_count": null,
      "id": "cf25f05f",
      "metadata": {
        "id": "cf25f05f",
        "outputId": "d358e427-e2e0-4ab1-d0e5-88086b90465d"
      },
      "outputs": [
        {
          "name": "stdout",
          "output_type": "stream",
          "text": [
            "0:\ttotal: 63.2ms\tremaining: 1m 3s\n",
            "1:\ttotal: 122ms\tremaining: 1m\n",
            "2:\ttotal: 173ms\tremaining: 57.7s\n",
            "3:\ttotal: 224ms\tremaining: 55.9s\n",
            "4:\ttotal: 280ms\tremaining: 55.7s\n",
            "5:\ttotal: 321ms\tremaining: 53.1s\n",
            "6:\ttotal: 375ms\tremaining: 53.2s\n",
            "7:\ttotal: 429ms\tremaining: 53.2s\n",
            "8:\ttotal: 489ms\tremaining: 53.9s\n",
            "9:\ttotal: 551ms\tremaining: 54.6s\n",
            "10:\ttotal: 605ms\tremaining: 54.4s\n",
            "11:\ttotal: 673ms\tremaining: 55.4s\n",
            "12:\ttotal: 763ms\tremaining: 57.9s\n",
            "13:\ttotal: 858ms\tremaining: 1m\n",
            "14:\ttotal: 923ms\tremaining: 1m\n",
            "15:\ttotal: 983ms\tremaining: 1m\n",
            "16:\ttotal: 1.04s\tremaining: 1m\n",
            "17:\ttotal: 1.1s\tremaining: 1m\n",
            "18:\ttotal: 1.16s\tremaining: 59.7s\n",
            "19:\ttotal: 1.22s\tremaining: 59.7s\n",
            "20:\ttotal: 1.27s\tremaining: 59.5s\n",
            "21:\ttotal: 1.33s\tremaining: 59.2s\n",
            "22:\ttotal: 1.39s\tremaining: 58.9s\n",
            "23:\ttotal: 1.45s\tremaining: 58.9s\n",
            "24:\ttotal: 1.5s\tremaining: 58.7s\n",
            "25:\ttotal: 1.56s\tremaining: 58.5s\n",
            "26:\ttotal: 1.61s\tremaining: 58.2s\n",
            "27:\ttotal: 1.68s\tremaining: 58.3s\n",
            "28:\ttotal: 1.75s\tremaining: 58.4s\n",
            "29:\ttotal: 1.83s\tremaining: 59.1s\n",
            "30:\ttotal: 1.91s\tremaining: 59.6s\n",
            "31:\ttotal: 1.97s\tremaining: 59.7s\n",
            "32:\ttotal: 2.04s\tremaining: 59.7s\n",
            "33:\ttotal: 2.12s\tremaining: 1m\n",
            "34:\ttotal: 2.2s\tremaining: 1m\n",
            "35:\ttotal: 2.27s\tremaining: 1m\n",
            "36:\ttotal: 2.33s\tremaining: 1m\n",
            "37:\ttotal: 2.4s\tremaining: 1m\n",
            "38:\ttotal: 2.45s\tremaining: 1m\n",
            "39:\ttotal: 2.51s\tremaining: 1m\n",
            "40:\ttotal: 2.57s\tremaining: 1m\n",
            "41:\ttotal: 2.63s\tremaining: 60s\n",
            "42:\ttotal: 2.68s\tremaining: 59.8s\n",
            "43:\ttotal: 2.74s\tremaining: 59.6s\n",
            "44:\ttotal: 2.8s\tremaining: 59.5s\n",
            "45:\ttotal: 2.86s\tremaining: 59.4s\n",
            "46:\ttotal: 2.92s\tremaining: 59.1s\n",
            "47:\ttotal: 2.97s\tremaining: 59s\n",
            "48:\ttotal: 3.03s\tremaining: 58.9s\n",
            "49:\ttotal: 3.09s\tremaining: 58.8s\n",
            "50:\ttotal: 3.16s\tremaining: 58.7s\n",
            "51:\ttotal: 3.22s\tremaining: 58.7s\n",
            "52:\ttotal: 3.29s\tremaining: 58.8s\n",
            "53:\ttotal: 3.35s\tremaining: 58.7s\n",
            "54:\ttotal: 3.42s\tremaining: 58.7s\n",
            "55:\ttotal: 3.48s\tremaining: 58.7s\n",
            "56:\ttotal: 3.54s\tremaining: 58.6s\n",
            "57:\ttotal: 3.61s\tremaining: 58.6s\n",
            "58:\ttotal: 3.68s\tremaining: 58.6s\n",
            "59:\ttotal: 3.76s\tremaining: 58.9s\n",
            "60:\ttotal: 3.82s\tremaining: 58.8s\n",
            "61:\ttotal: 3.89s\tremaining: 58.8s\n",
            "62:\ttotal: 3.95s\tremaining: 58.7s\n",
            "63:\ttotal: 4.01s\tremaining: 58.7s\n",
            "64:\ttotal: 4.07s\tremaining: 58.6s\n",
            "65:\ttotal: 4.14s\tremaining: 58.6s\n",
            "66:\ttotal: 4.2s\tremaining: 58.5s\n",
            "67:\ttotal: 4.26s\tremaining: 58.4s\n",
            "68:\ttotal: 4.32s\tremaining: 58.3s\n",
            "69:\ttotal: 4.41s\tremaining: 58.6s\n",
            "70:\ttotal: 4.49s\tremaining: 58.8s\n",
            "71:\ttotal: 4.56s\tremaining: 58.8s\n",
            "72:\ttotal: 4.63s\tremaining: 58.8s\n",
            "73:\ttotal: 4.71s\tremaining: 58.9s\n",
            "74:\ttotal: 4.79s\tremaining: 59.1s\n",
            "75:\ttotal: 4.87s\tremaining: 59.2s\n",
            "76:\ttotal: 4.93s\tremaining: 59.1s\n",
            "77:\ttotal: 4.99s\tremaining: 59s\n",
            "78:\ttotal: 5.05s\tremaining: 58.9s\n",
            "79:\ttotal: 5.11s\tremaining: 58.7s\n",
            "80:\ttotal: 5.17s\tremaining: 58.6s\n",
            "81:\ttotal: 5.22s\tremaining: 58.5s\n",
            "82:\ttotal: 5.28s\tremaining: 58.3s\n",
            "83:\ttotal: 5.34s\tremaining: 58.2s\n",
            "84:\ttotal: 5.41s\tremaining: 58.2s\n",
            "85:\ttotal: 5.47s\tremaining: 58.2s\n",
            "86:\ttotal: 5.54s\tremaining: 58.2s\n",
            "87:\ttotal: 5.63s\tremaining: 58.3s\n",
            "88:\ttotal: 5.7s\tremaining: 58.4s\n",
            "89:\ttotal: 5.77s\tremaining: 58.4s\n",
            "90:\ttotal: 5.84s\tremaining: 58.4s\n",
            "91:\ttotal: 5.92s\tremaining: 58.4s\n",
            "92:\ttotal: 5.97s\tremaining: 58.3s\n",
            "93:\ttotal: 6.03s\tremaining: 58.1s\n",
            "94:\ttotal: 6.09s\tremaining: 58s\n",
            "95:\ttotal: 6.15s\tremaining: 57.9s\n",
            "96:\ttotal: 6.21s\tremaining: 57.8s\n",
            "97:\ttotal: 6.27s\tremaining: 57.7s\n",
            "98:\ttotal: 6.33s\tremaining: 57.6s\n",
            "99:\ttotal: 6.38s\tremaining: 57.5s\n",
            "100:\ttotal: 6.44s\tremaining: 57.3s\n",
            "101:\ttotal: 6.5s\tremaining: 57.2s\n",
            "102:\ttotal: 6.56s\tremaining: 57.1s\n",
            "103:\ttotal: 6.61s\tremaining: 57s\n",
            "104:\ttotal: 6.67s\tremaining: 56.9s\n",
            "105:\ttotal: 6.74s\tremaining: 56.8s\n",
            "106:\ttotal: 6.8s\tremaining: 56.8s\n",
            "107:\ttotal: 6.88s\tremaining: 56.8s\n",
            "108:\ttotal: 6.96s\tremaining: 56.9s\n",
            "109:\ttotal: 7.05s\tremaining: 57.1s\n",
            "110:\ttotal: 7.13s\tremaining: 57.1s\n",
            "111:\ttotal: 7.2s\tremaining: 57.1s\n",
            "112:\ttotal: 7.26s\tremaining: 57s\n",
            "113:\ttotal: 7.32s\tremaining: 56.9s\n",
            "114:\ttotal: 7.38s\tremaining: 56.8s\n",
            "115:\ttotal: 7.43s\tremaining: 56.7s\n",
            "116:\ttotal: 7.49s\tremaining: 56.6s\n",
            "117:\ttotal: 7.55s\tremaining: 56.4s\n",
            "118:\ttotal: 7.61s\tremaining: 56.3s\n",
            "119:\ttotal: 7.67s\tremaining: 56.2s\n",
            "120:\ttotal: 7.73s\tremaining: 56.1s\n",
            "121:\ttotal: 7.79s\tremaining: 56.1s\n",
            "122:\ttotal: 7.85s\tremaining: 56s\n",
            "123:\ttotal: 7.91s\tremaining: 55.9s\n",
            "124:\ttotal: 7.98s\tremaining: 55.9s\n",
            "125:\ttotal: 8.04s\tremaining: 55.8s\n",
            "126:\ttotal: 8.11s\tremaining: 55.7s\n",
            "127:\ttotal: 8.17s\tremaining: 55.7s\n",
            "128:\ttotal: 8.25s\tremaining: 55.7s\n",
            "129:\ttotal: 8.31s\tremaining: 55.6s\n",
            "130:\ttotal: 8.38s\tremaining: 55.6s\n",
            "131:\ttotal: 8.45s\tremaining: 55.6s\n",
            "132:\ttotal: 8.51s\tremaining: 55.5s\n",
            "133:\ttotal: 8.57s\tremaining: 55.4s\n",
            "134:\ttotal: 8.65s\tremaining: 55.4s\n",
            "135:\ttotal: 8.73s\tremaining: 55.5s\n",
            "136:\ttotal: 8.79s\tremaining: 55.4s\n",
            "137:\ttotal: 8.86s\tremaining: 55.3s\n",
            "138:\ttotal: 8.92s\tremaining: 55.2s\n",
            "139:\ttotal: 8.98s\tremaining: 55.2s\n",
            "140:\ttotal: 9.04s\tremaining: 55.1s\n",
            "141:\ttotal: 9.12s\tremaining: 55.1s\n",
            "142:\ttotal: 9.18s\tremaining: 55s\n",
            "143:\ttotal: 9.25s\tremaining: 55s\n",
            "144:\ttotal: 9.31s\tremaining: 54.9s\n",
            "145:\ttotal: 9.38s\tremaining: 54.9s\n",
            "146:\ttotal: 9.44s\tremaining: 54.8s\n",
            "147:\ttotal: 9.5s\tremaining: 54.7s\n",
            "148:\ttotal: 9.56s\tremaining: 54.6s\n",
            "149:\ttotal: 9.63s\tremaining: 54.6s\n",
            "150:\ttotal: 9.7s\tremaining: 54.5s\n",
            "151:\ttotal: 9.76s\tremaining: 54.5s\n",
            "152:\ttotal: 9.82s\tremaining: 54.4s\n",
            "153:\ttotal: 9.89s\tremaining: 54.4s\n",
            "154:\ttotal: 9.97s\tremaining: 54.3s\n",
            "155:\ttotal: 10s\tremaining: 54.3s\n",
            "156:\ttotal: 10.1s\tremaining: 54.2s\n",
            "157:\ttotal: 10.2s\tremaining: 54.2s\n",
            "158:\ttotal: 10.2s\tremaining: 54.1s\n",
            "159:\ttotal: 10.3s\tremaining: 54s\n",
            "160:\ttotal: 10.4s\tremaining: 54s\n",
            "161:\ttotal: 10.4s\tremaining: 53.9s\n",
            "162:\ttotal: 10.5s\tremaining: 53.8s\n",
            "163:\ttotal: 10.5s\tremaining: 53.7s\n",
            "164:\ttotal: 10.6s\tremaining: 53.7s\n",
            "165:\ttotal: 10.7s\tremaining: 53.6s\n",
            "166:\ttotal: 10.7s\tremaining: 53.5s\n",
            "167:\ttotal: 10.8s\tremaining: 53.5s\n",
            "168:\ttotal: 10.9s\tremaining: 53.4s\n",
            "169:\ttotal: 10.9s\tremaining: 53.4s\n",
            "170:\ttotal: 11s\tremaining: 53.3s\n",
            "171:\ttotal: 11.1s\tremaining: 53.2s\n",
            "172:\ttotal: 11.1s\tremaining: 53.1s\n",
            "173:\ttotal: 11.2s\tremaining: 53.1s\n",
            "174:\ttotal: 11.2s\tremaining: 53s\n",
            "175:\ttotal: 11.3s\tremaining: 53s\n",
            "176:\ttotal: 11.4s\tremaining: 53s\n",
            "177:\ttotal: 11.5s\tremaining: 52.9s\n",
            "178:\ttotal: 11.5s\tremaining: 52.8s\n",
            "179:\ttotal: 11.6s\tremaining: 52.8s\n",
            "180:\ttotal: 11.6s\tremaining: 52.7s\n",
            "181:\ttotal: 11.7s\tremaining: 52.6s\n",
            "182:\ttotal: 11.8s\tremaining: 52.5s\n",
            "183:\ttotal: 11.8s\tremaining: 52.4s\n",
            "184:\ttotal: 11.9s\tremaining: 52.4s\n",
            "185:\ttotal: 11.9s\tremaining: 52.3s\n",
            "186:\ttotal: 12s\tremaining: 52.2s\n",
            "187:\ttotal: 12.1s\tremaining: 52.2s\n",
            "188:\ttotal: 12.1s\tremaining: 52.1s\n",
            "189:\ttotal: 12.2s\tremaining: 52s\n",
            "190:\ttotal: 12.3s\tremaining: 51.9s\n",
            "191:\ttotal: 12.3s\tremaining: 51.8s\n",
            "192:\ttotal: 12.4s\tremaining: 51.8s\n",
            "193:\ttotal: 12.4s\tremaining: 51.7s\n",
            "194:\ttotal: 12.5s\tremaining: 51.6s\n",
            "195:\ttotal: 12.6s\tremaining: 51.6s\n",
            "196:\ttotal: 12.6s\tremaining: 51.6s\n",
            "197:\ttotal: 12.7s\tremaining: 51.5s\n",
            "198:\ttotal: 12.8s\tremaining: 51.4s\n",
            "199:\ttotal: 12.8s\tremaining: 51.3s\n",
            "200:\ttotal: 12.9s\tremaining: 51.3s\n",
            "201:\ttotal: 13s\tremaining: 51.2s\n",
            "202:\ttotal: 13s\tremaining: 51.2s\n",
            "203:\ttotal: 13.1s\tremaining: 51.1s\n",
            "204:\ttotal: 13.2s\tremaining: 51.1s\n",
            "205:\ttotal: 13.2s\tremaining: 51s\n",
            "206:\ttotal: 13.3s\tremaining: 50.9s\n",
            "207:\ttotal: 13.4s\tremaining: 50.8s\n",
            "208:\ttotal: 13.4s\tremaining: 50.8s\n",
            "209:\ttotal: 13.5s\tremaining: 50.7s\n",
            "210:\ttotal: 13.5s\tremaining: 50.6s\n",
            "211:\ttotal: 13.6s\tremaining: 50.6s\n",
            "212:\ttotal: 13.7s\tremaining: 50.5s\n",
            "213:\ttotal: 13.7s\tremaining: 50.4s\n",
            "214:\ttotal: 13.8s\tremaining: 50.4s\n",
            "215:\ttotal: 13.9s\tremaining: 50.3s\n",
            "216:\ttotal: 13.9s\tremaining: 50.3s\n",
            "217:\ttotal: 14s\tremaining: 50.3s\n",
            "218:\ttotal: 14.1s\tremaining: 50.2s\n",
            "219:\ttotal: 14.2s\tremaining: 50.2s\n",
            "220:\ttotal: 14.2s\tremaining: 50.1s\n",
            "221:\ttotal: 14.3s\tremaining: 50.1s\n",
            "222:\ttotal: 14.4s\tremaining: 50.1s\n",
            "223:\ttotal: 14.4s\tremaining: 50s\n",
            "224:\ttotal: 14.5s\tremaining: 49.9s\n",
            "225:\ttotal: 14.6s\tremaining: 49.9s\n",
            "226:\ttotal: 14.6s\tremaining: 49.8s\n",
            "227:\ttotal: 14.7s\tremaining: 49.8s\n",
            "228:\ttotal: 14.8s\tremaining: 49.7s\n",
            "229:\ttotal: 14.8s\tremaining: 49.7s\n",
            "230:\ttotal: 14.9s\tremaining: 49.6s\n",
            "231:\ttotal: 15s\tremaining: 49.5s\n",
            "232:\ttotal: 15s\tremaining: 49.5s\n",
            "233:\ttotal: 15.1s\tremaining: 49.4s\n",
            "234:\ttotal: 15.2s\tremaining: 49.4s\n",
            "235:\ttotal: 15.2s\tremaining: 49.3s\n",
            "236:\ttotal: 15.3s\tremaining: 49.2s\n",
            "237:\ttotal: 15.4s\tremaining: 49.2s\n",
            "238:\ttotal: 15.4s\tremaining: 49.1s\n",
            "239:\ttotal: 15.5s\tremaining: 49s\n",
            "240:\ttotal: 15.5s\tremaining: 49s\n"
          ]
        },
        {
          "name": "stdout",
          "output_type": "stream",
          "text": [
            "241:\ttotal: 15.6s\tremaining: 48.9s\n",
            "242:\ttotal: 15.7s\tremaining: 48.8s\n",
            "243:\ttotal: 15.7s\tremaining: 48.8s\n",
            "244:\ttotal: 15.8s\tremaining: 48.7s\n",
            "245:\ttotal: 15.9s\tremaining: 48.7s\n",
            "246:\ttotal: 16s\tremaining: 48.6s\n",
            "247:\ttotal: 16s\tremaining: 48.6s\n",
            "248:\ttotal: 16.1s\tremaining: 48.6s\n",
            "249:\ttotal: 16.2s\tremaining: 48.5s\n",
            "250:\ttotal: 16.2s\tremaining: 48.4s\n",
            "251:\ttotal: 16.3s\tremaining: 48.4s\n",
            "252:\ttotal: 16.4s\tremaining: 48.4s\n",
            "253:\ttotal: 16.5s\tremaining: 48.3s\n",
            "254:\ttotal: 16.5s\tremaining: 48.3s\n",
            "255:\ttotal: 16.6s\tremaining: 48.2s\n",
            "256:\ttotal: 16.7s\tremaining: 48.2s\n",
            "257:\ttotal: 16.7s\tremaining: 48.1s\n",
            "258:\ttotal: 16.8s\tremaining: 48.1s\n",
            "259:\ttotal: 16.9s\tremaining: 48s\n",
            "260:\ttotal: 16.9s\tremaining: 47.9s\n",
            "261:\ttotal: 17s\tremaining: 47.9s\n",
            "262:\ttotal: 17.1s\tremaining: 47.9s\n",
            "263:\ttotal: 17.2s\tremaining: 47.9s\n",
            "264:\ttotal: 17.3s\tremaining: 47.9s\n",
            "265:\ttotal: 17.4s\tremaining: 48s\n",
            "266:\ttotal: 17.5s\tremaining: 48s\n",
            "267:\ttotal: 17.6s\tremaining: 47.9s\n",
            "268:\ttotal: 17.6s\tremaining: 47.9s\n",
            "269:\ttotal: 17.7s\tremaining: 47.8s\n",
            "270:\ttotal: 17.7s\tremaining: 47.7s\n",
            "271:\ttotal: 17.8s\tremaining: 47.7s\n",
            "272:\ttotal: 17.9s\tremaining: 47.6s\n",
            "273:\ttotal: 17.9s\tremaining: 47.5s\n",
            "274:\ttotal: 18s\tremaining: 47.5s\n",
            "275:\ttotal: 18.1s\tremaining: 47.4s\n",
            "276:\ttotal: 18.1s\tremaining: 47.3s\n",
            "277:\ttotal: 18.2s\tremaining: 47.3s\n",
            "278:\ttotal: 18.3s\tremaining: 47.2s\n",
            "279:\ttotal: 18.3s\tremaining: 47.1s\n",
            "280:\ttotal: 18.4s\tremaining: 47.1s\n",
            "281:\ttotal: 18.5s\tremaining: 47s\n",
            "282:\ttotal: 18.5s\tremaining: 47s\n",
            "283:\ttotal: 18.6s\tremaining: 46.9s\n",
            "284:\ttotal: 18.7s\tremaining: 46.9s\n",
            "285:\ttotal: 18.7s\tremaining: 46.8s\n",
            "286:\ttotal: 18.8s\tremaining: 46.7s\n",
            "287:\ttotal: 18.9s\tremaining: 46.6s\n",
            "288:\ttotal: 18.9s\tremaining: 46.6s\n",
            "289:\ttotal: 19s\tremaining: 46.5s\n",
            "290:\ttotal: 19.1s\tremaining: 46.4s\n",
            "291:\ttotal: 19.1s\tremaining: 46.4s\n",
            "292:\ttotal: 19.2s\tremaining: 46.3s\n",
            "293:\ttotal: 19.3s\tremaining: 46.3s\n",
            "294:\ttotal: 19.3s\tremaining: 46.2s\n",
            "295:\ttotal: 19.4s\tremaining: 46.1s\n",
            "296:\ttotal: 19.5s\tremaining: 46s\n",
            "297:\ttotal: 19.5s\tremaining: 46s\n",
            "298:\ttotal: 19.6s\tremaining: 45.9s\n",
            "299:\ttotal: 19.7s\tremaining: 45.9s\n",
            "300:\ttotal: 19.7s\tremaining: 45.8s\n",
            "301:\ttotal: 19.8s\tremaining: 45.7s\n",
            "302:\ttotal: 19.9s\tremaining: 45.7s\n",
            "303:\ttotal: 19.9s\tremaining: 45.6s\n",
            "304:\ttotal: 20s\tremaining: 45.5s\n",
            "305:\ttotal: 20s\tremaining: 45.5s\n",
            "306:\ttotal: 20.1s\tremaining: 45.4s\n",
            "307:\ttotal: 20.2s\tremaining: 45.3s\n",
            "308:\ttotal: 20.2s\tremaining: 45.3s\n",
            "309:\ttotal: 20.3s\tremaining: 45.2s\n",
            "310:\ttotal: 20.4s\tremaining: 45.1s\n",
            "311:\ttotal: 20.4s\tremaining: 45.1s\n",
            "312:\ttotal: 20.5s\tremaining: 45s\n",
            "313:\ttotal: 20.6s\tremaining: 45s\n",
            "314:\ttotal: 20.7s\tremaining: 45s\n",
            "315:\ttotal: 20.8s\tremaining: 44.9s\n",
            "316:\ttotal: 20.8s\tremaining: 44.9s\n",
            "317:\ttotal: 20.9s\tremaining: 44.8s\n",
            "318:\ttotal: 21s\tremaining: 44.7s\n",
            "319:\ttotal: 21s\tremaining: 44.7s\n",
            "320:\ttotal: 21.1s\tremaining: 44.6s\n",
            "321:\ttotal: 21.2s\tremaining: 44.6s\n",
            "322:\ttotal: 21.2s\tremaining: 44.5s\n",
            "323:\ttotal: 21.3s\tremaining: 44.4s\n",
            "324:\ttotal: 21.3s\tremaining: 44.3s\n",
            "325:\ttotal: 21.4s\tremaining: 44.3s\n",
            "326:\ttotal: 21.5s\tremaining: 44.2s\n",
            "327:\ttotal: 21.6s\tremaining: 44.2s\n",
            "328:\ttotal: 21.6s\tremaining: 44.1s\n",
            "329:\ttotal: 21.7s\tremaining: 44.1s\n",
            "330:\ttotal: 21.8s\tremaining: 44s\n",
            "331:\ttotal: 21.9s\tremaining: 44s\n",
            "332:\ttotal: 22s\tremaining: 44.1s\n",
            "333:\ttotal: 22.1s\tremaining: 44.2s\n",
            "334:\ttotal: 22.3s\tremaining: 44.3s\n",
            "335:\ttotal: 22.5s\tremaining: 44.6s\n",
            "336:\ttotal: 22.8s\tremaining: 44.8s\n",
            "337:\ttotal: 23s\tremaining: 45.1s\n",
            "338:\ttotal: 23.3s\tremaining: 45.3s\n",
            "339:\ttotal: 23.5s\tremaining: 45.6s\n",
            "340:\ttotal: 23.8s\tremaining: 46.1s\n",
            "341:\ttotal: 24.2s\tremaining: 46.5s\n",
            "342:\ttotal: 24.5s\tremaining: 46.9s\n",
            "343:\ttotal: 24.8s\tremaining: 47.2s\n",
            "344:\ttotal: 25.2s\tremaining: 47.8s\n",
            "345:\ttotal: 25.5s\tremaining: 48.1s\n",
            "346:\ttotal: 25.7s\tremaining: 48.4s\n",
            "347:\ttotal: 26s\tremaining: 48.6s\n",
            "348:\ttotal: 26.2s\tremaining: 48.8s\n",
            "349:\ttotal: 26.4s\tremaining: 49.1s\n",
            "350:\ttotal: 26.6s\tremaining: 49.3s\n",
            "351:\ttotal: 26.9s\tremaining: 49.6s\n",
            "352:\ttotal: 27.2s\tremaining: 49.8s\n",
            "353:\ttotal: 27.4s\tremaining: 50s\n",
            "354:\ttotal: 27.6s\tremaining: 50.1s\n",
            "355:\ttotal: 27.8s\tremaining: 50.4s\n",
            "356:\ttotal: 28s\tremaining: 50.5s\n",
            "357:\ttotal: 28.3s\tremaining: 50.7s\n",
            "358:\ttotal: 28.5s\tremaining: 50.9s\n",
            "359:\ttotal: 28.7s\tremaining: 51.1s\n",
            "360:\ttotal: 29s\tremaining: 51.4s\n",
            "361:\ttotal: 29.3s\tremaining: 51.7s\n",
            "362:\ttotal: 29.6s\tremaining: 51.9s\n",
            "363:\ttotal: 29.9s\tremaining: 52.3s\n",
            "364:\ttotal: 30.2s\tremaining: 52.5s\n",
            "365:\ttotal: 30.4s\tremaining: 52.6s\n",
            "366:\ttotal: 30.6s\tremaining: 52.7s\n",
            "367:\ttotal: 30.8s\tremaining: 52.8s\n",
            "368:\ttotal: 31s\tremaining: 53s\n",
            "369:\ttotal: 31.2s\tremaining: 53.1s\n",
            "370:\ttotal: 31.3s\tremaining: 53.1s\n",
            "371:\ttotal: 31.5s\tremaining: 53.2s\n",
            "372:\ttotal: 31.7s\tremaining: 53.3s\n",
            "373:\ttotal: 31.9s\tremaining: 53.4s\n",
            "374:\ttotal: 32.1s\tremaining: 53.5s\n",
            "375:\ttotal: 32.3s\tremaining: 53.6s\n",
            "376:\ttotal: 32.5s\tremaining: 53.6s\n",
            "377:\ttotal: 32.7s\tremaining: 53.8s\n",
            "378:\ttotal: 33s\tremaining: 54.1s\n",
            "379:\ttotal: 33.2s\tremaining: 54.2s\n",
            "380:\ttotal: 33.5s\tremaining: 54.3s\n",
            "381:\ttotal: 33.7s\tremaining: 54.6s\n",
            "382:\ttotal: 33.9s\tremaining: 54.7s\n",
            "383:\ttotal: 34.1s\tremaining: 54.7s\n",
            "384:\ttotal: 34.4s\tremaining: 54.9s\n",
            "385:\ttotal: 34.6s\tremaining: 55.1s\n",
            "386:\ttotal: 34.8s\tremaining: 55.1s\n",
            "387:\ttotal: 35s\tremaining: 55.2s\n",
            "388:\ttotal: 35.2s\tremaining: 55.2s\n",
            "389:\ttotal: 35.3s\tremaining: 55.3s\n",
            "390:\ttotal: 35.5s\tremaining: 55.3s\n",
            "391:\ttotal: 35.7s\tremaining: 55.4s\n",
            "392:\ttotal: 35.9s\tremaining: 55.4s\n",
            "393:\ttotal: 36.1s\tremaining: 55.5s\n",
            "394:\ttotal: 36.3s\tremaining: 55.6s\n",
            "395:\ttotal: 36.5s\tremaining: 55.7s\n",
            "396:\ttotal: 36.7s\tremaining: 55.8s\n",
            "397:\ttotal: 36.9s\tremaining: 55.8s\n",
            "398:\ttotal: 37.1s\tremaining: 55.8s\n",
            "399:\ttotal: 37.3s\tremaining: 55.9s\n",
            "400:\ttotal: 37.4s\tremaining: 55.9s\n",
            "401:\ttotal: 37.6s\tremaining: 56s\n",
            "402:\ttotal: 37.8s\tremaining: 56s\n",
            "403:\ttotal: 38s\tremaining: 56s\n",
            "404:\ttotal: 38.1s\tremaining: 56s\n",
            "405:\ttotal: 38.3s\tremaining: 56s\n",
            "406:\ttotal: 38.5s\tremaining: 56s\n",
            "407:\ttotal: 38.6s\tremaining: 56.1s\n",
            "408:\ttotal: 38.8s\tremaining: 56.1s\n",
            "409:\ttotal: 39s\tremaining: 56.1s\n",
            "410:\ttotal: 39.1s\tremaining: 56.1s\n",
            "411:\ttotal: 39.3s\tremaining: 56.1s\n",
            "412:\ttotal: 39.5s\tremaining: 56.1s\n",
            "413:\ttotal: 39.8s\tremaining: 56.3s\n",
            "414:\ttotal: 40s\tremaining: 56.3s\n",
            "415:\ttotal: 40.2s\tremaining: 56.4s\n",
            "416:\ttotal: 40.5s\tremaining: 56.6s\n",
            "417:\ttotal: 40.7s\tremaining: 56.7s\n",
            "418:\ttotal: 40.9s\tremaining: 56.8s\n",
            "419:\ttotal: 41.2s\tremaining: 56.9s\n",
            "420:\ttotal: 41.4s\tremaining: 56.9s\n",
            "421:\ttotal: 41.6s\tremaining: 57s\n",
            "422:\ttotal: 41.8s\tremaining: 57s\n",
            "423:\ttotal: 42s\tremaining: 57s\n",
            "424:\ttotal: 42.2s\tremaining: 57s\n",
            "425:\ttotal: 42.4s\tremaining: 57.1s\n",
            "426:\ttotal: 42.7s\tremaining: 57.3s\n",
            "427:\ttotal: 42.9s\tremaining: 57.4s\n",
            "428:\ttotal: 43.1s\tremaining: 57.4s\n",
            "429:\ttotal: 43.4s\tremaining: 57.5s\n",
            "430:\ttotal: 43.6s\tremaining: 57.6s\n",
            "431:\ttotal: 43.8s\tremaining: 57.6s\n",
            "432:\ttotal: 44s\tremaining: 57.7s\n",
            "433:\ttotal: 44.2s\tremaining: 57.7s\n",
            "434:\ttotal: 44.5s\tremaining: 57.7s\n",
            "435:\ttotal: 44.7s\tremaining: 57.8s\n",
            "436:\ttotal: 44.9s\tremaining: 57.8s\n",
            "437:\ttotal: 45.1s\tremaining: 57.9s\n",
            "438:\ttotal: 45.3s\tremaining: 57.9s\n",
            "439:\ttotal: 45.5s\tremaining: 57.9s\n",
            "440:\ttotal: 45.7s\tremaining: 57.9s\n",
            "441:\ttotal: 45.9s\tremaining: 57.9s\n",
            "442:\ttotal: 46.1s\tremaining: 58s\n",
            "443:\ttotal: 46.3s\tremaining: 58s\n",
            "444:\ttotal: 46.5s\tremaining: 58s\n",
            "445:\ttotal: 46.8s\tremaining: 58.1s\n",
            "446:\ttotal: 47s\tremaining: 58.2s\n",
            "447:\ttotal: 47.3s\tremaining: 58.3s\n",
            "448:\ttotal: 47.6s\tremaining: 58.4s\n",
            "449:\ttotal: 47.8s\tremaining: 58.4s\n",
            "450:\ttotal: 48.1s\tremaining: 58.5s\n",
            "451:\ttotal: 48.3s\tremaining: 58.5s\n",
            "452:\ttotal: 48.5s\tremaining: 58.6s\n",
            "453:\ttotal: 48.7s\tremaining: 58.6s\n",
            "454:\ttotal: 48.9s\tremaining: 58.6s\n",
            "455:\ttotal: 49.2s\tremaining: 58.7s\n",
            "456:\ttotal: 49.4s\tremaining: 58.7s\n",
            "457:\ttotal: 49.6s\tremaining: 58.7s\n",
            "458:\ttotal: 49.8s\tremaining: 58.7s\n",
            "459:\ttotal: 50s\tremaining: 58.7s\n",
            "460:\ttotal: 50.2s\tremaining: 58.7s\n",
            "461:\ttotal: 50.4s\tremaining: 58.7s\n",
            "462:\ttotal: 50.6s\tremaining: 58.7s\n",
            "463:\ttotal: 50.8s\tremaining: 58.7s\n",
            "464:\ttotal: 51.1s\tremaining: 58.7s\n",
            "465:\ttotal: 51.3s\tremaining: 58.8s\n",
            "466:\ttotal: 51.6s\tremaining: 58.9s\n",
            "467:\ttotal: 51.8s\tremaining: 58.9s\n",
            "468:\ttotal: 52.1s\tremaining: 59s\n",
            "469:\ttotal: 52.3s\tremaining: 59s\n",
            "470:\ttotal: 52.6s\tremaining: 59.1s\n",
            "471:\ttotal: 52.9s\tremaining: 59.1s\n",
            "472:\ttotal: 53.1s\tremaining: 59.1s\n",
            "473:\ttotal: 53.3s\tremaining: 59.1s\n",
            "474:\ttotal: 53.5s\tremaining: 59.1s\n",
            "475:\ttotal: 53.7s\tremaining: 59.1s\n",
            "476:\ttotal: 53.9s\tremaining: 59.1s\n",
            "477:\ttotal: 54.1s\tremaining: 59.1s\n",
            "478:\ttotal: 54.3s\tremaining: 59.1s\n"
          ]
        },
        {
          "name": "stdout",
          "output_type": "stream",
          "text": [
            "479:\ttotal: 54.6s\tremaining: 59.1s\n",
            "480:\ttotal: 54.8s\tremaining: 59.1s\n",
            "481:\ttotal: 55s\tremaining: 59.1s\n",
            "482:\ttotal: 55.2s\tremaining: 59.1s\n",
            "483:\ttotal: 55.4s\tremaining: 59s\n",
            "484:\ttotal: 55.6s\tremaining: 59s\n",
            "485:\ttotal: 55.8s\tremaining: 59s\n",
            "486:\ttotal: 56s\tremaining: 59s\n",
            "487:\ttotal: 56.2s\tremaining: 58.9s\n",
            "488:\ttotal: 56.3s\tremaining: 58.9s\n",
            "489:\ttotal: 56.5s\tremaining: 58.8s\n",
            "490:\ttotal: 56.7s\tremaining: 58.8s\n",
            "491:\ttotal: 56.9s\tremaining: 58.7s\n",
            "492:\ttotal: 57s\tremaining: 58.7s\n",
            "493:\ttotal: 57.2s\tremaining: 58.6s\n",
            "494:\ttotal: 57.4s\tremaining: 58.5s\n",
            "495:\ttotal: 57.5s\tremaining: 58.5s\n",
            "496:\ttotal: 57.7s\tremaining: 58.4s\n",
            "497:\ttotal: 57.9s\tremaining: 58.4s\n",
            "498:\ttotal: 58.1s\tremaining: 58.3s\n",
            "499:\ttotal: 58.3s\tremaining: 58.3s\n",
            "500:\ttotal: 58.5s\tremaining: 58.2s\n",
            "501:\ttotal: 58.7s\tremaining: 58.2s\n",
            "502:\ttotal: 58.9s\tremaining: 58.2s\n",
            "503:\ttotal: 59.1s\tremaining: 58.1s\n",
            "504:\ttotal: 59.3s\tremaining: 58.1s\n",
            "505:\ttotal: 59.4s\tremaining: 58s\n",
            "506:\ttotal: 59.6s\tremaining: 58s\n",
            "507:\ttotal: 59.8s\tremaining: 57.9s\n",
            "508:\ttotal: 60s\tremaining: 57.8s\n",
            "509:\ttotal: 1m\tremaining: 57.8s\n",
            "510:\ttotal: 1m\tremaining: 57.7s\n",
            "511:\ttotal: 1m\tremaining: 57.6s\n",
            "512:\ttotal: 1m\tremaining: 57.6s\n",
            "513:\ttotal: 1m\tremaining: 57.5s\n",
            "514:\ttotal: 1m\tremaining: 57.4s\n",
            "515:\ttotal: 1m 1s\tremaining: 57.3s\n",
            "516:\ttotal: 1m 1s\tremaining: 57.3s\n",
            "517:\ttotal: 1m 1s\tremaining: 57.2s\n",
            "518:\ttotal: 1m 1s\tremaining: 57.1s\n",
            "519:\ttotal: 1m 1s\tremaining: 57s\n",
            "520:\ttotal: 1m 1s\tremaining: 57s\n",
            "521:\ttotal: 1m 2s\tremaining: 56.9s\n",
            "522:\ttotal: 1m 2s\tremaining: 56.8s\n",
            "523:\ttotal: 1m 2s\tremaining: 56.8s\n",
            "524:\ttotal: 1m 2s\tremaining: 56.7s\n",
            "525:\ttotal: 1m 2s\tremaining: 56.6s\n",
            "526:\ttotal: 1m 2s\tremaining: 56.5s\n",
            "527:\ttotal: 1m 3s\tremaining: 56.4s\n",
            "528:\ttotal: 1m 3s\tremaining: 56.3s\n",
            "529:\ttotal: 1m 3s\tremaining: 56.3s\n",
            "530:\ttotal: 1m 3s\tremaining: 56.2s\n",
            "531:\ttotal: 1m 3s\tremaining: 56.1s\n",
            "532:\ttotal: 1m 3s\tremaining: 56s\n",
            "533:\ttotal: 1m 4s\tremaining: 56s\n",
            "534:\ttotal: 1m 4s\tremaining: 55.9s\n",
            "535:\ttotal: 1m 4s\tremaining: 55.8s\n",
            "536:\ttotal: 1m 4s\tremaining: 55.7s\n",
            "537:\ttotal: 1m 4s\tremaining: 55.6s\n",
            "538:\ttotal: 1m 4s\tremaining: 55.6s\n",
            "539:\ttotal: 1m 5s\tremaining: 55.5s\n",
            "540:\ttotal: 1m 5s\tremaining: 55.4s\n",
            "541:\ttotal: 1m 5s\tremaining: 55.3s\n",
            "542:\ttotal: 1m 5s\tremaining: 55.3s\n",
            "543:\ttotal: 1m 5s\tremaining: 55.2s\n",
            "544:\ttotal: 1m 5s\tremaining: 55.1s\n",
            "545:\ttotal: 1m 6s\tremaining: 55s\n",
            "546:\ttotal: 1m 6s\tremaining: 54.9s\n",
            "547:\ttotal: 1m 6s\tremaining: 54.8s\n",
            "548:\ttotal: 1m 6s\tremaining: 54.8s\n",
            "549:\ttotal: 1m 6s\tremaining: 54.7s\n",
            "550:\ttotal: 1m 7s\tremaining: 54.6s\n",
            "551:\ttotal: 1m 7s\tremaining: 54.5s\n",
            "552:\ttotal: 1m 7s\tremaining: 54.4s\n",
            "553:\ttotal: 1m 7s\tremaining: 54.3s\n",
            "554:\ttotal: 1m 7s\tremaining: 54.3s\n",
            "555:\ttotal: 1m 7s\tremaining: 54.2s\n",
            "556:\ttotal: 1m 8s\tremaining: 54.1s\n",
            "557:\ttotal: 1m 8s\tremaining: 54s\n",
            "558:\ttotal: 1m 8s\tremaining: 53.9s\n",
            "559:\ttotal: 1m 8s\tremaining: 53.8s\n",
            "560:\ttotal: 1m 8s\tremaining: 53.8s\n",
            "561:\ttotal: 1m 8s\tremaining: 53.7s\n",
            "562:\ttotal: 1m 9s\tremaining: 53.6s\n",
            "563:\ttotal: 1m 9s\tremaining: 53.5s\n",
            "564:\ttotal: 1m 9s\tremaining: 53.4s\n",
            "565:\ttotal: 1m 9s\tremaining: 53.3s\n",
            "566:\ttotal: 1m 9s\tremaining: 53.2s\n",
            "567:\ttotal: 1m 9s\tremaining: 53.2s\n",
            "568:\ttotal: 1m 10s\tremaining: 53.1s\n",
            "569:\ttotal: 1m 10s\tremaining: 53s\n",
            "570:\ttotal: 1m 10s\tremaining: 52.9s\n",
            "571:\ttotal: 1m 10s\tremaining: 52.8s\n",
            "572:\ttotal: 1m 10s\tremaining: 52.7s\n",
            "573:\ttotal: 1m 10s\tremaining: 52.6s\n",
            "574:\ttotal: 1m 11s\tremaining: 52.5s\n",
            "575:\ttotal: 1m 11s\tremaining: 52.4s\n",
            "576:\ttotal: 1m 11s\tremaining: 52.3s\n",
            "577:\ttotal: 1m 11s\tremaining: 52.3s\n",
            "578:\ttotal: 1m 11s\tremaining: 52.2s\n",
            "579:\ttotal: 1m 11s\tremaining: 52.1s\n",
            "580:\ttotal: 1m 12s\tremaining: 52s\n",
            "581:\ttotal: 1m 12s\tremaining: 51.9s\n",
            "582:\ttotal: 1m 12s\tremaining: 51.8s\n",
            "583:\ttotal: 1m 12s\tremaining: 51.7s\n",
            "584:\ttotal: 1m 12s\tremaining: 51.6s\n",
            "585:\ttotal: 1m 12s\tremaining: 51.5s\n",
            "586:\ttotal: 1m 13s\tremaining: 51.4s\n",
            "587:\ttotal: 1m 13s\tremaining: 51.3s\n",
            "588:\ttotal: 1m 13s\tremaining: 51.3s\n",
            "589:\ttotal: 1m 13s\tremaining: 51.2s\n",
            "590:\ttotal: 1m 13s\tremaining: 51.1s\n",
            "591:\ttotal: 1m 13s\tremaining: 51s\n",
            "592:\ttotal: 1m 14s\tremaining: 51s\n",
            "593:\ttotal: 1m 14s\tremaining: 50.9s\n",
            "594:\ttotal: 1m 14s\tremaining: 50.8s\n",
            "595:\ttotal: 1m 14s\tremaining: 50.7s\n",
            "596:\ttotal: 1m 14s\tremaining: 50.6s\n",
            "597:\ttotal: 1m 15s\tremaining: 50.5s\n",
            "598:\ttotal: 1m 15s\tremaining: 50.4s\n",
            "599:\ttotal: 1m 15s\tremaining: 50.3s\n",
            "600:\ttotal: 1m 15s\tremaining: 50.2s\n",
            "601:\ttotal: 1m 15s\tremaining: 50.1s\n",
            "602:\ttotal: 1m 16s\tremaining: 50.1s\n",
            "603:\ttotal: 1m 16s\tremaining: 50s\n",
            "604:\ttotal: 1m 16s\tremaining: 49.9s\n",
            "605:\ttotal: 1m 16s\tremaining: 49.8s\n",
            "606:\ttotal: 1m 16s\tremaining: 49.7s\n",
            "607:\ttotal: 1m 16s\tremaining: 49.6s\n",
            "608:\ttotal: 1m 17s\tremaining: 49.5s\n",
            "609:\ttotal: 1m 17s\tremaining: 49.4s\n",
            "610:\ttotal: 1m 17s\tremaining: 49.3s\n",
            "611:\ttotal: 1m 17s\tremaining: 49.2s\n",
            "612:\ttotal: 1m 17s\tremaining: 49.1s\n",
            "613:\ttotal: 1m 17s\tremaining: 49s\n",
            "614:\ttotal: 1m 18s\tremaining: 48.9s\n",
            "615:\ttotal: 1m 18s\tremaining: 48.8s\n",
            "616:\ttotal: 1m 18s\tremaining: 48.7s\n",
            "617:\ttotal: 1m 18s\tremaining: 48.6s\n",
            "618:\ttotal: 1m 18s\tremaining: 48.5s\n",
            "619:\ttotal: 1m 18s\tremaining: 48.4s\n",
            "620:\ttotal: 1m 19s\tremaining: 48.3s\n",
            "621:\ttotal: 1m 19s\tremaining: 48.2s\n",
            "622:\ttotal: 1m 19s\tremaining: 48.1s\n",
            "623:\ttotal: 1m 19s\tremaining: 48s\n",
            "624:\ttotal: 1m 19s\tremaining: 47.9s\n",
            "625:\ttotal: 1m 20s\tremaining: 47.8s\n",
            "626:\ttotal: 1m 20s\tremaining: 47.7s\n",
            "627:\ttotal: 1m 20s\tremaining: 47.6s\n",
            "628:\ttotal: 1m 20s\tremaining: 47.5s\n",
            "629:\ttotal: 1m 20s\tremaining: 47.4s\n",
            "630:\ttotal: 1m 20s\tremaining: 47.3s\n",
            "631:\ttotal: 1m 21s\tremaining: 47.2s\n",
            "632:\ttotal: 1m 21s\tremaining: 47.1s\n",
            "633:\ttotal: 1m 21s\tremaining: 47s\n",
            "634:\ttotal: 1m 21s\tremaining: 46.9s\n",
            "635:\ttotal: 1m 21s\tremaining: 46.8s\n",
            "636:\ttotal: 1m 21s\tremaining: 46.7s\n",
            "637:\ttotal: 1m 22s\tremaining: 46.6s\n",
            "638:\ttotal: 1m 22s\tremaining: 46.5s\n",
            "639:\ttotal: 1m 22s\tremaining: 46.4s\n",
            "640:\ttotal: 1m 22s\tremaining: 46.3s\n",
            "641:\ttotal: 1m 22s\tremaining: 46.2s\n",
            "642:\ttotal: 1m 22s\tremaining: 46.1s\n",
            "643:\ttotal: 1m 23s\tremaining: 45.9s\n",
            "644:\ttotal: 1m 23s\tremaining: 45.8s\n",
            "645:\ttotal: 1m 23s\tremaining: 45.7s\n",
            "646:\ttotal: 1m 23s\tremaining: 45.6s\n",
            "647:\ttotal: 1m 23s\tremaining: 45.5s\n",
            "648:\ttotal: 1m 23s\tremaining: 45.4s\n",
            "649:\ttotal: 1m 24s\tremaining: 45.3s\n",
            "650:\ttotal: 1m 24s\tremaining: 45.2s\n",
            "651:\ttotal: 1m 24s\tremaining: 45.1s\n",
            "652:\ttotal: 1m 24s\tremaining: 45s\n",
            "653:\ttotal: 1m 24s\tremaining: 44.9s\n",
            "654:\ttotal: 1m 24s\tremaining: 44.8s\n",
            "655:\ttotal: 1m 25s\tremaining: 44.6s\n",
            "656:\ttotal: 1m 25s\tremaining: 44.5s\n",
            "657:\ttotal: 1m 25s\tremaining: 44.5s\n",
            "658:\ttotal: 1m 25s\tremaining: 44.4s\n",
            "659:\ttotal: 1m 25s\tremaining: 44.3s\n",
            "660:\ttotal: 1m 26s\tremaining: 44.2s\n",
            "661:\ttotal: 1m 26s\tremaining: 44.1s\n",
            "662:\ttotal: 1m 26s\tremaining: 44s\n",
            "663:\ttotal: 1m 26s\tremaining: 43.9s\n",
            "664:\ttotal: 1m 26s\tremaining: 43.8s\n",
            "665:\ttotal: 1m 27s\tremaining: 43.7s\n",
            "666:\ttotal: 1m 27s\tremaining: 43.6s\n",
            "667:\ttotal: 1m 27s\tremaining: 43.5s\n",
            "668:\ttotal: 1m 27s\tremaining: 43.4s\n",
            "669:\ttotal: 1m 27s\tremaining: 43.2s\n",
            "670:\ttotal: 1m 27s\tremaining: 43.1s\n",
            "671:\ttotal: 1m 28s\tremaining: 43s\n",
            "672:\ttotal: 1m 28s\tremaining: 42.9s\n",
            "673:\ttotal: 1m 28s\tremaining: 42.8s\n",
            "674:\ttotal: 1m 28s\tremaining: 42.7s\n",
            "675:\ttotal: 1m 28s\tremaining: 42.6s\n",
            "676:\ttotal: 1m 29s\tremaining: 42.5s\n",
            "677:\ttotal: 1m 29s\tremaining: 42.3s\n",
            "678:\ttotal: 1m 29s\tremaining: 42.2s\n",
            "679:\ttotal: 1m 29s\tremaining: 42.1s\n",
            "680:\ttotal: 1m 29s\tremaining: 42s\n",
            "681:\ttotal: 1m 29s\tremaining: 41.9s\n",
            "682:\ttotal: 1m 29s\tremaining: 41.8s\n",
            "683:\ttotal: 1m 30s\tremaining: 41.7s\n",
            "684:\ttotal: 1m 30s\tremaining: 41.5s\n",
            "685:\ttotal: 1m 30s\tremaining: 41.4s\n",
            "686:\ttotal: 1m 30s\tremaining: 41.3s\n",
            "687:\ttotal: 1m 30s\tremaining: 41.2s\n",
            "688:\ttotal: 1m 31s\tremaining: 41.1s\n",
            "689:\ttotal: 1m 31s\tremaining: 41s\n",
            "690:\ttotal: 1m 31s\tremaining: 40.8s\n",
            "691:\ttotal: 1m 31s\tremaining: 40.7s\n",
            "692:\ttotal: 1m 31s\tremaining: 40.6s\n",
            "693:\ttotal: 1m 31s\tremaining: 40.5s\n",
            "694:\ttotal: 1m 32s\tremaining: 40.4s\n",
            "695:\ttotal: 1m 32s\tremaining: 40.3s\n",
            "696:\ttotal: 1m 32s\tremaining: 40.2s\n",
            "697:\ttotal: 1m 32s\tremaining: 40s\n",
            "698:\ttotal: 1m 32s\tremaining: 39.9s\n",
            "699:\ttotal: 1m 32s\tremaining: 39.8s\n",
            "700:\ttotal: 1m 33s\tremaining: 39.7s\n",
            "701:\ttotal: 1m 33s\tremaining: 39.6s\n",
            "702:\ttotal: 1m 33s\tremaining: 39.5s\n",
            "703:\ttotal: 1m 33s\tremaining: 39.4s\n",
            "704:\ttotal: 1m 33s\tremaining: 39.2s\n",
            "705:\ttotal: 1m 33s\tremaining: 39.1s\n",
            "706:\ttotal: 1m 34s\tremaining: 39s\n",
            "707:\ttotal: 1m 34s\tremaining: 38.9s\n",
            "708:\ttotal: 1m 34s\tremaining: 38.8s\n",
            "709:\ttotal: 1m 34s\tremaining: 38.6s\n",
            "710:\ttotal: 1m 34s\tremaining: 38.5s\n",
            "711:\ttotal: 1m 34s\tremaining: 38.4s\n",
            "712:\ttotal: 1m 35s\tremaining: 38.3s\n"
          ]
        },
        {
          "name": "stdout",
          "output_type": "stream",
          "text": [
            "713:\ttotal: 1m 35s\tremaining: 38.2s\n",
            "714:\ttotal: 1m 35s\tremaining: 38s\n",
            "715:\ttotal: 1m 35s\tremaining: 37.9s\n",
            "716:\ttotal: 1m 35s\tremaining: 37.8s\n",
            "717:\ttotal: 1m 35s\tremaining: 37.7s\n",
            "718:\ttotal: 1m 36s\tremaining: 37.6s\n",
            "719:\ttotal: 1m 36s\tremaining: 37.5s\n",
            "720:\ttotal: 1m 36s\tremaining: 37.3s\n",
            "721:\ttotal: 1m 36s\tremaining: 37.2s\n",
            "722:\ttotal: 1m 36s\tremaining: 37.1s\n",
            "723:\ttotal: 1m 37s\tremaining: 37s\n",
            "724:\ttotal: 1m 37s\tremaining: 36.9s\n",
            "725:\ttotal: 1m 37s\tremaining: 36.8s\n",
            "726:\ttotal: 1m 37s\tremaining: 36.7s\n",
            "727:\ttotal: 1m 37s\tremaining: 36.6s\n",
            "728:\ttotal: 1m 38s\tremaining: 36.4s\n",
            "729:\ttotal: 1m 38s\tremaining: 36.3s\n",
            "730:\ttotal: 1m 38s\tremaining: 36.2s\n",
            "731:\ttotal: 1m 38s\tremaining: 36.1s\n",
            "732:\ttotal: 1m 38s\tremaining: 36s\n",
            "733:\ttotal: 1m 39s\tremaining: 35.9s\n",
            "734:\ttotal: 1m 39s\tremaining: 35.8s\n",
            "735:\ttotal: 1m 39s\tremaining: 35.7s\n",
            "736:\ttotal: 1m 39s\tremaining: 35.5s\n",
            "737:\ttotal: 1m 39s\tremaining: 35.4s\n",
            "738:\ttotal: 1m 39s\tremaining: 35.3s\n",
            "739:\ttotal: 1m 40s\tremaining: 35.2s\n",
            "740:\ttotal: 1m 40s\tremaining: 35.1s\n",
            "741:\ttotal: 1m 40s\tremaining: 34.9s\n",
            "742:\ttotal: 1m 40s\tremaining: 34.8s\n",
            "743:\ttotal: 1m 40s\tremaining: 34.7s\n",
            "744:\ttotal: 1m 41s\tremaining: 34.6s\n",
            "745:\ttotal: 1m 41s\tremaining: 34.5s\n",
            "746:\ttotal: 1m 41s\tremaining: 34.4s\n",
            "747:\ttotal: 1m 41s\tremaining: 34.3s\n",
            "748:\ttotal: 1m 41s\tremaining: 34.1s\n",
            "749:\ttotal: 1m 42s\tremaining: 34s\n",
            "750:\ttotal: 1m 42s\tremaining: 33.9s\n",
            "751:\ttotal: 1m 42s\tremaining: 33.8s\n",
            "752:\ttotal: 1m 42s\tremaining: 33.7s\n",
            "753:\ttotal: 1m 42s\tremaining: 33.5s\n",
            "754:\ttotal: 1m 42s\tremaining: 33.4s\n",
            "755:\ttotal: 1m 43s\tremaining: 33.3s\n",
            "756:\ttotal: 1m 43s\tremaining: 33.2s\n",
            "757:\ttotal: 1m 43s\tremaining: 33s\n",
            "758:\ttotal: 1m 43s\tremaining: 32.9s\n",
            "759:\ttotal: 1m 43s\tremaining: 32.8s\n",
            "760:\ttotal: 1m 43s\tremaining: 32.7s\n",
            "761:\ttotal: 1m 44s\tremaining: 32.5s\n",
            "762:\ttotal: 1m 44s\tremaining: 32.4s\n",
            "763:\ttotal: 1m 44s\tremaining: 32.3s\n",
            "764:\ttotal: 1m 44s\tremaining: 32.2s\n",
            "765:\ttotal: 1m 44s\tremaining: 32s\n",
            "766:\ttotal: 1m 45s\tremaining: 31.9s\n",
            "767:\ttotal: 1m 45s\tremaining: 31.8s\n",
            "768:\ttotal: 1m 45s\tremaining: 31.7s\n",
            "769:\ttotal: 1m 45s\tremaining: 31.5s\n",
            "770:\ttotal: 1m 45s\tremaining: 31.4s\n",
            "771:\ttotal: 1m 45s\tremaining: 31.3s\n",
            "772:\ttotal: 1m 46s\tremaining: 31.2s\n",
            "773:\ttotal: 1m 46s\tremaining: 31s\n",
            "774:\ttotal: 1m 46s\tremaining: 30.9s\n",
            "775:\ttotal: 1m 46s\tremaining: 30.8s\n",
            "776:\ttotal: 1m 46s\tremaining: 30.7s\n",
            "777:\ttotal: 1m 47s\tremaining: 30.6s\n",
            "778:\ttotal: 1m 47s\tremaining: 30.4s\n",
            "779:\ttotal: 1m 47s\tremaining: 30.3s\n",
            "780:\ttotal: 1m 47s\tremaining: 30.2s\n",
            "781:\ttotal: 1m 47s\tremaining: 30.1s\n",
            "782:\ttotal: 1m 48s\tremaining: 29.9s\n",
            "783:\ttotal: 1m 48s\tremaining: 29.8s\n",
            "784:\ttotal: 1m 48s\tremaining: 29.7s\n",
            "785:\ttotal: 1m 48s\tremaining: 29.5s\n",
            "786:\ttotal: 1m 48s\tremaining: 29.4s\n",
            "787:\ttotal: 1m 48s\tremaining: 29.3s\n",
            "788:\ttotal: 1m 49s\tremaining: 29.2s\n",
            "789:\ttotal: 1m 49s\tremaining: 29.1s\n",
            "790:\ttotal: 1m 49s\tremaining: 28.9s\n",
            "791:\ttotal: 1m 49s\tremaining: 28.8s\n",
            "792:\ttotal: 1m 49s\tremaining: 28.7s\n",
            "793:\ttotal: 1m 49s\tremaining: 28.5s\n",
            "794:\ttotal: 1m 50s\tremaining: 28.4s\n",
            "795:\ttotal: 1m 50s\tremaining: 28.3s\n",
            "796:\ttotal: 1m 50s\tremaining: 28.1s\n",
            "797:\ttotal: 1m 50s\tremaining: 28s\n",
            "798:\ttotal: 1m 50s\tremaining: 27.9s\n",
            "799:\ttotal: 1m 50s\tremaining: 27.7s\n",
            "800:\ttotal: 1m 51s\tremaining: 27.6s\n",
            "801:\ttotal: 1m 51s\tremaining: 27.5s\n",
            "802:\ttotal: 1m 51s\tremaining: 27.3s\n",
            "803:\ttotal: 1m 51s\tremaining: 27.2s\n",
            "804:\ttotal: 1m 51s\tremaining: 27.1s\n",
            "805:\ttotal: 1m 52s\tremaining: 27s\n",
            "806:\ttotal: 1m 52s\tremaining: 26.8s\n",
            "807:\ttotal: 1m 52s\tremaining: 26.7s\n",
            "808:\ttotal: 1m 52s\tremaining: 26.6s\n",
            "809:\ttotal: 1m 52s\tremaining: 26.4s\n",
            "810:\ttotal: 1m 52s\tremaining: 26.3s\n",
            "811:\ttotal: 1m 53s\tremaining: 26.2s\n",
            "812:\ttotal: 1m 53s\tremaining: 26s\n",
            "813:\ttotal: 1m 53s\tremaining: 25.9s\n",
            "814:\ttotal: 1m 53s\tremaining: 25.8s\n",
            "815:\ttotal: 1m 53s\tremaining: 25.6s\n",
            "816:\ttotal: 1m 53s\tremaining: 25.5s\n",
            "817:\ttotal: 1m 54s\tremaining: 25.4s\n",
            "818:\ttotal: 1m 54s\tremaining: 25.2s\n",
            "819:\ttotal: 1m 54s\tremaining: 25.1s\n",
            "820:\ttotal: 1m 54s\tremaining: 25s\n",
            "821:\ttotal: 1m 54s\tremaining: 24.9s\n",
            "822:\ttotal: 1m 54s\tremaining: 24.7s\n",
            "823:\ttotal: 1m 55s\tremaining: 24.6s\n",
            "824:\ttotal: 1m 55s\tremaining: 24.5s\n",
            "825:\ttotal: 1m 55s\tremaining: 24.3s\n",
            "826:\ttotal: 1m 55s\tremaining: 24.2s\n",
            "827:\ttotal: 1m 55s\tremaining: 24.1s\n",
            "828:\ttotal: 1m 56s\tremaining: 23.9s\n",
            "829:\ttotal: 1m 56s\tremaining: 23.8s\n",
            "830:\ttotal: 1m 56s\tremaining: 23.7s\n",
            "831:\ttotal: 1m 56s\tremaining: 23.6s\n",
            "832:\ttotal: 1m 56s\tremaining: 23.4s\n",
            "833:\ttotal: 1m 57s\tremaining: 23.3s\n",
            "834:\ttotal: 1m 57s\tremaining: 23.2s\n",
            "835:\ttotal: 1m 57s\tremaining: 23s\n",
            "836:\ttotal: 1m 57s\tremaining: 22.9s\n",
            "837:\ttotal: 1m 57s\tremaining: 22.8s\n",
            "838:\ttotal: 1m 58s\tremaining: 22.6s\n",
            "839:\ttotal: 1m 58s\tremaining: 22.5s\n",
            "840:\ttotal: 1m 58s\tremaining: 22.4s\n",
            "841:\ttotal: 1m 58s\tremaining: 22.3s\n",
            "842:\ttotal: 1m 58s\tremaining: 22.1s\n",
            "843:\ttotal: 1m 59s\tremaining: 22s\n",
            "844:\ttotal: 1m 59s\tremaining: 21.9s\n",
            "845:\ttotal: 1m 59s\tremaining: 21.7s\n",
            "846:\ttotal: 1m 59s\tremaining: 21.6s\n",
            "847:\ttotal: 1m 59s\tremaining: 21.5s\n",
            "848:\ttotal: 1m 59s\tremaining: 21.3s\n",
            "849:\ttotal: 2m\tremaining: 21.2s\n",
            "850:\ttotal: 2m\tremaining: 21.1s\n",
            "851:\ttotal: 2m\tremaining: 20.9s\n",
            "852:\ttotal: 2m\tremaining: 20.8s\n",
            "853:\ttotal: 2m\tremaining: 20.7s\n",
            "854:\ttotal: 2m 1s\tremaining: 20.5s\n",
            "855:\ttotal: 2m 1s\tremaining: 20.4s\n",
            "856:\ttotal: 2m 1s\tremaining: 20.3s\n",
            "857:\ttotal: 2m 1s\tremaining: 20.1s\n",
            "858:\ttotal: 2m 1s\tremaining: 20s\n",
            "859:\ttotal: 2m 1s\tremaining: 19.8s\n",
            "860:\ttotal: 2m 2s\tremaining: 19.7s\n",
            "861:\ttotal: 2m 2s\tremaining: 19.6s\n",
            "862:\ttotal: 2m 2s\tremaining: 19.4s\n",
            "863:\ttotal: 2m 2s\tremaining: 19.3s\n",
            "864:\ttotal: 2m 2s\tremaining: 19.2s\n",
            "865:\ttotal: 2m 2s\tremaining: 19s\n",
            "866:\ttotal: 2m 3s\tremaining: 18.9s\n",
            "867:\ttotal: 2m 3s\tremaining: 18.7s\n",
            "868:\ttotal: 2m 3s\tremaining: 18.6s\n",
            "869:\ttotal: 2m 3s\tremaining: 18.5s\n",
            "870:\ttotal: 2m 3s\tremaining: 18.3s\n",
            "871:\ttotal: 2m 4s\tremaining: 18.2s\n",
            "872:\ttotal: 2m 4s\tremaining: 18.1s\n",
            "873:\ttotal: 2m 4s\tremaining: 17.9s\n",
            "874:\ttotal: 2m 4s\tremaining: 17.8s\n",
            "875:\ttotal: 2m 4s\tremaining: 17.7s\n",
            "876:\ttotal: 2m 4s\tremaining: 17.5s\n",
            "877:\ttotal: 2m 5s\tremaining: 17.4s\n",
            "878:\ttotal: 2m 5s\tremaining: 17.2s\n",
            "879:\ttotal: 2m 5s\tremaining: 17.1s\n",
            "880:\ttotal: 2m 5s\tremaining: 17s\n",
            "881:\ttotal: 2m 5s\tremaining: 16.8s\n",
            "882:\ttotal: 2m 5s\tremaining: 16.7s\n",
            "883:\ttotal: 2m 6s\tremaining: 16.6s\n",
            "884:\ttotal: 2m 6s\tremaining: 16.4s\n",
            "885:\ttotal: 2m 6s\tremaining: 16.3s\n",
            "886:\ttotal: 2m 6s\tremaining: 16.1s\n",
            "887:\ttotal: 2m 6s\tremaining: 16s\n",
            "888:\ttotal: 2m 7s\tremaining: 15.9s\n",
            "889:\ttotal: 2m 7s\tremaining: 15.7s\n",
            "890:\ttotal: 2m 7s\tremaining: 15.6s\n",
            "891:\ttotal: 2m 7s\tremaining: 15.4s\n",
            "892:\ttotal: 2m 7s\tremaining: 15.3s\n",
            "893:\ttotal: 2m 7s\tremaining: 15.2s\n",
            "894:\ttotal: 2m 8s\tremaining: 15s\n",
            "895:\ttotal: 2m 8s\tremaining: 14.9s\n",
            "896:\ttotal: 2m 8s\tremaining: 14.7s\n",
            "897:\ttotal: 2m 8s\tremaining: 14.6s\n",
            "898:\ttotal: 2m 8s\tremaining: 14.5s\n",
            "899:\ttotal: 2m 8s\tremaining: 14.3s\n",
            "900:\ttotal: 2m 9s\tremaining: 14.2s\n",
            "901:\ttotal: 2m 9s\tremaining: 14s\n",
            "902:\ttotal: 2m 9s\tremaining: 13.9s\n",
            "903:\ttotal: 2m 9s\tremaining: 13.8s\n",
            "904:\ttotal: 2m 9s\tremaining: 13.6s\n",
            "905:\ttotal: 2m 9s\tremaining: 13.5s\n",
            "906:\ttotal: 2m 10s\tremaining: 13.3s\n",
            "907:\ttotal: 2m 10s\tremaining: 13.2s\n",
            "908:\ttotal: 2m 10s\tremaining: 13.1s\n",
            "909:\ttotal: 2m 10s\tremaining: 12.9s\n",
            "910:\ttotal: 2m 11s\tremaining: 12.8s\n",
            "911:\ttotal: 2m 11s\tremaining: 12.7s\n",
            "912:\ttotal: 2m 11s\tremaining: 12.5s\n",
            "913:\ttotal: 2m 11s\tremaining: 12.4s\n",
            "914:\ttotal: 2m 11s\tremaining: 12.3s\n",
            "915:\ttotal: 2m 12s\tremaining: 12.1s\n",
            "916:\ttotal: 2m 12s\tremaining: 12s\n",
            "917:\ttotal: 2m 12s\tremaining: 11.8s\n",
            "918:\ttotal: 2m 12s\tremaining: 11.7s\n",
            "919:\ttotal: 2m 12s\tremaining: 11.5s\n",
            "920:\ttotal: 2m 12s\tremaining: 11.4s\n",
            "921:\ttotal: 2m 13s\tremaining: 11.3s\n",
            "922:\ttotal: 2m 13s\tremaining: 11.1s\n",
            "923:\ttotal: 2m 13s\tremaining: 11s\n",
            "924:\ttotal: 2m 13s\tremaining: 10.8s\n",
            "925:\ttotal: 2m 13s\tremaining: 10.7s\n",
            "926:\ttotal: 2m 13s\tremaining: 10.6s\n",
            "927:\ttotal: 2m 14s\tremaining: 10.4s\n",
            "928:\ttotal: 2m 14s\tremaining: 10.3s\n",
            "929:\ttotal: 2m 14s\tremaining: 10.1s\n",
            "930:\ttotal: 2m 14s\tremaining: 9.98s\n",
            "931:\ttotal: 2m 14s\tremaining: 9.84s\n",
            "932:\ttotal: 2m 15s\tremaining: 9.7s\n",
            "933:\ttotal: 2m 15s\tremaining: 9.56s\n",
            "934:\ttotal: 2m 15s\tremaining: 9.42s\n",
            "935:\ttotal: 2m 15s\tremaining: 9.27s\n",
            "936:\ttotal: 2m 15s\tremaining: 9.13s\n",
            "937:\ttotal: 2m 15s\tremaining: 8.99s\n",
            "938:\ttotal: 2m 16s\tremaining: 8.85s\n",
            "939:\ttotal: 2m 16s\tremaining: 8.7s\n",
            "940:\ttotal: 2m 16s\tremaining: 8.56s\n",
            "941:\ttotal: 2m 16s\tremaining: 8.42s\n",
            "942:\ttotal: 2m 16s\tremaining: 8.27s\n",
            "943:\ttotal: 2m 17s\tremaining: 8.13s\n",
            "944:\ttotal: 2m 17s\tremaining: 7.99s\n"
          ]
        },
        {
          "name": "stdout",
          "output_type": "stream",
          "text": [
            "945:\ttotal: 2m 17s\tremaining: 7.84s\n",
            "946:\ttotal: 2m 17s\tremaining: 7.7s\n",
            "947:\ttotal: 2m 17s\tremaining: 7.56s\n",
            "948:\ttotal: 2m 17s\tremaining: 7.41s\n",
            "949:\ttotal: 2m 18s\tremaining: 7.27s\n",
            "950:\ttotal: 2m 18s\tremaining: 7.13s\n",
            "951:\ttotal: 2m 18s\tremaining: 6.99s\n",
            "952:\ttotal: 2m 18s\tremaining: 6.85s\n",
            "953:\ttotal: 2m 19s\tremaining: 6.71s\n",
            "954:\ttotal: 2m 19s\tremaining: 6.58s\n",
            "955:\ttotal: 2m 19s\tremaining: 6.43s\n",
            "956:\ttotal: 2m 19s\tremaining: 6.29s\n",
            "957:\ttotal: 2m 20s\tremaining: 6.14s\n",
            "958:\ttotal: 2m 20s\tremaining: 6s\n",
            "959:\ttotal: 2m 20s\tremaining: 5.85s\n",
            "960:\ttotal: 2m 20s\tremaining: 5.71s\n",
            "961:\ttotal: 2m 20s\tremaining: 5.57s\n",
            "962:\ttotal: 2m 21s\tremaining: 5.42s\n",
            "963:\ttotal: 2m 21s\tremaining: 5.28s\n",
            "964:\ttotal: 2m 21s\tremaining: 5.13s\n",
            "965:\ttotal: 2m 21s\tremaining: 4.99s\n",
            "966:\ttotal: 2m 22s\tremaining: 4.84s\n",
            "967:\ttotal: 2m 22s\tremaining: 4.7s\n",
            "968:\ttotal: 2m 22s\tremaining: 4.55s\n",
            "969:\ttotal: 2m 22s\tremaining: 4.41s\n",
            "970:\ttotal: 2m 22s\tremaining: 4.26s\n",
            "971:\ttotal: 2m 23s\tremaining: 4.12s\n",
            "972:\ttotal: 2m 23s\tremaining: 3.98s\n",
            "973:\ttotal: 2m 23s\tremaining: 3.83s\n",
            "974:\ttotal: 2m 23s\tremaining: 3.69s\n",
            "975:\ttotal: 2m 24s\tremaining: 3.54s\n",
            "976:\ttotal: 2m 24s\tremaining: 3.4s\n",
            "977:\ttotal: 2m 24s\tremaining: 3.25s\n",
            "978:\ttotal: 2m 24s\tremaining: 3.11s\n",
            "979:\ttotal: 2m 25s\tremaining: 2.96s\n",
            "980:\ttotal: 2m 25s\tremaining: 2.81s\n",
            "981:\ttotal: 2m 25s\tremaining: 2.67s\n",
            "982:\ttotal: 2m 25s\tremaining: 2.52s\n",
            "983:\ttotal: 2m 25s\tremaining: 2.37s\n",
            "984:\ttotal: 2m 26s\tremaining: 2.22s\n",
            "985:\ttotal: 2m 26s\tremaining: 2.08s\n",
            "986:\ttotal: 2m 26s\tremaining: 1.93s\n",
            "987:\ttotal: 2m 26s\tremaining: 1.78s\n",
            "988:\ttotal: 2m 26s\tremaining: 1.63s\n",
            "989:\ttotal: 2m 27s\tremaining: 1.49s\n",
            "990:\ttotal: 2m 27s\tremaining: 1.34s\n",
            "991:\ttotal: 2m 27s\tremaining: 1.19s\n",
            "992:\ttotal: 2m 27s\tremaining: 1.04s\n",
            "993:\ttotal: 2m 27s\tremaining: 893ms\n",
            "994:\ttotal: 2m 28s\tremaining: 744ms\n",
            "995:\ttotal: 2m 28s\tremaining: 595ms\n",
            "996:\ttotal: 2m 28s\tremaining: 447ms\n",
            "997:\ttotal: 2m 28s\tremaining: 298ms\n",
            "998:\ttotal: 2m 28s\tremaining: 149ms\n",
            "999:\ttotal: 2m 28s\tremaining: 0us\n"
          ]
        }
      ],
      "source": [
        "cat_model = CatBoostClassifier(\n",
        "    iterations = 1000, # 1000 are ideal\n",
        "    loss_function='MultiClass',\n",
        "    bootstrap_type = \"Bayesian\",\n",
        "    eval_metric = 'AUC',\n",
        "    leaf_estimation_iterations = 100,\n",
        "    random_strength = 0.5,\n",
        "    depth = 7,\n",
        "    l2_leaf_reg = 5,\n",
        "    learning_rate=0.1,\n",
        "    bagging_temperature = 0.5,\n",
        ")\n",
        "\n",
        "# training the model\n",
        "cat_model.fit(X_train,y_train)\n",
        "\n",
        "# predicting the model output\n",
        "y_pred_cat = cat_model.predict(X_test)"
      ]
    },
    {
      "cell_type": "code",
      "execution_count": null,
      "id": "934b489a",
      "metadata": {
        "id": "934b489a",
        "outputId": "b85875e8-3ee7-4923-f0f6-18e14d2a11c0"
      },
      "outputs": [
        {
          "name": "stdout",
          "output_type": "stream",
          "text": [
            "accuracy of the catboost:  0.8269333333333333\n"
          ]
        },
        {
          "data": {
            "image/png": "[encoded data removed]",
            "text/plain": [
              "<Figure size 432x288 with 2 Axes>"
            ]
          },
          "metadata": {
            "needs_background": "light"
          },
          "output_type": "display_data"
        }
      ],
      "source": [
        "# printing the accuracy of the tuned model\n",
        "print(\"accuracy of the catboost: \", accuracy_score(y_test.drop('ID', axis=1),y_pred_cat))\n",
        "\n",
        "# confusion matrix\n",
        "cat_confusion_matrix = metrics.confusion_matrix(y_test.drop('ID', axis=1),y_pred_cat)\n",
        "sns.heatmap(cat_confusion_matrix, annot=True, fmt=\"d\")\n",
        "\n",
        "plt.xlabel(\"Predicted Label\", fontsize= 12)\n",
        "plt.ylabel(\"True Label\", fontsize= 12)\n",
        "\n",
        "plt.show()"
      ]
    },
    {
      "cell_type": "code",
      "execution_count": null,
      "id": "16b92404",
      "metadata": {
        "id": "16b92404",
        "outputId": "6e184e5c-7ceb-4426-e40f-eb9258e1baf2"
      },
      "outputs": [
        {
          "name": "stdout",
          "output_type": "stream",
          "text": [
            "auc_score: 0.7570967720228667\n"
          ]
        }
      ],
      "source": [
        "model_score(X_test, cat_model)"
      ]
    },
    {
      "cell_type": "markdown",
      "id": "cacaa6ab",
      "metadata": {
        "id": "cacaa6ab"
      },
      "source": [
        "#### 4th Cat Model - with categorical features"
      ]
    },
    {
      "cell_type": "code",
      "execution_count": null,
      "id": "bf2a52fe",
      "metadata": {
        "id": "bf2a52fe",
        "outputId": "11a91c49-bb07-4161-8fd3-338eb2429346"
      },
      "outputs": [
        {
          "name": "stdout",
          "output_type": "stream",
          "text": [
            "Learning rate set to 0.038933\n",
            "0:\ttotal: 66.3ms\tremaining: 1m 6s\n",
            "1:\ttotal: 72.9ms\tremaining: 36.4s\n",
            "2:\ttotal: 78.9ms\tremaining: 26.2s\n",
            "3:\ttotal: 85.4ms\tremaining: 21.3s\n",
            "4:\ttotal: 91.5ms\tremaining: 18.2s\n",
            "5:\ttotal: 97.2ms\tremaining: 16.1s\n",
            "6:\ttotal: 104ms\tremaining: 14.7s\n",
            "7:\ttotal: 110ms\tremaining: 13.6s\n",
            "8:\ttotal: 115ms\tremaining: 12.6s\n",
            "9:\ttotal: 121ms\tremaining: 12s\n",
            "10:\ttotal: 127ms\tremaining: 11.4s\n",
            "11:\ttotal: 133ms\tremaining: 10.9s\n",
            "12:\ttotal: 138ms\tremaining: 10.5s\n",
            "13:\ttotal: 144ms\tremaining: 10.1s\n",
            "14:\ttotal: 151ms\tremaining: 9.88s\n",
            "15:\ttotal: 157ms\tremaining: 9.64s\n",
            "16:\ttotal: 163ms\tremaining: 9.42s\n",
            "17:\ttotal: 167ms\tremaining: 9.09s\n",
            "18:\ttotal: 172ms\tremaining: 8.9s\n",
            "19:\ttotal: 179ms\tremaining: 8.75s\n",
            "20:\ttotal: 185ms\tremaining: 8.63s\n",
            "21:\ttotal: 191ms\tremaining: 8.49s\n",
            "22:\ttotal: 197ms\tremaining: 8.37s\n",
            "23:\ttotal: 209ms\tremaining: 8.48s\n",
            "24:\ttotal: 215ms\tremaining: 8.4s\n",
            "25:\ttotal: 221ms\tremaining: 8.3s\n",
            "26:\ttotal: 229ms\tremaining: 8.26s\n",
            "27:\ttotal: 236ms\tremaining: 8.18s\n",
            "28:\ttotal: 242ms\tremaining: 8.09s\n",
            "29:\ttotal: 246ms\tremaining: 7.96s\n",
            "30:\ttotal: 252ms\tremaining: 7.87s\n",
            "31:\ttotal: 258ms\tremaining: 7.81s\n",
            "32:\ttotal: 265ms\tremaining: 7.75s\n",
            "33:\ttotal: 271ms\tremaining: 7.69s\n",
            "34:\ttotal: 276ms\tremaining: 7.62s\n",
            "35:\ttotal: 283ms\tremaining: 7.57s\n",
            "36:\ttotal: 289ms\tremaining: 7.51s\n",
            "37:\ttotal: 294ms\tremaining: 7.45s\n",
            "38:\ttotal: 300ms\tremaining: 7.39s\n",
            "39:\ttotal: 306ms\tremaining: 7.35s\n",
            "40:\ttotal: 312ms\tremaining: 7.3s\n",
            "41:\ttotal: 315ms\tremaining: 7.17s\n",
            "42:\ttotal: 321ms\tremaining: 7.14s\n",
            "43:\ttotal: 327ms\tremaining: 7.1s\n",
            "44:\ttotal: 333ms\tremaining: 7.06s\n",
            "45:\ttotal: 339ms\tremaining: 7.03s\n",
            "46:\ttotal: 345ms\tremaining: 7s\n",
            "47:\ttotal: 351ms\tremaining: 6.97s\n",
            "48:\ttotal: 358ms\tremaining: 6.95s\n",
            "49:\ttotal: 364ms\tremaining: 6.91s\n",
            "50:\ttotal: 370ms\tremaining: 6.88s\n",
            "51:\ttotal: 376ms\tremaining: 6.85s\n",
            "52:\ttotal: 382ms\tremaining: 6.82s\n",
            "53:\ttotal: 388ms\tremaining: 6.79s\n",
            "54:\ttotal: 393ms\tremaining: 6.76s\n",
            "55:\ttotal: 401ms\tremaining: 6.75s\n",
            "56:\ttotal: 408ms\tremaining: 6.75s\n",
            "57:\ttotal: 415ms\tremaining: 6.74s\n",
            "58:\ttotal: 422ms\tremaining: 6.73s\n",
            "59:\ttotal: 428ms\tremaining: 6.71s\n",
            "60:\ttotal: 435ms\tremaining: 6.7s\n",
            "61:\ttotal: 442ms\tremaining: 6.69s\n",
            "62:\ttotal: 448ms\tremaining: 6.66s\n",
            "63:\ttotal: 454ms\tremaining: 6.64s\n",
            "64:\ttotal: 460ms\tremaining: 6.61s\n",
            "65:\ttotal: 466ms\tremaining: 6.6s\n",
            "66:\ttotal: 473ms\tremaining: 6.58s\n",
            "67:\ttotal: 479ms\tremaining: 6.56s\n",
            "68:\ttotal: 485ms\tremaining: 6.54s\n",
            "69:\ttotal: 493ms\tremaining: 6.54s\n",
            "70:\ttotal: 498ms\tremaining: 6.52s\n",
            "71:\ttotal: 505ms\tremaining: 6.5s\n",
            "72:\ttotal: 511ms\tremaining: 6.49s\n",
            "73:\ttotal: 517ms\tremaining: 6.47s\n",
            "74:\ttotal: 523ms\tremaining: 6.45s\n",
            "75:\ttotal: 528ms\tremaining: 6.42s\n",
            "76:\ttotal: 534ms\tremaining: 6.4s\n",
            "77:\ttotal: 540ms\tremaining: 6.38s\n",
            "78:\ttotal: 546ms\tremaining: 6.37s\n",
            "79:\ttotal: 552ms\tremaining: 6.34s\n",
            "80:\ttotal: 558ms\tremaining: 6.33s\n",
            "81:\ttotal: 563ms\tremaining: 6.31s\n",
            "82:\ttotal: 569ms\tremaining: 6.29s\n",
            "83:\ttotal: 577ms\tremaining: 6.29s\n",
            "84:\ttotal: 583ms\tremaining: 6.27s\n",
            "85:\ttotal: 589ms\tremaining: 6.25s\n",
            "86:\ttotal: 594ms\tremaining: 6.24s\n",
            "87:\ttotal: 600ms\tremaining: 6.22s\n",
            "88:\ttotal: 606ms\tremaining: 6.21s\n",
            "89:\ttotal: 614ms\tremaining: 6.2s\n",
            "90:\ttotal: 620ms\tremaining: 6.19s\n",
            "91:\ttotal: 627ms\tremaining: 6.19s\n",
            "92:\ttotal: 634ms\tremaining: 6.18s\n",
            "93:\ttotal: 641ms\tremaining: 6.18s\n",
            "94:\ttotal: 646ms\tremaining: 6.16s\n",
            "95:\ttotal: 652ms\tremaining: 6.14s\n",
            "96:\ttotal: 658ms\tremaining: 6.13s\n",
            "97:\ttotal: 665ms\tremaining: 6.12s\n",
            "98:\ttotal: 670ms\tremaining: 6.1s\n",
            "99:\ttotal: 677ms\tremaining: 6.09s\n",
            "100:\ttotal: 679ms\tremaining: 6.05s\n",
            "101:\ttotal: 685ms\tremaining: 6.03s\n",
            "102:\ttotal: 690ms\tremaining: 6.01s\n",
            "103:\ttotal: 696ms\tremaining: 6s\n",
            "104:\ttotal: 703ms\tremaining: 5.99s\n",
            "105:\ttotal: 709ms\tremaining: 5.98s\n",
            "106:\ttotal: 714ms\tremaining: 5.96s\n",
            "107:\ttotal: 720ms\tremaining: 5.95s\n",
            "108:\ttotal: 726ms\tremaining: 5.93s\n",
            "109:\ttotal: 732ms\tremaining: 5.92s\n",
            "110:\ttotal: 738ms\tremaining: 5.91s\n",
            "111:\ttotal: 743ms\tremaining: 5.89s\n",
            "112:\ttotal: 750ms\tremaining: 5.88s\n",
            "113:\ttotal: 756ms\tremaining: 5.87s\n",
            "114:\ttotal: 761ms\tremaining: 5.86s\n",
            "115:\ttotal: 767ms\tremaining: 5.85s\n",
            "116:\ttotal: 774ms\tremaining: 5.84s\n",
            "117:\ttotal: 780ms\tremaining: 5.83s\n",
            "118:\ttotal: 787ms\tremaining: 5.83s\n",
            "119:\ttotal: 793ms\tremaining: 5.81s\n",
            "120:\ttotal: 800ms\tremaining: 5.81s\n",
            "121:\ttotal: 807ms\tremaining: 5.81s\n",
            "122:\ttotal: 815ms\tremaining: 5.81s\n",
            "123:\ttotal: 824ms\tremaining: 5.82s\n",
            "124:\ttotal: 833ms\tremaining: 5.83s\n",
            "125:\ttotal: 840ms\tremaining: 5.83s\n",
            "126:\ttotal: 848ms\tremaining: 5.83s\n",
            "127:\ttotal: 854ms\tremaining: 5.82s\n",
            "128:\ttotal: 860ms\tremaining: 5.81s\n",
            "129:\ttotal: 866ms\tremaining: 5.79s\n",
            "130:\ttotal: 872ms\tremaining: 5.78s\n",
            "131:\ttotal: 878ms\tremaining: 5.78s\n",
            "132:\ttotal: 884ms\tremaining: 5.76s\n",
            "133:\ttotal: 891ms\tremaining: 5.76s\n",
            "134:\ttotal: 897ms\tremaining: 5.75s\n",
            "135:\ttotal: 904ms\tremaining: 5.74s\n",
            "136:\ttotal: 911ms\tremaining: 5.74s\n",
            "137:\ttotal: 921ms\tremaining: 5.75s\n",
            "138:\ttotal: 929ms\tremaining: 5.76s\n",
            "139:\ttotal: 940ms\tremaining: 5.77s\n",
            "140:\ttotal: 948ms\tremaining: 5.78s\n",
            "141:\ttotal: 957ms\tremaining: 5.78s\n",
            "142:\ttotal: 970ms\tremaining: 5.81s\n",
            "143:\ttotal: 981ms\tremaining: 5.83s\n",
            "144:\ttotal: 990ms\tremaining: 5.84s\n",
            "145:\ttotal: 1s\tremaining: 5.87s\n",
            "146:\ttotal: 1.01s\tremaining: 5.87s\n",
            "147:\ttotal: 1.02s\tremaining: 5.85s\n",
            "148:\ttotal: 1.03s\tremaining: 5.87s\n",
            "149:\ttotal: 1.03s\tremaining: 5.87s\n",
            "150:\ttotal: 1.05s\tremaining: 5.89s\n",
            "151:\ttotal: 1.06s\tremaining: 5.93s\n",
            "152:\ttotal: 1.07s\tremaining: 5.93s\n",
            "153:\ttotal: 1.08s\tremaining: 5.95s\n",
            "154:\ttotal: 1.09s\tremaining: 5.95s\n",
            "155:\ttotal: 1.1s\tremaining: 5.97s\n",
            "156:\ttotal: 1.11s\tremaining: 5.97s\n",
            "157:\ttotal: 1.13s\tremaining: 6s\n",
            "158:\ttotal: 1.14s\tremaining: 6s\n",
            "159:\ttotal: 1.15s\tremaining: 6.03s\n",
            "160:\ttotal: 1.16s\tremaining: 6.04s\n",
            "161:\ttotal: 1.17s\tremaining: 6.08s\n",
            "162:\ttotal: 1.18s\tremaining: 6.06s\n",
            "163:\ttotal: 1.19s\tremaining: 6.06s\n",
            "164:\ttotal: 1.19s\tremaining: 6.04s\n",
            "165:\ttotal: 1.2s\tremaining: 6.05s\n",
            "166:\ttotal: 1.21s\tremaining: 6.05s\n",
            "167:\ttotal: 1.22s\tremaining: 6.04s\n",
            "168:\ttotal: 1.23s\tremaining: 6.04s\n",
            "169:\ttotal: 1.23s\tremaining: 6.03s\n",
            "170:\ttotal: 1.24s\tremaining: 6.02s\n",
            "171:\ttotal: 1.25s\tremaining: 6.01s\n",
            "172:\ttotal: 1.25s\tremaining: 6s\n",
            "173:\ttotal: 1.26s\tremaining: 5.98s\n",
            "174:\ttotal: 1.27s\tremaining: 5.97s\n",
            "175:\ttotal: 1.27s\tremaining: 5.94s\n",
            "176:\ttotal: 1.27s\tremaining: 5.93s\n",
            "177:\ttotal: 1.28s\tremaining: 5.92s\n",
            "178:\ttotal: 1.29s\tremaining: 5.9s\n",
            "179:\ttotal: 1.29s\tremaining: 5.89s\n",
            "180:\ttotal: 1.3s\tremaining: 5.88s\n",
            "181:\ttotal: 1.3s\tremaining: 5.87s\n",
            "182:\ttotal: 1.31s\tremaining: 5.84s\n",
            "183:\ttotal: 1.31s\tremaining: 5.83s\n",
            "184:\ttotal: 1.32s\tremaining: 5.82s\n",
            "185:\ttotal: 1.33s\tremaining: 5.81s\n",
            "186:\ttotal: 1.33s\tremaining: 5.79s\n",
            "187:\ttotal: 1.34s\tremaining: 5.78s\n",
            "188:\ttotal: 1.34s\tremaining: 5.76s\n",
            "189:\ttotal: 1.35s\tremaining: 5.75s\n",
            "190:\ttotal: 1.35s\tremaining: 5.74s\n",
            "191:\ttotal: 1.36s\tremaining: 5.73s\n",
            "192:\ttotal: 1.37s\tremaining: 5.72s\n",
            "193:\ttotal: 1.37s\tremaining: 5.7s\n",
            "194:\ttotal: 1.38s\tremaining: 5.69s\n",
            "195:\ttotal: 1.38s\tremaining: 5.68s\n",
            "196:\ttotal: 1.39s\tremaining: 5.67s\n",
            "197:\ttotal: 1.4s\tremaining: 5.66s\n",
            "198:\ttotal: 1.4s\tremaining: 5.65s\n",
            "199:\ttotal: 1.41s\tremaining: 5.64s\n",
            "200:\ttotal: 1.42s\tremaining: 5.64s\n",
            "201:\ttotal: 1.43s\tremaining: 5.63s\n",
            "202:\ttotal: 1.43s\tremaining: 5.63s\n",
            "203:\ttotal: 1.44s\tremaining: 5.62s\n",
            "204:\ttotal: 1.45s\tremaining: 5.61s\n",
            "205:\ttotal: 1.45s\tremaining: 5.6s\n",
            "206:\ttotal: 1.46s\tremaining: 5.59s\n",
            "207:\ttotal: 1.47s\tremaining: 5.58s\n",
            "208:\ttotal: 1.47s\tremaining: 5.58s\n",
            "209:\ttotal: 1.48s\tremaining: 5.56s\n",
            "210:\ttotal: 1.48s\tremaining: 5.55s\n",
            "211:\ttotal: 1.49s\tremaining: 5.54s\n",
            "212:\ttotal: 1.5s\tremaining: 5.53s\n",
            "213:\ttotal: 1.5s\tremaining: 5.52s\n",
            "214:\ttotal: 1.51s\tremaining: 5.51s\n",
            "215:\ttotal: 1.52s\tremaining: 5.51s\n",
            "216:\ttotal: 1.52s\tremaining: 5.5s\n",
            "217:\ttotal: 1.53s\tremaining: 5.49s\n",
            "218:\ttotal: 1.54s\tremaining: 5.49s\n",
            "219:\ttotal: 1.54s\tremaining: 5.48s\n",
            "220:\ttotal: 1.55s\tremaining: 5.47s\n",
            "221:\ttotal: 1.56s\tremaining: 5.46s\n",
            "222:\ttotal: 1.56s\tremaining: 5.45s\n",
            "223:\ttotal: 1.57s\tremaining: 5.44s\n",
            "224:\ttotal: 1.58s\tremaining: 5.43s\n",
            "225:\ttotal: 1.58s\tremaining: 5.42s\n",
            "226:\ttotal: 1.59s\tremaining: 5.42s\n",
            "227:\ttotal: 1.6s\tremaining: 5.41s\n",
            "228:\ttotal: 1.6s\tremaining: 5.4s\n",
            "229:\ttotal: 1.61s\tremaining: 5.41s\n",
            "230:\ttotal: 1.62s\tremaining: 5.4s\n",
            "231:\ttotal: 1.63s\tremaining: 5.39s\n",
            "232:\ttotal: 1.64s\tremaining: 5.38s\n",
            "233:\ttotal: 1.64s\tremaining: 5.38s\n",
            "234:\ttotal: 1.65s\tremaining: 5.37s\n",
            "235:\ttotal: 1.66s\tremaining: 5.36s\n",
            "236:\ttotal: 1.66s\tremaining: 5.35s\n",
            "237:\ttotal: 1.67s\tremaining: 5.34s\n",
            "238:\ttotal: 1.68s\tremaining: 5.33s\n",
            "239:\ttotal: 1.68s\tremaining: 5.32s\n",
            "240:\ttotal: 1.69s\tremaining: 5.31s\n",
            "241:\ttotal: 1.69s\tremaining: 5.3s\n",
            "242:\ttotal: 1.7s\tremaining: 5.29s\n",
            "243:\ttotal: 1.71s\tremaining: 5.29s\n",
            "244:\ttotal: 1.71s\tremaining: 5.28s\n",
            "245:\ttotal: 1.72s\tremaining: 5.27s\n",
            "246:\ttotal: 1.73s\tremaining: 5.26s\n",
            "247:\ttotal: 1.73s\tremaining: 5.25s\n",
            "248:\ttotal: 1.74s\tremaining: 5.24s\n",
            "249:\ttotal: 1.74s\tremaining: 5.23s\n",
            "250:\ttotal: 1.75s\tremaining: 5.23s\n",
            "251:\ttotal: 1.76s\tremaining: 5.22s\n",
            "252:\ttotal: 1.76s\tremaining: 5.21s\n",
            "253:\ttotal: 1.77s\tremaining: 5.2s\n",
            "254:\ttotal: 1.77s\tremaining: 5.19s\n",
            "255:\ttotal: 1.78s\tremaining: 5.18s\n",
            "256:\ttotal: 1.79s\tremaining: 5.17s\n",
            "257:\ttotal: 1.79s\tremaining: 5.16s\n"
          ]
        },
        {
          "name": "stdout",
          "output_type": "stream",
          "text": [
            "258:\ttotal: 1.8s\tremaining: 5.15s\n",
            "259:\ttotal: 1.81s\tremaining: 5.15s\n",
            "260:\ttotal: 1.82s\tremaining: 5.14s\n",
            "261:\ttotal: 1.82s\tremaining: 5.14s\n",
            "262:\ttotal: 1.83s\tremaining: 5.13s\n",
            "263:\ttotal: 1.84s\tremaining: 5.13s\n",
            "264:\ttotal: 1.85s\tremaining: 5.12s\n",
            "265:\ttotal: 1.85s\tremaining: 5.11s\n",
            "266:\ttotal: 1.86s\tremaining: 5.1s\n",
            "267:\ttotal: 1.86s\tremaining: 5.09s\n",
            "268:\ttotal: 1.87s\tremaining: 5.08s\n",
            "269:\ttotal: 1.88s\tremaining: 5.07s\n",
            "270:\ttotal: 1.88s\tremaining: 5.07s\n",
            "271:\ttotal: 1.89s\tremaining: 5.06s\n",
            "272:\ttotal: 1.9s\tremaining: 5.05s\n",
            "273:\ttotal: 1.9s\tremaining: 5.04s\n",
            "274:\ttotal: 1.91s\tremaining: 5.03s\n",
            "275:\ttotal: 1.91s\tremaining: 5.02s\n",
            "276:\ttotal: 1.92s\tremaining: 5.01s\n",
            "277:\ttotal: 1.93s\tremaining: 5s\n",
            "278:\ttotal: 1.93s\tremaining: 4.99s\n",
            "279:\ttotal: 1.94s\tremaining: 4.98s\n",
            "280:\ttotal: 1.94s\tremaining: 4.97s\n",
            "281:\ttotal: 1.95s\tremaining: 4.97s\n",
            "282:\ttotal: 1.96s\tremaining: 4.96s\n",
            "283:\ttotal: 1.96s\tremaining: 4.95s\n",
            "284:\ttotal: 1.97s\tremaining: 4.94s\n",
            "285:\ttotal: 1.98s\tremaining: 4.93s\n",
            "286:\ttotal: 1.98s\tremaining: 4.92s\n",
            "287:\ttotal: 1.99s\tremaining: 4.92s\n",
            "288:\ttotal: 1.99s\tremaining: 4.91s\n",
            "289:\ttotal: 2s\tremaining: 4.9s\n",
            "290:\ttotal: 2.01s\tremaining: 4.89s\n",
            "291:\ttotal: 2.02s\tremaining: 4.89s\n",
            "292:\ttotal: 2.02s\tremaining: 4.88s\n",
            "293:\ttotal: 2.03s\tremaining: 4.88s\n",
            "294:\ttotal: 2.04s\tremaining: 4.87s\n",
            "295:\ttotal: 2.04s\tremaining: 4.86s\n",
            "296:\ttotal: 2.05s\tremaining: 4.85s\n",
            "297:\ttotal: 2.06s\tremaining: 4.84s\n",
            "298:\ttotal: 2.06s\tremaining: 4.83s\n",
            "299:\ttotal: 2.07s\tremaining: 4.82s\n",
            "300:\ttotal: 2.07s\tremaining: 4.81s\n",
            "301:\ttotal: 2.08s\tremaining: 4.81s\n",
            "302:\ttotal: 2.09s\tremaining: 4.8s\n",
            "303:\ttotal: 2.09s\tremaining: 4.79s\n",
            "304:\ttotal: 2.1s\tremaining: 4.78s\n",
            "305:\ttotal: 2.1s\tremaining: 4.78s\n",
            "306:\ttotal: 2.11s\tremaining: 4.77s\n",
            "307:\ttotal: 2.12s\tremaining: 4.76s\n",
            "308:\ttotal: 2.12s\tremaining: 4.75s\n",
            "309:\ttotal: 2.13s\tremaining: 4.74s\n",
            "310:\ttotal: 2.13s\tremaining: 4.73s\n",
            "311:\ttotal: 2.14s\tremaining: 4.72s\n",
            "312:\ttotal: 2.15s\tremaining: 4.71s\n",
            "313:\ttotal: 2.15s\tremaining: 4.71s\n",
            "314:\ttotal: 2.16s\tremaining: 4.7s\n",
            "315:\ttotal: 2.17s\tremaining: 4.69s\n",
            "316:\ttotal: 2.17s\tremaining: 4.68s\n",
            "317:\ttotal: 2.18s\tremaining: 4.67s\n",
            "318:\ttotal: 2.19s\tremaining: 4.66s\n",
            "319:\ttotal: 2.19s\tremaining: 4.66s\n",
            "320:\ttotal: 2.2s\tremaining: 4.65s\n",
            "321:\ttotal: 2.21s\tremaining: 4.65s\n",
            "322:\ttotal: 2.21s\tremaining: 4.64s\n",
            "323:\ttotal: 2.22s\tremaining: 4.64s\n",
            "324:\ttotal: 2.23s\tremaining: 4.63s\n",
            "325:\ttotal: 2.24s\tremaining: 4.62s\n",
            "326:\ttotal: 2.24s\tremaining: 4.62s\n",
            "327:\ttotal: 2.25s\tremaining: 4.61s\n",
            "328:\ttotal: 2.26s\tremaining: 4.6s\n",
            "329:\ttotal: 2.26s\tremaining: 4.59s\n",
            "330:\ttotal: 2.27s\tremaining: 4.59s\n",
            "331:\ttotal: 2.27s\tremaining: 4.58s\n",
            "332:\ttotal: 2.28s\tremaining: 4.57s\n",
            "333:\ttotal: 2.29s\tremaining: 4.57s\n",
            "334:\ttotal: 2.3s\tremaining: 4.56s\n",
            "335:\ttotal: 2.3s\tremaining: 4.55s\n",
            "336:\ttotal: 2.31s\tremaining: 4.54s\n",
            "337:\ttotal: 2.32s\tremaining: 4.54s\n",
            "338:\ttotal: 2.32s\tremaining: 4.53s\n",
            "339:\ttotal: 2.33s\tremaining: 4.52s\n",
            "340:\ttotal: 2.34s\tremaining: 4.51s\n",
            "341:\ttotal: 2.34s\tremaining: 4.51s\n",
            "342:\ttotal: 2.35s\tremaining: 4.5s\n",
            "343:\ttotal: 2.35s\tremaining: 4.49s\n",
            "344:\ttotal: 2.36s\tremaining: 4.49s\n",
            "345:\ttotal: 2.37s\tremaining: 4.48s\n",
            "346:\ttotal: 2.38s\tremaining: 4.47s\n",
            "347:\ttotal: 2.38s\tremaining: 4.46s\n",
            "348:\ttotal: 2.39s\tremaining: 4.46s\n",
            "349:\ttotal: 2.39s\tremaining: 4.45s\n",
            "350:\ttotal: 2.4s\tremaining: 4.44s\n",
            "351:\ttotal: 2.41s\tremaining: 4.43s\n",
            "352:\ttotal: 2.42s\tremaining: 4.43s\n",
            "353:\ttotal: 2.42s\tremaining: 4.42s\n",
            "354:\ttotal: 2.43s\tremaining: 4.42s\n",
            "355:\ttotal: 2.44s\tremaining: 4.41s\n",
            "356:\ttotal: 2.45s\tremaining: 4.41s\n",
            "357:\ttotal: 2.45s\tremaining: 4.4s\n",
            "358:\ttotal: 2.46s\tremaining: 4.39s\n",
            "359:\ttotal: 2.47s\tremaining: 4.38s\n",
            "360:\ttotal: 2.47s\tremaining: 4.38s\n",
            "361:\ttotal: 2.48s\tremaining: 4.37s\n",
            "362:\ttotal: 2.48s\tremaining: 4.36s\n",
            "363:\ttotal: 2.49s\tremaining: 4.36s\n",
            "364:\ttotal: 2.5s\tremaining: 4.35s\n",
            "365:\ttotal: 2.51s\tremaining: 4.34s\n",
            "366:\ttotal: 2.51s\tremaining: 4.33s\n",
            "367:\ttotal: 2.52s\tremaining: 4.33s\n",
            "368:\ttotal: 2.52s\tremaining: 4.32s\n",
            "369:\ttotal: 2.53s\tremaining: 4.31s\n",
            "370:\ttotal: 2.54s\tremaining: 4.3s\n",
            "371:\ttotal: 2.54s\tremaining: 4.29s\n",
            "372:\ttotal: 2.55s\tremaining: 4.29s\n",
            "373:\ttotal: 2.56s\tremaining: 4.28s\n",
            "374:\ttotal: 2.56s\tremaining: 4.27s\n",
            "375:\ttotal: 2.57s\tremaining: 4.26s\n",
            "376:\ttotal: 2.58s\tremaining: 4.25s\n",
            "377:\ttotal: 2.58s\tremaining: 4.25s\n",
            "378:\ttotal: 2.59s\tremaining: 4.24s\n",
            "379:\ttotal: 2.59s\tremaining: 4.23s\n",
            "380:\ttotal: 2.6s\tremaining: 4.23s\n",
            "381:\ttotal: 2.61s\tremaining: 4.22s\n",
            "382:\ttotal: 2.61s\tremaining: 4.21s\n",
            "383:\ttotal: 2.62s\tremaining: 4.21s\n",
            "384:\ttotal: 2.63s\tremaining: 4.2s\n",
            "385:\ttotal: 2.63s\tremaining: 4.19s\n",
            "386:\ttotal: 2.64s\tremaining: 4.19s\n",
            "387:\ttotal: 2.65s\tremaining: 4.18s\n",
            "388:\ttotal: 2.65s\tremaining: 4.17s\n",
            "389:\ttotal: 2.66s\tremaining: 4.17s\n",
            "390:\ttotal: 2.67s\tremaining: 4.16s\n",
            "391:\ttotal: 2.67s\tremaining: 4.15s\n",
            "392:\ttotal: 2.68s\tremaining: 4.14s\n",
            "393:\ttotal: 2.69s\tremaining: 4.13s\n",
            "394:\ttotal: 2.7s\tremaining: 4.13s\n",
            "395:\ttotal: 2.71s\tremaining: 4.13s\n",
            "396:\ttotal: 2.71s\tremaining: 4.12s\n",
            "397:\ttotal: 2.72s\tremaining: 4.11s\n",
            "398:\ttotal: 2.73s\tremaining: 4.11s\n",
            "399:\ttotal: 2.73s\tremaining: 4.1s\n",
            "400:\ttotal: 2.74s\tremaining: 4.09s\n",
            "401:\ttotal: 2.74s\tremaining: 4.08s\n",
            "402:\ttotal: 2.75s\tremaining: 4.07s\n",
            "403:\ttotal: 2.76s\tremaining: 4.07s\n",
            "404:\ttotal: 2.76s\tremaining: 4.06s\n",
            "405:\ttotal: 2.77s\tremaining: 4.05s\n",
            "406:\ttotal: 2.77s\tremaining: 4.04s\n",
            "407:\ttotal: 2.78s\tremaining: 4.04s\n",
            "408:\ttotal: 2.79s\tremaining: 4.03s\n",
            "409:\ttotal: 2.79s\tremaining: 4.02s\n",
            "410:\ttotal: 2.8s\tremaining: 4.01s\n",
            "411:\ttotal: 2.81s\tremaining: 4.01s\n",
            "412:\ttotal: 2.81s\tremaining: 4s\n",
            "413:\ttotal: 2.82s\tremaining: 3.99s\n",
            "414:\ttotal: 2.83s\tremaining: 3.99s\n",
            "415:\ttotal: 2.83s\tremaining: 3.98s\n",
            "416:\ttotal: 2.84s\tremaining: 3.97s\n",
            "417:\ttotal: 2.85s\tremaining: 3.97s\n",
            "418:\ttotal: 2.85s\tremaining: 3.96s\n",
            "419:\ttotal: 2.86s\tremaining: 3.95s\n",
            "420:\ttotal: 2.87s\tremaining: 3.94s\n",
            "421:\ttotal: 2.88s\tremaining: 3.94s\n",
            "422:\ttotal: 2.88s\tremaining: 3.93s\n",
            "423:\ttotal: 2.89s\tremaining: 3.92s\n",
            "424:\ttotal: 2.89s\tremaining: 3.92s\n",
            "425:\ttotal: 2.9s\tremaining: 3.91s\n",
            "426:\ttotal: 2.91s\tremaining: 3.9s\n",
            "427:\ttotal: 2.91s\tremaining: 3.89s\n",
            "428:\ttotal: 2.92s\tremaining: 3.88s\n",
            "429:\ttotal: 2.92s\tremaining: 3.88s\n",
            "430:\ttotal: 2.93s\tremaining: 3.87s\n",
            "431:\ttotal: 2.94s\tremaining: 3.86s\n",
            "432:\ttotal: 2.94s\tremaining: 3.85s\n",
            "433:\ttotal: 2.95s\tremaining: 3.85s\n",
            "434:\ttotal: 2.96s\tremaining: 3.84s\n",
            "435:\ttotal: 2.96s\tremaining: 3.83s\n",
            "436:\ttotal: 2.97s\tremaining: 3.83s\n",
            "437:\ttotal: 2.98s\tremaining: 3.82s\n",
            "438:\ttotal: 2.98s\tremaining: 3.81s\n",
            "439:\ttotal: 2.99s\tremaining: 3.8s\n",
            "440:\ttotal: 2.99s\tremaining: 3.8s\n",
            "441:\ttotal: 3s\tremaining: 3.79s\n",
            "442:\ttotal: 3.01s\tremaining: 3.78s\n",
            "443:\ttotal: 3.01s\tremaining: 3.77s\n",
            "444:\ttotal: 3.02s\tremaining: 3.77s\n",
            "445:\ttotal: 3.03s\tremaining: 3.77s\n",
            "446:\ttotal: 3.04s\tremaining: 3.76s\n",
            "447:\ttotal: 3.05s\tremaining: 3.75s\n",
            "448:\ttotal: 3.05s\tremaining: 3.75s\n",
            "449:\ttotal: 3.06s\tremaining: 3.74s\n",
            "450:\ttotal: 3.07s\tremaining: 3.73s\n",
            "451:\ttotal: 3.07s\tremaining: 3.73s\n",
            "452:\ttotal: 3.08s\tremaining: 3.72s\n",
            "453:\ttotal: 3.08s\tremaining: 3.71s\n",
            "454:\ttotal: 3.09s\tremaining: 3.7s\n",
            "455:\ttotal: 3.1s\tremaining: 3.69s\n",
            "456:\ttotal: 3.1s\tremaining: 3.69s\n",
            "457:\ttotal: 3.11s\tremaining: 3.68s\n",
            "458:\ttotal: 3.12s\tremaining: 3.67s\n",
            "459:\ttotal: 3.12s\tremaining: 3.66s\n",
            "460:\ttotal: 3.13s\tremaining: 3.66s\n",
            "461:\ttotal: 3.13s\tremaining: 3.65s\n",
            "462:\ttotal: 3.14s\tremaining: 3.64s\n",
            "463:\ttotal: 3.15s\tremaining: 3.63s\n",
            "464:\ttotal: 3.15s\tremaining: 3.63s\n",
            "465:\ttotal: 3.16s\tremaining: 3.62s\n",
            "466:\ttotal: 3.17s\tremaining: 3.61s\n",
            "467:\ttotal: 3.17s\tremaining: 3.61s\n",
            "468:\ttotal: 3.18s\tremaining: 3.6s\n",
            "469:\ttotal: 3.19s\tremaining: 3.59s\n",
            "470:\ttotal: 3.19s\tremaining: 3.58s\n",
            "471:\ttotal: 3.2s\tremaining: 3.58s\n",
            "472:\ttotal: 3.2s\tremaining: 3.57s\n",
            "473:\ttotal: 3.21s\tremaining: 3.56s\n",
            "474:\ttotal: 3.22s\tremaining: 3.56s\n",
            "475:\ttotal: 3.23s\tremaining: 3.55s\n",
            "476:\ttotal: 3.23s\tremaining: 3.54s\n",
            "477:\ttotal: 3.24s\tremaining: 3.54s\n",
            "478:\ttotal: 3.25s\tremaining: 3.53s\n",
            "479:\ttotal: 3.25s\tremaining: 3.52s\n",
            "480:\ttotal: 3.26s\tremaining: 3.52s\n",
            "481:\ttotal: 3.27s\tremaining: 3.51s\n",
            "482:\ttotal: 3.27s\tremaining: 3.5s\n",
            "483:\ttotal: 3.28s\tremaining: 3.49s\n",
            "484:\ttotal: 3.28s\tremaining: 3.49s\n",
            "485:\ttotal: 3.29s\tremaining: 3.48s\n",
            "486:\ttotal: 3.3s\tremaining: 3.47s\n",
            "487:\ttotal: 3.31s\tremaining: 3.47s\n",
            "488:\ttotal: 3.31s\tremaining: 3.46s\n",
            "489:\ttotal: 3.32s\tremaining: 3.45s\n",
            "490:\ttotal: 3.33s\tremaining: 3.45s\n",
            "491:\ttotal: 3.34s\tremaining: 3.45s\n",
            "492:\ttotal: 3.35s\tremaining: 3.44s\n",
            "493:\ttotal: 3.36s\tremaining: 3.44s\n",
            "494:\ttotal: 3.36s\tremaining: 3.43s\n",
            "495:\ttotal: 3.37s\tremaining: 3.42s\n",
            "496:\ttotal: 3.38s\tremaining: 3.42s\n",
            "497:\ttotal: 3.38s\tremaining: 3.41s\n",
            "498:\ttotal: 3.39s\tremaining: 3.4s\n",
            "499:\ttotal: 3.4s\tremaining: 3.4s\n",
            "500:\ttotal: 3.4s\tremaining: 3.39s\n"
          ]
        },
        {
          "name": "stdout",
          "output_type": "stream",
          "text": [
            "501:\ttotal: 3.41s\tremaining: 3.38s\n",
            "502:\ttotal: 3.42s\tremaining: 3.38s\n",
            "503:\ttotal: 3.42s\tremaining: 3.37s\n",
            "504:\ttotal: 3.43s\tremaining: 3.36s\n",
            "505:\ttotal: 3.44s\tremaining: 3.35s\n",
            "506:\ttotal: 3.44s\tremaining: 3.35s\n",
            "507:\ttotal: 3.46s\tremaining: 3.35s\n",
            "508:\ttotal: 3.46s\tremaining: 3.34s\n",
            "509:\ttotal: 3.47s\tremaining: 3.33s\n",
            "510:\ttotal: 3.48s\tremaining: 3.33s\n",
            "511:\ttotal: 3.48s\tremaining: 3.32s\n",
            "512:\ttotal: 3.49s\tremaining: 3.31s\n",
            "513:\ttotal: 3.5s\tremaining: 3.31s\n",
            "514:\ttotal: 3.5s\tremaining: 3.3s\n",
            "515:\ttotal: 3.51s\tremaining: 3.29s\n",
            "516:\ttotal: 3.52s\tremaining: 3.28s\n",
            "517:\ttotal: 3.52s\tremaining: 3.28s\n",
            "518:\ttotal: 3.53s\tremaining: 3.27s\n",
            "519:\ttotal: 3.54s\tremaining: 3.26s\n",
            "520:\ttotal: 3.54s\tremaining: 3.26s\n",
            "521:\ttotal: 3.55s\tremaining: 3.25s\n",
            "522:\ttotal: 3.56s\tremaining: 3.24s\n",
            "523:\ttotal: 3.56s\tremaining: 3.23s\n",
            "524:\ttotal: 3.57s\tremaining: 3.23s\n",
            "525:\ttotal: 3.57s\tremaining: 3.22s\n",
            "526:\ttotal: 3.58s\tremaining: 3.21s\n",
            "527:\ttotal: 3.59s\tremaining: 3.21s\n",
            "528:\ttotal: 3.59s\tremaining: 3.2s\n",
            "529:\ttotal: 3.6s\tremaining: 3.19s\n",
            "530:\ttotal: 3.61s\tremaining: 3.19s\n",
            "531:\ttotal: 3.62s\tremaining: 3.18s\n",
            "532:\ttotal: 3.62s\tremaining: 3.17s\n",
            "533:\ttotal: 3.63s\tremaining: 3.17s\n",
            "534:\ttotal: 3.64s\tremaining: 3.16s\n",
            "535:\ttotal: 3.65s\tremaining: 3.15s\n",
            "536:\ttotal: 3.65s\tremaining: 3.15s\n",
            "537:\ttotal: 3.66s\tremaining: 3.14s\n",
            "538:\ttotal: 3.66s\tremaining: 3.13s\n",
            "539:\ttotal: 3.67s\tremaining: 3.13s\n",
            "540:\ttotal: 3.68s\tremaining: 3.12s\n",
            "541:\ttotal: 3.68s\tremaining: 3.11s\n",
            "542:\ttotal: 3.69s\tremaining: 3.1s\n",
            "543:\ttotal: 3.69s\tremaining: 3.1s\n",
            "544:\ttotal: 3.7s\tremaining: 3.09s\n",
            "545:\ttotal: 3.71s\tremaining: 3.08s\n",
            "546:\ttotal: 3.71s\tremaining: 3.08s\n",
            "547:\ttotal: 3.72s\tremaining: 3.07s\n",
            "548:\ttotal: 3.73s\tremaining: 3.06s\n",
            "549:\ttotal: 3.73s\tremaining: 3.05s\n",
            "550:\ttotal: 3.74s\tremaining: 3.05s\n",
            "551:\ttotal: 3.74s\tremaining: 3.04s\n",
            "552:\ttotal: 3.75s\tremaining: 3.03s\n",
            "553:\ttotal: 3.76s\tremaining: 3.02s\n",
            "554:\ttotal: 3.76s\tremaining: 3.02s\n",
            "555:\ttotal: 3.77s\tremaining: 3.01s\n",
            "556:\ttotal: 3.77s\tremaining: 3s\n",
            "557:\ttotal: 3.78s\tremaining: 3s\n",
            "558:\ttotal: 3.79s\tremaining: 2.99s\n",
            "559:\ttotal: 3.79s\tremaining: 2.98s\n",
            "560:\ttotal: 3.8s\tremaining: 2.97s\n",
            "561:\ttotal: 3.81s\tremaining: 2.97s\n",
            "562:\ttotal: 3.81s\tremaining: 2.96s\n",
            "563:\ttotal: 3.82s\tremaining: 2.95s\n",
            "564:\ttotal: 3.83s\tremaining: 2.95s\n",
            "565:\ttotal: 3.83s\tremaining: 2.94s\n",
            "566:\ttotal: 3.84s\tremaining: 2.93s\n",
            "567:\ttotal: 3.85s\tremaining: 2.93s\n",
            "568:\ttotal: 3.85s\tremaining: 2.92s\n",
            "569:\ttotal: 3.86s\tremaining: 2.91s\n",
            "570:\ttotal: 3.87s\tremaining: 2.9s\n",
            "571:\ttotal: 3.87s\tremaining: 2.9s\n",
            "572:\ttotal: 3.88s\tremaining: 2.89s\n",
            "573:\ttotal: 3.89s\tremaining: 2.88s\n",
            "574:\ttotal: 3.89s\tremaining: 2.88s\n",
            "575:\ttotal: 3.9s\tremaining: 2.87s\n",
            "576:\ttotal: 3.91s\tremaining: 2.86s\n",
            "577:\ttotal: 3.91s\tremaining: 2.86s\n",
            "578:\ttotal: 3.92s\tremaining: 2.85s\n",
            "579:\ttotal: 3.92s\tremaining: 2.84s\n",
            "580:\ttotal: 3.93s\tremaining: 2.83s\n",
            "581:\ttotal: 3.94s\tremaining: 2.83s\n",
            "582:\ttotal: 3.94s\tremaining: 2.82s\n",
            "583:\ttotal: 3.95s\tremaining: 2.81s\n",
            "584:\ttotal: 3.96s\tremaining: 2.81s\n",
            "585:\ttotal: 3.96s\tremaining: 2.8s\n",
            "586:\ttotal: 3.97s\tremaining: 2.79s\n",
            "587:\ttotal: 3.98s\tremaining: 2.79s\n",
            "588:\ttotal: 3.98s\tremaining: 2.78s\n",
            "589:\ttotal: 3.99s\tremaining: 2.77s\n",
            "590:\ttotal: 4s\tremaining: 2.77s\n",
            "591:\ttotal: 4s\tremaining: 2.76s\n",
            "592:\ttotal: 4.01s\tremaining: 2.75s\n",
            "593:\ttotal: 4.02s\tremaining: 2.75s\n",
            "594:\ttotal: 4.03s\tremaining: 2.74s\n",
            "595:\ttotal: 4.03s\tremaining: 2.73s\n",
            "596:\ttotal: 4.04s\tremaining: 2.73s\n",
            "597:\ttotal: 4.05s\tremaining: 2.72s\n",
            "598:\ttotal: 4.05s\tremaining: 2.71s\n",
            "599:\ttotal: 4.06s\tremaining: 2.71s\n",
            "600:\ttotal: 4.07s\tremaining: 2.7s\n",
            "601:\ttotal: 4.07s\tremaining: 2.69s\n",
            "602:\ttotal: 4.08s\tremaining: 2.69s\n",
            "603:\ttotal: 4.09s\tremaining: 2.68s\n",
            "604:\ttotal: 4.09s\tremaining: 2.67s\n",
            "605:\ttotal: 4.1s\tremaining: 2.67s\n",
            "606:\ttotal: 4.11s\tremaining: 2.66s\n",
            "607:\ttotal: 4.11s\tremaining: 2.65s\n",
            "608:\ttotal: 4.12s\tremaining: 2.65s\n",
            "609:\ttotal: 4.13s\tremaining: 2.64s\n",
            "610:\ttotal: 4.13s\tremaining: 2.63s\n",
            "611:\ttotal: 4.14s\tremaining: 2.62s\n",
            "612:\ttotal: 4.15s\tremaining: 2.62s\n",
            "613:\ttotal: 4.15s\tremaining: 2.61s\n",
            "614:\ttotal: 4.16s\tremaining: 2.6s\n",
            "615:\ttotal: 4.17s\tremaining: 2.6s\n",
            "616:\ttotal: 4.17s\tremaining: 2.59s\n",
            "617:\ttotal: 4.18s\tremaining: 2.58s\n",
            "618:\ttotal: 4.18s\tremaining: 2.58s\n",
            "619:\ttotal: 4.19s\tremaining: 2.57s\n",
            "620:\ttotal: 4.2s\tremaining: 2.56s\n",
            "621:\ttotal: 4.2s\tremaining: 2.55s\n",
            "622:\ttotal: 4.21s\tremaining: 2.55s\n",
            "623:\ttotal: 4.22s\tremaining: 2.54s\n",
            "624:\ttotal: 4.23s\tremaining: 2.54s\n",
            "625:\ttotal: 4.23s\tremaining: 2.53s\n",
            "626:\ttotal: 4.24s\tremaining: 2.52s\n",
            "627:\ttotal: 4.25s\tremaining: 2.52s\n",
            "628:\ttotal: 4.25s\tremaining: 2.51s\n",
            "629:\ttotal: 4.26s\tremaining: 2.5s\n",
            "630:\ttotal: 4.26s\tremaining: 2.49s\n",
            "631:\ttotal: 4.27s\tremaining: 2.49s\n",
            "632:\ttotal: 4.28s\tremaining: 2.48s\n",
            "633:\ttotal: 4.28s\tremaining: 2.47s\n",
            "634:\ttotal: 4.29s\tremaining: 2.47s\n",
            "635:\ttotal: 4.3s\tremaining: 2.46s\n",
            "636:\ttotal: 4.3s\tremaining: 2.45s\n",
            "637:\ttotal: 4.31s\tremaining: 2.44s\n",
            "638:\ttotal: 4.32s\tremaining: 2.44s\n",
            "639:\ttotal: 4.32s\tremaining: 2.43s\n",
            "640:\ttotal: 4.33s\tremaining: 2.42s\n",
            "641:\ttotal: 4.33s\tremaining: 2.42s\n",
            "642:\ttotal: 4.34s\tremaining: 2.41s\n",
            "643:\ttotal: 4.35s\tremaining: 2.4s\n",
            "644:\ttotal: 4.35s\tremaining: 2.4s\n",
            "645:\ttotal: 4.36s\tremaining: 2.39s\n",
            "646:\ttotal: 4.36s\tremaining: 2.38s\n",
            "647:\ttotal: 4.37s\tremaining: 2.37s\n",
            "648:\ttotal: 4.38s\tremaining: 2.37s\n",
            "649:\ttotal: 4.38s\tremaining: 2.36s\n",
            "650:\ttotal: 4.39s\tremaining: 2.35s\n",
            "651:\ttotal: 4.39s\tremaining: 2.35s\n",
            "652:\ttotal: 4.4s\tremaining: 2.34s\n",
            "653:\ttotal: 4.41s\tremaining: 2.33s\n",
            "654:\ttotal: 4.42s\tremaining: 2.33s\n",
            "655:\ttotal: 4.42s\tremaining: 2.32s\n",
            "656:\ttotal: 4.43s\tremaining: 2.31s\n",
            "657:\ttotal: 4.44s\tremaining: 2.31s\n",
            "658:\ttotal: 4.45s\tremaining: 2.3s\n",
            "659:\ttotal: 4.45s\tremaining: 2.29s\n",
            "660:\ttotal: 4.46s\tremaining: 2.29s\n",
            "661:\ttotal: 4.46s\tremaining: 2.28s\n",
            "662:\ttotal: 4.47s\tremaining: 2.27s\n",
            "663:\ttotal: 4.48s\tremaining: 2.27s\n",
            "664:\ttotal: 4.49s\tremaining: 2.26s\n",
            "665:\ttotal: 4.49s\tremaining: 2.25s\n",
            "666:\ttotal: 4.5s\tremaining: 2.25s\n",
            "667:\ttotal: 4.5s\tremaining: 2.24s\n",
            "668:\ttotal: 4.51s\tremaining: 2.23s\n",
            "669:\ttotal: 4.52s\tremaining: 2.23s\n",
            "670:\ttotal: 4.53s\tremaining: 2.22s\n",
            "671:\ttotal: 4.54s\tremaining: 2.21s\n",
            "672:\ttotal: 4.54s\tremaining: 2.21s\n",
            "673:\ttotal: 4.55s\tremaining: 2.2s\n",
            "674:\ttotal: 4.55s\tremaining: 2.19s\n",
            "675:\ttotal: 4.56s\tremaining: 2.19s\n",
            "676:\ttotal: 4.57s\tremaining: 2.18s\n",
            "677:\ttotal: 4.58s\tremaining: 2.17s\n",
            "678:\ttotal: 4.58s\tremaining: 2.17s\n",
            "679:\ttotal: 4.59s\tremaining: 2.16s\n",
            "680:\ttotal: 4.59s\tremaining: 2.15s\n",
            "681:\ttotal: 4.6s\tremaining: 2.15s\n",
            "682:\ttotal: 4.61s\tremaining: 2.14s\n",
            "683:\ttotal: 4.61s\tremaining: 2.13s\n",
            "684:\ttotal: 4.62s\tremaining: 2.13s\n",
            "685:\ttotal: 4.63s\tremaining: 2.12s\n",
            "686:\ttotal: 4.64s\tremaining: 2.11s\n",
            "687:\ttotal: 4.64s\tremaining: 2.11s\n",
            "688:\ttotal: 4.65s\tremaining: 2.1s\n",
            "689:\ttotal: 4.66s\tremaining: 2.09s\n",
            "690:\ttotal: 4.67s\tremaining: 2.09s\n",
            "691:\ttotal: 4.67s\tremaining: 2.08s\n",
            "692:\ttotal: 4.68s\tremaining: 2.07s\n",
            "693:\ttotal: 4.68s\tremaining: 2.07s\n",
            "694:\ttotal: 4.69s\tremaining: 2.06s\n",
            "695:\ttotal: 4.7s\tremaining: 2.05s\n",
            "696:\ttotal: 4.71s\tremaining: 2.04s\n",
            "697:\ttotal: 4.71s\tremaining: 2.04s\n",
            "698:\ttotal: 4.72s\tremaining: 2.03s\n",
            "699:\ttotal: 4.72s\tremaining: 2.02s\n",
            "700:\ttotal: 4.73s\tremaining: 2.02s\n",
            "701:\ttotal: 4.74s\tremaining: 2.01s\n",
            "702:\ttotal: 4.74s\tremaining: 2s\n",
            "703:\ttotal: 4.75s\tremaining: 2s\n",
            "704:\ttotal: 4.76s\tremaining: 1.99s\n",
            "705:\ttotal: 4.76s\tremaining: 1.98s\n",
            "706:\ttotal: 4.77s\tremaining: 1.98s\n",
            "707:\ttotal: 4.78s\tremaining: 1.97s\n",
            "708:\ttotal: 4.79s\tremaining: 1.96s\n",
            "709:\ttotal: 4.79s\tremaining: 1.96s\n",
            "710:\ttotal: 4.8s\tremaining: 1.95s\n",
            "711:\ttotal: 4.81s\tremaining: 1.94s\n",
            "712:\ttotal: 4.81s\tremaining: 1.94s\n",
            "713:\ttotal: 4.82s\tremaining: 1.93s\n",
            "714:\ttotal: 4.83s\tremaining: 1.92s\n",
            "715:\ttotal: 4.83s\tremaining: 1.92s\n",
            "716:\ttotal: 4.84s\tremaining: 1.91s\n",
            "717:\ttotal: 4.85s\tremaining: 1.91s\n",
            "718:\ttotal: 4.86s\tremaining: 1.9s\n",
            "719:\ttotal: 4.86s\tremaining: 1.89s\n",
            "720:\ttotal: 4.87s\tremaining: 1.88s\n",
            "721:\ttotal: 4.88s\tremaining: 1.88s\n",
            "722:\ttotal: 4.88s\tremaining: 1.87s\n",
            "723:\ttotal: 4.89s\tremaining: 1.86s\n",
            "724:\ttotal: 4.89s\tremaining: 1.86s\n",
            "725:\ttotal: 4.9s\tremaining: 1.85s\n",
            "726:\ttotal: 4.91s\tremaining: 1.84s\n",
            "727:\ttotal: 4.92s\tremaining: 1.84s\n",
            "728:\ttotal: 4.92s\tremaining: 1.83s\n",
            "729:\ttotal: 4.93s\tremaining: 1.82s\n",
            "730:\ttotal: 4.94s\tremaining: 1.82s\n",
            "731:\ttotal: 4.95s\tremaining: 1.81s\n",
            "732:\ttotal: 4.95s\tremaining: 1.8s\n",
            "733:\ttotal: 4.96s\tremaining: 1.8s\n",
            "734:\ttotal: 4.96s\tremaining: 1.79s\n",
            "735:\ttotal: 4.97s\tremaining: 1.78s\n",
            "736:\ttotal: 4.98s\tremaining: 1.78s\n",
            "737:\ttotal: 4.98s\tremaining: 1.77s\n",
            "738:\ttotal: 4.99s\tremaining: 1.76s\n",
            "739:\ttotal: 5s\tremaining: 1.75s\n",
            "740:\ttotal: 5s\tremaining: 1.75s\n"
          ]
        },
        {
          "name": "stdout",
          "output_type": "stream",
          "text": [
            "741:\ttotal: 5.01s\tremaining: 1.74s\n",
            "742:\ttotal: 5.02s\tremaining: 1.74s\n",
            "743:\ttotal: 5.03s\tremaining: 1.73s\n",
            "744:\ttotal: 5.04s\tremaining: 1.72s\n",
            "745:\ttotal: 5.04s\tremaining: 1.72s\n",
            "746:\ttotal: 5.05s\tremaining: 1.71s\n",
            "747:\ttotal: 5.06s\tremaining: 1.7s\n",
            "748:\ttotal: 5.06s\tremaining: 1.7s\n",
            "749:\ttotal: 5.07s\tremaining: 1.69s\n",
            "750:\ttotal: 5.08s\tremaining: 1.68s\n",
            "751:\ttotal: 5.08s\tremaining: 1.68s\n",
            "752:\ttotal: 5.09s\tremaining: 1.67s\n",
            "753:\ttotal: 5.1s\tremaining: 1.66s\n",
            "754:\ttotal: 5.1s\tremaining: 1.66s\n",
            "755:\ttotal: 5.11s\tremaining: 1.65s\n",
            "756:\ttotal: 5.12s\tremaining: 1.64s\n",
            "757:\ttotal: 5.13s\tremaining: 1.64s\n",
            "758:\ttotal: 5.13s\tremaining: 1.63s\n",
            "759:\ttotal: 5.14s\tremaining: 1.62s\n",
            "760:\ttotal: 5.15s\tremaining: 1.62s\n",
            "761:\ttotal: 5.15s\tremaining: 1.61s\n",
            "762:\ttotal: 5.16s\tremaining: 1.6s\n",
            "763:\ttotal: 5.16s\tremaining: 1.59s\n",
            "764:\ttotal: 5.17s\tremaining: 1.59s\n",
            "765:\ttotal: 5.18s\tremaining: 1.58s\n",
            "766:\ttotal: 5.18s\tremaining: 1.57s\n",
            "767:\ttotal: 5.19s\tremaining: 1.57s\n",
            "768:\ttotal: 5.2s\tremaining: 1.56s\n",
            "769:\ttotal: 5.2s\tremaining: 1.55s\n",
            "770:\ttotal: 5.21s\tremaining: 1.55s\n",
            "771:\ttotal: 5.22s\tremaining: 1.54s\n",
            "772:\ttotal: 5.23s\tremaining: 1.53s\n",
            "773:\ttotal: 5.23s\tremaining: 1.53s\n",
            "774:\ttotal: 5.24s\tremaining: 1.52s\n",
            "775:\ttotal: 5.25s\tremaining: 1.51s\n",
            "776:\ttotal: 5.25s\tremaining: 1.51s\n",
            "777:\ttotal: 5.26s\tremaining: 1.5s\n",
            "778:\ttotal: 5.27s\tremaining: 1.49s\n",
            "779:\ttotal: 5.27s\tremaining: 1.49s\n",
            "780:\ttotal: 5.28s\tremaining: 1.48s\n",
            "781:\ttotal: 5.29s\tremaining: 1.47s\n",
            "782:\ttotal: 5.29s\tremaining: 1.47s\n",
            "783:\ttotal: 5.3s\tremaining: 1.46s\n",
            "784:\ttotal: 5.31s\tremaining: 1.45s\n",
            "785:\ttotal: 5.32s\tremaining: 1.45s\n",
            "786:\ttotal: 5.32s\tremaining: 1.44s\n",
            "787:\ttotal: 5.33s\tremaining: 1.43s\n",
            "788:\ttotal: 5.34s\tremaining: 1.43s\n",
            "789:\ttotal: 5.35s\tremaining: 1.42s\n",
            "790:\ttotal: 5.35s\tremaining: 1.41s\n",
            "791:\ttotal: 5.36s\tremaining: 1.41s\n",
            "792:\ttotal: 5.37s\tremaining: 1.4s\n",
            "793:\ttotal: 5.38s\tremaining: 1.39s\n",
            "794:\ttotal: 5.38s\tremaining: 1.39s\n",
            "795:\ttotal: 5.39s\tremaining: 1.38s\n",
            "796:\ttotal: 5.39s\tremaining: 1.37s\n",
            "797:\ttotal: 5.4s\tremaining: 1.37s\n",
            "798:\ttotal: 5.41s\tremaining: 1.36s\n",
            "799:\ttotal: 5.42s\tremaining: 1.35s\n",
            "800:\ttotal: 5.42s\tremaining: 1.35s\n",
            "801:\ttotal: 5.43s\tremaining: 1.34s\n",
            "802:\ttotal: 5.44s\tremaining: 1.33s\n",
            "803:\ttotal: 5.44s\tremaining: 1.33s\n",
            "804:\ttotal: 5.45s\tremaining: 1.32s\n",
            "805:\ttotal: 5.46s\tremaining: 1.31s\n",
            "806:\ttotal: 5.46s\tremaining: 1.31s\n",
            "807:\ttotal: 5.47s\tremaining: 1.3s\n",
            "808:\ttotal: 5.48s\tremaining: 1.29s\n",
            "809:\ttotal: 5.49s\tremaining: 1.29s\n",
            "810:\ttotal: 5.49s\tremaining: 1.28s\n",
            "811:\ttotal: 5.5s\tremaining: 1.27s\n",
            "812:\ttotal: 5.51s\tremaining: 1.27s\n",
            "813:\ttotal: 5.51s\tremaining: 1.26s\n",
            "814:\ttotal: 5.52s\tremaining: 1.25s\n",
            "815:\ttotal: 5.52s\tremaining: 1.25s\n",
            "816:\ttotal: 5.53s\tremaining: 1.24s\n",
            "817:\ttotal: 5.54s\tremaining: 1.23s\n",
            "818:\ttotal: 5.54s\tremaining: 1.23s\n",
            "819:\ttotal: 5.55s\tremaining: 1.22s\n",
            "820:\ttotal: 5.56s\tremaining: 1.21s\n",
            "821:\ttotal: 5.57s\tremaining: 1.21s\n",
            "822:\ttotal: 5.57s\tremaining: 1.2s\n",
            "823:\ttotal: 5.58s\tremaining: 1.19s\n",
            "824:\ttotal: 5.58s\tremaining: 1.18s\n",
            "825:\ttotal: 5.59s\tremaining: 1.18s\n",
            "826:\ttotal: 5.6s\tremaining: 1.17s\n",
            "827:\ttotal: 5.61s\tremaining: 1.16s\n",
            "828:\ttotal: 5.61s\tremaining: 1.16s\n",
            "829:\ttotal: 5.62s\tremaining: 1.15s\n",
            "830:\ttotal: 5.63s\tremaining: 1.15s\n",
            "831:\ttotal: 5.64s\tremaining: 1.14s\n",
            "832:\ttotal: 5.65s\tremaining: 1.13s\n",
            "833:\ttotal: 5.66s\tremaining: 1.13s\n",
            "834:\ttotal: 5.67s\tremaining: 1.12s\n",
            "835:\ttotal: 5.67s\tremaining: 1.11s\n",
            "836:\ttotal: 5.68s\tremaining: 1.1s\n",
            "837:\ttotal: 5.68s\tremaining: 1.1s\n",
            "838:\ttotal: 5.69s\tremaining: 1.09s\n",
            "839:\ttotal: 5.7s\tremaining: 1.08s\n",
            "840:\ttotal: 5.7s\tremaining: 1.08s\n",
            "841:\ttotal: 5.71s\tremaining: 1.07s\n",
            "842:\ttotal: 5.72s\tremaining: 1.06s\n",
            "843:\ttotal: 5.72s\tremaining: 1.06s\n",
            "844:\ttotal: 5.73s\tremaining: 1.05s\n",
            "845:\ttotal: 5.74s\tremaining: 1.04s\n",
            "846:\ttotal: 5.74s\tremaining: 1.04s\n",
            "847:\ttotal: 5.75s\tremaining: 1.03s\n",
            "848:\ttotal: 5.75s\tremaining: 1.02s\n",
            "849:\ttotal: 5.76s\tremaining: 1.02s\n",
            "850:\ttotal: 5.77s\tremaining: 1.01s\n",
            "851:\ttotal: 5.77s\tremaining: 1s\n",
            "852:\ttotal: 5.78s\tremaining: 996ms\n",
            "853:\ttotal: 5.79s\tremaining: 989ms\n",
            "854:\ttotal: 5.79s\tremaining: 983ms\n",
            "855:\ttotal: 5.8s\tremaining: 976ms\n",
            "856:\ttotal: 5.81s\tremaining: 969ms\n",
            "857:\ttotal: 5.82s\tremaining: 963ms\n",
            "858:\ttotal: 5.82s\tremaining: 956ms\n",
            "859:\ttotal: 5.83s\tremaining: 949ms\n",
            "860:\ttotal: 5.84s\tremaining: 943ms\n",
            "861:\ttotal: 5.85s\tremaining: 937ms\n",
            "862:\ttotal: 5.86s\tremaining: 930ms\n",
            "863:\ttotal: 5.87s\tremaining: 923ms\n",
            "864:\ttotal: 5.87s\tremaining: 916ms\n",
            "865:\ttotal: 5.88s\tremaining: 910ms\n",
            "866:\ttotal: 5.88s\tremaining: 903ms\n",
            "867:\ttotal: 5.89s\tremaining: 896ms\n",
            "868:\ttotal: 5.9s\tremaining: 889ms\n",
            "869:\ttotal: 5.91s\tremaining: 882ms\n",
            "870:\ttotal: 5.91s\tremaining: 876ms\n",
            "871:\ttotal: 5.92s\tremaining: 869ms\n",
            "872:\ttotal: 5.92s\tremaining: 862ms\n",
            "873:\ttotal: 5.93s\tremaining: 855ms\n",
            "874:\ttotal: 5.94s\tremaining: 848ms\n",
            "875:\ttotal: 5.95s\tremaining: 842ms\n",
            "876:\ttotal: 5.95s\tremaining: 835ms\n",
            "877:\ttotal: 5.96s\tremaining: 828ms\n",
            "878:\ttotal: 5.96s\tremaining: 821ms\n",
            "879:\ttotal: 5.97s\tremaining: 814ms\n",
            "880:\ttotal: 5.98s\tremaining: 808ms\n",
            "881:\ttotal: 5.99s\tremaining: 801ms\n",
            "882:\ttotal: 5.99s\tremaining: 794ms\n",
            "883:\ttotal: 6s\tremaining: 787ms\n",
            "884:\ttotal: 6.01s\tremaining: 781ms\n",
            "885:\ttotal: 6.01s\tremaining: 774ms\n",
            "886:\ttotal: 6.02s\tremaining: 767ms\n",
            "887:\ttotal: 6.03s\tremaining: 761ms\n",
            "888:\ttotal: 6.04s\tremaining: 754ms\n",
            "889:\ttotal: 6.04s\tremaining: 747ms\n",
            "890:\ttotal: 6.05s\tremaining: 740ms\n",
            "891:\ttotal: 6.06s\tremaining: 734ms\n",
            "892:\ttotal: 6.07s\tremaining: 727ms\n",
            "893:\ttotal: 6.07s\tremaining: 720ms\n",
            "894:\ttotal: 6.08s\tremaining: 713ms\n",
            "895:\ttotal: 6.09s\tremaining: 707ms\n",
            "896:\ttotal: 6.1s\tremaining: 700ms\n",
            "897:\ttotal: 6.11s\tremaining: 694ms\n",
            "898:\ttotal: 6.11s\tremaining: 687ms\n",
            "899:\ttotal: 6.12s\tremaining: 680ms\n",
            "900:\ttotal: 6.13s\tremaining: 673ms\n",
            "901:\ttotal: 6.13s\tremaining: 666ms\n",
            "902:\ttotal: 6.14s\tremaining: 660ms\n",
            "903:\ttotal: 6.15s\tremaining: 653ms\n",
            "904:\ttotal: 6.15s\tremaining: 646ms\n",
            "905:\ttotal: 6.16s\tremaining: 639ms\n",
            "906:\ttotal: 6.17s\tremaining: 633ms\n",
            "907:\ttotal: 6.17s\tremaining: 626ms\n",
            "908:\ttotal: 6.18s\tremaining: 619ms\n",
            "909:\ttotal: 6.19s\tremaining: 612ms\n",
            "910:\ttotal: 6.2s\tremaining: 605ms\n",
            "911:\ttotal: 6.2s\tremaining: 598ms\n",
            "912:\ttotal: 6.21s\tremaining: 592ms\n",
            "913:\ttotal: 6.22s\tremaining: 585ms\n",
            "914:\ttotal: 6.22s\tremaining: 578ms\n",
            "915:\ttotal: 6.23s\tremaining: 571ms\n",
            "916:\ttotal: 6.24s\tremaining: 565ms\n",
            "917:\ttotal: 6.25s\tremaining: 558ms\n",
            "918:\ttotal: 6.25s\tremaining: 551ms\n",
            "919:\ttotal: 6.26s\tremaining: 544ms\n",
            "920:\ttotal: 6.27s\tremaining: 538ms\n",
            "921:\ttotal: 6.27s\tremaining: 531ms\n",
            "922:\ttotal: 6.28s\tremaining: 524ms\n",
            "923:\ttotal: 6.29s\tremaining: 517ms\n",
            "924:\ttotal: 6.29s\tremaining: 510ms\n",
            "925:\ttotal: 6.3s\tremaining: 503ms\n",
            "926:\ttotal: 6.3s\tremaining: 497ms\n",
            "927:\ttotal: 6.31s\tremaining: 490ms\n",
            "928:\ttotal: 6.32s\tremaining: 483ms\n",
            "929:\ttotal: 6.32s\tremaining: 476ms\n",
            "930:\ttotal: 6.33s\tremaining: 469ms\n",
            "931:\ttotal: 6.34s\tremaining: 462ms\n",
            "932:\ttotal: 6.34s\tremaining: 456ms\n",
            "933:\ttotal: 6.35s\tremaining: 449ms\n",
            "934:\ttotal: 6.36s\tremaining: 442ms\n",
            "935:\ttotal: 6.36s\tremaining: 435ms\n",
            "936:\ttotal: 6.37s\tremaining: 428ms\n",
            "937:\ttotal: 6.37s\tremaining: 421ms\n",
            "938:\ttotal: 6.38s\tremaining: 414ms\n",
            "939:\ttotal: 6.39s\tremaining: 408ms\n",
            "940:\ttotal: 6.39s\tremaining: 401ms\n",
            "941:\ttotal: 6.4s\tremaining: 394ms\n",
            "942:\ttotal: 6.41s\tremaining: 387ms\n",
            "943:\ttotal: 6.41s\tremaining: 380ms\n",
            "944:\ttotal: 6.42s\tremaining: 374ms\n",
            "945:\ttotal: 6.43s\tremaining: 367ms\n",
            "946:\ttotal: 6.43s\tremaining: 360ms\n",
            "947:\ttotal: 6.44s\tremaining: 353ms\n",
            "948:\ttotal: 6.45s\tremaining: 347ms\n",
            "949:\ttotal: 6.45s\tremaining: 340ms\n",
            "950:\ttotal: 6.46s\tremaining: 333ms\n",
            "951:\ttotal: 6.47s\tremaining: 326ms\n",
            "952:\ttotal: 6.47s\tremaining: 319ms\n",
            "953:\ttotal: 6.48s\tremaining: 312ms\n",
            "954:\ttotal: 6.49s\tremaining: 306ms\n",
            "955:\ttotal: 6.49s\tremaining: 299ms\n",
            "956:\ttotal: 6.5s\tremaining: 292ms\n",
            "957:\ttotal: 6.51s\tremaining: 285ms\n",
            "958:\ttotal: 6.51s\tremaining: 278ms\n",
            "959:\ttotal: 6.52s\tremaining: 272ms\n",
            "960:\ttotal: 6.53s\tremaining: 265ms\n",
            "961:\ttotal: 6.54s\tremaining: 258ms\n",
            "962:\ttotal: 6.54s\tremaining: 251ms\n",
            "963:\ttotal: 6.55s\tremaining: 245ms\n",
            "964:\ttotal: 6.56s\tremaining: 238ms\n",
            "965:\ttotal: 6.57s\tremaining: 231ms\n",
            "966:\ttotal: 6.58s\tremaining: 224ms\n",
            "967:\ttotal: 6.58s\tremaining: 218ms\n",
            "968:\ttotal: 6.59s\tremaining: 211ms\n",
            "969:\ttotal: 6.6s\tremaining: 204ms\n",
            "970:\ttotal: 6.61s\tremaining: 197ms\n",
            "971:\ttotal: 6.62s\tremaining: 191ms\n",
            "972:\ttotal: 6.63s\tremaining: 184ms\n",
            "973:\ttotal: 6.64s\tremaining: 177ms\n",
            "974:\ttotal: 6.64s\tremaining: 170ms\n",
            "975:\ttotal: 6.65s\tremaining: 164ms\n",
            "976:\ttotal: 6.66s\tremaining: 157ms\n",
            "977:\ttotal: 6.67s\tremaining: 150ms\n",
            "978:\ttotal: 6.67s\tremaining: 143ms\n",
            "979:\ttotal: 6.68s\tremaining: 136ms\n",
            "980:\ttotal: 6.69s\tremaining: 130ms\n",
            "981:\ttotal: 6.7s\tremaining: 123ms\n",
            "982:\ttotal: 6.71s\tremaining: 116ms\n",
            "983:\ttotal: 6.71s\tremaining: 109ms\n",
            "984:\ttotal: 6.72s\tremaining: 102ms\n",
            "985:\ttotal: 6.73s\tremaining: 95.5ms\n",
            "986:\ttotal: 6.74s\tremaining: 88.7ms\n",
            "987:\ttotal: 6.74s\tremaining: 81.9ms\n",
            "988:\ttotal: 6.75s\tremaining: 75.1ms\n",
            "989:\ttotal: 6.76s\tremaining: 68.3ms\n",
            "990:\ttotal: 6.77s\tremaining: 61.5ms\n",
            "991:\ttotal: 6.77s\tremaining: 54.6ms\n",
            "992:\ttotal: 6.78s\tremaining: 47.8ms\n",
            "993:\ttotal: 6.79s\tremaining: 41ms\n",
            "994:\ttotal: 6.8s\tremaining: 34.2ms\n",
            "995:\ttotal: 6.8s\tremaining: 27.3ms\n",
            "996:\ttotal: 6.81s\tremaining: 20.5ms\n"
          ]
        },
        {
          "name": "stdout",
          "output_type": "stream",
          "text": [
            "997:\ttotal: 6.82s\tremaining: 13.7ms\n",
            "998:\ttotal: 6.83s\tremaining: 6.83ms\n",
            "999:\ttotal: 6.84s\tremaining: 0us\n"
          ]
        }
      ],
      "source": [
        "categorical_ft_base = ['SEX', 'EDUCATION', 'MARRIAGE']\n",
        "cat_model_base = CatBoostClassifier (random_state = 42, eval_metric = 'AUC')\n",
        "cat_model_base.fit(X_train, y_train, early_stopping_rounds = 100, cat_features = categorical_ft_base)\n",
        "pred_cat = cat_model_base.predict(X_test)"
      ]
    },
    {
      "cell_type": "code",
      "execution_count": null,
      "id": "eb0cf69b",
      "metadata": {
        "id": "eb0cf69b",
        "outputId": "c3b22487-815d-41b1-bf65-122e9d6ff839"
      },
      "outputs": [
        {
          "name": "stdout",
          "output_type": "stream",
          "text": [
            "Test Accuracy:  0.8336\n"
          ]
        }
      ],
      "source": [
        "print(\"Test Accuracy: \", accuracy_score(y_test.drop('ID', axis=1),pred_cat))"
      ]
    },
    {
      "cell_type": "code",
      "execution_count": null,
      "id": "31d046d1",
      "metadata": {
        "id": "31d046d1",
        "outputId": "bbcf563e-709f-4ebe-e9bf-6c9165cb2515"
      },
      "outputs": [
        {
          "data": {
            "image/png": "[encoded data removed]",
            "text/plain": [
              "<Figure size 432x288 with 2 Axes>"
            ]
          },
          "metadata": {
            "needs_background": "light"
          },
          "output_type": "display_data"
        }
      ],
      "source": [
        "# confusion matrix\n",
        "cat_confusion_matrix = metrics.confusion_matrix(y_test.drop('ID', axis=1),pred_cat)\n",
        "sns.heatmap(cat_confusion_matrix, annot=True, fmt=\"d\")\n",
        "\n",
        "plt.xlabel(\"Predicted Label\", fontsize= 12)\n",
        "plt.ylabel(\"True Label\", fontsize= 12)\n",
        "\n",
        "plt.show()"
      ]
    },
    {
      "cell_type": "code",
      "execution_count": null,
      "id": "2405deb7",
      "metadata": {
        "id": "2405deb7",
        "outputId": "b75c1020-fec0-4627-b82e-511fc93a4a57"
      },
      "outputs": [
        {
          "name": "stdout",
          "output_type": "stream",
          "text": [
            "auc_score: 0.7902501341481205\n"
          ]
        }
      ],
      "source": [
        "model_score(X_test, cat_model_base)"
      ]
    },
    {
      "cell_type": "markdown",
      "id": "72ee49b6",
      "metadata": {
        "id": "72ee49b6"
      },
      "source": [
        "#### 5th Cat Model - same as 4, expanded categoric features"
      ]
    },
    {
      "cell_type": "code",
      "execution_count": null,
      "id": "094a264f",
      "metadata": {
        "id": "094a264f",
        "outputId": "06eeb19d-477f-4485-fc3b-db0e11ac30b5"
      },
      "outputs": [
        {
          "name": "stdout",
          "output_type": "stream",
          "text": [
            "Learning rate set to 0.038933\n",
            "0:\ttotal: 10.8ms\tremaining: 10.8s\n",
            "1:\ttotal: 23.2ms\tremaining: 11.6s\n",
            "2:\ttotal: 31.5ms\tremaining: 10.5s\n",
            "3:\ttotal: 37.2ms\tremaining: 9.26s\n",
            "4:\ttotal: 44.5ms\tremaining: 8.85s\n",
            "5:\ttotal: 53.1ms\tremaining: 8.79s\n",
            "6:\ttotal: 61.3ms\tremaining: 8.69s\n",
            "7:\ttotal: 71ms\tremaining: 8.8s\n",
            "8:\ttotal: 80.3ms\tremaining: 8.84s\n",
            "9:\ttotal: 88ms\tremaining: 8.71s\n",
            "10:\ttotal: 98.1ms\tremaining: 8.82s\n",
            "11:\ttotal: 106ms\tremaining: 8.69s\n",
            "12:\ttotal: 116ms\tremaining: 8.82s\n",
            "13:\ttotal: 125ms\tremaining: 8.8s\n",
            "14:\ttotal: 134ms\tremaining: 8.8s\n",
            "15:\ttotal: 141ms\tremaining: 8.69s\n",
            "16:\ttotal: 148ms\tremaining: 8.53s\n",
            "17:\ttotal: 156ms\tremaining: 8.49s\n",
            "18:\ttotal: 165ms\tremaining: 8.51s\n",
            "19:\ttotal: 176ms\tremaining: 8.61s\n",
            "20:\ttotal: 179ms\tremaining: 8.36s\n",
            "21:\ttotal: 188ms\tremaining: 8.36s\n",
            "22:\ttotal: 196ms\tremaining: 8.32s\n",
            "23:\ttotal: 207ms\tremaining: 8.43s\n",
            "24:\ttotal: 221ms\tremaining: 8.63s\n",
            "25:\ttotal: 233ms\tremaining: 8.73s\n",
            "26:\ttotal: 242ms\tremaining: 8.71s\n",
            "27:\ttotal: 250ms\tremaining: 8.66s\n",
            "28:\ttotal: 259ms\tremaining: 8.67s\n",
            "29:\ttotal: 269ms\tremaining: 8.69s\n",
            "30:\ttotal: 278ms\tremaining: 8.68s\n",
            "31:\ttotal: 286ms\tremaining: 8.66s\n",
            "32:\ttotal: 295ms\tremaining: 8.63s\n",
            "33:\ttotal: 303ms\tremaining: 8.6s\n",
            "34:\ttotal: 312ms\tremaining: 8.6s\n",
            "35:\ttotal: 320ms\tremaining: 8.57s\n",
            "36:\ttotal: 330ms\tremaining: 8.6s\n",
            "37:\ttotal: 339ms\tremaining: 8.59s\n",
            "38:\ttotal: 349ms\tremaining: 8.6s\n",
            "39:\ttotal: 358ms\tremaining: 8.6s\n",
            "40:\ttotal: 368ms\tremaining: 8.6s\n",
            "41:\ttotal: 377ms\tremaining: 8.6s\n",
            "42:\ttotal: 382ms\tremaining: 8.5s\n",
            "43:\ttotal: 392ms\tremaining: 8.52s\n",
            "44:\ttotal: 402ms\tremaining: 8.53s\n",
            "45:\ttotal: 414ms\tremaining: 8.58s\n",
            "46:\ttotal: 426ms\tremaining: 8.64s\n",
            "47:\ttotal: 437ms\tremaining: 8.66s\n",
            "48:\ttotal: 448ms\tremaining: 8.69s\n",
            "49:\ttotal: 458ms\tremaining: 8.7s\n",
            "50:\ttotal: 468ms\tremaining: 8.71s\n",
            "51:\ttotal: 479ms\tremaining: 8.73s\n",
            "52:\ttotal: 482ms\tremaining: 8.62s\n",
            "53:\ttotal: 487ms\tremaining: 8.53s\n",
            "54:\ttotal: 499ms\tremaining: 8.56s\n",
            "55:\ttotal: 508ms\tremaining: 8.56s\n",
            "56:\ttotal: 518ms\tremaining: 8.57s\n",
            "57:\ttotal: 528ms\tremaining: 8.58s\n",
            "58:\ttotal: 539ms\tremaining: 8.6s\n",
            "59:\ttotal: 549ms\tremaining: 8.6s\n",
            "60:\ttotal: 559ms\tremaining: 8.6s\n",
            "61:\ttotal: 568ms\tremaining: 8.6s\n",
            "62:\ttotal: 573ms\tremaining: 8.53s\n",
            "63:\ttotal: 583ms\tremaining: 8.53s\n",
            "64:\ttotal: 593ms\tremaining: 8.53s\n",
            "65:\ttotal: 602ms\tremaining: 8.52s\n",
            "66:\ttotal: 614ms\tremaining: 8.55s\n",
            "67:\ttotal: 625ms\tremaining: 8.57s\n",
            "68:\ttotal: 639ms\tremaining: 8.63s\n",
            "69:\ttotal: 649ms\tremaining: 8.62s\n",
            "70:\ttotal: 659ms\tremaining: 8.63s\n",
            "71:\ttotal: 670ms\tremaining: 8.63s\n",
            "72:\ttotal: 680ms\tremaining: 8.64s\n",
            "73:\ttotal: 692ms\tremaining: 8.66s\n",
            "74:\ttotal: 703ms\tremaining: 8.67s\n",
            "75:\ttotal: 716ms\tremaining: 8.7s\n",
            "76:\ttotal: 726ms\tremaining: 8.7s\n",
            "77:\ttotal: 737ms\tremaining: 8.71s\n",
            "78:\ttotal: 747ms\tremaining: 8.71s\n",
            "79:\ttotal: 757ms\tremaining: 8.71s\n",
            "80:\ttotal: 768ms\tremaining: 8.72s\n",
            "81:\ttotal: 779ms\tremaining: 8.72s\n",
            "82:\ttotal: 790ms\tremaining: 8.73s\n",
            "83:\ttotal: 802ms\tremaining: 8.74s\n",
            "84:\ttotal: 814ms\tremaining: 8.76s\n",
            "85:\ttotal: 826ms\tremaining: 8.78s\n",
            "86:\ttotal: 840ms\tremaining: 8.81s\n",
            "87:\ttotal: 845ms\tremaining: 8.75s\n",
            "88:\ttotal: 857ms\tremaining: 8.77s\n",
            "89:\ttotal: 867ms\tremaining: 8.77s\n",
            "90:\ttotal: 879ms\tremaining: 8.78s\n",
            "91:\ttotal: 889ms\tremaining: 8.78s\n",
            "92:\ttotal: 900ms\tremaining: 8.77s\n",
            "93:\ttotal: 912ms\tremaining: 8.79s\n",
            "94:\ttotal: 924ms\tremaining: 8.8s\n",
            "95:\ttotal: 935ms\tremaining: 8.8s\n",
            "96:\ttotal: 947ms\tremaining: 8.82s\n",
            "97:\ttotal: 962ms\tremaining: 8.86s\n",
            "98:\ttotal: 978ms\tremaining: 8.9s\n",
            "99:\ttotal: 991ms\tremaining: 8.92s\n",
            "100:\ttotal: 1s\tremaining: 8.94s\n",
            "101:\ttotal: 1.01s\tremaining: 8.94s\n",
            "102:\ttotal: 1.03s\tremaining: 8.96s\n",
            "103:\ttotal: 1.04s\tremaining: 9s\n",
            "104:\ttotal: 1.06s\tremaining: 9.03s\n",
            "105:\ttotal: 1.07s\tremaining: 9.02s\n",
            "106:\ttotal: 1.08s\tremaining: 9.01s\n",
            "107:\ttotal: 1.09s\tremaining: 9.01s\n",
            "108:\ttotal: 1.1s\tremaining: 9s\n",
            "109:\ttotal: 1.11s\tremaining: 8.98s\n",
            "110:\ttotal: 1.12s\tremaining: 8.97s\n",
            "111:\ttotal: 1.13s\tremaining: 8.97s\n",
            "112:\ttotal: 1.14s\tremaining: 8.96s\n",
            "113:\ttotal: 1.15s\tremaining: 8.95s\n",
            "114:\ttotal: 1.16s\tremaining: 8.95s\n",
            "115:\ttotal: 1.17s\tremaining: 8.94s\n",
            "116:\ttotal: 1.18s\tremaining: 8.94s\n",
            "117:\ttotal: 1.2s\tremaining: 8.94s\n",
            "118:\ttotal: 1.21s\tremaining: 8.94s\n",
            "119:\ttotal: 1.22s\tremaining: 8.93s\n",
            "120:\ttotal: 1.23s\tremaining: 8.92s\n",
            "121:\ttotal: 1.24s\tremaining: 8.95s\n",
            "122:\ttotal: 1.26s\tremaining: 8.96s\n",
            "123:\ttotal: 1.27s\tremaining: 8.97s\n",
            "124:\ttotal: 1.28s\tremaining: 8.98s\n",
            "125:\ttotal: 1.29s\tremaining: 8.96s\n",
            "126:\ttotal: 1.3s\tremaining: 8.95s\n",
            "127:\ttotal: 1.31s\tremaining: 8.95s\n",
            "128:\ttotal: 1.32s\tremaining: 8.94s\n",
            "129:\ttotal: 1.34s\tremaining: 8.95s\n",
            "130:\ttotal: 1.35s\tremaining: 8.93s\n",
            "131:\ttotal: 1.36s\tremaining: 8.95s\n",
            "132:\ttotal: 1.38s\tremaining: 8.97s\n",
            "133:\ttotal: 1.4s\tremaining: 9.02s\n",
            "134:\ttotal: 1.42s\tremaining: 9.09s\n",
            "135:\ttotal: 1.44s\tremaining: 9.13s\n",
            "136:\ttotal: 1.46s\tremaining: 9.18s\n",
            "137:\ttotal: 1.47s\tremaining: 9.21s\n",
            "138:\ttotal: 1.49s\tremaining: 9.26s\n",
            "139:\ttotal: 1.51s\tremaining: 9.27s\n",
            "140:\ttotal: 1.53s\tremaining: 9.31s\n",
            "141:\ttotal: 1.55s\tremaining: 9.36s\n",
            "142:\ttotal: 1.57s\tremaining: 9.44s\n",
            "143:\ttotal: 1.59s\tremaining: 9.45s\n",
            "144:\ttotal: 1.6s\tremaining: 9.44s\n",
            "145:\ttotal: 1.61s\tremaining: 9.43s\n",
            "146:\ttotal: 1.62s\tremaining: 9.42s\n",
            "147:\ttotal: 1.63s\tremaining: 9.4s\n",
            "148:\ttotal: 1.65s\tremaining: 9.4s\n",
            "149:\ttotal: 1.66s\tremaining: 9.39s\n",
            "150:\ttotal: 1.67s\tremaining: 9.39s\n",
            "151:\ttotal: 1.68s\tremaining: 9.38s\n",
            "152:\ttotal: 1.69s\tremaining: 9.36s\n",
            "153:\ttotal: 1.7s\tremaining: 9.34s\n",
            "154:\ttotal: 1.71s\tremaining: 9.33s\n",
            "155:\ttotal: 1.72s\tremaining: 9.32s\n",
            "156:\ttotal: 1.73s\tremaining: 9.31s\n",
            "157:\ttotal: 1.75s\tremaining: 9.3s\n",
            "158:\ttotal: 1.75s\tremaining: 9.29s\n",
            "159:\ttotal: 1.77s\tremaining: 9.28s\n",
            "160:\ttotal: 1.78s\tremaining: 9.26s\n",
            "161:\ttotal: 1.79s\tremaining: 9.25s\n",
            "162:\ttotal: 1.8s\tremaining: 9.24s\n",
            "163:\ttotal: 1.8s\tremaining: 9.19s\n",
            "164:\ttotal: 1.81s\tremaining: 9.17s\n",
            "165:\ttotal: 1.82s\tremaining: 9.17s\n",
            "166:\ttotal: 1.84s\tremaining: 9.16s\n",
            "167:\ttotal: 1.85s\tremaining: 9.15s\n",
            "168:\ttotal: 1.86s\tremaining: 9.15s\n",
            "169:\ttotal: 1.87s\tremaining: 9.14s\n",
            "170:\ttotal: 1.88s\tremaining: 9.13s\n",
            "171:\ttotal: 1.9s\tremaining: 9.12s\n",
            "172:\ttotal: 1.91s\tremaining: 9.12s\n",
            "173:\ttotal: 1.92s\tremaining: 9.1s\n",
            "174:\ttotal: 1.93s\tremaining: 9.09s\n",
            "175:\ttotal: 1.94s\tremaining: 9.07s\n",
            "176:\ttotal: 1.95s\tremaining: 9.06s\n",
            "177:\ttotal: 1.96s\tremaining: 9.05s\n",
            "178:\ttotal: 1.97s\tremaining: 9.04s\n",
            "179:\ttotal: 1.98s\tremaining: 9.02s\n",
            "180:\ttotal: 1.99s\tremaining: 9.01s\n",
            "181:\ttotal: 2s\tremaining: 9.01s\n",
            "182:\ttotal: 2.02s\tremaining: 9s\n",
            "183:\ttotal: 2.03s\tremaining: 8.99s\n",
            "184:\ttotal: 2.04s\tremaining: 8.98s\n",
            "185:\ttotal: 2.05s\tremaining: 8.98s\n",
            "186:\ttotal: 2.06s\tremaining: 8.98s\n",
            "187:\ttotal: 2.08s\tremaining: 8.98s\n",
            "188:\ttotal: 2.09s\tremaining: 8.96s\n",
            "189:\ttotal: 2.1s\tremaining: 8.95s\n",
            "190:\ttotal: 2.11s\tremaining: 8.95s\n",
            "191:\ttotal: 2.13s\tremaining: 8.95s\n",
            "192:\ttotal: 2.14s\tremaining: 8.94s\n",
            "193:\ttotal: 2.15s\tremaining: 8.93s\n",
            "194:\ttotal: 2.16s\tremaining: 8.92s\n",
            "195:\ttotal: 2.17s\tremaining: 8.91s\n",
            "196:\ttotal: 2.18s\tremaining: 8.89s\n",
            "197:\ttotal: 2.19s\tremaining: 8.88s\n",
            "198:\ttotal: 2.2s\tremaining: 8.86s\n",
            "199:\ttotal: 2.21s\tremaining: 8.84s\n",
            "200:\ttotal: 2.22s\tremaining: 8.83s\n",
            "201:\ttotal: 2.23s\tremaining: 8.81s\n",
            "202:\ttotal: 2.24s\tremaining: 8.8s\n",
            "203:\ttotal: 2.25s\tremaining: 8.79s\n",
            "204:\ttotal: 2.26s\tremaining: 8.77s\n",
            "205:\ttotal: 2.27s\tremaining: 8.76s\n",
            "206:\ttotal: 2.28s\tremaining: 8.75s\n",
            "207:\ttotal: 2.29s\tremaining: 8.73s\n",
            "208:\ttotal: 2.3s\tremaining: 8.71s\n",
            "209:\ttotal: 2.31s\tremaining: 8.7s\n",
            "210:\ttotal: 2.32s\tremaining: 8.69s\n",
            "211:\ttotal: 2.33s\tremaining: 8.67s\n",
            "212:\ttotal: 2.34s\tremaining: 8.66s\n",
            "213:\ttotal: 2.35s\tremaining: 8.64s\n",
            "214:\ttotal: 2.36s\tremaining: 8.63s\n",
            "215:\ttotal: 2.37s\tremaining: 8.62s\n",
            "216:\ttotal: 2.38s\tremaining: 8.61s\n",
            "217:\ttotal: 2.4s\tremaining: 8.6s\n",
            "218:\ttotal: 2.41s\tremaining: 8.58s\n",
            "219:\ttotal: 2.42s\tremaining: 8.57s\n",
            "220:\ttotal: 2.43s\tremaining: 8.56s\n",
            "221:\ttotal: 2.44s\tremaining: 8.55s\n",
            "222:\ttotal: 2.45s\tremaining: 8.54s\n",
            "223:\ttotal: 2.46s\tremaining: 8.54s\n",
            "224:\ttotal: 2.48s\tremaining: 8.53s\n",
            "225:\ttotal: 2.49s\tremaining: 8.52s\n",
            "226:\ttotal: 2.5s\tremaining: 8.52s\n",
            "227:\ttotal: 2.51s\tremaining: 8.51s\n",
            "228:\ttotal: 2.52s\tremaining: 8.49s\n",
            "229:\ttotal: 2.53s\tremaining: 8.48s\n",
            "230:\ttotal: 2.54s\tremaining: 8.47s\n",
            "231:\ttotal: 2.56s\tremaining: 8.46s\n",
            "232:\ttotal: 2.57s\tremaining: 8.45s\n",
            "233:\ttotal: 2.58s\tremaining: 8.44s\n",
            "234:\ttotal: 2.59s\tremaining: 8.42s\n",
            "235:\ttotal: 2.6s\tremaining: 8.41s\n",
            "236:\ttotal: 2.61s\tremaining: 8.39s\n",
            "237:\ttotal: 2.62s\tremaining: 8.38s\n",
            "238:\ttotal: 2.63s\tremaining: 8.38s\n"
          ]
        },
        {
          "name": "stdout",
          "output_type": "stream",
          "text": [
            "239:\ttotal: 2.64s\tremaining: 8.36s\n",
            "240:\ttotal: 2.65s\tremaining: 8.36s\n",
            "241:\ttotal: 2.67s\tremaining: 8.36s\n",
            "242:\ttotal: 2.68s\tremaining: 8.35s\n",
            "243:\ttotal: 2.69s\tremaining: 8.34s\n",
            "244:\ttotal: 2.7s\tremaining: 8.33s\n",
            "245:\ttotal: 2.71s\tremaining: 8.32s\n",
            "246:\ttotal: 2.72s\tremaining: 8.31s\n",
            "247:\ttotal: 2.74s\tremaining: 8.3s\n",
            "248:\ttotal: 2.75s\tremaining: 8.28s\n",
            "249:\ttotal: 2.76s\tremaining: 8.27s\n",
            "250:\ttotal: 2.77s\tremaining: 8.26s\n",
            "251:\ttotal: 2.78s\tremaining: 8.25s\n",
            "252:\ttotal: 2.79s\tremaining: 8.24s\n",
            "253:\ttotal: 2.8s\tremaining: 8.21s\n",
            "254:\ttotal: 2.81s\tremaining: 8.2s\n",
            "255:\ttotal: 2.82s\tremaining: 8.19s\n",
            "256:\ttotal: 2.83s\tremaining: 8.18s\n",
            "257:\ttotal: 2.84s\tremaining: 8.16s\n",
            "258:\ttotal: 2.85s\tremaining: 8.15s\n",
            "259:\ttotal: 2.87s\tremaining: 8.16s\n",
            "260:\ttotal: 2.88s\tremaining: 8.14s\n",
            "261:\ttotal: 2.88s\tremaining: 8.13s\n",
            "262:\ttotal: 2.9s\tremaining: 8.12s\n",
            "263:\ttotal: 2.91s\tremaining: 8.11s\n",
            "264:\ttotal: 2.92s\tremaining: 8.1s\n",
            "265:\ttotal: 2.93s\tremaining: 8.09s\n",
            "266:\ttotal: 2.94s\tremaining: 8.08s\n",
            "267:\ttotal: 2.95s\tremaining: 8.06s\n",
            "268:\ttotal: 2.96s\tremaining: 8.05s\n",
            "269:\ttotal: 2.97s\tremaining: 8.04s\n",
            "270:\ttotal: 2.98s\tremaining: 8.03s\n",
            "271:\ttotal: 3s\tremaining: 8.02s\n",
            "272:\ttotal: 3.01s\tremaining: 8.01s\n",
            "273:\ttotal: 3.02s\tremaining: 8s\n",
            "274:\ttotal: 3.03s\tremaining: 7.98s\n",
            "275:\ttotal: 3.04s\tremaining: 7.97s\n",
            "276:\ttotal: 3.05s\tremaining: 7.96s\n",
            "277:\ttotal: 3.06s\tremaining: 7.95s\n",
            "278:\ttotal: 3.08s\tremaining: 7.95s\n",
            "279:\ttotal: 3.08s\tremaining: 7.93s\n",
            "280:\ttotal: 3.1s\tremaining: 7.93s\n",
            "281:\ttotal: 3.11s\tremaining: 7.92s\n",
            "282:\ttotal: 3.12s\tremaining: 7.9s\n",
            "283:\ttotal: 3.13s\tremaining: 7.89s\n",
            "284:\ttotal: 3.14s\tremaining: 7.88s\n",
            "285:\ttotal: 3.15s\tremaining: 7.87s\n",
            "286:\ttotal: 3.16s\tremaining: 7.86s\n",
            "287:\ttotal: 3.17s\tremaining: 7.84s\n",
            "288:\ttotal: 3.18s\tremaining: 7.83s\n",
            "289:\ttotal: 3.2s\tremaining: 7.83s\n",
            "290:\ttotal: 3.21s\tremaining: 7.81s\n",
            "291:\ttotal: 3.22s\tremaining: 7.8s\n",
            "292:\ttotal: 3.23s\tremaining: 7.8s\n",
            "293:\ttotal: 3.24s\tremaining: 7.79s\n",
            "294:\ttotal: 3.26s\tremaining: 7.78s\n",
            "295:\ttotal: 3.27s\tremaining: 7.77s\n",
            "296:\ttotal: 3.28s\tremaining: 7.77s\n",
            "297:\ttotal: 3.3s\tremaining: 7.77s\n",
            "298:\ttotal: 3.31s\tremaining: 7.76s\n",
            "299:\ttotal: 3.32s\tremaining: 7.75s\n",
            "300:\ttotal: 3.33s\tremaining: 7.74s\n",
            "301:\ttotal: 3.35s\tremaining: 7.73s\n",
            "302:\ttotal: 3.35s\tremaining: 7.72s\n",
            "303:\ttotal: 3.37s\tremaining: 7.71s\n",
            "304:\ttotal: 3.38s\tremaining: 7.7s\n",
            "305:\ttotal: 3.39s\tremaining: 7.69s\n",
            "306:\ttotal: 3.4s\tremaining: 7.67s\n",
            "307:\ttotal: 3.41s\tremaining: 7.67s\n",
            "308:\ttotal: 3.42s\tremaining: 7.65s\n",
            "309:\ttotal: 3.43s\tremaining: 7.64s\n",
            "310:\ttotal: 3.44s\tremaining: 7.63s\n",
            "311:\ttotal: 3.46s\tremaining: 7.62s\n",
            "312:\ttotal: 3.47s\tremaining: 7.61s\n",
            "313:\ttotal: 3.48s\tremaining: 7.6s\n",
            "314:\ttotal: 3.49s\tremaining: 7.59s\n",
            "315:\ttotal: 3.5s\tremaining: 7.58s\n",
            "316:\ttotal: 3.51s\tremaining: 7.57s\n",
            "317:\ttotal: 3.52s\tremaining: 7.55s\n",
            "318:\ttotal: 3.53s\tremaining: 7.54s\n",
            "319:\ttotal: 3.54s\tremaining: 7.53s\n",
            "320:\ttotal: 3.56s\tremaining: 7.52s\n",
            "321:\ttotal: 3.57s\tremaining: 7.51s\n",
            "322:\ttotal: 3.58s\tremaining: 7.5s\n",
            "323:\ttotal: 3.59s\tremaining: 7.49s\n",
            "324:\ttotal: 3.6s\tremaining: 7.48s\n",
            "325:\ttotal: 3.61s\tremaining: 7.46s\n",
            "326:\ttotal: 3.62s\tremaining: 7.45s\n",
            "327:\ttotal: 3.63s\tremaining: 7.44s\n",
            "328:\ttotal: 3.64s\tremaining: 7.43s\n",
            "329:\ttotal: 3.65s\tremaining: 7.42s\n",
            "330:\ttotal: 3.67s\tremaining: 7.41s\n",
            "331:\ttotal: 3.68s\tremaining: 7.4s\n",
            "332:\ttotal: 3.69s\tremaining: 7.39s\n",
            "333:\ttotal: 3.7s\tremaining: 7.38s\n",
            "334:\ttotal: 3.71s\tremaining: 7.37s\n",
            "335:\ttotal: 3.72s\tremaining: 7.36s\n",
            "336:\ttotal: 3.73s\tremaining: 7.35s\n",
            "337:\ttotal: 3.75s\tremaining: 7.34s\n",
            "338:\ttotal: 3.76s\tremaining: 7.33s\n",
            "339:\ttotal: 3.77s\tremaining: 7.31s\n",
            "340:\ttotal: 3.78s\tremaining: 7.3s\n",
            "341:\ttotal: 3.79s\tremaining: 7.29s\n",
            "342:\ttotal: 3.8s\tremaining: 7.28s\n",
            "343:\ttotal: 3.81s\tremaining: 7.27s\n",
            "344:\ttotal: 3.83s\tremaining: 7.27s\n",
            "345:\ttotal: 3.84s\tremaining: 7.25s\n",
            "346:\ttotal: 3.85s\tremaining: 7.24s\n",
            "347:\ttotal: 3.86s\tremaining: 7.23s\n",
            "348:\ttotal: 3.88s\tremaining: 7.23s\n",
            "349:\ttotal: 3.89s\tremaining: 7.22s\n",
            "350:\ttotal: 3.9s\tremaining: 7.21s\n",
            "351:\ttotal: 3.91s\tremaining: 7.19s\n",
            "352:\ttotal: 3.92s\tremaining: 7.18s\n",
            "353:\ttotal: 3.93s\tremaining: 7.17s\n",
            "354:\ttotal: 3.94s\tremaining: 7.16s\n",
            "355:\ttotal: 3.95s\tremaining: 7.15s\n",
            "356:\ttotal: 3.96s\tremaining: 7.13s\n",
            "357:\ttotal: 3.97s\tremaining: 7.12s\n",
            "358:\ttotal: 3.98s\tremaining: 7.11s\n",
            "359:\ttotal: 3.99s\tremaining: 7.1s\n",
            "360:\ttotal: 4s\tremaining: 7.09s\n",
            "361:\ttotal: 4.02s\tremaining: 7.08s\n",
            "362:\ttotal: 4.03s\tremaining: 7.07s\n",
            "363:\ttotal: 4.04s\tremaining: 7.06s\n",
            "364:\ttotal: 4.05s\tremaining: 7.05s\n",
            "365:\ttotal: 4.06s\tremaining: 7.04s\n",
            "366:\ttotal: 4.07s\tremaining: 7.02s\n",
            "367:\ttotal: 4.08s\tremaining: 7.01s\n",
            "368:\ttotal: 4.1s\tremaining: 7.01s\n",
            "369:\ttotal: 4.11s\tremaining: 6.99s\n",
            "370:\ttotal: 4.12s\tremaining: 6.98s\n",
            "371:\ttotal: 4.13s\tremaining: 6.97s\n",
            "372:\ttotal: 4.14s\tremaining: 6.96s\n",
            "373:\ttotal: 4.15s\tremaining: 6.94s\n",
            "374:\ttotal: 4.16s\tremaining: 6.93s\n",
            "375:\ttotal: 4.17s\tremaining: 6.92s\n",
            "376:\ttotal: 4.18s\tremaining: 6.91s\n",
            "377:\ttotal: 4.19s\tremaining: 6.9s\n",
            "378:\ttotal: 4.2s\tremaining: 6.89s\n",
            "379:\ttotal: 4.21s\tremaining: 6.88s\n",
            "380:\ttotal: 4.22s\tremaining: 6.87s\n",
            "381:\ttotal: 4.24s\tremaining: 6.85s\n",
            "382:\ttotal: 4.25s\tremaining: 6.84s\n",
            "383:\ttotal: 4.26s\tremaining: 6.83s\n",
            "384:\ttotal: 4.27s\tremaining: 6.82s\n",
            "385:\ttotal: 4.29s\tremaining: 6.82s\n",
            "386:\ttotal: 4.3s\tremaining: 6.81s\n",
            "387:\ttotal: 4.31s\tremaining: 6.8s\n",
            "388:\ttotal: 4.32s\tremaining: 6.79s\n",
            "389:\ttotal: 4.33s\tremaining: 6.78s\n",
            "390:\ttotal: 4.35s\tremaining: 6.77s\n",
            "391:\ttotal: 4.36s\tremaining: 6.76s\n",
            "392:\ttotal: 4.37s\tremaining: 6.75s\n",
            "393:\ttotal: 4.38s\tremaining: 6.74s\n",
            "394:\ttotal: 4.39s\tremaining: 6.73s\n",
            "395:\ttotal: 4.4s\tremaining: 6.72s\n",
            "396:\ttotal: 4.41s\tremaining: 6.71s\n",
            "397:\ttotal: 4.42s\tremaining: 6.69s\n",
            "398:\ttotal: 4.44s\tremaining: 6.68s\n",
            "399:\ttotal: 4.45s\tremaining: 6.67s\n",
            "400:\ttotal: 4.46s\tremaining: 6.66s\n",
            "401:\ttotal: 4.47s\tremaining: 6.65s\n",
            "402:\ttotal: 4.49s\tremaining: 6.64s\n",
            "403:\ttotal: 4.5s\tremaining: 6.63s\n",
            "404:\ttotal: 4.51s\tremaining: 6.62s\n",
            "405:\ttotal: 4.52s\tremaining: 6.61s\n",
            "406:\ttotal: 4.53s\tremaining: 6.6s\n",
            "407:\ttotal: 4.54s\tremaining: 6.59s\n",
            "408:\ttotal: 4.55s\tremaining: 6.58s\n",
            "409:\ttotal: 4.56s\tremaining: 6.56s\n",
            "410:\ttotal: 4.57s\tremaining: 6.55s\n",
            "411:\ttotal: 4.58s\tremaining: 6.54s\n",
            "412:\ttotal: 4.6s\tremaining: 6.53s\n",
            "413:\ttotal: 4.61s\tremaining: 6.52s\n",
            "414:\ttotal: 4.62s\tremaining: 6.51s\n",
            "415:\ttotal: 4.63s\tremaining: 6.5s\n",
            "416:\ttotal: 4.64s\tremaining: 6.49s\n",
            "417:\ttotal: 4.65s\tremaining: 6.47s\n",
            "418:\ttotal: 4.66s\tremaining: 6.47s\n",
            "419:\ttotal: 4.67s\tremaining: 6.46s\n",
            "420:\ttotal: 4.69s\tremaining: 6.45s\n",
            "421:\ttotal: 4.7s\tremaining: 6.44s\n",
            "422:\ttotal: 4.71s\tremaining: 6.42s\n",
            "423:\ttotal: 4.72s\tremaining: 6.42s\n",
            "424:\ttotal: 4.73s\tremaining: 6.4s\n",
            "425:\ttotal: 4.74s\tremaining: 6.39s\n",
            "426:\ttotal: 4.75s\tremaining: 6.38s\n",
            "427:\ttotal: 4.76s\tremaining: 6.37s\n",
            "428:\ttotal: 4.78s\tremaining: 6.36s\n",
            "429:\ttotal: 4.79s\tremaining: 6.34s\n",
            "430:\ttotal: 4.8s\tremaining: 6.34s\n",
            "431:\ttotal: 4.81s\tremaining: 6.33s\n",
            "432:\ttotal: 4.82s\tremaining: 6.32s\n",
            "433:\ttotal: 4.83s\tremaining: 6.3s\n",
            "434:\ttotal: 4.84s\tremaining: 6.29s\n",
            "435:\ttotal: 4.86s\tremaining: 6.29s\n",
            "436:\ttotal: 4.87s\tremaining: 6.28s\n",
            "437:\ttotal: 4.89s\tremaining: 6.27s\n",
            "438:\ttotal: 4.9s\tremaining: 6.26s\n",
            "439:\ttotal: 4.91s\tremaining: 6.25s\n",
            "440:\ttotal: 4.92s\tremaining: 6.24s\n",
            "441:\ttotal: 4.93s\tremaining: 6.23s\n",
            "442:\ttotal: 4.94s\tremaining: 6.21s\n",
            "443:\ttotal: 4.95s\tremaining: 6.2s\n",
            "444:\ttotal: 4.96s\tremaining: 6.19s\n",
            "445:\ttotal: 4.97s\tremaining: 6.18s\n",
            "446:\ttotal: 4.98s\tremaining: 6.17s\n",
            "447:\ttotal: 5s\tremaining: 6.16s\n",
            "448:\ttotal: 5.01s\tremaining: 6.14s\n",
            "449:\ttotal: 5.02s\tremaining: 6.13s\n",
            "450:\ttotal: 5.03s\tremaining: 6.12s\n",
            "451:\ttotal: 5.04s\tremaining: 6.11s\n",
            "452:\ttotal: 5.05s\tremaining: 6.1s\n",
            "453:\ttotal: 5.06s\tremaining: 6.09s\n",
            "454:\ttotal: 5.07s\tremaining: 6.08s\n",
            "455:\ttotal: 5.09s\tremaining: 6.07s\n",
            "456:\ttotal: 5.1s\tremaining: 6.06s\n",
            "457:\ttotal: 5.11s\tremaining: 6.05s\n",
            "458:\ttotal: 5.13s\tremaining: 6.04s\n",
            "459:\ttotal: 5.14s\tremaining: 6.03s\n",
            "460:\ttotal: 5.15s\tremaining: 6.02s\n",
            "461:\ttotal: 5.16s\tremaining: 6.01s\n",
            "462:\ttotal: 5.17s\tremaining: 6s\n",
            "463:\ttotal: 5.18s\tremaining: 5.99s\n",
            "464:\ttotal: 5.19s\tremaining: 5.97s\n",
            "465:\ttotal: 5.2s\tremaining: 5.96s\n",
            "466:\ttotal: 5.21s\tremaining: 5.95s\n",
            "467:\ttotal: 5.23s\tremaining: 5.94s\n",
            "468:\ttotal: 5.24s\tremaining: 5.93s\n",
            "469:\ttotal: 5.25s\tremaining: 5.92s\n",
            "470:\ttotal: 5.26s\tremaining: 5.91s\n",
            "471:\ttotal: 5.27s\tremaining: 5.9s\n",
            "472:\ttotal: 5.29s\tremaining: 5.89s\n",
            "473:\ttotal: 5.3s\tremaining: 5.88s\n",
            "474:\ttotal: 5.31s\tremaining: 5.87s\n",
            "475:\ttotal: 5.32s\tremaining: 5.86s\n",
            "476:\ttotal: 5.33s\tremaining: 5.85s\n",
            "477:\ttotal: 5.34s\tremaining: 5.83s\n",
            "478:\ttotal: 5.35s\tremaining: 5.82s\n",
            "479:\ttotal: 5.36s\tremaining: 5.81s\n",
            "480:\ttotal: 5.38s\tremaining: 5.8s\n",
            "481:\ttotal: 5.39s\tremaining: 5.79s\n",
            "482:\ttotal: 5.4s\tremaining: 5.78s\n",
            "483:\ttotal: 5.41s\tremaining: 5.77s\n",
            "484:\ttotal: 5.42s\tremaining: 5.76s\n",
            "485:\ttotal: 5.43s\tremaining: 5.75s\n",
            "486:\ttotal: 5.44s\tremaining: 5.73s\n",
            "487:\ttotal: 5.45s\tremaining: 5.72s\n",
            "488:\ttotal: 5.46s\tremaining: 5.71s\n",
            "489:\ttotal: 5.47s\tremaining: 5.7s\n"
          ]
        },
        {
          "name": "stdout",
          "output_type": "stream",
          "text": [
            "490:\ttotal: 5.49s\tremaining: 5.69s\n",
            "491:\ttotal: 5.5s\tremaining: 5.68s\n",
            "492:\ttotal: 5.51s\tremaining: 5.67s\n",
            "493:\ttotal: 5.53s\tremaining: 5.66s\n",
            "494:\ttotal: 5.54s\tremaining: 5.65s\n",
            "495:\ttotal: 5.55s\tremaining: 5.64s\n",
            "496:\ttotal: 5.56s\tremaining: 5.63s\n",
            "497:\ttotal: 5.57s\tremaining: 5.61s\n",
            "498:\ttotal: 5.58s\tremaining: 5.6s\n",
            "499:\ttotal: 5.59s\tremaining: 5.59s\n",
            "500:\ttotal: 5.6s\tremaining: 5.58s\n",
            "501:\ttotal: 5.61s\tremaining: 5.57s\n",
            "502:\ttotal: 5.62s\tremaining: 5.56s\n",
            "503:\ttotal: 5.63s\tremaining: 5.54s\n",
            "504:\ttotal: 5.64s\tremaining: 5.53s\n",
            "505:\ttotal: 5.66s\tremaining: 5.52s\n",
            "506:\ttotal: 5.67s\tremaining: 5.51s\n",
            "507:\ttotal: 5.68s\tremaining: 5.5s\n",
            "508:\ttotal: 5.69s\tremaining: 5.49s\n",
            "509:\ttotal: 5.7s\tremaining: 5.48s\n",
            "510:\ttotal: 5.71s\tremaining: 5.47s\n",
            "511:\ttotal: 5.73s\tremaining: 5.46s\n",
            "512:\ttotal: 5.74s\tremaining: 5.45s\n",
            "513:\ttotal: 5.75s\tremaining: 5.43s\n",
            "514:\ttotal: 5.76s\tremaining: 5.42s\n",
            "515:\ttotal: 5.77s\tremaining: 5.41s\n",
            "516:\ttotal: 5.78s\tremaining: 5.4s\n",
            "517:\ttotal: 5.79s\tremaining: 5.38s\n",
            "518:\ttotal: 5.8s\tremaining: 5.37s\n",
            "519:\ttotal: 5.81s\tremaining: 5.36s\n",
            "520:\ttotal: 5.82s\tremaining: 5.35s\n",
            "521:\ttotal: 5.83s\tremaining: 5.34s\n",
            "522:\ttotal: 5.84s\tremaining: 5.33s\n",
            "523:\ttotal: 5.85s\tremaining: 5.32s\n",
            "524:\ttotal: 5.86s\tremaining: 5.3s\n",
            "525:\ttotal: 5.87s\tremaining: 5.29s\n",
            "526:\ttotal: 5.89s\tremaining: 5.28s\n",
            "527:\ttotal: 5.9s\tremaining: 5.28s\n",
            "528:\ttotal: 5.92s\tremaining: 5.27s\n",
            "529:\ttotal: 5.93s\tremaining: 5.26s\n",
            "530:\ttotal: 5.94s\tremaining: 5.25s\n",
            "531:\ttotal: 5.95s\tremaining: 5.24s\n",
            "532:\ttotal: 5.96s\tremaining: 5.22s\n",
            "533:\ttotal: 5.97s\tremaining: 5.21s\n",
            "534:\ttotal: 5.99s\tremaining: 5.2s\n",
            "535:\ttotal: 6s\tremaining: 5.19s\n",
            "536:\ttotal: 6.01s\tremaining: 5.18s\n",
            "537:\ttotal: 6.02s\tremaining: 5.17s\n",
            "538:\ttotal: 6.03s\tremaining: 5.16s\n",
            "539:\ttotal: 6.04s\tremaining: 5.14s\n",
            "540:\ttotal: 6.05s\tremaining: 5.13s\n",
            "541:\ttotal: 6.06s\tremaining: 5.12s\n",
            "542:\ttotal: 6.07s\tremaining: 5.11s\n",
            "543:\ttotal: 6.08s\tremaining: 5.1s\n",
            "544:\ttotal: 6.09s\tremaining: 5.09s\n",
            "545:\ttotal: 6.1s\tremaining: 5.07s\n",
            "546:\ttotal: 6.12s\tremaining: 5.07s\n",
            "547:\ttotal: 6.13s\tremaining: 5.06s\n",
            "548:\ttotal: 6.14s\tremaining: 5.05s\n",
            "549:\ttotal: 6.15s\tremaining: 5.04s\n",
            "550:\ttotal: 6.17s\tremaining: 5.02s\n",
            "551:\ttotal: 6.18s\tremaining: 5.01s\n",
            "552:\ttotal: 6.19s\tremaining: 5s\n",
            "553:\ttotal: 6.2s\tremaining: 4.99s\n",
            "554:\ttotal: 6.21s\tremaining: 4.98s\n",
            "555:\ttotal: 6.22s\tremaining: 4.97s\n",
            "556:\ttotal: 6.23s\tremaining: 4.96s\n",
            "557:\ttotal: 6.24s\tremaining: 4.94s\n",
            "558:\ttotal: 6.25s\tremaining: 4.93s\n",
            "559:\ttotal: 6.26s\tremaining: 4.92s\n",
            "560:\ttotal: 6.28s\tremaining: 4.92s\n",
            "561:\ttotal: 6.29s\tremaining: 4.91s\n",
            "562:\ttotal: 6.31s\tremaining: 4.89s\n",
            "563:\ttotal: 6.32s\tremaining: 4.88s\n",
            "564:\ttotal: 6.33s\tremaining: 4.88s\n",
            "565:\ttotal: 6.34s\tremaining: 4.87s\n",
            "566:\ttotal: 6.36s\tremaining: 4.86s\n",
            "567:\ttotal: 6.37s\tremaining: 4.84s\n",
            "568:\ttotal: 6.38s\tremaining: 4.83s\n",
            "569:\ttotal: 6.39s\tremaining: 4.82s\n",
            "570:\ttotal: 6.4s\tremaining: 4.81s\n",
            "571:\ttotal: 6.42s\tremaining: 4.8s\n",
            "572:\ttotal: 6.43s\tremaining: 4.79s\n",
            "573:\ttotal: 6.44s\tremaining: 4.78s\n",
            "574:\ttotal: 6.45s\tremaining: 4.77s\n",
            "575:\ttotal: 6.46s\tremaining: 4.76s\n",
            "576:\ttotal: 6.47s\tremaining: 4.75s\n",
            "577:\ttotal: 6.49s\tremaining: 4.74s\n",
            "578:\ttotal: 6.5s\tremaining: 4.72s\n",
            "579:\ttotal: 6.51s\tremaining: 4.71s\n",
            "580:\ttotal: 6.52s\tremaining: 4.7s\n",
            "581:\ttotal: 6.54s\tremaining: 4.69s\n",
            "582:\ttotal: 6.55s\tremaining: 4.68s\n",
            "583:\ttotal: 6.56s\tremaining: 4.67s\n",
            "584:\ttotal: 6.57s\tremaining: 4.66s\n",
            "585:\ttotal: 6.58s\tremaining: 4.65s\n",
            "586:\ttotal: 6.59s\tremaining: 4.64s\n",
            "587:\ttotal: 6.6s\tremaining: 4.63s\n",
            "588:\ttotal: 6.61s\tremaining: 4.62s\n",
            "589:\ttotal: 6.63s\tremaining: 4.6s\n",
            "590:\ttotal: 6.63s\tremaining: 4.59s\n",
            "591:\ttotal: 6.65s\tremaining: 4.58s\n",
            "592:\ttotal: 6.66s\tremaining: 4.57s\n",
            "593:\ttotal: 6.67s\tremaining: 4.56s\n",
            "594:\ttotal: 6.68s\tremaining: 4.55s\n",
            "595:\ttotal: 6.69s\tremaining: 4.54s\n",
            "596:\ttotal: 6.7s\tremaining: 4.52s\n",
            "597:\ttotal: 6.71s\tremaining: 4.51s\n",
            "598:\ttotal: 6.72s\tremaining: 4.5s\n",
            "599:\ttotal: 6.74s\tremaining: 4.49s\n",
            "600:\ttotal: 6.75s\tremaining: 4.48s\n",
            "601:\ttotal: 6.76s\tremaining: 4.47s\n",
            "602:\ttotal: 6.77s\tremaining: 4.46s\n",
            "603:\ttotal: 6.78s\tremaining: 4.45s\n",
            "604:\ttotal: 6.79s\tremaining: 4.44s\n",
            "605:\ttotal: 6.8s\tremaining: 4.42s\n",
            "606:\ttotal: 6.82s\tremaining: 4.41s\n",
            "607:\ttotal: 6.83s\tremaining: 4.4s\n",
            "608:\ttotal: 6.84s\tremaining: 4.39s\n",
            "609:\ttotal: 6.85s\tremaining: 4.38s\n",
            "610:\ttotal: 6.86s\tremaining: 4.37s\n",
            "611:\ttotal: 6.87s\tremaining: 4.36s\n",
            "612:\ttotal: 6.88s\tremaining: 4.34s\n",
            "613:\ttotal: 6.89s\tremaining: 4.33s\n",
            "614:\ttotal: 6.9s\tremaining: 4.32s\n",
            "615:\ttotal: 6.91s\tremaining: 4.31s\n",
            "616:\ttotal: 6.92s\tremaining: 4.3s\n",
            "617:\ttotal: 6.94s\tremaining: 4.29s\n",
            "618:\ttotal: 6.95s\tremaining: 4.28s\n",
            "619:\ttotal: 6.96s\tremaining: 4.27s\n",
            "620:\ttotal: 6.98s\tremaining: 4.26s\n",
            "621:\ttotal: 6.99s\tremaining: 4.25s\n",
            "622:\ttotal: 7s\tremaining: 4.23s\n",
            "623:\ttotal: 7.01s\tremaining: 4.22s\n",
            "624:\ttotal: 7.02s\tremaining: 4.21s\n",
            "625:\ttotal: 7.03s\tremaining: 4.2s\n",
            "626:\ttotal: 7.04s\tremaining: 4.19s\n",
            "627:\ttotal: 7.05s\tremaining: 4.18s\n",
            "628:\ttotal: 7.06s\tremaining: 4.17s\n",
            "629:\ttotal: 7.07s\tremaining: 4.15s\n",
            "630:\ttotal: 7.08s\tremaining: 4.14s\n",
            "631:\ttotal: 7.09s\tremaining: 4.13s\n",
            "632:\ttotal: 7.1s\tremaining: 4.12s\n",
            "633:\ttotal: 7.12s\tremaining: 4.11s\n",
            "634:\ttotal: 7.13s\tremaining: 4.1s\n",
            "635:\ttotal: 7.14s\tremaining: 4.09s\n",
            "636:\ttotal: 7.16s\tremaining: 4.08s\n",
            "637:\ttotal: 7.17s\tremaining: 4.07s\n",
            "638:\ttotal: 7.18s\tremaining: 4.05s\n",
            "639:\ttotal: 7.19s\tremaining: 4.04s\n",
            "640:\ttotal: 7.2s\tremaining: 4.03s\n",
            "641:\ttotal: 7.21s\tremaining: 4.02s\n",
            "642:\ttotal: 7.22s\tremaining: 4.01s\n",
            "643:\ttotal: 7.24s\tremaining: 4s\n",
            "644:\ttotal: 7.25s\tremaining: 3.99s\n",
            "645:\ttotal: 7.26s\tremaining: 3.98s\n",
            "646:\ttotal: 7.27s\tremaining: 3.97s\n",
            "647:\ttotal: 7.28s\tremaining: 3.96s\n",
            "648:\ttotal: 7.29s\tremaining: 3.94s\n",
            "649:\ttotal: 7.3s\tremaining: 3.93s\n",
            "650:\ttotal: 7.32s\tremaining: 3.92s\n",
            "651:\ttotal: 7.33s\tremaining: 3.91s\n",
            "652:\ttotal: 7.34s\tremaining: 3.9s\n",
            "653:\ttotal: 7.36s\tremaining: 3.89s\n",
            "654:\ttotal: 7.37s\tremaining: 3.88s\n",
            "655:\ttotal: 7.38s\tremaining: 3.87s\n",
            "656:\ttotal: 7.39s\tremaining: 3.86s\n",
            "657:\ttotal: 7.4s\tremaining: 3.85s\n",
            "658:\ttotal: 7.41s\tremaining: 3.84s\n",
            "659:\ttotal: 7.43s\tremaining: 3.83s\n",
            "660:\ttotal: 7.44s\tremaining: 3.81s\n",
            "661:\ttotal: 7.45s\tremaining: 3.8s\n",
            "662:\ttotal: 7.46s\tremaining: 3.79s\n",
            "663:\ttotal: 7.47s\tremaining: 3.78s\n",
            "664:\ttotal: 7.49s\tremaining: 3.77s\n",
            "665:\ttotal: 7.5s\tremaining: 3.76s\n",
            "666:\ttotal: 7.51s\tremaining: 3.75s\n",
            "667:\ttotal: 7.52s\tremaining: 3.74s\n",
            "668:\ttotal: 7.53s\tremaining: 3.73s\n",
            "669:\ttotal: 7.54s\tremaining: 3.71s\n",
            "670:\ttotal: 7.55s\tremaining: 3.7s\n",
            "671:\ttotal: 7.57s\tremaining: 3.69s\n",
            "672:\ttotal: 7.58s\tremaining: 3.68s\n",
            "673:\ttotal: 7.59s\tremaining: 3.67s\n",
            "674:\ttotal: 7.6s\tremaining: 3.66s\n",
            "675:\ttotal: 7.62s\tremaining: 3.65s\n",
            "676:\ttotal: 7.63s\tremaining: 3.64s\n",
            "677:\ttotal: 7.64s\tremaining: 3.63s\n",
            "678:\ttotal: 7.65s\tremaining: 3.62s\n",
            "679:\ttotal: 7.66s\tremaining: 3.6s\n",
            "680:\ttotal: 7.67s\tremaining: 3.59s\n",
            "681:\ttotal: 7.68s\tremaining: 3.58s\n",
            "682:\ttotal: 7.69s\tremaining: 3.57s\n",
            "683:\ttotal: 7.71s\tremaining: 3.56s\n",
            "684:\ttotal: 7.72s\tremaining: 3.55s\n",
            "685:\ttotal: 7.73s\tremaining: 3.54s\n",
            "686:\ttotal: 7.74s\tremaining: 3.52s\n",
            "687:\ttotal: 7.75s\tremaining: 3.52s\n",
            "688:\ttotal: 7.77s\tremaining: 3.5s\n",
            "689:\ttotal: 7.78s\tremaining: 3.49s\n",
            "690:\ttotal: 7.79s\tremaining: 3.48s\n",
            "691:\ttotal: 7.8s\tremaining: 3.47s\n",
            "692:\ttotal: 7.81s\tremaining: 3.46s\n",
            "693:\ttotal: 7.83s\tremaining: 3.45s\n",
            "694:\ttotal: 7.83s\tremaining: 3.44s\n",
            "695:\ttotal: 7.85s\tremaining: 3.43s\n",
            "696:\ttotal: 7.86s\tremaining: 3.42s\n",
            "697:\ttotal: 7.87s\tremaining: 3.4s\n",
            "698:\ttotal: 7.88s\tremaining: 3.39s\n",
            "699:\ttotal: 7.89s\tremaining: 3.38s\n",
            "700:\ttotal: 7.9s\tremaining: 3.37s\n",
            "701:\ttotal: 7.91s\tremaining: 3.36s\n",
            "702:\ttotal: 7.93s\tremaining: 3.35s\n",
            "703:\ttotal: 7.94s\tremaining: 3.34s\n",
            "704:\ttotal: 7.95s\tremaining: 3.33s\n",
            "705:\ttotal: 7.96s\tremaining: 3.32s\n",
            "706:\ttotal: 7.98s\tremaining: 3.31s\n",
            "707:\ttotal: 7.99s\tremaining: 3.3s\n",
            "708:\ttotal: 8.01s\tremaining: 3.29s\n",
            "709:\ttotal: 8.02s\tremaining: 3.27s\n",
            "710:\ttotal: 8.03s\tremaining: 3.26s\n",
            "711:\ttotal: 8.04s\tremaining: 3.25s\n",
            "712:\ttotal: 8.05s\tremaining: 3.24s\n",
            "713:\ttotal: 8.06s\tremaining: 3.23s\n",
            "714:\ttotal: 8.07s\tremaining: 3.22s\n",
            "715:\ttotal: 8.09s\tremaining: 3.21s\n",
            "716:\ttotal: 8.1s\tremaining: 3.2s\n",
            "717:\ttotal: 8.11s\tremaining: 3.19s\n",
            "718:\ttotal: 8.12s\tremaining: 3.17s\n",
            "719:\ttotal: 8.13s\tremaining: 3.16s\n",
            "720:\ttotal: 8.14s\tremaining: 3.15s\n",
            "721:\ttotal: 8.16s\tremaining: 3.14s\n",
            "722:\ttotal: 8.17s\tremaining: 3.13s\n",
            "723:\ttotal: 8.19s\tremaining: 3.12s\n",
            "724:\ttotal: 8.2s\tremaining: 3.11s\n",
            "725:\ttotal: 8.21s\tremaining: 3.1s\n",
            "726:\ttotal: 8.22s\tremaining: 3.09s\n",
            "727:\ttotal: 8.23s\tremaining: 3.08s\n",
            "728:\ttotal: 8.24s\tremaining: 3.06s\n",
            "729:\ttotal: 8.26s\tremaining: 3.05s\n",
            "730:\ttotal: 8.27s\tremaining: 3.04s\n",
            "731:\ttotal: 8.28s\tremaining: 3.03s\n",
            "732:\ttotal: 8.29s\tremaining: 3.02s\n",
            "733:\ttotal: 8.3s\tremaining: 3.01s\n",
            "734:\ttotal: 8.31s\tremaining: 3s\n",
            "735:\ttotal: 8.32s\tremaining: 2.98s\n",
            "736:\ttotal: 8.33s\tremaining: 2.97s\n",
            "737:\ttotal: 8.34s\tremaining: 2.96s\n",
            "738:\ttotal: 8.36s\tremaining: 2.95s\n"
          ]
        },
        {
          "name": "stdout",
          "output_type": "stream",
          "text": [
            "739:\ttotal: 8.37s\tremaining: 2.94s\n",
            "740:\ttotal: 8.38s\tremaining: 2.93s\n",
            "741:\ttotal: 8.4s\tremaining: 2.92s\n",
            "742:\ttotal: 8.41s\tremaining: 2.91s\n",
            "743:\ttotal: 8.42s\tremaining: 2.9s\n",
            "744:\ttotal: 8.43s\tremaining: 2.88s\n",
            "745:\ttotal: 8.44s\tremaining: 2.87s\n",
            "746:\ttotal: 8.45s\tremaining: 2.86s\n",
            "747:\ttotal: 8.46s\tremaining: 2.85s\n",
            "748:\ttotal: 8.48s\tremaining: 2.84s\n",
            "749:\ttotal: 8.49s\tremaining: 2.83s\n",
            "750:\ttotal: 8.5s\tremaining: 2.82s\n",
            "751:\ttotal: 8.52s\tremaining: 2.81s\n",
            "752:\ttotal: 8.53s\tremaining: 2.8s\n",
            "753:\ttotal: 8.54s\tremaining: 2.79s\n",
            "754:\ttotal: 8.55s\tremaining: 2.77s\n",
            "755:\ttotal: 8.56s\tremaining: 2.76s\n",
            "756:\ttotal: 8.58s\tremaining: 2.75s\n",
            "757:\ttotal: 8.59s\tremaining: 2.74s\n",
            "758:\ttotal: 8.61s\tremaining: 2.73s\n",
            "759:\ttotal: 8.62s\tremaining: 2.72s\n",
            "760:\ttotal: 8.63s\tremaining: 2.71s\n",
            "761:\ttotal: 8.64s\tremaining: 2.7s\n",
            "762:\ttotal: 8.65s\tremaining: 2.69s\n",
            "763:\ttotal: 8.66s\tremaining: 2.67s\n",
            "764:\ttotal: 8.67s\tremaining: 2.66s\n",
            "765:\ttotal: 8.68s\tremaining: 2.65s\n",
            "766:\ttotal: 8.69s\tremaining: 2.64s\n",
            "767:\ttotal: 8.7s\tremaining: 2.63s\n",
            "768:\ttotal: 8.71s\tremaining: 2.62s\n",
            "769:\ttotal: 8.72s\tremaining: 2.6s\n",
            "770:\ttotal: 8.73s\tremaining: 2.59s\n",
            "771:\ttotal: 8.75s\tremaining: 2.58s\n",
            "772:\ttotal: 8.76s\tremaining: 2.57s\n",
            "773:\ttotal: 8.77s\tremaining: 2.56s\n",
            "774:\ttotal: 8.78s\tremaining: 2.55s\n",
            "775:\ttotal: 8.8s\tremaining: 2.54s\n",
            "776:\ttotal: 8.81s\tremaining: 2.53s\n",
            "777:\ttotal: 8.82s\tremaining: 2.52s\n",
            "778:\ttotal: 8.84s\tremaining: 2.51s\n",
            "779:\ttotal: 8.86s\tremaining: 2.5s\n",
            "780:\ttotal: 8.87s\tremaining: 2.49s\n",
            "781:\ttotal: 8.88s\tremaining: 2.48s\n",
            "782:\ttotal: 8.89s\tremaining: 2.46s\n",
            "783:\ttotal: 8.91s\tremaining: 2.45s\n",
            "784:\ttotal: 8.92s\tremaining: 2.44s\n",
            "785:\ttotal: 8.93s\tremaining: 2.43s\n",
            "786:\ttotal: 8.94s\tremaining: 2.42s\n",
            "787:\ttotal: 8.95s\tremaining: 2.41s\n",
            "788:\ttotal: 8.96s\tremaining: 2.4s\n",
            "789:\ttotal: 8.97s\tremaining: 2.38s\n",
            "790:\ttotal: 8.99s\tremaining: 2.37s\n",
            "791:\ttotal: 9s\tremaining: 2.36s\n",
            "792:\ttotal: 9.01s\tremaining: 2.35s\n",
            "793:\ttotal: 9.03s\tremaining: 2.34s\n",
            "794:\ttotal: 9.04s\tremaining: 2.33s\n",
            "795:\ttotal: 9.05s\tremaining: 2.32s\n",
            "796:\ttotal: 9.06s\tremaining: 2.31s\n",
            "797:\ttotal: 9.08s\tremaining: 2.3s\n",
            "798:\ttotal: 9.09s\tremaining: 2.29s\n",
            "799:\ttotal: 9.1s\tremaining: 2.27s\n",
            "800:\ttotal: 9.11s\tremaining: 2.26s\n",
            "801:\ttotal: 9.12s\tremaining: 2.25s\n",
            "802:\ttotal: 9.13s\tremaining: 2.24s\n",
            "803:\ttotal: 9.14s\tremaining: 2.23s\n",
            "804:\ttotal: 9.15s\tremaining: 2.22s\n",
            "805:\ttotal: 9.16s\tremaining: 2.21s\n",
            "806:\ttotal: 9.17s\tremaining: 2.19s\n",
            "807:\ttotal: 9.19s\tremaining: 2.18s\n",
            "808:\ttotal: 9.2s\tremaining: 2.17s\n",
            "809:\ttotal: 9.22s\tremaining: 2.16s\n",
            "810:\ttotal: 9.23s\tremaining: 2.15s\n",
            "811:\ttotal: 9.24s\tremaining: 2.14s\n",
            "812:\ttotal: 9.25s\tremaining: 2.13s\n",
            "813:\ttotal: 9.26s\tremaining: 2.12s\n",
            "814:\ttotal: 9.27s\tremaining: 2.1s\n",
            "815:\ttotal: 9.28s\tremaining: 2.09s\n",
            "816:\ttotal: 9.29s\tremaining: 2.08s\n",
            "817:\ttotal: 9.3s\tremaining: 2.07s\n",
            "818:\ttotal: 9.32s\tremaining: 2.06s\n",
            "819:\ttotal: 9.33s\tremaining: 2.05s\n",
            "820:\ttotal: 9.34s\tremaining: 2.04s\n",
            "821:\ttotal: 9.35s\tremaining: 2.02s\n",
            "822:\ttotal: 9.36s\tremaining: 2.01s\n",
            "823:\ttotal: 9.37s\tremaining: 2s\n",
            "824:\ttotal: 9.38s\tremaining: 1.99s\n",
            "825:\ttotal: 9.4s\tremaining: 1.98s\n",
            "826:\ttotal: 9.41s\tremaining: 1.97s\n",
            "827:\ttotal: 9.43s\tremaining: 1.96s\n",
            "828:\ttotal: 9.44s\tremaining: 1.95s\n",
            "829:\ttotal: 9.45s\tremaining: 1.93s\n",
            "830:\ttotal: 9.46s\tremaining: 1.92s\n",
            "831:\ttotal: 9.47s\tremaining: 1.91s\n",
            "832:\ttotal: 9.48s\tremaining: 1.9s\n",
            "833:\ttotal: 9.49s\tremaining: 1.89s\n",
            "834:\ttotal: 9.5s\tremaining: 1.88s\n",
            "835:\ttotal: 9.51s\tremaining: 1.87s\n",
            "836:\ttotal: 9.52s\tremaining: 1.85s\n",
            "837:\ttotal: 9.54s\tremaining: 1.84s\n",
            "838:\ttotal: 9.55s\tremaining: 1.83s\n",
            "839:\ttotal: 9.56s\tremaining: 1.82s\n",
            "840:\ttotal: 9.57s\tremaining: 1.81s\n",
            "841:\ttotal: 9.58s\tremaining: 1.8s\n",
            "842:\ttotal: 9.59s\tremaining: 1.79s\n",
            "843:\ttotal: 9.61s\tremaining: 1.77s\n",
            "844:\ttotal: 9.62s\tremaining: 1.76s\n",
            "845:\ttotal: 9.63s\tremaining: 1.75s\n",
            "846:\ttotal: 9.64s\tremaining: 1.74s\n",
            "847:\ttotal: 9.65s\tremaining: 1.73s\n",
            "848:\ttotal: 9.66s\tremaining: 1.72s\n",
            "849:\ttotal: 9.68s\tremaining: 1.71s\n",
            "850:\ttotal: 9.69s\tremaining: 1.7s\n",
            "851:\ttotal: 9.7s\tremaining: 1.69s\n",
            "852:\ttotal: 9.71s\tremaining: 1.67s\n",
            "853:\ttotal: 9.73s\tremaining: 1.66s\n",
            "854:\ttotal: 9.74s\tremaining: 1.65s\n",
            "855:\ttotal: 9.75s\tremaining: 1.64s\n",
            "856:\ttotal: 9.76s\tremaining: 1.63s\n",
            "857:\ttotal: 9.77s\tremaining: 1.62s\n",
            "858:\ttotal: 9.78s\tremaining: 1.6s\n",
            "859:\ttotal: 9.79s\tremaining: 1.59s\n",
            "860:\ttotal: 9.81s\tremaining: 1.58s\n",
            "861:\ttotal: 9.82s\tremaining: 1.57s\n",
            "862:\ttotal: 9.84s\tremaining: 1.56s\n",
            "863:\ttotal: 9.85s\tremaining: 1.55s\n",
            "864:\ttotal: 9.86s\tremaining: 1.54s\n",
            "865:\ttotal: 9.87s\tremaining: 1.53s\n",
            "866:\ttotal: 9.88s\tremaining: 1.51s\n",
            "867:\ttotal: 9.89s\tremaining: 1.5s\n",
            "868:\ttotal: 9.9s\tremaining: 1.49s\n",
            "869:\ttotal: 9.91s\tremaining: 1.48s\n",
            "870:\ttotal: 9.92s\tremaining: 1.47s\n",
            "871:\ttotal: 9.93s\tremaining: 1.46s\n",
            "872:\ttotal: 9.95s\tremaining: 1.45s\n",
            "873:\ttotal: 9.96s\tremaining: 1.44s\n",
            "874:\ttotal: 9.97s\tremaining: 1.42s\n",
            "875:\ttotal: 9.98s\tremaining: 1.41s\n",
            "876:\ttotal: 9.99s\tremaining: 1.4s\n",
            "877:\ttotal: 10s\tremaining: 1.39s\n",
            "878:\ttotal: 10s\tremaining: 1.38s\n",
            "879:\ttotal: 10s\tremaining: 1.37s\n",
            "880:\ttotal: 10s\tremaining: 1.36s\n",
            "881:\ttotal: 10.1s\tremaining: 1.34s\n",
            "882:\ttotal: 10.1s\tremaining: 1.33s\n",
            "883:\ttotal: 10.1s\tremaining: 1.32s\n",
            "884:\ttotal: 10.1s\tremaining: 1.31s\n",
            "885:\ttotal: 10.1s\tremaining: 1.3s\n",
            "886:\ttotal: 10.1s\tremaining: 1.29s\n",
            "887:\ttotal: 10.1s\tremaining: 1.28s\n",
            "888:\ttotal: 10.1s\tremaining: 1.27s\n",
            "889:\ttotal: 10.2s\tremaining: 1.25s\n",
            "890:\ttotal: 10.2s\tremaining: 1.24s\n",
            "891:\ttotal: 10.2s\tremaining: 1.23s\n",
            "892:\ttotal: 10.2s\tremaining: 1.22s\n",
            "893:\ttotal: 10.2s\tremaining: 1.21s\n",
            "894:\ttotal: 10.2s\tremaining: 1.2s\n",
            "895:\ttotal: 10.2s\tremaining: 1.19s\n",
            "896:\ttotal: 10.2s\tremaining: 1.18s\n",
            "897:\ttotal: 10.2s\tremaining: 1.16s\n",
            "898:\ttotal: 10.3s\tremaining: 1.15s\n",
            "899:\ttotal: 10.3s\tremaining: 1.14s\n",
            "900:\ttotal: 10.3s\tremaining: 1.13s\n",
            "901:\ttotal: 10.3s\tremaining: 1.12s\n",
            "902:\ttotal: 10.3s\tremaining: 1.11s\n",
            "903:\ttotal: 10.3s\tremaining: 1.09s\n",
            "904:\ttotal: 10.3s\tremaining: 1.08s\n",
            "905:\ttotal: 10.3s\tremaining: 1.07s\n",
            "906:\ttotal: 10.3s\tremaining: 1.06s\n",
            "907:\ttotal: 10.4s\tremaining: 1.05s\n",
            "908:\ttotal: 10.4s\tremaining: 1.04s\n",
            "909:\ttotal: 10.4s\tremaining: 1.03s\n",
            "910:\ttotal: 10.4s\tremaining: 1.01s\n",
            "911:\ttotal: 10.4s\tremaining: 1s\n",
            "912:\ttotal: 10.4s\tremaining: 993ms\n",
            "913:\ttotal: 10.4s\tremaining: 982ms\n",
            "914:\ttotal: 10.4s\tremaining: 970ms\n",
            "915:\ttotal: 10.5s\tremaining: 959ms\n",
            "916:\ttotal: 10.5s\tremaining: 948ms\n",
            "917:\ttotal: 10.5s\tremaining: 936ms\n",
            "918:\ttotal: 10.5s\tremaining: 925ms\n",
            "919:\ttotal: 10.5s\tremaining: 913ms\n",
            "920:\ttotal: 10.5s\tremaining: 902ms\n",
            "921:\ttotal: 10.5s\tremaining: 891ms\n",
            "922:\ttotal: 10.5s\tremaining: 879ms\n",
            "923:\ttotal: 10.6s\tremaining: 868ms\n",
            "924:\ttotal: 10.6s\tremaining: 856ms\n",
            "925:\ttotal: 10.6s\tremaining: 845ms\n",
            "926:\ttotal: 10.6s\tremaining: 834ms\n",
            "927:\ttotal: 10.6s\tremaining: 822ms\n",
            "928:\ttotal: 10.6s\tremaining: 811ms\n",
            "929:\ttotal: 10.6s\tremaining: 800ms\n",
            "930:\ttotal: 10.6s\tremaining: 789ms\n",
            "931:\ttotal: 10.7s\tremaining: 777ms\n",
            "932:\ttotal: 10.7s\tremaining: 766ms\n",
            "933:\ttotal: 10.7s\tremaining: 754ms\n",
            "934:\ttotal: 10.7s\tremaining: 743ms\n",
            "935:\ttotal: 10.7s\tremaining: 732ms\n",
            "936:\ttotal: 10.7s\tremaining: 720ms\n",
            "937:\ttotal: 10.7s\tremaining: 709ms\n",
            "938:\ttotal: 10.7s\tremaining: 697ms\n",
            "939:\ttotal: 10.7s\tremaining: 686ms\n",
            "940:\ttotal: 10.8s\tremaining: 674ms\n",
            "941:\ttotal: 10.8s\tremaining: 663ms\n",
            "942:\ttotal: 10.8s\tremaining: 652ms\n",
            "943:\ttotal: 10.8s\tremaining: 640ms\n",
            "944:\ttotal: 10.8s\tremaining: 629ms\n",
            "945:\ttotal: 10.8s\tremaining: 617ms\n",
            "946:\ttotal: 10.8s\tremaining: 606ms\n",
            "947:\ttotal: 10.8s\tremaining: 595ms\n",
            "948:\ttotal: 10.9s\tremaining: 583ms\n",
            "949:\ttotal: 10.9s\tremaining: 572ms\n",
            "950:\ttotal: 10.9s\tremaining: 561ms\n",
            "951:\ttotal: 10.9s\tremaining: 549ms\n",
            "952:\ttotal: 10.9s\tremaining: 538ms\n",
            "953:\ttotal: 10.9s\tremaining: 526ms\n",
            "954:\ttotal: 10.9s\tremaining: 515ms\n",
            "955:\ttotal: 10.9s\tremaining: 503ms\n",
            "956:\ttotal: 10.9s\tremaining: 492ms\n",
            "957:\ttotal: 11s\tremaining: 481ms\n",
            "958:\ttotal: 11s\tremaining: 469ms\n",
            "959:\ttotal: 11s\tremaining: 458ms\n",
            "960:\ttotal: 11s\tremaining: 446ms\n",
            "961:\ttotal: 11s\tremaining: 435ms\n",
            "962:\ttotal: 11s\tremaining: 423ms\n",
            "963:\ttotal: 11s\tremaining: 412ms\n",
            "964:\ttotal: 11s\tremaining: 401ms\n",
            "965:\ttotal: 11.1s\tremaining: 389ms\n",
            "966:\ttotal: 11.1s\tremaining: 378ms\n",
            "967:\ttotal: 11.1s\tremaining: 366ms\n",
            "968:\ttotal: 11.1s\tremaining: 355ms\n",
            "969:\ttotal: 11.1s\tremaining: 343ms\n",
            "970:\ttotal: 11.1s\tremaining: 332ms\n",
            "971:\ttotal: 11.1s\tremaining: 321ms\n",
            "972:\ttotal: 11.1s\tremaining: 309ms\n",
            "973:\ttotal: 11.2s\tremaining: 298ms\n",
            "974:\ttotal: 11.2s\tremaining: 286ms\n",
            "975:\ttotal: 11.2s\tremaining: 275ms\n",
            "976:\ttotal: 11.2s\tremaining: 264ms\n",
            "977:\ttotal: 11.2s\tremaining: 252ms\n",
            "978:\ttotal: 11.2s\tremaining: 241ms\n",
            "979:\ttotal: 11.2s\tremaining: 229ms\n"
          ]
        },
        {
          "name": "stdout",
          "output_type": "stream",
          "text": [
            "980:\ttotal: 11.2s\tremaining: 218ms\n",
            "981:\ttotal: 11.3s\tremaining: 206ms\n",
            "982:\ttotal: 11.3s\tremaining: 195ms\n",
            "983:\ttotal: 11.3s\tremaining: 183ms\n",
            "984:\ttotal: 11.3s\tremaining: 172ms\n",
            "985:\ttotal: 11.3s\tremaining: 160ms\n",
            "986:\ttotal: 11.3s\tremaining: 149ms\n",
            "987:\ttotal: 11.3s\tremaining: 138ms\n",
            "988:\ttotal: 11.3s\tremaining: 126ms\n",
            "989:\ttotal: 11.3s\tremaining: 115ms\n",
            "990:\ttotal: 11.4s\tremaining: 103ms\n",
            "991:\ttotal: 11.4s\tremaining: 91.7ms\n",
            "992:\ttotal: 11.4s\tremaining: 80.3ms\n",
            "993:\ttotal: 11.4s\tremaining: 68.8ms\n",
            "994:\ttotal: 11.4s\tremaining: 57.3ms\n",
            "995:\ttotal: 11.4s\tremaining: 45.9ms\n",
            "996:\ttotal: 11.4s\tremaining: 34.4ms\n",
            "997:\ttotal: 11.4s\tremaining: 22.9ms\n",
            "998:\ttotal: 11.5s\tremaining: 11.5ms\n",
            "999:\ttotal: 11.5s\tremaining: 0us\n"
          ]
        }
      ],
      "source": [
        "cat_model_base2 = CatBoostClassifier (random_state = 42, eval_metric = 'AUC')\n",
        "cat_model_base2.fit(X_train, y_train, early_stopping_rounds = 100, cat_features=categorical_columns)\n",
        "pred_cat2 = cat_model_base2.predict(X_test)"
      ]
    },
    {
      "cell_type": "code",
      "execution_count": null,
      "id": "9d530841",
      "metadata": {
        "id": "9d530841",
        "outputId": "9f27a812-b956-4da8-9f93-218015a3f0cb"
      },
      "outputs": [
        {
          "name": "stdout",
          "output_type": "stream",
          "text": [
            "Test Accuracy:  0.8328\n"
          ]
        }
      ],
      "source": [
        "print(\"Test Accuracy: \", accuracy_score(y_test.drop('ID', axis=1),pred_cat2))"
      ]
    },
    {
      "cell_type": "code",
      "execution_count": null,
      "id": "4c07d8dc",
      "metadata": {
        "id": "4c07d8dc",
        "outputId": "391a5a30-f8ce-4e7f-c01d-d7b1e9dbaa8b"
      },
      "outputs": [
        {
          "data": {
            "image/png": "[encoded data removed]",
            "text/plain": [
              "<Figure size 432x288 with 2 Axes>"
            ]
          },
          "metadata": {
            "needs_background": "light"
          },
          "output_type": "display_data"
        }
      ],
      "source": [
        "# confusion matrix\n",
        "cat_confusion_matrix = metrics.confusion_matrix(y_test.drop('ID', axis=1),pred_cat2)\n",
        "sns.heatmap(cat_confusion_matrix, annot=True, fmt=\"d\")\n",
        "\n",
        "plt.xlabel(\"Predicted Label\", fontsize= 12)\n",
        "plt.ylabel(\"True Label\", fontsize= 12)\n",
        "\n",
        "plt.show()"
      ]
    },
    {
      "cell_type": "code",
      "execution_count": null,
      "id": "2be9c9e1",
      "metadata": {
        "id": "2be9c9e1",
        "outputId": "df0f0f9b-a358-4508-a51b-083cab321911"
      },
      "outputs": [
        {
          "name": "stdout",
          "output_type": "stream",
          "text": [
            "auc_score: 0.796080476282265\n"
          ]
        }
      ],
      "source": [
        "model_score(X_test, cat_model_base2)"
      ]
    },
    {
      "cell_type": "markdown",
      "id": "59f398f2",
      "metadata": {
        "id": "59f398f2"
      },
      "source": [
        "#### Cat 6 - using grid search on best previous model (model 2)"
      ]
    },
    {
      "cell_type": "code",
      "execution_count": null,
      "id": "813022ce",
      "metadata": {
        "id": "813022ce"
      },
      "outputs": [],
      "source": [
        "params2={\n",
        "    'depth': [6,8,10],\n",
        "    'learning_rate' : [0.01, 0.05, 0.1],\n",
        "    'iterations'    : [30, 50, 100]\n",
        "}"
      ]
    },
    {
      "cell_type": "code",
      "execution_count": null,
      "id": "3eacda18",
      "metadata": {
        "id": "3eacda18",
        "outputId": "2af67c30-4c6b-454e-e73a-573c636c4282"
      },
      "outputs": [
        {
          "name": "stdout",
          "output_type": "stream",
          "text": [
            "Learning rate set to 0.038933\n",
            "0:\tlearn: 0.6718318\ttotal: 10.2ms\tremaining: 10.2s\n",
            "1:\tlearn: 0.6524552\ttotal: 19.5ms\tremaining: 9.75s\n",
            "2:\tlearn: 0.6346665\ttotal: 28.7ms\tremaining: 9.53s\n",
            "3:\tlearn: 0.6183811\ttotal: 36.6ms\tremaining: 9.11s\n",
            "4:\tlearn: 0.6031933\ttotal: 45.6ms\tremaining: 9.07s\n",
            "5:\tlearn: 0.5899206\ttotal: 53.5ms\tremaining: 8.86s\n",
            "6:\tlearn: 0.5772396\ttotal: 60.3ms\tremaining: 8.55s\n",
            "7:\tlearn: 0.5659650\ttotal: 69.5ms\tremaining: 8.62s\n",
            "8:\tlearn: 0.5553246\ttotal: 78.7ms\tremaining: 8.66s\n",
            "9:\tlearn: 0.5458733\ttotal: 87.4ms\tremaining: 8.65s\n",
            "10:\tlearn: 0.5369230\ttotal: 94.7ms\tremaining: 8.52s\n",
            "11:\tlearn: 0.5290021\ttotal: 103ms\tremaining: 8.49s\n",
            "12:\tlearn: 0.5215809\ttotal: 112ms\tremaining: 8.49s\n",
            "13:\tlearn: 0.5149435\ttotal: 122ms\tremaining: 8.58s\n",
            "14:\tlearn: 0.5088414\ttotal: 130ms\tremaining: 8.51s\n",
            "15:\tlearn: 0.5034724\ttotal: 138ms\tremaining: 8.49s\n",
            "16:\tlearn: 0.4982462\ttotal: 145ms\tremaining: 8.4s\n",
            "17:\tlearn: 0.4936288\ttotal: 152ms\tremaining: 8.28s\n",
            "18:\tlearn: 0.4895183\ttotal: 158ms\tremaining: 8.16s\n",
            "19:\tlearn: 0.4856166\ttotal: 166ms\tremaining: 8.15s\n",
            "20:\tlearn: 0.4821189\ttotal: 175ms\tremaining: 8.14s\n",
            "21:\tlearn: 0.4787824\ttotal: 183ms\tremaining: 8.12s\n",
            "22:\tlearn: 0.4755681\ttotal: 191ms\tremaining: 8.13s\n",
            "23:\tlearn: 0.4727353\ttotal: 204ms\tremaining: 8.3s\n",
            "24:\tlearn: 0.4701161\ttotal: 216ms\tremaining: 8.42s\n",
            "25:\tlearn: 0.4677901\ttotal: 229ms\tremaining: 8.57s\n",
            "26:\tlearn: 0.4655239\ttotal: 239ms\tremaining: 8.61s\n",
            "27:\tlearn: 0.4634913\ttotal: 246ms\tremaining: 8.54s\n",
            "28:\tlearn: 0.4616012\ttotal: 254ms\tremaining: 8.51s\n",
            "29:\tlearn: 0.4597810\ttotal: 263ms\tremaining: 8.51s\n",
            "30:\tlearn: 0.4581717\ttotal: 271ms\tremaining: 8.47s\n",
            "31:\tlearn: 0.4565660\ttotal: 280ms\tremaining: 8.47s\n",
            "32:\tlearn: 0.4549621\ttotal: 289ms\tremaining: 8.48s\n",
            "33:\tlearn: 0.4536508\ttotal: 299ms\tremaining: 8.49s\n",
            "34:\tlearn: 0.4526900\ttotal: 303ms\tremaining: 8.35s\n",
            "35:\tlearn: 0.4514736\ttotal: 311ms\tremaining: 8.34s\n",
            "36:\tlearn: 0.4504238\ttotal: 321ms\tremaining: 8.36s\n",
            "37:\tlearn: 0.4493892\ttotal: 330ms\tremaining: 8.36s\n",
            "38:\tlearn: 0.4485891\ttotal: 338ms\tremaining: 8.34s\n",
            "39:\tlearn: 0.4477475\ttotal: 347ms\tremaining: 8.32s\n",
            "40:\tlearn: 0.4469905\ttotal: 354ms\tremaining: 8.28s\n",
            "41:\tlearn: 0.4462986\ttotal: 362ms\tremaining: 8.25s\n",
            "42:\tlearn: 0.4457505\ttotal: 370ms\tremaining: 8.23s\n",
            "43:\tlearn: 0.4452064\ttotal: 379ms\tremaining: 8.23s\n",
            "44:\tlearn: 0.4445761\ttotal: 387ms\tremaining: 8.21s\n",
            "45:\tlearn: 0.4438895\ttotal: 396ms\tremaining: 8.2s\n",
            "46:\tlearn: 0.4433217\ttotal: 404ms\tremaining: 8.2s\n",
            "47:\tlearn: 0.4427450\ttotal: 416ms\tremaining: 8.25s\n",
            "48:\tlearn: 0.4421867\ttotal: 426ms\tremaining: 8.28s\n",
            "49:\tlearn: 0.4416702\ttotal: 438ms\tremaining: 8.33s\n",
            "50:\tlearn: 0.4412883\ttotal: 448ms\tremaining: 8.34s\n",
            "51:\tlearn: 0.4408226\ttotal: 457ms\tremaining: 8.34s\n",
            "52:\tlearn: 0.4402880\ttotal: 467ms\tremaining: 8.34s\n",
            "53:\tlearn: 0.4398938\ttotal: 475ms\tremaining: 8.32s\n",
            "54:\tlearn: 0.4394448\ttotal: 484ms\tremaining: 8.32s\n",
            "55:\tlearn: 0.4390318\ttotal: 493ms\tremaining: 8.31s\n",
            "56:\tlearn: 0.4385106\ttotal: 502ms\tremaining: 8.31s\n",
            "57:\tlearn: 0.4382027\ttotal: 511ms\tremaining: 8.3s\n",
            "58:\tlearn: 0.4379295\ttotal: 519ms\tremaining: 8.28s\n",
            "59:\tlearn: 0.4376155\ttotal: 528ms\tremaining: 8.27s\n",
            "60:\tlearn: 0.4373141\ttotal: 537ms\tremaining: 8.27s\n",
            "61:\tlearn: 0.4370589\ttotal: 546ms\tremaining: 8.27s\n",
            "62:\tlearn: 0.4367525\ttotal: 557ms\tremaining: 8.28s\n",
            "63:\tlearn: 0.4364309\ttotal: 567ms\tremaining: 8.29s\n",
            "64:\tlearn: 0.4360939\ttotal: 575ms\tremaining: 8.28s\n",
            "65:\tlearn: 0.4357835\ttotal: 585ms\tremaining: 8.28s\n",
            "66:\tlearn: 0.4356163\ttotal: 595ms\tremaining: 8.29s\n",
            "67:\tlearn: 0.4353730\ttotal: 605ms\tremaining: 8.29s\n",
            "68:\tlearn: 0.4349908\ttotal: 615ms\tremaining: 8.3s\n",
            "69:\tlearn: 0.4347598\ttotal: 628ms\tremaining: 8.34s\n",
            "70:\tlearn: 0.4345990\ttotal: 641ms\tremaining: 8.39s\n",
            "71:\tlearn: 0.4344033\ttotal: 652ms\tremaining: 8.4s\n",
            "72:\tlearn: 0.4341897\ttotal: 661ms\tremaining: 8.4s\n",
            "73:\tlearn: 0.4339546\ttotal: 671ms\tremaining: 8.4s\n",
            "74:\tlearn: 0.4336565\ttotal: 679ms\tremaining: 8.38s\n",
            "75:\tlearn: 0.4335148\ttotal: 688ms\tremaining: 8.37s\n",
            "76:\tlearn: 0.4333268\ttotal: 699ms\tremaining: 8.37s\n",
            "77:\tlearn: 0.4330946\ttotal: 707ms\tremaining: 8.36s\n",
            "78:\tlearn: 0.4329309\ttotal: 718ms\tremaining: 8.37s\n",
            "79:\tlearn: 0.4327854\ttotal: 727ms\tremaining: 8.36s\n",
            "80:\tlearn: 0.4326523\ttotal: 736ms\tremaining: 8.35s\n",
            "81:\tlearn: 0.4325579\ttotal: 747ms\tremaining: 8.36s\n",
            "82:\tlearn: 0.4323622\ttotal: 756ms\tremaining: 8.35s\n",
            "83:\tlearn: 0.4322800\ttotal: 766ms\tremaining: 8.36s\n",
            "84:\tlearn: 0.4320452\ttotal: 777ms\tremaining: 8.37s\n",
            "85:\tlearn: 0.4318849\ttotal: 787ms\tremaining: 8.36s\n",
            "86:\tlearn: 0.4317119\ttotal: 797ms\tremaining: 8.37s\n",
            "87:\tlearn: 0.4316545\ttotal: 806ms\tremaining: 8.36s\n",
            "88:\tlearn: 0.4313999\ttotal: 818ms\tremaining: 8.37s\n",
            "89:\tlearn: 0.4313331\ttotal: 830ms\tremaining: 8.39s\n",
            "90:\tlearn: 0.4311372\ttotal: 840ms\tremaining: 8.39s\n",
            "91:\tlearn: 0.4309331\ttotal: 850ms\tremaining: 8.39s\n",
            "92:\tlearn: 0.4307508\ttotal: 860ms\tremaining: 8.38s\n",
            "93:\tlearn: 0.4305827\ttotal: 870ms\tremaining: 8.38s\n",
            "94:\tlearn: 0.4304201\ttotal: 884ms\tremaining: 8.42s\n",
            "95:\tlearn: 0.4302797\ttotal: 895ms\tremaining: 8.42s\n",
            "96:\tlearn: 0.4301216\ttotal: 910ms\tremaining: 8.47s\n",
            "97:\tlearn: 0.4300365\ttotal: 922ms\tremaining: 8.49s\n",
            "98:\tlearn: 0.4298645\ttotal: 938ms\tremaining: 8.54s\n",
            "99:\tlearn: 0.4296809\ttotal: 957ms\tremaining: 8.62s\n",
            "100:\tlearn: 0.4295856\ttotal: 974ms\tremaining: 8.67s\n",
            "101:\tlearn: 0.4294616\ttotal: 993ms\tremaining: 8.74s\n",
            "102:\tlearn: 0.4293262\ttotal: 1.01s\tremaining: 8.79s\n",
            "103:\tlearn: 0.4292118\ttotal: 1.03s\tremaining: 8.85s\n",
            "104:\tlearn: 0.4290585\ttotal: 1.04s\tremaining: 8.89s\n",
            "105:\tlearn: 0.4289742\ttotal: 1.06s\tremaining: 8.98s\n",
            "106:\tlearn: 0.4288541\ttotal: 1.08s\tremaining: 9.03s\n",
            "107:\tlearn: 0.4287207\ttotal: 1.1s\tremaining: 9.11s\n",
            "108:\tlearn: 0.4286366\ttotal: 1.12s\tremaining: 9.16s\n",
            "109:\tlearn: 0.4285349\ttotal: 1.13s\tremaining: 9.17s\n",
            "110:\tlearn: 0.4284972\ttotal: 1.15s\tremaining: 9.18s\n",
            "111:\tlearn: 0.4282755\ttotal: 1.16s\tremaining: 9.17s\n",
            "112:\tlearn: 0.4281940\ttotal: 1.17s\tremaining: 9.16s\n",
            "113:\tlearn: 0.4280542\ttotal: 1.18s\tremaining: 9.15s\n",
            "114:\tlearn: 0.4279942\ttotal: 1.19s\tremaining: 9.14s\n",
            "115:\tlearn: 0.4278748\ttotal: 1.2s\tremaining: 9.14s\n",
            "116:\tlearn: 0.4278052\ttotal: 1.21s\tremaining: 9.15s\n",
            "117:\tlearn: 0.4276780\ttotal: 1.22s\tremaining: 9.14s\n",
            "118:\tlearn: 0.4276006\ttotal: 1.24s\tremaining: 9.15s\n",
            "119:\tlearn: 0.4275507\ttotal: 1.25s\tremaining: 9.14s\n",
            "120:\tlearn: 0.4274399\ttotal: 1.26s\tremaining: 9.15s\n",
            "121:\tlearn: 0.4273361\ttotal: 1.27s\tremaining: 9.14s\n",
            "122:\tlearn: 0.4271948\ttotal: 1.28s\tremaining: 9.14s\n",
            "123:\tlearn: 0.4269930\ttotal: 1.29s\tremaining: 9.13s\n",
            "124:\tlearn: 0.4269203\ttotal: 1.3s\tremaining: 9.11s\n",
            "125:\tlearn: 0.4268130\ttotal: 1.31s\tremaining: 9.1s\n",
            "126:\tlearn: 0.4267474\ttotal: 1.32s\tremaining: 9.08s\n",
            "127:\tlearn: 0.4266015\ttotal: 1.33s\tremaining: 9.08s\n",
            "128:\tlearn: 0.4265303\ttotal: 1.34s\tremaining: 9.06s\n",
            "129:\tlearn: 0.4264322\ttotal: 1.35s\tremaining: 9.04s\n",
            "130:\tlearn: 0.4263419\ttotal: 1.36s\tremaining: 9.02s\n",
            "131:\tlearn: 0.4262348\ttotal: 1.37s\tremaining: 9.01s\n",
            "132:\tlearn: 0.4261564\ttotal: 1.38s\tremaining: 8.99s\n",
            "133:\tlearn: 0.4260866\ttotal: 1.39s\tremaining: 8.98s\n",
            "134:\tlearn: 0.4260866\ttotal: 1.39s\tremaining: 8.92s\n",
            "135:\tlearn: 0.4260117\ttotal: 1.4s\tremaining: 8.91s\n",
            "136:\tlearn: 0.4259526\ttotal: 1.41s\tremaining: 8.9s\n",
            "137:\tlearn: 0.4258325\ttotal: 1.42s\tremaining: 8.88s\n",
            "138:\tlearn: 0.4258168\ttotal: 1.43s\tremaining: 8.84s\n",
            "139:\tlearn: 0.4257864\ttotal: 1.44s\tremaining: 8.84s\n",
            "140:\tlearn: 0.4256435\ttotal: 1.45s\tremaining: 8.84s\n",
            "141:\tlearn: 0.4255338\ttotal: 1.46s\tremaining: 8.83s\n",
            "142:\tlearn: 0.4254302\ttotal: 1.47s\tremaining: 8.81s\n",
            "143:\tlearn: 0.4253261\ttotal: 1.48s\tremaining: 8.81s\n",
            "144:\tlearn: 0.4252980\ttotal: 1.5s\tremaining: 8.82s\n",
            "145:\tlearn: 0.4252220\ttotal: 1.51s\tremaining: 8.85s\n",
            "146:\tlearn: 0.4251944\ttotal: 1.52s\tremaining: 8.85s\n",
            "147:\tlearn: 0.4251051\ttotal: 1.54s\tremaining: 8.85s\n",
            "148:\tlearn: 0.4250201\ttotal: 1.55s\tremaining: 8.88s\n",
            "149:\tlearn: 0.4249531\ttotal: 1.57s\tremaining: 8.88s\n",
            "150:\tlearn: 0.4249063\ttotal: 1.58s\tremaining: 8.88s\n",
            "151:\tlearn: 0.4248168\ttotal: 1.59s\tremaining: 8.9s\n",
            "152:\tlearn: 0.4247874\ttotal: 1.61s\tremaining: 8.9s\n",
            "153:\tlearn: 0.4247146\ttotal: 1.62s\tremaining: 8.9s\n",
            "154:\tlearn: 0.4246466\ttotal: 1.63s\tremaining: 8.89s\n",
            "155:\tlearn: 0.4245997\ttotal: 1.65s\tremaining: 8.9s\n",
            "156:\tlearn: 0.4244951\ttotal: 1.66s\tremaining: 8.9s\n",
            "157:\tlearn: 0.4244268\ttotal: 1.67s\tremaining: 8.91s\n",
            "158:\tlearn: 0.4243637\ttotal: 1.68s\tremaining: 8.91s\n",
            "159:\tlearn: 0.4243011\ttotal: 1.7s\tremaining: 8.91s\n",
            "160:\tlearn: 0.4242956\ttotal: 1.71s\tremaining: 8.91s\n",
            "161:\tlearn: 0.4241972\ttotal: 1.72s\tremaining: 8.89s\n",
            "162:\tlearn: 0.4241596\ttotal: 1.73s\tremaining: 8.87s\n",
            "163:\tlearn: 0.4240846\ttotal: 1.74s\tremaining: 8.85s\n",
            "164:\tlearn: 0.4240416\ttotal: 1.75s\tremaining: 8.84s\n",
            "165:\tlearn: 0.4239356\ttotal: 1.75s\tremaining: 8.82s\n",
            "166:\tlearn: 0.4238290\ttotal: 1.76s\tremaining: 8.8s\n",
            "167:\tlearn: 0.4237823\ttotal: 1.77s\tremaining: 8.79s\n",
            "168:\tlearn: 0.4236390\ttotal: 1.78s\tremaining: 8.77s\n",
            "169:\tlearn: 0.4236214\ttotal: 1.79s\tremaining: 8.75s\n",
            "170:\tlearn: 0.4235596\ttotal: 1.8s\tremaining: 8.73s\n",
            "171:\tlearn: 0.4235110\ttotal: 1.81s\tremaining: 8.71s\n",
            "172:\tlearn: 0.4233746\ttotal: 1.82s\tremaining: 8.69s\n"
          ]
        },
        {
          "name": "stdout",
          "output_type": "stream",
          "text": [
            "173:\tlearn: 0.4233419\ttotal: 1.83s\tremaining: 8.67s\n",
            "174:\tlearn: 0.4233182\ttotal: 1.83s\tremaining: 8.64s\n",
            "175:\tlearn: 0.4232487\ttotal: 1.84s\tremaining: 8.63s\n",
            "176:\tlearn: 0.4231088\ttotal: 1.85s\tremaining: 8.63s\n",
            "177:\tlearn: 0.4230656\ttotal: 1.86s\tremaining: 8.61s\n",
            "178:\tlearn: 0.4229912\ttotal: 1.87s\tremaining: 8.59s\n",
            "179:\tlearn: 0.4229408\ttotal: 1.88s\tremaining: 8.58s\n",
            "180:\tlearn: 0.4228606\ttotal: 1.89s\tremaining: 8.57s\n",
            "181:\tlearn: 0.4227240\ttotal: 1.9s\tremaining: 8.55s\n",
            "182:\tlearn: 0.4225797\ttotal: 1.91s\tremaining: 8.55s\n",
            "183:\tlearn: 0.4225482\ttotal: 1.92s\tremaining: 8.52s\n",
            "184:\tlearn: 0.4225238\ttotal: 1.93s\tremaining: 8.51s\n",
            "185:\tlearn: 0.4224621\ttotal: 1.94s\tremaining: 8.5s\n",
            "186:\tlearn: 0.4223263\ttotal: 1.95s\tremaining: 8.49s\n",
            "187:\tlearn: 0.4222165\ttotal: 1.96s\tremaining: 8.47s\n",
            "188:\tlearn: 0.4220595\ttotal: 1.97s\tremaining: 8.46s\n",
            "189:\tlearn: 0.4220217\ttotal: 1.98s\tremaining: 8.45s\n",
            "190:\tlearn: 0.4219989\ttotal: 1.99s\tremaining: 8.44s\n",
            "191:\tlearn: 0.4218150\ttotal: 2s\tremaining: 8.42s\n",
            "192:\tlearn: 0.4217756\ttotal: 2.01s\tremaining: 8.4s\n",
            "193:\tlearn: 0.4217212\ttotal: 2.02s\tremaining: 8.39s\n",
            "194:\tlearn: 0.4217114\ttotal: 2.03s\tremaining: 8.38s\n",
            "195:\tlearn: 0.4216904\ttotal: 2.04s\tremaining: 8.36s\n",
            "196:\tlearn: 0.4215968\ttotal: 2.05s\tremaining: 8.35s\n",
            "197:\tlearn: 0.4215641\ttotal: 2.06s\tremaining: 8.33s\n",
            "198:\tlearn: 0.4214920\ttotal: 2.07s\tremaining: 8.32s\n",
            "199:\tlearn: 0.4214292\ttotal: 2.08s\tremaining: 8.3s\n",
            "200:\tlearn: 0.4213519\ttotal: 2.08s\tremaining: 8.29s\n",
            "201:\tlearn: 0.4212989\ttotal: 2.09s\tremaining: 8.28s\n",
            "202:\tlearn: 0.4212952\ttotal: 2.1s\tremaining: 8.26s\n",
            "203:\tlearn: 0.4212277\ttotal: 2.11s\tremaining: 8.24s\n",
            "204:\tlearn: 0.4211604\ttotal: 2.12s\tremaining: 8.22s\n",
            "205:\tlearn: 0.4210890\ttotal: 2.13s\tremaining: 8.21s\n",
            "206:\tlearn: 0.4210421\ttotal: 2.14s\tremaining: 8.19s\n",
            "207:\tlearn: 0.4210098\ttotal: 2.14s\tremaining: 8.17s\n",
            "208:\tlearn: 0.4209564\ttotal: 2.15s\tremaining: 8.15s\n",
            "209:\tlearn: 0.4209168\ttotal: 2.16s\tremaining: 8.14s\n",
            "210:\tlearn: 0.4208759\ttotal: 2.17s\tremaining: 8.12s\n",
            "211:\tlearn: 0.4208358\ttotal: 2.18s\tremaining: 8.11s\n",
            "212:\tlearn: 0.4207817\ttotal: 2.19s\tremaining: 8.09s\n",
            "213:\tlearn: 0.4207565\ttotal: 2.2s\tremaining: 8.08s\n",
            "214:\tlearn: 0.4206905\ttotal: 2.21s\tremaining: 8.07s\n",
            "215:\tlearn: 0.4206671\ttotal: 2.22s\tremaining: 8.05s\n",
            "216:\tlearn: 0.4205929\ttotal: 2.23s\tremaining: 8.04s\n",
            "217:\tlearn: 0.4204445\ttotal: 2.24s\tremaining: 8.03s\n",
            "218:\tlearn: 0.4203842\ttotal: 2.25s\tremaining: 8.03s\n",
            "219:\tlearn: 0.4203628\ttotal: 2.26s\tremaining: 8.02s\n",
            "220:\tlearn: 0.4202500\ttotal: 2.27s\tremaining: 8.01s\n",
            "221:\tlearn: 0.4201309\ttotal: 2.28s\tremaining: 8s\n",
            "222:\tlearn: 0.4200972\ttotal: 2.29s\tremaining: 7.98s\n",
            "223:\tlearn: 0.4200267\ttotal: 2.3s\tremaining: 7.96s\n",
            "224:\tlearn: 0.4199717\ttotal: 2.31s\tremaining: 7.95s\n",
            "225:\tlearn: 0.4198576\ttotal: 2.32s\tremaining: 7.94s\n",
            "226:\tlearn: 0.4198026\ttotal: 2.33s\tremaining: 7.92s\n",
            "227:\tlearn: 0.4196188\ttotal: 2.34s\tremaining: 7.91s\n",
            "228:\tlearn: 0.4195278\ttotal: 2.35s\tremaining: 7.9s\n",
            "229:\tlearn: 0.4195044\ttotal: 2.35s\tremaining: 7.88s\n",
            "230:\tlearn: 0.4194343\ttotal: 2.36s\tremaining: 7.87s\n",
            "231:\tlearn: 0.4193524\ttotal: 2.37s\tremaining: 7.86s\n",
            "232:\tlearn: 0.4192621\ttotal: 2.38s\tremaining: 7.84s\n",
            "233:\tlearn: 0.4192152\ttotal: 2.39s\tremaining: 7.83s\n",
            "234:\tlearn: 0.4190794\ttotal: 2.4s\tremaining: 7.81s\n",
            "235:\tlearn: 0.4190326\ttotal: 2.41s\tremaining: 7.8s\n",
            "236:\tlearn: 0.4189241\ttotal: 2.42s\tremaining: 7.79s\n",
            "237:\tlearn: 0.4188738\ttotal: 2.43s\tremaining: 7.78s\n",
            "238:\tlearn: 0.4188422\ttotal: 2.44s\tremaining: 7.76s\n",
            "239:\tlearn: 0.4187964\ttotal: 2.45s\tremaining: 7.76s\n",
            "240:\tlearn: 0.4187581\ttotal: 2.46s\tremaining: 7.74s\n",
            "241:\tlearn: 0.4187119\ttotal: 2.47s\tremaining: 7.74s\n",
            "242:\tlearn: 0.4187098\ttotal: 2.48s\tremaining: 7.73s\n",
            "243:\tlearn: 0.4186488\ttotal: 2.49s\tremaining: 7.72s\n",
            "244:\tlearn: 0.4185825\ttotal: 2.5s\tremaining: 7.71s\n",
            "245:\tlearn: 0.4185689\ttotal: 2.51s\tremaining: 7.7s\n",
            "246:\tlearn: 0.4184991\ttotal: 2.52s\tremaining: 7.69s\n",
            "247:\tlearn: 0.4183827\ttotal: 2.53s\tremaining: 7.68s\n",
            "248:\tlearn: 0.4183437\ttotal: 2.54s\tremaining: 7.67s\n",
            "249:\tlearn: 0.4183274\ttotal: 2.55s\tremaining: 7.65s\n",
            "250:\tlearn: 0.4182811\ttotal: 2.56s\tremaining: 7.64s\n",
            "251:\tlearn: 0.4182038\ttotal: 2.57s\tremaining: 7.63s\n",
            "252:\tlearn: 0.4181863\ttotal: 2.58s\tremaining: 7.61s\n",
            "253:\tlearn: 0.4181046\ttotal: 2.59s\tremaining: 7.6s\n",
            "254:\tlearn: 0.4180509\ttotal: 2.6s\tremaining: 7.59s\n",
            "255:\tlearn: 0.4179783\ttotal: 2.61s\tremaining: 7.58s\n",
            "256:\tlearn: 0.4178886\ttotal: 2.62s\tremaining: 7.56s\n",
            "257:\tlearn: 0.4178000\ttotal: 2.63s\tremaining: 7.55s\n",
            "258:\tlearn: 0.4176957\ttotal: 2.63s\tremaining: 7.54s\n",
            "259:\tlearn: 0.4175971\ttotal: 2.64s\tremaining: 7.53s\n",
            "260:\tlearn: 0.4175018\ttotal: 2.66s\tremaining: 7.52s\n",
            "261:\tlearn: 0.4174145\ttotal: 2.67s\tremaining: 7.51s\n",
            "262:\tlearn: 0.4173462\ttotal: 2.68s\tremaining: 7.51s\n",
            "263:\tlearn: 0.4172433\ttotal: 2.69s\tremaining: 7.5s\n",
            "264:\tlearn: 0.4171705\ttotal: 2.7s\tremaining: 7.49s\n",
            "265:\tlearn: 0.4171301\ttotal: 2.71s\tremaining: 7.48s\n",
            "266:\tlearn: 0.4171112\ttotal: 2.72s\tremaining: 7.47s\n",
            "267:\tlearn: 0.4170352\ttotal: 2.73s\tremaining: 7.46s\n",
            "268:\tlearn: 0.4170284\ttotal: 2.74s\tremaining: 7.45s\n",
            "269:\tlearn: 0.4169527\ttotal: 2.75s\tremaining: 7.44s\n",
            "270:\tlearn: 0.4169213\ttotal: 2.76s\tremaining: 7.42s\n",
            "271:\tlearn: 0.4168774\ttotal: 2.77s\tremaining: 7.41s\n",
            "272:\tlearn: 0.4167243\ttotal: 2.78s\tremaining: 7.4s\n",
            "273:\tlearn: 0.4165667\ttotal: 2.79s\tremaining: 7.39s\n",
            "274:\tlearn: 0.4164555\ttotal: 2.8s\tremaining: 7.38s\n",
            "275:\tlearn: 0.4164143\ttotal: 2.81s\tremaining: 7.37s\n",
            "276:\tlearn: 0.4163669\ttotal: 2.82s\tremaining: 7.36s\n",
            "277:\tlearn: 0.4163549\ttotal: 2.83s\tremaining: 7.35s\n",
            "278:\tlearn: 0.4162433\ttotal: 2.84s\tremaining: 7.33s\n",
            "279:\tlearn: 0.4161273\ttotal: 2.85s\tremaining: 7.32s\n",
            "280:\tlearn: 0.4160892\ttotal: 2.86s\tremaining: 7.31s\n",
            "281:\tlearn: 0.4159360\ttotal: 2.87s\tremaining: 7.3s\n",
            "282:\tlearn: 0.4158887\ttotal: 2.88s\tremaining: 7.31s\n",
            "283:\tlearn: 0.4158346\ttotal: 2.9s\tremaining: 7.3s\n",
            "284:\tlearn: 0.4157447\ttotal: 2.91s\tremaining: 7.29s\n",
            "285:\tlearn: 0.4155904\ttotal: 2.92s\tremaining: 7.28s\n",
            "286:\tlearn: 0.4154719\ttotal: 2.92s\tremaining: 7.27s\n",
            "287:\tlearn: 0.4153060\ttotal: 2.94s\tremaining: 7.26s\n",
            "288:\tlearn: 0.4151589\ttotal: 2.94s\tremaining: 7.25s\n",
            "289:\tlearn: 0.4149678\ttotal: 2.96s\tremaining: 7.24s\n",
            "290:\tlearn: 0.4149380\ttotal: 2.97s\tremaining: 7.23s\n",
            "291:\tlearn: 0.4148252\ttotal: 2.98s\tremaining: 7.22s\n",
            "292:\tlearn: 0.4147514\ttotal: 2.99s\tremaining: 7.21s\n",
            "293:\tlearn: 0.4146526\ttotal: 3s\tremaining: 7.2s\n",
            "294:\tlearn: 0.4145498\ttotal: 3.01s\tremaining: 7.19s\n",
            "295:\tlearn: 0.4145354\ttotal: 3.02s\tremaining: 7.18s\n",
            "296:\tlearn: 0.4145146\ttotal: 3.03s\tremaining: 7.17s\n",
            "297:\tlearn: 0.4144153\ttotal: 3.04s\tremaining: 7.16s\n",
            "298:\tlearn: 0.4143530\ttotal: 3.05s\tremaining: 7.14s\n",
            "299:\tlearn: 0.4142549\ttotal: 3.06s\tremaining: 7.13s\n",
            "300:\tlearn: 0.4142347\ttotal: 3.07s\tremaining: 7.13s\n",
            "301:\tlearn: 0.4140287\ttotal: 3.08s\tremaining: 7.13s\n",
            "302:\tlearn: 0.4139115\ttotal: 3.09s\tremaining: 7.12s\n",
            "303:\tlearn: 0.4138399\ttotal: 3.1s\tremaining: 7.11s\n",
            "304:\tlearn: 0.4138015\ttotal: 3.11s\tremaining: 7.09s\n",
            "305:\tlearn: 0.4136545\ttotal: 3.13s\tremaining: 7.09s\n",
            "306:\tlearn: 0.4135892\ttotal: 3.13s\tremaining: 7.08s\n",
            "307:\tlearn: 0.4134441\ttotal: 3.15s\tremaining: 7.07s\n",
            "308:\tlearn: 0.4133620\ttotal: 3.16s\tremaining: 7.06s\n",
            "309:\tlearn: 0.4132851\ttotal: 3.17s\tremaining: 7.05s\n",
            "310:\tlearn: 0.4132564\ttotal: 3.17s\tremaining: 7.03s\n",
            "311:\tlearn: 0.4131303\ttotal: 3.18s\tremaining: 7.02s\n",
            "312:\tlearn: 0.4130339\ttotal: 3.19s\tremaining: 7.01s\n",
            "313:\tlearn: 0.4129672\ttotal: 3.2s\tremaining: 7s\n",
            "314:\tlearn: 0.4129293\ttotal: 3.21s\tremaining: 6.99s\n",
            "315:\tlearn: 0.4128307\ttotal: 3.22s\tremaining: 6.98s\n",
            "316:\tlearn: 0.4127546\ttotal: 3.23s\tremaining: 6.96s\n",
            "317:\tlearn: 0.4126106\ttotal: 3.24s\tremaining: 6.95s\n",
            "318:\tlearn: 0.4125455\ttotal: 3.25s\tremaining: 6.94s\n",
            "319:\tlearn: 0.4124511\ttotal: 3.26s\tremaining: 6.93s\n",
            "320:\tlearn: 0.4122419\ttotal: 3.27s\tremaining: 6.92s\n",
            "321:\tlearn: 0.4120808\ttotal: 3.28s\tremaining: 6.91s\n",
            "322:\tlearn: 0.4120278\ttotal: 3.29s\tremaining: 6.9s\n",
            "323:\tlearn: 0.4118684\ttotal: 3.31s\tremaining: 6.9s\n",
            "324:\tlearn: 0.4116812\ttotal: 3.32s\tremaining: 6.89s\n",
            "325:\tlearn: 0.4116160\ttotal: 3.33s\tremaining: 6.88s\n",
            "326:\tlearn: 0.4114664\ttotal: 3.34s\tremaining: 6.87s\n",
            "327:\tlearn: 0.4113899\ttotal: 3.35s\tremaining: 6.87s\n",
            "328:\tlearn: 0.4112409\ttotal: 3.36s\tremaining: 6.86s\n",
            "329:\tlearn: 0.4112131\ttotal: 3.38s\tremaining: 6.86s\n",
            "330:\tlearn: 0.4110787\ttotal: 3.39s\tremaining: 6.85s\n",
            "331:\tlearn: 0.4109295\ttotal: 3.4s\tremaining: 6.84s\n",
            "332:\tlearn: 0.4108246\ttotal: 3.41s\tremaining: 6.83s\n",
            "333:\tlearn: 0.4107291\ttotal: 3.42s\tremaining: 6.82s\n",
            "334:\tlearn: 0.4105998\ttotal: 3.43s\tremaining: 6.81s\n",
            "335:\tlearn: 0.4104867\ttotal: 3.44s\tremaining: 6.8s\n",
            "336:\tlearn: 0.4104182\ttotal: 3.45s\tremaining: 6.79s\n",
            "337:\tlearn: 0.4103425\ttotal: 3.46s\tremaining: 6.78s\n"
          ]
        },
        {
          "name": "stdout",
          "output_type": "stream",
          "text": [
            "338:\tlearn: 0.4102120\ttotal: 3.47s\tremaining: 6.77s\n",
            "339:\tlearn: 0.4100948\ttotal: 3.48s\tremaining: 6.77s\n",
            "340:\tlearn: 0.4100502\ttotal: 3.5s\tremaining: 6.76s\n",
            "341:\tlearn: 0.4100265\ttotal: 3.51s\tremaining: 6.75s\n",
            "342:\tlearn: 0.4098726\ttotal: 3.52s\tremaining: 6.74s\n",
            "343:\tlearn: 0.4097106\ttotal: 3.53s\tremaining: 6.73s\n",
            "344:\tlearn: 0.4096923\ttotal: 3.54s\tremaining: 6.72s\n",
            "345:\tlearn: 0.4096256\ttotal: 3.55s\tremaining: 6.71s\n",
            "346:\tlearn: 0.4095165\ttotal: 3.56s\tremaining: 6.7s\n",
            "347:\tlearn: 0.4093181\ttotal: 3.57s\tremaining: 6.69s\n",
            "348:\tlearn: 0.4092426\ttotal: 3.58s\tremaining: 6.67s\n",
            "349:\tlearn: 0.4091248\ttotal: 3.59s\tremaining: 6.66s\n",
            "350:\tlearn: 0.4089465\ttotal: 3.6s\tremaining: 6.65s\n",
            "351:\tlearn: 0.4088195\ttotal: 3.61s\tremaining: 6.64s\n",
            "352:\tlearn: 0.4087788\ttotal: 3.62s\tremaining: 6.63s\n",
            "353:\tlearn: 0.4085789\ttotal: 3.63s\tremaining: 6.62s\n",
            "354:\tlearn: 0.4085765\ttotal: 3.64s\tremaining: 6.61s\n",
            "355:\tlearn: 0.4085357\ttotal: 3.65s\tremaining: 6.6s\n",
            "356:\tlearn: 0.4084621\ttotal: 3.66s\tremaining: 6.59s\n",
            "357:\tlearn: 0.4083243\ttotal: 3.67s\tremaining: 6.58s\n",
            "358:\tlearn: 0.4082403\ttotal: 3.68s\tremaining: 6.57s\n",
            "359:\tlearn: 0.4080901\ttotal: 3.69s\tremaining: 6.57s\n",
            "360:\tlearn: 0.4080278\ttotal: 3.7s\tremaining: 6.56s\n",
            "361:\tlearn: 0.4080023\ttotal: 3.71s\tremaining: 6.54s\n",
            "362:\tlearn: 0.4079835\ttotal: 3.72s\tremaining: 6.54s\n",
            "363:\tlearn: 0.4079617\ttotal: 3.73s\tremaining: 6.52s\n",
            "364:\tlearn: 0.4078995\ttotal: 3.74s\tremaining: 6.51s\n",
            "365:\tlearn: 0.4077679\ttotal: 3.75s\tremaining: 6.5s\n",
            "366:\tlearn: 0.4076685\ttotal: 3.77s\tremaining: 6.5s\n",
            "367:\tlearn: 0.4076343\ttotal: 3.78s\tremaining: 6.49s\n",
            "368:\tlearn: 0.4074796\ttotal: 3.79s\tremaining: 6.48s\n",
            "369:\tlearn: 0.4074099\ttotal: 3.8s\tremaining: 6.47s\n",
            "370:\tlearn: 0.4073586\ttotal: 3.81s\tremaining: 6.47s\n",
            "371:\tlearn: 0.4073255\ttotal: 3.82s\tremaining: 6.46s\n",
            "372:\tlearn: 0.4072505\ttotal: 3.83s\tremaining: 6.45s\n",
            "373:\tlearn: 0.4071816\ttotal: 3.85s\tremaining: 6.44s\n",
            "374:\tlearn: 0.4071101\ttotal: 3.86s\tremaining: 6.43s\n",
            "375:\tlearn: 0.4070321\ttotal: 3.87s\tremaining: 6.42s\n",
            "376:\tlearn: 0.4068874\ttotal: 3.88s\tremaining: 6.42s\n",
            "377:\tlearn: 0.4067954\ttotal: 3.89s\tremaining: 6.41s\n",
            "378:\tlearn: 0.4067388\ttotal: 3.91s\tremaining: 6.4s\n",
            "379:\tlearn: 0.4065766\ttotal: 3.92s\tremaining: 6.39s\n",
            "380:\tlearn: 0.4065150\ttotal: 3.93s\tremaining: 6.39s\n",
            "381:\tlearn: 0.4063602\ttotal: 3.94s\tremaining: 6.38s\n",
            "382:\tlearn: 0.4062845\ttotal: 3.95s\tremaining: 6.37s\n",
            "383:\tlearn: 0.4061263\ttotal: 3.96s\tremaining: 6.36s\n",
            "384:\tlearn: 0.4061099\ttotal: 3.98s\tremaining: 6.36s\n",
            "385:\tlearn: 0.4060694\ttotal: 3.99s\tremaining: 6.35s\n",
            "386:\tlearn: 0.4059101\ttotal: 4s\tremaining: 6.34s\n",
            "387:\tlearn: 0.4057951\ttotal: 4.01s\tremaining: 6.33s\n",
            "388:\tlearn: 0.4057510\ttotal: 4.03s\tremaining: 6.32s\n",
            "389:\tlearn: 0.4055957\ttotal: 4.04s\tremaining: 6.32s\n",
            "390:\tlearn: 0.4055492\ttotal: 4.06s\tremaining: 6.32s\n",
            "391:\tlearn: 0.4055244\ttotal: 4.07s\tremaining: 6.31s\n",
            "392:\tlearn: 0.4054651\ttotal: 4.08s\tremaining: 6.31s\n",
            "393:\tlearn: 0.4052693\ttotal: 4.1s\tremaining: 6.31s\n",
            "394:\tlearn: 0.4052098\ttotal: 4.12s\tremaining: 6.3s\n",
            "395:\tlearn: 0.4051708\ttotal: 4.13s\tremaining: 6.3s\n",
            "396:\tlearn: 0.4050960\ttotal: 4.15s\tremaining: 6.3s\n",
            "397:\tlearn: 0.4050312\ttotal: 4.16s\tremaining: 6.29s\n",
            "398:\tlearn: 0.4049075\ttotal: 4.18s\tremaining: 6.3s\n",
            "399:\tlearn: 0.4047968\ttotal: 4.2s\tremaining: 6.3s\n",
            "400:\tlearn: 0.4047449\ttotal: 4.22s\tremaining: 6.3s\n",
            "401:\tlearn: 0.4046939\ttotal: 4.24s\tremaining: 6.3s\n",
            "402:\tlearn: 0.4046843\ttotal: 4.26s\tremaining: 6.31s\n",
            "403:\tlearn: 0.4046374\ttotal: 4.28s\tremaining: 6.31s\n",
            "404:\tlearn: 0.4045181\ttotal: 4.3s\tremaining: 6.32s\n",
            "405:\tlearn: 0.4044305\ttotal: 4.32s\tremaining: 6.32s\n",
            "406:\tlearn: 0.4043869\ttotal: 4.34s\tremaining: 6.32s\n",
            "407:\tlearn: 0.4043317\ttotal: 4.36s\tremaining: 6.33s\n",
            "408:\tlearn: 0.4041362\ttotal: 4.38s\tremaining: 6.34s\n",
            "409:\tlearn: 0.4040325\ttotal: 4.41s\tremaining: 6.34s\n",
            "410:\tlearn: 0.4040003\ttotal: 4.43s\tremaining: 6.35s\n",
            "411:\tlearn: 0.4039257\ttotal: 4.46s\tremaining: 6.36s\n",
            "412:\tlearn: 0.4037951\ttotal: 4.48s\tremaining: 6.37s\n",
            "413:\tlearn: 0.4037722\ttotal: 4.5s\tremaining: 6.37s\n",
            "414:\tlearn: 0.4037498\ttotal: 4.53s\tremaining: 6.38s\n",
            "415:\tlearn: 0.4037167\ttotal: 4.55s\tremaining: 6.39s\n",
            "416:\tlearn: 0.4036660\ttotal: 4.58s\tremaining: 6.4s\n",
            "417:\tlearn: 0.4036281\ttotal: 4.6s\tremaining: 6.41s\n",
            "418:\tlearn: 0.4034760\ttotal: 4.65s\tremaining: 6.45s\n",
            "419:\tlearn: 0.4034222\ttotal: 4.69s\tremaining: 6.47s\n",
            "420:\tlearn: 0.4033624\ttotal: 4.72s\tremaining: 6.49s\n",
            "421:\tlearn: 0.4032890\ttotal: 4.74s\tremaining: 6.5s\n",
            "422:\tlearn: 0.4031954\ttotal: 4.77s\tremaining: 6.51s\n",
            "423:\tlearn: 0.4031603\ttotal: 4.8s\tremaining: 6.52s\n",
            "424:\tlearn: 0.4030695\ttotal: 4.83s\tremaining: 6.54s\n",
            "425:\tlearn: 0.4029613\ttotal: 4.87s\tremaining: 6.56s\n",
            "426:\tlearn: 0.4027703\ttotal: 4.91s\tremaining: 6.59s\n",
            "427:\tlearn: 0.4027264\ttotal: 4.94s\tremaining: 6.61s\n",
            "428:\tlearn: 0.4026700\ttotal: 4.97s\tremaining: 6.62s\n",
            "429:\tlearn: 0.4025503\ttotal: 5.01s\tremaining: 6.64s\n",
            "430:\tlearn: 0.4025312\ttotal: 5.05s\tremaining: 6.66s\n",
            "431:\tlearn: 0.4024504\ttotal: 5.08s\tremaining: 6.68s\n",
            "432:\tlearn: 0.4024349\ttotal: 5.12s\tremaining: 6.7s\n",
            "433:\tlearn: 0.4023198\ttotal: 5.15s\tremaining: 6.72s\n",
            "434:\tlearn: 0.4022634\ttotal: 5.18s\tremaining: 6.73s\n",
            "435:\tlearn: 0.4022339\ttotal: 5.21s\tremaining: 6.73s\n",
            "436:\tlearn: 0.4021808\ttotal: 5.24s\tremaining: 6.74s\n",
            "437:\tlearn: 0.4021037\ttotal: 5.27s\tremaining: 6.76s\n",
            "438:\tlearn: 0.4020083\ttotal: 5.29s\tremaining: 6.76s\n",
            "439:\tlearn: 0.4019808\ttotal: 5.33s\tremaining: 6.78s\n",
            "440:\tlearn: 0.4018061\ttotal: 5.37s\tremaining: 6.8s\n",
            "441:\tlearn: 0.4017174\ttotal: 5.41s\tremaining: 6.82s\n",
            "442:\tlearn: 0.4016622\ttotal: 5.44s\tremaining: 6.84s\n",
            "443:\tlearn: 0.4016129\ttotal: 5.47s\tremaining: 6.86s\n",
            "444:\tlearn: 0.4015579\ttotal: 5.51s\tremaining: 6.87s\n",
            "445:\tlearn: 0.4015051\ttotal: 5.55s\tremaining: 6.89s\n",
            "446:\tlearn: 0.4014423\ttotal: 5.59s\tremaining: 6.91s\n",
            "447:\tlearn: 0.4014299\ttotal: 5.62s\tremaining: 6.92s\n",
            "448:\tlearn: 0.4013773\ttotal: 5.65s\tremaining: 6.93s\n",
            "449:\tlearn: 0.4013555\ttotal: 5.69s\tremaining: 6.95s\n",
            "450:\tlearn: 0.4013403\ttotal: 5.72s\tremaining: 6.96s\n",
            "451:\tlearn: 0.4012626\ttotal: 5.76s\tremaining: 6.98s\n",
            "452:\tlearn: 0.4011987\ttotal: 5.81s\tremaining: 7.02s\n",
            "453:\tlearn: 0.4011747\ttotal: 5.88s\tremaining: 7.07s\n",
            "454:\tlearn: 0.4011354\ttotal: 5.93s\tremaining: 7.1s\n",
            "455:\tlearn: 0.4010889\ttotal: 5.99s\tremaining: 7.15s\n",
            "456:\tlearn: 0.4009908\ttotal: 6.03s\tremaining: 7.16s\n",
            "457:\tlearn: 0.4009480\ttotal: 6.06s\tremaining: 7.18s\n",
            "458:\tlearn: 0.4009187\ttotal: 6.1s\tremaining: 7.19s\n",
            "459:\tlearn: 0.4007973\ttotal: 6.14s\tremaining: 7.21s\n",
            "460:\tlearn: 0.4006808\ttotal: 6.18s\tremaining: 7.23s\n",
            "461:\tlearn: 0.4005946\ttotal: 6.21s\tremaining: 7.24s\n",
            "462:\tlearn: 0.4005686\ttotal: 6.25s\tremaining: 7.25s\n",
            "463:\tlearn: 0.4005350\ttotal: 6.28s\tremaining: 7.25s\n",
            "464:\tlearn: 0.4005089\ttotal: 6.31s\tremaining: 7.26s\n",
            "465:\tlearn: 0.4004452\ttotal: 6.35s\tremaining: 7.27s\n",
            "466:\tlearn: 0.4004105\ttotal: 6.38s\tremaining: 7.29s\n",
            "467:\tlearn: 0.4003410\ttotal: 6.42s\tremaining: 7.29s\n",
            "468:\tlearn: 0.4002489\ttotal: 6.46s\tremaining: 7.31s\n",
            "469:\tlearn: 0.4002337\ttotal: 6.49s\tremaining: 7.32s\n",
            "470:\tlearn: 0.4002144\ttotal: 6.52s\tremaining: 7.33s\n",
            "471:\tlearn: 0.4001501\ttotal: 6.55s\tremaining: 7.33s\n",
            "472:\tlearn: 0.4001089\ttotal: 6.59s\tremaining: 7.34s\n",
            "473:\tlearn: 0.4000187\ttotal: 6.62s\tremaining: 7.35s\n",
            "474:\tlearn: 0.3999943\ttotal: 6.65s\tremaining: 7.35s\n",
            "475:\tlearn: 0.3998811\ttotal: 6.69s\tremaining: 7.36s\n",
            "476:\tlearn: 0.3998615\ttotal: 6.72s\tremaining: 7.37s\n",
            "477:\tlearn: 0.3998043\ttotal: 6.76s\tremaining: 7.38s\n",
            "478:\tlearn: 0.3997333\ttotal: 6.8s\tremaining: 7.4s\n",
            "479:\tlearn: 0.3996292\ttotal: 6.85s\tremaining: 7.42s\n",
            "480:\tlearn: 0.3995304\ttotal: 6.91s\tremaining: 7.46s\n",
            "481:\tlearn: 0.3994635\ttotal: 6.97s\tremaining: 7.49s\n",
            "482:\tlearn: 0.3994117\ttotal: 7.02s\tremaining: 7.51s\n",
            "483:\tlearn: 0.3993913\ttotal: 7.06s\tremaining: 7.53s\n",
            "484:\tlearn: 0.3993809\ttotal: 7.09s\tremaining: 7.53s\n",
            "485:\tlearn: 0.3993517\ttotal: 7.13s\tremaining: 7.54s\n",
            "486:\tlearn: 0.3993150\ttotal: 7.17s\tremaining: 7.55s\n",
            "487:\tlearn: 0.3992722\ttotal: 7.21s\tremaining: 7.57s\n",
            "488:\tlearn: 0.3992268\ttotal: 7.26s\tremaining: 7.58s\n",
            "489:\tlearn: 0.3991612\ttotal: 7.31s\tremaining: 7.61s\n",
            "490:\tlearn: 0.3990819\ttotal: 7.37s\tremaining: 7.64s\n",
            "491:\tlearn: 0.3990209\ttotal: 7.41s\tremaining: 7.65s\n",
            "492:\tlearn: 0.3989325\ttotal: 7.45s\tremaining: 7.66s\n",
            "493:\tlearn: 0.3988824\ttotal: 7.48s\tremaining: 7.67s\n",
            "494:\tlearn: 0.3988643\ttotal: 7.52s\tremaining: 7.67s\n",
            "495:\tlearn: 0.3988021\ttotal: 7.55s\tremaining: 7.68s\n",
            "496:\tlearn: 0.3987836\ttotal: 7.6s\tremaining: 7.69s\n",
            "497:\tlearn: 0.3987464\ttotal: 7.64s\tremaining: 7.7s\n",
            "498:\tlearn: 0.3986911\ttotal: 7.7s\tremaining: 7.73s\n",
            "499:\tlearn: 0.3986700\ttotal: 7.75s\tremaining: 7.75s\n"
          ]
        },
        {
          "name": "stdout",
          "output_type": "stream",
          "text": [
            "500:\tlearn: 0.3986680\ttotal: 7.81s\tremaining: 7.78s\n",
            "501:\tlearn: 0.3986085\ttotal: 7.87s\tremaining: 7.8s\n",
            "502:\tlearn: 0.3985256\ttotal: 7.91s\tremaining: 7.81s\n",
            "503:\tlearn: 0.3984013\ttotal: 7.95s\tremaining: 7.82s\n",
            "504:\tlearn: 0.3983515\ttotal: 7.99s\tremaining: 7.83s\n",
            "505:\tlearn: 0.3983125\ttotal: 8.02s\tremaining: 7.83s\n",
            "506:\tlearn: 0.3982524\ttotal: 8.05s\tremaining: 7.83s\n",
            "507:\tlearn: 0.3981998\ttotal: 8.09s\tremaining: 7.83s\n",
            "508:\tlearn: 0.3981539\ttotal: 8.14s\tremaining: 7.86s\n",
            "509:\tlearn: 0.3980958\ttotal: 8.18s\tremaining: 7.86s\n",
            "510:\tlearn: 0.3980407\ttotal: 8.21s\tremaining: 7.86s\n",
            "511:\tlearn: 0.3979973\ttotal: 8.25s\tremaining: 7.86s\n",
            "512:\tlearn: 0.3978958\ttotal: 8.28s\tremaining: 7.87s\n",
            "513:\tlearn: 0.3978079\ttotal: 8.32s\tremaining: 7.87s\n",
            "514:\tlearn: 0.3977745\ttotal: 8.36s\tremaining: 7.87s\n",
            "515:\tlearn: 0.3977510\ttotal: 8.4s\tremaining: 7.88s\n",
            "516:\tlearn: 0.3977333\ttotal: 8.43s\tremaining: 7.88s\n",
            "517:\tlearn: 0.3977206\ttotal: 8.47s\tremaining: 7.88s\n",
            "518:\tlearn: 0.3976763\ttotal: 8.5s\tremaining: 7.88s\n",
            "519:\tlearn: 0.3976551\ttotal: 8.54s\tremaining: 7.88s\n",
            "520:\tlearn: 0.3975724\ttotal: 8.57s\tremaining: 7.88s\n",
            "521:\tlearn: 0.3975367\ttotal: 8.61s\tremaining: 7.88s\n",
            "522:\tlearn: 0.3974786\ttotal: 8.64s\tremaining: 7.88s\n",
            "523:\tlearn: 0.3974001\ttotal: 8.67s\tremaining: 7.88s\n",
            "524:\tlearn: 0.3973490\ttotal: 8.7s\tremaining: 7.88s\n",
            "525:\tlearn: 0.3972523\ttotal: 8.74s\tremaining: 7.87s\n",
            "526:\tlearn: 0.3972371\ttotal: 8.77s\tremaining: 7.87s\n",
            "527:\tlearn: 0.3971341\ttotal: 8.8s\tremaining: 7.86s\n",
            "528:\tlearn: 0.3970632\ttotal: 8.83s\tremaining: 7.86s\n",
            "529:\tlearn: 0.3969854\ttotal: 8.86s\tremaining: 7.85s\n",
            "530:\tlearn: 0.3969804\ttotal: 8.89s\tremaining: 7.85s\n",
            "531:\tlearn: 0.3968869\ttotal: 8.92s\tremaining: 7.85s\n",
            "532:\tlearn: 0.3968216\ttotal: 8.95s\tremaining: 7.84s\n",
            "533:\tlearn: 0.3967353\ttotal: 8.99s\tremaining: 7.84s\n",
            "534:\tlearn: 0.3967285\ttotal: 9.02s\tremaining: 7.84s\n",
            "535:\tlearn: 0.3965934\ttotal: 9.06s\tremaining: 7.84s\n",
            "536:\tlearn: 0.3965204\ttotal: 9.1s\tremaining: 7.85s\n",
            "537:\tlearn: 0.3965124\ttotal: 9.15s\tremaining: 7.85s\n",
            "538:\tlearn: 0.3964355\ttotal: 9.2s\tremaining: 7.87s\n",
            "539:\tlearn: 0.3963867\ttotal: 9.24s\tremaining: 7.88s\n",
            "540:\tlearn: 0.3963508\ttotal: 9.29s\tremaining: 7.88s\n",
            "541:\tlearn: 0.3963246\ttotal: 9.34s\tremaining: 7.89s\n",
            "542:\tlearn: 0.3962401\ttotal: 9.38s\tremaining: 7.89s\n",
            "543:\tlearn: 0.3961785\ttotal: 9.41s\tremaining: 7.89s\n",
            "544:\tlearn: 0.3961038\ttotal: 9.46s\tremaining: 7.9s\n",
            "545:\tlearn: 0.3960856\ttotal: 9.5s\tremaining: 7.9s\n",
            "546:\tlearn: 0.3960752\ttotal: 9.54s\tremaining: 7.9s\n",
            "547:\tlearn: 0.3960051\ttotal: 9.57s\tremaining: 7.89s\n",
            "548:\tlearn: 0.3959747\ttotal: 9.6s\tremaining: 7.89s\n",
            "549:\tlearn: 0.3959312\ttotal: 9.64s\tremaining: 7.88s\n",
            "550:\tlearn: 0.3958935\ttotal: 9.67s\tremaining: 7.88s\n",
            "551:\tlearn: 0.3958524\ttotal: 9.7s\tremaining: 7.87s\n",
            "552:\tlearn: 0.3957847\ttotal: 9.73s\tremaining: 7.87s\n",
            "553:\tlearn: 0.3957086\ttotal: 9.77s\tremaining: 7.87s\n",
            "554:\tlearn: 0.3956823\ttotal: 9.8s\tremaining: 7.86s\n",
            "555:\tlearn: 0.3956245\ttotal: 9.84s\tremaining: 7.86s\n",
            "556:\tlearn: 0.3955983\ttotal: 9.87s\tremaining: 7.85s\n",
            "557:\tlearn: 0.3955520\ttotal: 9.9s\tremaining: 7.85s\n",
            "558:\tlearn: 0.3955324\ttotal: 9.94s\tremaining: 7.84s\n",
            "559:\tlearn: 0.3954513\ttotal: 9.97s\tremaining: 7.83s\n",
            "560:\tlearn: 0.3953734\ttotal: 10s\tremaining: 7.83s\n",
            "561:\tlearn: 0.3953384\ttotal: 10s\tremaining: 7.82s\n",
            "562:\tlearn: 0.3952437\ttotal: 10.1s\tremaining: 7.81s\n",
            "563:\tlearn: 0.3951152\ttotal: 10.1s\tremaining: 7.81s\n",
            "564:\tlearn: 0.3950738\ttotal: 10.1s\tremaining: 7.8s\n",
            "565:\tlearn: 0.3950319\ttotal: 10.2s\tremaining: 7.79s\n",
            "566:\tlearn: 0.3948771\ttotal: 10.2s\tremaining: 7.78s\n",
            "567:\tlearn: 0.3948157\ttotal: 10.2s\tremaining: 7.78s\n",
            "568:\tlearn: 0.3947519\ttotal: 10.3s\tremaining: 7.77s\n",
            "569:\tlearn: 0.3946902\ttotal: 10.3s\tremaining: 7.76s\n",
            "570:\tlearn: 0.3946712\ttotal: 10.3s\tremaining: 7.75s\n",
            "571:\tlearn: 0.3945638\ttotal: 10.3s\tremaining: 7.74s\n",
            "572:\tlearn: 0.3944966\ttotal: 10.4s\tremaining: 7.74s\n",
            "573:\tlearn: 0.3944852\ttotal: 10.4s\tremaining: 7.73s\n",
            "574:\tlearn: 0.3943902\ttotal: 10.4s\tremaining: 7.72s\n",
            "575:\tlearn: 0.3943651\ttotal: 10.5s\tremaining: 7.71s\n",
            "576:\tlearn: 0.3943312\ttotal: 10.5s\tremaining: 7.7s\n",
            "577:\tlearn: 0.3942551\ttotal: 10.5s\tremaining: 7.7s\n",
            "578:\tlearn: 0.3942350\ttotal: 10.6s\tremaining: 7.69s\n",
            "579:\tlearn: 0.3942265\ttotal: 10.6s\tremaining: 7.68s\n",
            "580:\tlearn: 0.3940698\ttotal: 10.6s\tremaining: 7.68s\n",
            "581:\tlearn: 0.3940489\ttotal: 10.7s\tremaining: 7.67s\n",
            "582:\tlearn: 0.3940159\ttotal: 10.7s\tremaining: 7.67s\n",
            "583:\tlearn: 0.3938934\ttotal: 10.8s\tremaining: 7.66s\n",
            "584:\tlearn: 0.3938259\ttotal: 10.8s\tremaining: 7.66s\n",
            "585:\tlearn: 0.3937929\ttotal: 10.8s\tremaining: 7.65s\n",
            "586:\tlearn: 0.3937276\ttotal: 10.9s\tremaining: 7.64s\n",
            "587:\tlearn: 0.3936981\ttotal: 10.9s\tremaining: 7.64s\n",
            "588:\tlearn: 0.3936830\ttotal: 10.9s\tremaining: 7.63s\n",
            "589:\tlearn: 0.3936305\ttotal: 11s\tremaining: 7.63s\n",
            "590:\tlearn: 0.3936131\ttotal: 11s\tremaining: 7.62s\n",
            "591:\tlearn: 0.3935553\ttotal: 11s\tremaining: 7.61s\n",
            "592:\tlearn: 0.3934608\ttotal: 11.1s\tremaining: 7.61s\n",
            "593:\tlearn: 0.3934315\ttotal: 11.1s\tremaining: 7.6s\n",
            "594:\tlearn: 0.3933549\ttotal: 11.2s\tremaining: 7.59s\n",
            "595:\tlearn: 0.3932591\ttotal: 11.2s\tremaining: 7.59s\n",
            "596:\tlearn: 0.3932352\ttotal: 11.2s\tremaining: 7.58s\n",
            "597:\tlearn: 0.3931801\ttotal: 11.3s\tremaining: 7.58s\n",
            "598:\tlearn: 0.3931065\ttotal: 11.3s\tremaining: 7.58s\n",
            "599:\tlearn: 0.3929844\ttotal: 11.4s\tremaining: 7.58s\n",
            "600:\tlearn: 0.3928646\ttotal: 11.4s\tremaining: 7.58s\n",
            "601:\tlearn: 0.3927813\ttotal: 11.5s\tremaining: 7.58s\n",
            "602:\tlearn: 0.3927641\ttotal: 11.5s\tremaining: 7.57s\n",
            "603:\tlearn: 0.3926785\ttotal: 11.5s\tremaining: 7.57s\n",
            "604:\tlearn: 0.3925727\ttotal: 11.6s\tremaining: 7.57s\n",
            "605:\tlearn: 0.3925113\ttotal: 11.6s\tremaining: 7.56s\n",
            "606:\tlearn: 0.3924855\ttotal: 11.7s\tremaining: 7.55s\n",
            "607:\tlearn: 0.3923863\ttotal: 11.7s\tremaining: 7.54s\n",
            "608:\tlearn: 0.3923359\ttotal: 11.7s\tremaining: 7.53s\n",
            "609:\tlearn: 0.3922671\ttotal: 11.8s\tremaining: 7.52s\n",
            "610:\tlearn: 0.3922195\ttotal: 11.8s\tremaining: 7.51s\n",
            "611:\tlearn: 0.3921419\ttotal: 11.8s\tremaining: 7.5s\n",
            "612:\tlearn: 0.3920777\ttotal: 11.9s\tremaining: 7.49s\n",
            "613:\tlearn: 0.3919987\ttotal: 11.9s\tremaining: 7.48s\n",
            "614:\tlearn: 0.3919268\ttotal: 11.9s\tremaining: 7.47s\n",
            "615:\tlearn: 0.3919201\ttotal: 12s\tremaining: 7.46s\n",
            "616:\tlearn: 0.3919060\ttotal: 12s\tremaining: 7.44s\n",
            "617:\tlearn: 0.3918697\ttotal: 12s\tremaining: 7.43s\n",
            "618:\tlearn: 0.3918105\ttotal: 12.1s\tremaining: 7.42s\n",
            "619:\tlearn: 0.3917599\ttotal: 12.1s\tremaining: 7.41s\n",
            "620:\tlearn: 0.3917524\ttotal: 12.1s\tremaining: 7.4s\n",
            "621:\tlearn: 0.3917165\ttotal: 12.2s\tremaining: 7.39s\n",
            "622:\tlearn: 0.3916817\ttotal: 12.2s\tremaining: 7.38s\n",
            "623:\tlearn: 0.3915878\ttotal: 12.2s\tremaining: 7.37s\n",
            "624:\tlearn: 0.3915446\ttotal: 12.3s\tremaining: 7.36s\n",
            "625:\tlearn: 0.3914878\ttotal: 12.3s\tremaining: 7.35s\n",
            "626:\tlearn: 0.3914111\ttotal: 12.3s\tremaining: 7.34s\n",
            "627:\tlearn: 0.3913668\ttotal: 12.4s\tremaining: 7.33s\n",
            "628:\tlearn: 0.3912783\ttotal: 12.4s\tremaining: 7.32s\n",
            "629:\tlearn: 0.3912214\ttotal: 12.5s\tremaining: 7.32s\n",
            "630:\tlearn: 0.3911416\ttotal: 12.5s\tremaining: 7.3s\n",
            "631:\tlearn: 0.3910757\ttotal: 12.5s\tremaining: 7.29s\n",
            "632:\tlearn: 0.3910448\ttotal: 12.6s\tremaining: 7.28s\n",
            "633:\tlearn: 0.3910180\ttotal: 12.6s\tremaining: 7.27s\n",
            "634:\tlearn: 0.3909158\ttotal: 12.6s\tremaining: 7.26s\n",
            "635:\tlearn: 0.3908699\ttotal: 12.7s\tremaining: 7.24s\n",
            "636:\tlearn: 0.3908512\ttotal: 12.7s\tremaining: 7.23s\n",
            "637:\tlearn: 0.3908171\ttotal: 12.7s\tremaining: 7.22s\n",
            "638:\tlearn: 0.3908032\ttotal: 12.8s\tremaining: 7.21s\n",
            "639:\tlearn: 0.3907648\ttotal: 12.8s\tremaining: 7.2s\n",
            "640:\tlearn: 0.3906607\ttotal: 12.8s\tremaining: 7.18s\n",
            "641:\tlearn: 0.3906099\ttotal: 12.9s\tremaining: 7.17s\n",
            "642:\tlearn: 0.3905681\ttotal: 12.9s\tremaining: 7.16s\n",
            "643:\tlearn: 0.3904502\ttotal: 12.9s\tremaining: 7.15s\n",
            "644:\tlearn: 0.3903863\ttotal: 13s\tremaining: 7.14s\n",
            "645:\tlearn: 0.3903760\ttotal: 13s\tremaining: 7.13s\n",
            "646:\tlearn: 0.3902919\ttotal: 13s\tremaining: 7.11s\n",
            "647:\tlearn: 0.3902336\ttotal: 13.1s\tremaining: 7.1s\n",
            "648:\tlearn: 0.3901803\ttotal: 13.1s\tremaining: 7.08s\n",
            "649:\tlearn: 0.3901183\ttotal: 13.1s\tremaining: 7.07s\n",
            "650:\tlearn: 0.3900872\ttotal: 13.2s\tremaining: 7.05s\n",
            "651:\tlearn: 0.3900376\ttotal: 13.2s\tremaining: 7.04s\n",
            "652:\tlearn: 0.3899328\ttotal: 13.2s\tremaining: 7.02s\n",
            "653:\tlearn: 0.3899295\ttotal: 13.2s\tremaining: 7.01s\n",
            "654:\tlearn: 0.3898922\ttotal: 13.3s\tremaining: 6.99s\n",
            "655:\tlearn: 0.3898375\ttotal: 13.3s\tremaining: 6.98s\n",
            "656:\tlearn: 0.3897652\ttotal: 13.4s\tremaining: 6.97s\n",
            "657:\tlearn: 0.3896348\ttotal: 13.4s\tremaining: 6.96s\n",
            "658:\tlearn: 0.3895521\ttotal: 13.4s\tremaining: 6.95s\n"
          ]
        },
        {
          "name": "stdout",
          "output_type": "stream",
          "text": [
            "659:\tlearn: 0.3894717\ttotal: 13.5s\tremaining: 6.94s\n",
            "660:\tlearn: 0.3894250\ttotal: 13.5s\tremaining: 6.93s\n",
            "661:\tlearn: 0.3893914\ttotal: 13.5s\tremaining: 6.91s\n",
            "662:\tlearn: 0.3893506\ttotal: 13.6s\tremaining: 6.89s\n",
            "663:\tlearn: 0.3892616\ttotal: 13.6s\tremaining: 6.88s\n",
            "664:\tlearn: 0.3891801\ttotal: 13.6s\tremaining: 6.86s\n",
            "665:\tlearn: 0.3891333\ttotal: 13.7s\tremaining: 6.85s\n",
            "666:\tlearn: 0.3891143\ttotal: 13.7s\tremaining: 6.83s\n",
            "667:\tlearn: 0.3890555\ttotal: 13.7s\tremaining: 6.82s\n",
            "668:\tlearn: 0.3890102\ttotal: 13.8s\tremaining: 6.8s\n",
            "669:\tlearn: 0.3889228\ttotal: 13.8s\tremaining: 6.79s\n",
            "670:\tlearn: 0.3888385\ttotal: 13.8s\tremaining: 6.77s\n",
            "671:\tlearn: 0.3888281\ttotal: 13.8s\tremaining: 6.75s\n",
            "672:\tlearn: 0.3887915\ttotal: 13.9s\tremaining: 6.74s\n",
            "673:\tlearn: 0.3887215\ttotal: 13.9s\tremaining: 6.73s\n",
            "674:\tlearn: 0.3886425\ttotal: 13.9s\tremaining: 6.72s\n",
            "675:\tlearn: 0.3886314\ttotal: 14s\tremaining: 6.7s\n",
            "676:\tlearn: 0.3885658\ttotal: 14s\tremaining: 6.68s\n",
            "677:\tlearn: 0.3885427\ttotal: 14s\tremaining: 6.66s\n",
            "678:\tlearn: 0.3884734\ttotal: 14.1s\tremaining: 6.65s\n",
            "679:\tlearn: 0.3884505\ttotal: 14.1s\tremaining: 6.63s\n",
            "680:\tlearn: 0.3884351\ttotal: 14.1s\tremaining: 6.61s\n",
            "681:\tlearn: 0.3883834\ttotal: 14.1s\tremaining: 6.59s\n",
            "682:\tlearn: 0.3882736\ttotal: 14.2s\tremaining: 6.58s\n",
            "683:\tlearn: 0.3882046\ttotal: 14.2s\tremaining: 6.57s\n",
            "684:\tlearn: 0.3881924\ttotal: 14.2s\tremaining: 6.55s\n",
            "685:\tlearn: 0.3881619\ttotal: 14.3s\tremaining: 6.53s\n",
            "686:\tlearn: 0.3881460\ttotal: 14.3s\tremaining: 6.52s\n",
            "687:\tlearn: 0.3880699\ttotal: 14.3s\tremaining: 6.5s\n",
            "688:\tlearn: 0.3880462\ttotal: 14.4s\tremaining: 6.48s\n",
            "689:\tlearn: 0.3880451\ttotal: 14.4s\tremaining: 6.47s\n",
            "690:\tlearn: 0.3880247\ttotal: 14.4s\tremaining: 6.46s\n",
            "691:\tlearn: 0.3879419\ttotal: 14.5s\tremaining: 6.44s\n",
            "692:\tlearn: 0.3879184\ttotal: 14.5s\tremaining: 6.42s\n",
            "693:\tlearn: 0.3878891\ttotal: 14.5s\tremaining: 6.41s\n",
            "694:\tlearn: 0.3878074\ttotal: 14.6s\tremaining: 6.39s\n",
            "695:\tlearn: 0.3877382\ttotal: 14.6s\tremaining: 6.38s\n",
            "696:\tlearn: 0.3876860\ttotal: 14.6s\tremaining: 6.36s\n",
            "697:\tlearn: 0.3876154\ttotal: 14.7s\tremaining: 6.34s\n",
            "698:\tlearn: 0.3875610\ttotal: 14.7s\tremaining: 6.33s\n",
            "699:\tlearn: 0.3875480\ttotal: 14.7s\tremaining: 6.32s\n",
            "700:\tlearn: 0.3875267\ttotal: 14.8s\tremaining: 6.31s\n",
            "701:\tlearn: 0.3874202\ttotal: 14.8s\tremaining: 6.3s\n",
            "702:\tlearn: 0.3873886\ttotal: 14.9s\tremaining: 6.29s\n",
            "703:\tlearn: 0.3872922\ttotal: 14.9s\tremaining: 6.27s\n",
            "704:\tlearn: 0.3872080\ttotal: 15s\tremaining: 6.26s\n",
            "705:\tlearn: 0.3871838\ttotal: 15s\tremaining: 6.24s\n",
            "706:\tlearn: 0.3871300\ttotal: 15s\tremaining: 6.23s\n",
            "707:\tlearn: 0.3870726\ttotal: 15.1s\tremaining: 6.22s\n",
            "708:\tlearn: 0.3870149\ttotal: 15.1s\tremaining: 6.2s\n",
            "709:\tlearn: 0.3870011\ttotal: 15.1s\tremaining: 6.19s\n",
            "710:\tlearn: 0.3869746\ttotal: 15.2s\tremaining: 6.17s\n",
            "711:\tlearn: 0.3869313\ttotal: 15.2s\tremaining: 6.15s\n",
            "712:\tlearn: 0.3868860\ttotal: 15.2s\tremaining: 6.14s\n",
            "713:\tlearn: 0.3868586\ttotal: 15.3s\tremaining: 6.12s\n",
            "714:\tlearn: 0.3868373\ttotal: 15.3s\tremaining: 6.1s\n",
            "715:\tlearn: 0.3868248\ttotal: 15.3s\tremaining: 6.08s\n",
            "716:\tlearn: 0.3867730\ttotal: 15.4s\tremaining: 6.07s\n",
            "717:\tlearn: 0.3867614\ttotal: 15.4s\tremaining: 6.05s\n",
            "718:\tlearn: 0.3866811\ttotal: 15.4s\tremaining: 6.03s\n",
            "719:\tlearn: 0.3865626\ttotal: 15.5s\tremaining: 6.01s\n",
            "720:\tlearn: 0.3864840\ttotal: 15.5s\tremaining: 6s\n",
            "721:\tlearn: 0.3864665\ttotal: 15.5s\tremaining: 5.98s\n",
            "722:\tlearn: 0.3863978\ttotal: 15.6s\tremaining: 5.96s\n",
            "723:\tlearn: 0.3863202\ttotal: 15.6s\tremaining: 5.94s\n",
            "724:\tlearn: 0.3862721\ttotal: 15.6s\tremaining: 5.93s\n",
            "725:\tlearn: 0.3861801\ttotal: 15.7s\tremaining: 5.91s\n",
            "726:\tlearn: 0.3861338\ttotal: 15.7s\tremaining: 5.89s\n",
            "727:\tlearn: 0.3860904\ttotal: 15.7s\tremaining: 5.87s\n",
            "728:\tlearn: 0.3860824\ttotal: 15.7s\tremaining: 5.85s\n",
            "729:\tlearn: 0.3860007\ttotal: 15.8s\tremaining: 5.84s\n",
            "730:\tlearn: 0.3859746\ttotal: 15.8s\tremaining: 5.82s\n",
            "731:\tlearn: 0.3858285\ttotal: 15.8s\tremaining: 5.8s\n",
            "732:\tlearn: 0.3857570\ttotal: 15.9s\tremaining: 5.78s\n",
            "733:\tlearn: 0.3856802\ttotal: 15.9s\tremaining: 5.77s\n",
            "734:\tlearn: 0.3856567\ttotal: 16s\tremaining: 5.75s\n",
            "735:\tlearn: 0.3856100\ttotal: 16s\tremaining: 5.73s\n",
            "736:\tlearn: 0.3854748\ttotal: 16s\tremaining: 5.71s\n",
            "737:\tlearn: 0.3854678\ttotal: 16s\tremaining: 5.7s\n",
            "738:\tlearn: 0.3853975\ttotal: 16.1s\tremaining: 5.68s\n",
            "739:\tlearn: 0.3852797\ttotal: 16.1s\tremaining: 5.66s\n",
            "740:\tlearn: 0.3852530\ttotal: 16.2s\tremaining: 5.65s\n",
            "741:\tlearn: 0.3851278\ttotal: 16.2s\tremaining: 5.63s\n",
            "742:\tlearn: 0.3851182\ttotal: 16.2s\tremaining: 5.61s\n",
            "743:\tlearn: 0.3850788\ttotal: 16.2s\tremaining: 5.59s\n",
            "744:\tlearn: 0.3850222\ttotal: 16.3s\tremaining: 5.57s\n",
            "745:\tlearn: 0.3849420\ttotal: 16.3s\tremaining: 5.55s\n",
            "746:\tlearn: 0.3848829\ttotal: 16.4s\tremaining: 5.54s\n",
            "747:\tlearn: 0.3848213\ttotal: 16.4s\tremaining: 5.52s\n",
            "748:\tlearn: 0.3847691\ttotal: 16.4s\tremaining: 5.5s\n",
            "749:\tlearn: 0.3846912\ttotal: 16.5s\tremaining: 5.49s\n",
            "750:\tlearn: 0.3845740\ttotal: 16.5s\tremaining: 5.46s\n",
            "751:\tlearn: 0.3845479\ttotal: 16.5s\tremaining: 5.45s\n",
            "752:\tlearn: 0.3845070\ttotal: 16.5s\tremaining: 5.43s\n",
            "753:\tlearn: 0.3843885\ttotal: 16.6s\tremaining: 5.41s\n",
            "754:\tlearn: 0.3843317\ttotal: 16.6s\tremaining: 5.39s\n",
            "755:\tlearn: 0.3842024\ttotal: 16.6s\tremaining: 5.37s\n",
            "756:\tlearn: 0.3841472\ttotal: 16.7s\tremaining: 5.35s\n",
            "757:\tlearn: 0.3841176\ttotal: 16.7s\tremaining: 5.33s\n",
            "758:\tlearn: 0.3840842\ttotal: 16.7s\tremaining: 5.31s\n",
            "759:\tlearn: 0.3840544\ttotal: 16.8s\tremaining: 5.29s\n",
            "760:\tlearn: 0.3840448\ttotal: 16.8s\tremaining: 5.27s\n",
            "761:\tlearn: 0.3839875\ttotal: 16.8s\tremaining: 5.25s\n",
            "762:\tlearn: 0.3839461\ttotal: 16.8s\tremaining: 5.23s\n",
            "763:\tlearn: 0.3839116\ttotal: 16.9s\tremaining: 5.21s\n",
            "764:\tlearn: 0.3838685\ttotal: 16.9s\tremaining: 5.19s\n",
            "765:\tlearn: 0.3838430\ttotal: 16.9s\tremaining: 5.18s\n",
            "766:\tlearn: 0.3837583\ttotal: 17s\tremaining: 5.17s\n",
            "767:\tlearn: 0.3837030\ttotal: 17.1s\tremaining: 5.16s\n",
            "768:\tlearn: 0.3836110\ttotal: 17.2s\tremaining: 5.16s\n",
            "769:\tlearn: 0.3835696\ttotal: 17.2s\tremaining: 5.14s\n",
            "770:\tlearn: 0.3834906\ttotal: 17.3s\tremaining: 5.13s\n",
            "771:\tlearn: 0.3833985\ttotal: 17.3s\tremaining: 5.11s\n",
            "772:\tlearn: 0.3833753\ttotal: 17.3s\tremaining: 5.09s\n",
            "773:\tlearn: 0.3833082\ttotal: 17.4s\tremaining: 5.07s\n",
            "774:\tlearn: 0.3832204\ttotal: 17.4s\tremaining: 5.05s\n",
            "775:\tlearn: 0.3831846\ttotal: 17.4s\tremaining: 5.03s\n",
            "776:\tlearn: 0.3830991\ttotal: 17.5s\tremaining: 5.01s\n",
            "777:\tlearn: 0.3830623\ttotal: 17.5s\tremaining: 4.99s\n",
            "778:\tlearn: 0.3830593\ttotal: 17.5s\tremaining: 4.97s\n",
            "779:\tlearn: 0.3830200\ttotal: 17.6s\tremaining: 4.95s\n",
            "780:\tlearn: 0.3829037\ttotal: 17.6s\tremaining: 4.93s\n",
            "781:\tlearn: 0.3828485\ttotal: 17.6s\tremaining: 4.91s\n",
            "782:\tlearn: 0.3827923\ttotal: 17.6s\tremaining: 4.89s\n",
            "783:\tlearn: 0.3827358\ttotal: 17.7s\tremaining: 4.87s\n",
            "784:\tlearn: 0.3827184\ttotal: 17.7s\tremaining: 4.85s\n",
            "785:\tlearn: 0.3826564\ttotal: 17.7s\tremaining: 4.83s\n",
            "786:\tlearn: 0.3825634\ttotal: 17.8s\tremaining: 4.81s\n",
            "787:\tlearn: 0.3825224\ttotal: 17.8s\tremaining: 4.79s\n",
            "788:\tlearn: 0.3824581\ttotal: 17.8s\tremaining: 4.77s\n",
            "789:\tlearn: 0.3823915\ttotal: 17.9s\tremaining: 4.75s\n",
            "790:\tlearn: 0.3822837\ttotal: 17.9s\tremaining: 4.73s\n",
            "791:\tlearn: 0.3822014\ttotal: 17.9s\tremaining: 4.71s\n",
            "792:\tlearn: 0.3821736\ttotal: 18s\tremaining: 4.68s\n",
            "793:\tlearn: 0.3821140\ttotal: 18s\tremaining: 4.66s\n",
            "794:\tlearn: 0.3820950\ttotal: 18s\tremaining: 4.64s\n",
            "795:\tlearn: 0.3820913\ttotal: 18s\tremaining: 4.62s\n",
            "796:\tlearn: 0.3820749\ttotal: 18.1s\tremaining: 4.6s\n",
            "797:\tlearn: 0.3819914\ttotal: 18.1s\tremaining: 4.58s\n",
            "798:\tlearn: 0.3818830\ttotal: 18.1s\tremaining: 4.56s\n",
            "799:\tlearn: 0.3817645\ttotal: 18.2s\tremaining: 4.54s\n",
            "800:\tlearn: 0.3816871\ttotal: 18.2s\tremaining: 4.52s\n",
            "801:\tlearn: 0.3816757\ttotal: 18.2s\tremaining: 4.5s\n",
            "802:\tlearn: 0.3816229\ttotal: 18.2s\tremaining: 4.47s\n",
            "803:\tlearn: 0.3815875\ttotal: 18.3s\tremaining: 4.45s\n",
            "804:\tlearn: 0.3815529\ttotal: 18.3s\tremaining: 4.43s\n",
            "805:\tlearn: 0.3815214\ttotal: 18.3s\tremaining: 4.41s\n",
            "806:\tlearn: 0.3815194\ttotal: 18.4s\tremaining: 4.39s\n",
            "807:\tlearn: 0.3814345\ttotal: 18.4s\tremaining: 4.37s\n",
            "808:\tlearn: 0.3814158\ttotal: 18.4s\tremaining: 4.35s\n",
            "809:\tlearn: 0.3813337\ttotal: 18.5s\tremaining: 4.33s\n",
            "810:\tlearn: 0.3812853\ttotal: 18.5s\tremaining: 4.31s\n",
            "811:\tlearn: 0.3811958\ttotal: 18.5s\tremaining: 4.29s\n",
            "812:\tlearn: 0.3811168\ttotal: 18.6s\tremaining: 4.27s\n",
            "813:\tlearn: 0.3810930\ttotal: 18.6s\tremaining: 4.25s\n",
            "814:\tlearn: 0.3810902\ttotal: 18.6s\tremaining: 4.23s\n",
            "815:\tlearn: 0.3810236\ttotal: 18.7s\tremaining: 4.21s\n",
            "816:\tlearn: 0.3809842\ttotal: 18.7s\tremaining: 4.19s\n",
            "817:\tlearn: 0.3809541\ttotal: 18.8s\tremaining: 4.17s\n",
            "818:\tlearn: 0.3808430\ttotal: 18.8s\tremaining: 4.16s\n",
            "819:\tlearn: 0.3807980\ttotal: 18.8s\tremaining: 4.13s\n",
            "820:\tlearn: 0.3807518\ttotal: 18.9s\tremaining: 4.12s\n",
            "821:\tlearn: 0.3807304\ttotal: 18.9s\tremaining: 4.09s\n",
            "822:\tlearn: 0.3806869\ttotal: 18.9s\tremaining: 4.07s\n",
            "823:\tlearn: 0.3806731\ttotal: 19s\tremaining: 4.05s\n"
          ]
        },
        {
          "name": "stdout",
          "output_type": "stream",
          "text": [
            "824:\tlearn: 0.3805904\ttotal: 19s\tremaining: 4.03s\n",
            "825:\tlearn: 0.3804488\ttotal: 19.1s\tremaining: 4.01s\n",
            "826:\tlearn: 0.3803826\ttotal: 19.1s\tremaining: 3.99s\n",
            "827:\tlearn: 0.3803543\ttotal: 19.1s\tremaining: 3.97s\n",
            "828:\tlearn: 0.3802485\ttotal: 19.1s\tremaining: 3.95s\n",
            "829:\tlearn: 0.3802025\ttotal: 19.2s\tremaining: 3.93s\n",
            "830:\tlearn: 0.3801500\ttotal: 19.2s\tremaining: 3.91s\n",
            "831:\tlearn: 0.3801436\ttotal: 19.2s\tremaining: 3.88s\n",
            "832:\tlearn: 0.3801025\ttotal: 19.3s\tremaining: 3.86s\n",
            "833:\tlearn: 0.3800531\ttotal: 19.3s\tremaining: 3.84s\n",
            "834:\tlearn: 0.3800417\ttotal: 19.3s\tremaining: 3.82s\n",
            "835:\tlearn: 0.3799942\ttotal: 19.4s\tremaining: 3.8s\n",
            "836:\tlearn: 0.3799617\ttotal: 19.4s\tremaining: 3.78s\n",
            "837:\tlearn: 0.3799165\ttotal: 19.4s\tremaining: 3.76s\n",
            "838:\tlearn: 0.3798631\ttotal: 19.5s\tremaining: 3.74s\n",
            "839:\tlearn: 0.3797566\ttotal: 19.5s\tremaining: 3.71s\n",
            "840:\tlearn: 0.3796906\ttotal: 19.5s\tremaining: 3.69s\n",
            "841:\tlearn: 0.3796521\ttotal: 19.6s\tremaining: 3.67s\n",
            "842:\tlearn: 0.3796179\ttotal: 19.6s\tremaining: 3.65s\n",
            "843:\tlearn: 0.3795659\ttotal: 19.6s\tremaining: 3.63s\n",
            "844:\tlearn: 0.3795614\ttotal: 19.7s\tremaining: 3.6s\n",
            "845:\tlearn: 0.3795201\ttotal: 19.7s\tremaining: 3.58s\n",
            "846:\tlearn: 0.3793838\ttotal: 19.7s\tremaining: 3.56s\n",
            "847:\tlearn: 0.3793561\ttotal: 19.7s\tremaining: 3.54s\n",
            "848:\tlearn: 0.3793152\ttotal: 19.8s\tremaining: 3.52s\n",
            "849:\tlearn: 0.3792537\ttotal: 19.8s\tremaining: 3.5s\n",
            "850:\tlearn: 0.3791865\ttotal: 19.9s\tremaining: 3.48s\n",
            "851:\tlearn: 0.3791368\ttotal: 19.9s\tremaining: 3.46s\n",
            "852:\tlearn: 0.3790579\ttotal: 19.9s\tremaining: 3.44s\n",
            "853:\tlearn: 0.3790412\ttotal: 20s\tremaining: 3.42s\n",
            "854:\tlearn: 0.3790104\ttotal: 20s\tremaining: 3.4s\n",
            "855:\tlearn: 0.3788849\ttotal: 20.1s\tremaining: 3.38s\n",
            "856:\tlearn: 0.3788494\ttotal: 20.1s\tremaining: 3.35s\n",
            "857:\tlearn: 0.3788217\ttotal: 20.1s\tremaining: 3.33s\n",
            "858:\tlearn: 0.3787594\ttotal: 20.2s\tremaining: 3.31s\n",
            "859:\tlearn: 0.3787123\ttotal: 20.2s\tremaining: 3.29s\n",
            "860:\tlearn: 0.3786397\ttotal: 20.2s\tremaining: 3.27s\n",
            "861:\tlearn: 0.3785627\ttotal: 20.3s\tremaining: 3.24s\n",
            "862:\tlearn: 0.3785062\ttotal: 20.3s\tremaining: 3.22s\n",
            "863:\tlearn: 0.3784284\ttotal: 20.3s\tremaining: 3.2s\n",
            "864:\tlearn: 0.3783515\ttotal: 20.4s\tremaining: 3.18s\n",
            "865:\tlearn: 0.3783312\ttotal: 20.4s\tremaining: 3.15s\n",
            "866:\tlearn: 0.3783177\ttotal: 20.4s\tremaining: 3.13s\n",
            "867:\tlearn: 0.3781998\ttotal: 20.5s\tremaining: 3.11s\n",
            "868:\tlearn: 0.3781949\ttotal: 20.5s\tremaining: 3.09s\n",
            "869:\tlearn: 0.3781437\ttotal: 20.5s\tremaining: 3.07s\n",
            "870:\tlearn: 0.3780964\ttotal: 20.6s\tremaining: 3.05s\n",
            "871:\tlearn: 0.3780408\ttotal: 20.6s\tremaining: 3.03s\n",
            "872:\tlearn: 0.3779225\ttotal: 20.7s\tremaining: 3.01s\n",
            "873:\tlearn: 0.3778957\ttotal: 20.7s\tremaining: 2.99s\n",
            "874:\tlearn: 0.3778520\ttotal: 20.8s\tremaining: 2.97s\n",
            "875:\tlearn: 0.3777365\ttotal: 20.9s\tremaining: 2.95s\n",
            "876:\tlearn: 0.3777011\ttotal: 20.9s\tremaining: 2.93s\n",
            "877:\tlearn: 0.3776807\ttotal: 21s\tremaining: 2.91s\n",
            "878:\tlearn: 0.3776048\ttotal: 21s\tremaining: 2.9s\n",
            "879:\tlearn: 0.3774823\ttotal: 21.1s\tremaining: 2.88s\n",
            "880:\tlearn: 0.3774637\ttotal: 21.1s\tremaining: 2.85s\n",
            "881:\tlearn: 0.3774449\ttotal: 21.2s\tremaining: 2.83s\n",
            "882:\tlearn: 0.3774154\ttotal: 21.2s\tremaining: 2.81s\n",
            "883:\tlearn: 0.3773494\ttotal: 21.2s\tremaining: 2.79s\n",
            "884:\tlearn: 0.3772243\ttotal: 21.3s\tremaining: 2.76s\n",
            "885:\tlearn: 0.3772209\ttotal: 21.3s\tremaining: 2.74s\n",
            "886:\tlearn: 0.3771513\ttotal: 21.3s\tremaining: 2.72s\n",
            "887:\tlearn: 0.3770466\ttotal: 21.3s\tremaining: 2.69s\n",
            "888:\tlearn: 0.3769882\ttotal: 21.4s\tremaining: 2.67s\n",
            "889:\tlearn: 0.3769116\ttotal: 21.4s\tremaining: 2.65s\n",
            "890:\tlearn: 0.3768935\ttotal: 21.4s\tremaining: 2.62s\n",
            "891:\tlearn: 0.3768034\ttotal: 21.5s\tremaining: 2.6s\n",
            "892:\tlearn: 0.3767519\ttotal: 21.5s\tremaining: 2.58s\n",
            "893:\tlearn: 0.3766129\ttotal: 21.5s\tremaining: 2.55s\n",
            "894:\tlearn: 0.3765517\ttotal: 21.6s\tremaining: 2.53s\n",
            "895:\tlearn: 0.3764332\ttotal: 21.6s\tremaining: 2.5s\n",
            "896:\tlearn: 0.3764006\ttotal: 21.6s\tremaining: 2.48s\n",
            "897:\tlearn: 0.3763601\ttotal: 21.6s\tremaining: 2.46s\n",
            "898:\tlearn: 0.3762852\ttotal: 21.7s\tremaining: 2.43s\n",
            "899:\tlearn: 0.3761880\ttotal: 21.7s\tremaining: 2.41s\n",
            "900:\tlearn: 0.3761514\ttotal: 21.7s\tremaining: 2.39s\n",
            "901:\tlearn: 0.3761016\ttotal: 21.8s\tremaining: 2.36s\n",
            "902:\tlearn: 0.3760770\ttotal: 21.8s\tremaining: 2.34s\n",
            "903:\tlearn: 0.3760386\ttotal: 21.8s\tremaining: 2.32s\n",
            "904:\tlearn: 0.3759541\ttotal: 21.8s\tremaining: 2.29s\n",
            "905:\tlearn: 0.3759303\ttotal: 21.9s\tremaining: 2.27s\n",
            "906:\tlearn: 0.3758528\ttotal: 21.9s\tremaining: 2.25s\n",
            "907:\tlearn: 0.3758344\ttotal: 21.9s\tremaining: 2.22s\n",
            "908:\tlearn: 0.3757973\ttotal: 22s\tremaining: 2.2s\n",
            "909:\tlearn: 0.3757860\ttotal: 22s\tremaining: 2.17s\n",
            "910:\tlearn: 0.3756983\ttotal: 22s\tremaining: 2.15s\n",
            "911:\tlearn: 0.3756644\ttotal: 22s\tremaining: 2.13s\n",
            "912:\tlearn: 0.3756392\ttotal: 22.1s\tremaining: 2.1s\n",
            "913:\tlearn: 0.3756244\ttotal: 22.1s\tremaining: 2.08s\n",
            "914:\tlearn: 0.3755908\ttotal: 22.1s\tremaining: 2.06s\n",
            "915:\tlearn: 0.3755707\ttotal: 22.2s\tremaining: 2.03s\n",
            "916:\tlearn: 0.3755389\ttotal: 22.2s\tremaining: 2.01s\n",
            "917:\tlearn: 0.3755029\ttotal: 22.2s\tremaining: 1.98s\n",
            "918:\tlearn: 0.3754589\ttotal: 22.2s\tremaining: 1.96s\n",
            "919:\tlearn: 0.3754311\ttotal: 22.3s\tremaining: 1.94s\n",
            "920:\tlearn: 0.3753254\ttotal: 22.3s\tremaining: 1.91s\n",
            "921:\tlearn: 0.3752255\ttotal: 22.3s\tremaining: 1.89s\n",
            "922:\tlearn: 0.3751286\ttotal: 22.4s\tremaining: 1.86s\n",
            "923:\tlearn: 0.3750702\ttotal: 22.4s\tremaining: 1.84s\n",
            "924:\tlearn: 0.3750492\ttotal: 22.4s\tremaining: 1.82s\n",
            "925:\tlearn: 0.3749934\ttotal: 22.4s\tremaining: 1.79s\n",
            "926:\tlearn: 0.3749055\ttotal: 22.5s\tremaining: 1.77s\n",
            "927:\tlearn: 0.3747816\ttotal: 22.5s\tremaining: 1.75s\n",
            "928:\tlearn: 0.3747304\ttotal: 22.5s\tremaining: 1.72s\n",
            "929:\tlearn: 0.3747301\ttotal: 22.6s\tremaining: 1.7s\n",
            "930:\tlearn: 0.3747040\ttotal: 22.6s\tremaining: 1.67s\n",
            "931:\tlearn: 0.3746745\ttotal: 22.6s\tremaining: 1.65s\n",
            "932:\tlearn: 0.3746081\ttotal: 22.6s\tremaining: 1.63s\n",
            "933:\tlearn: 0.3745499\ttotal: 22.7s\tremaining: 1.6s\n",
            "934:\tlearn: 0.3744997\ttotal: 22.7s\tremaining: 1.58s\n",
            "935:\tlearn: 0.3744334\ttotal: 22.7s\tremaining: 1.55s\n",
            "936:\tlearn: 0.3744127\ttotal: 22.8s\tremaining: 1.53s\n",
            "937:\tlearn: 0.3743913\ttotal: 22.8s\tremaining: 1.51s\n",
            "938:\tlearn: 0.3743507\ttotal: 22.8s\tremaining: 1.48s\n",
            "939:\tlearn: 0.3743333\ttotal: 22.9s\tremaining: 1.46s\n",
            "940:\tlearn: 0.3743282\ttotal: 22.9s\tremaining: 1.43s\n",
            "941:\tlearn: 0.3742288\ttotal: 22.9s\tremaining: 1.41s\n",
            "942:\tlearn: 0.3741515\ttotal: 22.9s\tremaining: 1.39s\n",
            "943:\tlearn: 0.3740677\ttotal: 23s\tremaining: 1.36s\n",
            "944:\tlearn: 0.3740042\ttotal: 23s\tremaining: 1.34s\n",
            "945:\tlearn: 0.3739053\ttotal: 23s\tremaining: 1.31s\n",
            "946:\tlearn: 0.3738681\ttotal: 23.1s\tremaining: 1.29s\n",
            "947:\tlearn: 0.3737842\ttotal: 23.1s\tremaining: 1.27s\n",
            "948:\tlearn: 0.3737383\ttotal: 23.1s\tremaining: 1.24s\n",
            "949:\tlearn: 0.3737253\ttotal: 23.1s\tremaining: 1.22s\n",
            "950:\tlearn: 0.3737028\ttotal: 23.2s\tremaining: 1.19s\n",
            "951:\tlearn: 0.3736811\ttotal: 23.2s\tremaining: 1.17s\n",
            "952:\tlearn: 0.3735916\ttotal: 23.2s\tremaining: 1.15s\n",
            "953:\tlearn: 0.3735674\ttotal: 23.3s\tremaining: 1.12s\n",
            "954:\tlearn: 0.3735359\ttotal: 23.3s\tremaining: 1.1s\n",
            "955:\tlearn: 0.3734500\ttotal: 23.3s\tremaining: 1.07s\n",
            "956:\tlearn: 0.3734269\ttotal: 23.3s\tremaining: 1.05s\n",
            "957:\tlearn: 0.3733967\ttotal: 23.4s\tremaining: 1.02s\n",
            "958:\tlearn: 0.3733501\ttotal: 23.4s\tremaining: 1000ms\n",
            "959:\tlearn: 0.3732001\ttotal: 23.4s\tremaining: 975ms\n",
            "960:\tlearn: 0.3731180\ttotal: 23.4s\tremaining: 951ms\n",
            "961:\tlearn: 0.3730539\ttotal: 23.5s\tremaining: 927ms\n",
            "962:\tlearn: 0.3730420\ttotal: 23.5s\tremaining: 902ms\n",
            "963:\tlearn: 0.3729734\ttotal: 23.5s\tremaining: 878ms\n",
            "964:\tlearn: 0.3729325\ttotal: 23.5s\tremaining: 854ms\n",
            "965:\tlearn: 0.3728844\ttotal: 23.6s\tremaining: 830ms\n",
            "966:\tlearn: 0.3728829\ttotal: 23.6s\tremaining: 805ms\n",
            "967:\tlearn: 0.3728444\ttotal: 23.6s\tremaining: 781ms\n",
            "968:\tlearn: 0.3727961\ttotal: 23.7s\tremaining: 757ms\n",
            "969:\tlearn: 0.3726872\ttotal: 23.7s\tremaining: 732ms\n",
            "970:\tlearn: 0.3726825\ttotal: 23.7s\tremaining: 708ms\n",
            "971:\tlearn: 0.3726017\ttotal: 23.7s\tremaining: 684ms\n",
            "972:\tlearn: 0.3725595\ttotal: 23.8s\tremaining: 659ms\n",
            "973:\tlearn: 0.3724926\ttotal: 23.8s\tremaining: 635ms\n",
            "974:\tlearn: 0.3724656\ttotal: 23.8s\tremaining: 610ms\n",
            "975:\tlearn: 0.3723979\ttotal: 23.8s\tremaining: 586ms\n",
            "976:\tlearn: 0.3723417\ttotal: 23.9s\tremaining: 562ms\n",
            "977:\tlearn: 0.3723145\ttotal: 23.9s\tremaining: 537ms\n",
            "978:\tlearn: 0.3722491\ttotal: 23.9s\tremaining: 513ms\n",
            "979:\tlearn: 0.3721928\ttotal: 23.9s\tremaining: 489ms\n",
            "980:\tlearn: 0.3721615\ttotal: 24s\tremaining: 464ms\n",
            "981:\tlearn: 0.3720831\ttotal: 24s\tremaining: 440ms\n",
            "982:\tlearn: 0.3719911\ttotal: 24s\tremaining: 416ms\n",
            "983:\tlearn: 0.3719553\ttotal: 24.1s\tremaining: 391ms\n",
            "984:\tlearn: 0.3719370\ttotal: 24.1s\tremaining: 367ms\n",
            "985:\tlearn: 0.3718620\ttotal: 24.1s\tremaining: 342ms\n",
            "986:\tlearn: 0.3718565\ttotal: 24.1s\tremaining: 318ms\n",
            "987:\tlearn: 0.3717999\ttotal: 24.2s\tremaining: 294ms\n",
            "988:\tlearn: 0.3717393\ttotal: 24.2s\tremaining: 269ms\n",
            "989:\tlearn: 0.3716923\ttotal: 24.2s\tremaining: 245ms\n"
          ]
        },
        {
          "name": "stdout",
          "output_type": "stream",
          "text": [
            "990:\tlearn: 0.3716351\ttotal: 24.3s\tremaining: 220ms\n",
            "991:\tlearn: 0.3715814\ttotal: 24.3s\tremaining: 196ms\n",
            "992:\tlearn: 0.3715643\ttotal: 24.3s\tremaining: 171ms\n",
            "993:\tlearn: 0.3715338\ttotal: 24.3s\tremaining: 147ms\n",
            "994:\tlearn: 0.3714232\ttotal: 24.4s\tremaining: 122ms\n",
            "995:\tlearn: 0.3713971\ttotal: 24.4s\tremaining: 98ms\n",
            "996:\tlearn: 0.3713051\ttotal: 24.4s\tremaining: 73.5ms\n",
            "997:\tlearn: 0.3712283\ttotal: 24.5s\tremaining: 49ms\n",
            "998:\tlearn: 0.3711059\ttotal: 24.5s\tremaining: 24.5ms\n",
            "999:\tlearn: 0.3710817\ttotal: 24.5s\tremaining: 0us\n",
            "error: 1.0\n"
          ]
        },
        {
          "name": "stderr",
          "output_type": "stream",
          "text": [
            "<ipython-input-31-c2212756a7e9>:5: DeprecationWarning: elementwise comparison failed; this will raise an error in the future.\n",
            "  print('error:',1-np.mean(res==np.ravel(y_test)))\n"
          ]
        }
      ],
      "source": [
        "clf = CatBoostClassifier()\n",
        "cat_dims = [X_train.columns.get_loc(i) for i in categorical_columns[:-1]] \n",
        "clf.fit(X_train, np.ravel(y_train), cat_features=cat_dims)\n",
        "res = clf.predict(X_test)\n",
        "print('error:',1-np.mean(res==np.ravel(y_test)))"
      ]
    },
    {
      "cell_type": "code",
      "execution_count": null,
      "id": "e13fe4da",
      "metadata": {
        "id": "e13fe4da",
        "outputId": "d02a3e5d-54de-497b-e8dd-3386a25012da"
      },
      "outputs": [
        {
          "name": "stdout",
          "output_type": "stream",
          "text": [
            "0:\tlearn: 0.6662715\ttotal: 8.3ms\tremaining: 822ms\n",
            "1:\tlearn: 0.6418663\ttotal: 16.5ms\tremaining: 808ms\n",
            "2:\tlearn: 0.6205567\ttotal: 23.6ms\tremaining: 764ms\n",
            "3:\tlearn: 0.6008139\ttotal: 30.8ms\tremaining: 739ms\n",
            "4:\tlearn: 0.5835694\ttotal: 38.2ms\tremaining: 726ms\n",
            "5:\tlearn: 0.5681053\ttotal: 45.6ms\tremaining: 714ms\n",
            "6:\tlearn: 0.5547543\ttotal: 52.3ms\tremaining: 695ms\n",
            "7:\tlearn: 0.5428733\ttotal: 58.2ms\tremaining: 669ms\n",
            "8:\tlearn: 0.5320889\ttotal: 63.2ms\tremaining: 640ms\n",
            "9:\tlearn: 0.5229247\ttotal: 68.4ms\tremaining: 615ms\n",
            "10:\tlearn: 0.5146388\ttotal: 73.8ms\tremaining: 597ms\n",
            "11:\tlearn: 0.5070854\ttotal: 79ms\tremaining: 579ms\n",
            "12:\tlearn: 0.5002594\ttotal: 84ms\tremaining: 562ms\n",
            "13:\tlearn: 0.4938648\ttotal: 89.1ms\tremaining: 547ms\n",
            "14:\tlearn: 0.4884807\ttotal: 94.3ms\tremaining: 535ms\n",
            "15:\tlearn: 0.4835066\ttotal: 99.8ms\tremaining: 524ms\n",
            "16:\tlearn: 0.4791341\ttotal: 105ms\tremaining: 513ms\n",
            "17:\tlearn: 0.4749695\ttotal: 110ms\tremaining: 503ms\n",
            "18:\tlearn: 0.4715340\ttotal: 116ms\tremaining: 493ms\n",
            "19:\tlearn: 0.4682037\ttotal: 121ms\tremaining: 482ms\n",
            "20:\tlearn: 0.4651003\ttotal: 126ms\tremaining: 474ms\n",
            "21:\tlearn: 0.4624457\ttotal: 131ms\tremaining: 465ms\n",
            "22:\tlearn: 0.4600478\ttotal: 137ms\tremaining: 457ms\n",
            "23:\tlearn: 0.4580108\ttotal: 142ms\tremaining: 450ms\n",
            "24:\tlearn: 0.4560664\ttotal: 147ms\tremaining: 441ms\n",
            "25:\tlearn: 0.4542663\ttotal: 152ms\tremaining: 433ms\n",
            "26:\tlearn: 0.4527274\ttotal: 158ms\tremaining: 426ms\n",
            "27:\tlearn: 0.4511611\ttotal: 163ms\tremaining: 418ms\n",
            "28:\tlearn: 0.4497417\ttotal: 168ms\tremaining: 412ms\n",
            "29:\tlearn: 0.4484652\ttotal: 173ms\tremaining: 404ms\n",
            "30:\tlearn: 0.4472184\ttotal: 179ms\tremaining: 397ms\n",
            "31:\tlearn: 0.4461788\ttotal: 184ms\tremaining: 390ms\n",
            "32:\tlearn: 0.4451923\ttotal: 189ms\tremaining: 384ms\n",
            "33:\tlearn: 0.4442798\ttotal: 194ms\tremaining: 377ms\n",
            "34:\tlearn: 0.4432182\ttotal: 200ms\tremaining: 372ms\n",
            "35:\tlearn: 0.4424176\ttotal: 206ms\tremaining: 367ms\n",
            "36:\tlearn: 0.4417001\ttotal: 214ms\tremaining: 364ms\n",
            "37:\tlearn: 0.4409673\ttotal: 220ms\tremaining: 359ms\n",
            "38:\tlearn: 0.4404351\ttotal: 227ms\tremaining: 355ms\n",
            "39:\tlearn: 0.4397464\ttotal: 234ms\tremaining: 350ms\n",
            "40:\tlearn: 0.4391581\ttotal: 240ms\tremaining: 346ms\n",
            "41:\tlearn: 0.4385409\ttotal: 247ms\tremaining: 341ms\n",
            "42:\tlearn: 0.4380600\ttotal: 253ms\tremaining: 335ms\n",
            "43:\tlearn: 0.4377052\ttotal: 260ms\tremaining: 331ms\n",
            "44:\tlearn: 0.4372290\ttotal: 269ms\tremaining: 328ms\n",
            "45:\tlearn: 0.4368235\ttotal: 276ms\tremaining: 324ms\n",
            "46:\tlearn: 0.4364556\ttotal: 283ms\tremaining: 319ms\n",
            "47:\tlearn: 0.4360546\ttotal: 288ms\tremaining: 313ms\n",
            "48:\tlearn: 0.4357084\ttotal: 294ms\tremaining: 306ms\n",
            "49:\tlearn: 0.4352376\ttotal: 300ms\tremaining: 300ms\n",
            "50:\tlearn: 0.4348639\ttotal: 306ms\tremaining: 294ms\n",
            "51:\tlearn: 0.4346431\ttotal: 311ms\tremaining: 287ms\n",
            "52:\tlearn: 0.4342580\ttotal: 317ms\tremaining: 282ms\n",
            "53:\tlearn: 0.4339176\ttotal: 324ms\tremaining: 276ms\n",
            "54:\tlearn: 0.4335642\ttotal: 330ms\tremaining: 270ms\n",
            "55:\tlearn: 0.4332462\ttotal: 335ms\tremaining: 264ms\n",
            "56:\tlearn: 0.4329652\ttotal: 341ms\tremaining: 258ms\n",
            "57:\tlearn: 0.4327750\ttotal: 347ms\tremaining: 251ms\n",
            "58:\tlearn: 0.4325286\ttotal: 352ms\tremaining: 245ms\n",
            "59:\tlearn: 0.4322964\ttotal: 358ms\tremaining: 238ms\n",
            "60:\tlearn: 0.4320173\ttotal: 363ms\tremaining: 232ms\n",
            "61:\tlearn: 0.4318200\ttotal: 369ms\tremaining: 226ms\n",
            "62:\tlearn: 0.4315957\ttotal: 375ms\tremaining: 220ms\n",
            "63:\tlearn: 0.4313115\ttotal: 380ms\tremaining: 214ms\n",
            "64:\tlearn: 0.4310378\ttotal: 386ms\tremaining: 208ms\n",
            "65:\tlearn: 0.4307915\ttotal: 393ms\tremaining: 202ms\n",
            "66:\tlearn: 0.4306351\ttotal: 398ms\tremaining: 196ms\n",
            "67:\tlearn: 0.4303635\ttotal: 404ms\tremaining: 190ms\n",
            "68:\tlearn: 0.4301760\ttotal: 411ms\tremaining: 185ms\n",
            "69:\tlearn: 0.4298979\ttotal: 417ms\tremaining: 179ms\n",
            "70:\tlearn: 0.4297598\ttotal: 424ms\tremaining: 173ms\n",
            "71:\tlearn: 0.4296354\ttotal: 431ms\tremaining: 167ms\n",
            "72:\tlearn: 0.4294650\ttotal: 439ms\tremaining: 162ms\n",
            "73:\tlearn: 0.4293553\ttotal: 445ms\tremaining: 156ms\n",
            "74:\tlearn: 0.4291391\ttotal: 453ms\tremaining: 151ms\n",
            "75:\tlearn: 0.4290241\ttotal: 459ms\tremaining: 145ms\n",
            "76:\tlearn: 0.4288977\ttotal: 465ms\tremaining: 139ms\n",
            "77:\tlearn: 0.4287137\ttotal: 471ms\tremaining: 133ms\n",
            "78:\tlearn: 0.4285098\ttotal: 477ms\tremaining: 127ms\n",
            "79:\tlearn: 0.4283727\ttotal: 483ms\tremaining: 121ms\n",
            "80:\tlearn: 0.4281971\ttotal: 489ms\tremaining: 115ms\n",
            "81:\tlearn: 0.4279507\ttotal: 495ms\tremaining: 109ms\n",
            "82:\tlearn: 0.4277894\ttotal: 501ms\tremaining: 103ms\n",
            "83:\tlearn: 0.4275667\ttotal: 507ms\tremaining: 96.5ms\n",
            "84:\tlearn: 0.4273744\ttotal: 513ms\tremaining: 90.5ms\n",
            "85:\tlearn: 0.4271142\ttotal: 519ms\tremaining: 84.5ms\n",
            "86:\tlearn: 0.4270151\ttotal: 525ms\tremaining: 78.4ms\n",
            "87:\tlearn: 0.4268857\ttotal: 531ms\tremaining: 72.4ms\n",
            "88:\tlearn: 0.4267516\ttotal: 537ms\tremaining: 66.3ms\n",
            "89:\tlearn: 0.4265861\ttotal: 543ms\tremaining: 60.3ms\n",
            "90:\tlearn: 0.4264133\ttotal: 549ms\tremaining: 54.3ms\n",
            "91:\tlearn: 0.4262514\ttotal: 555ms\tremaining: 48.3ms\n",
            "92:\tlearn: 0.4261076\ttotal: 561ms\tremaining: 42.2ms\n",
            "93:\tlearn: 0.4258919\ttotal: 567ms\tremaining: 36.2ms\n",
            "94:\tlearn: 0.4257891\ttotal: 573ms\tremaining: 30.2ms\n",
            "95:\tlearn: 0.4256428\ttotal: 579ms\tremaining: 24.1ms\n",
            "96:\tlearn: 0.4254795\ttotal: 585ms\tremaining: 18.1ms\n",
            "97:\tlearn: 0.4254009\ttotal: 591ms\tremaining: 12.1ms\n",
            "98:\tlearn: 0.4252838\ttotal: 599ms\tremaining: 6.05ms\n",
            "99:\tlearn: 0.4250659\ttotal: 608ms\tremaining: 0us\n"
          ]
        },
        {
          "data": {
            "text/plain": [
              "GridSearchCV(cv=2,\n",
              "             estimator=<catboost.core.CatBoostClassifier object at 0x7fbfa4549910>,\n",
              "             n_jobs=-1,\n",
              "             param_grid={'depth': [6, 8, 10], 'iterations': [30, 50, 100],\n",
              "                         'learning_rate': [0.01, 0.05, 0.1]})"
            ]
          },
          "execution_count": 32,
          "metadata": {},
          "output_type": "execute_result"
        }
      ],
      "source": [
        "grid = GridSearchCV(estimator=clf, param_grid=params2, cv = 2, n_jobs=-1)\n",
        "grid.fit(X_train, y_train)"
      ]
    },
    {
      "cell_type": "code",
      "execution_count": null,
      "id": "6b5a1034",
      "metadata": {
        "id": "6b5a1034",
        "outputId": "28d28283-e79b-489c-b58a-354fc9311d0e"
      },
      "outputs": [
        {
          "name": "stdout",
          "output_type": "stream",
          "text": [
            " Results from Grid Search \n",
            "\n",
            " The best estimator across ALL searched params:\n",
            " <catboost.core.CatBoostClassifier object at 0x7fbfa4647ee0>\n",
            "\n",
            " The best score across ALL searched params:\n",
            " 0.8166666666666667\n",
            "\n",
            " The best parameters across ALL searched params:\n",
            " {'depth': 6, 'iterations': 100, 'learning_rate': 0.05}\n"
          ]
        }
      ],
      "source": [
        "print(\" Results from Grid Search \" )\n",
        "print(\"\\n The best estimator across ALL searched params:\\n\", grid.best_estimator_)\n",
        "print(\"\\n The best score across ALL searched params:\\n\", grid.best_score_)\n",
        "print(\"\\n The best parameters across ALL searched params:\\n\", grid.best_params_)"
      ]
    },
    {
      "cell_type": "code",
      "execution_count": null,
      "id": "9abc704a",
      "metadata": {
        "id": "9abc704a",
        "outputId": "05a8a1c1-686f-4fcb-d9d3-ed64131173f6"
      },
      "outputs": [
        {
          "name": "stdout",
          "output_type": "stream",
          "text": [
            "0:\tlearn: 0.6662715\ttotal: 3.54ms\tremaining: 350ms\n",
            "1:\tlearn: 0.6418663\ttotal: 7.63ms\tremaining: 374ms\n",
            "2:\tlearn: 0.6205567\ttotal: 11.9ms\tremaining: 385ms\n",
            "3:\tlearn: 0.6008139\ttotal: 14.8ms\tremaining: 355ms\n",
            "4:\tlearn: 0.5835694\ttotal: 17.5ms\tremaining: 333ms\n",
            "5:\tlearn: 0.5681053\ttotal: 20.5ms\tremaining: 321ms\n",
            "6:\tlearn: 0.5547543\ttotal: 23ms\tremaining: 305ms\n",
            "7:\tlearn: 0.5428733\ttotal: 25.5ms\tremaining: 294ms\n",
            "8:\tlearn: 0.5320889\ttotal: 28.1ms\tremaining: 284ms\n",
            "9:\tlearn: 0.5229247\ttotal: 31ms\tremaining: 279ms\n",
            "10:\tlearn: 0.5146388\ttotal: 34.6ms\tremaining: 280ms\n",
            "11:\tlearn: 0.5070854\ttotal: 37.6ms\tremaining: 276ms\n",
            "12:\tlearn: 0.5002594\ttotal: 40.1ms\tremaining: 268ms\n",
            "13:\tlearn: 0.4938648\ttotal: 42.6ms\tremaining: 262ms\n",
            "14:\tlearn: 0.4884807\ttotal: 45.1ms\tremaining: 256ms\n",
            "15:\tlearn: 0.4835066\ttotal: 47.6ms\tremaining: 250ms\n",
            "16:\tlearn: 0.4791341\ttotal: 50.1ms\tremaining: 244ms\n",
            "17:\tlearn: 0.4749695\ttotal: 52.5ms\tremaining: 239ms\n",
            "18:\tlearn: 0.4715340\ttotal: 55ms\tremaining: 234ms\n",
            "19:\tlearn: 0.4682037\ttotal: 57.2ms\tremaining: 229ms\n",
            "20:\tlearn: 0.4651003\ttotal: 59.7ms\tremaining: 225ms\n",
            "21:\tlearn: 0.4624457\ttotal: 62.1ms\tremaining: 220ms\n",
            "22:\tlearn: 0.4600478\ttotal: 64.5ms\tremaining: 216ms\n",
            "23:\tlearn: 0.4580108\ttotal: 67.1ms\tremaining: 212ms\n",
            "24:\tlearn: 0.4560664\ttotal: 69.3ms\tremaining: 208ms\n",
            "25:\tlearn: 0.4542663\ttotal: 71.8ms\tremaining: 204ms\n",
            "26:\tlearn: 0.4527274\ttotal: 74.3ms\tremaining: 201ms\n",
            "27:\tlearn: 0.4511611\ttotal: 76.7ms\tremaining: 197ms\n",
            "28:\tlearn: 0.4497417\ttotal: 79.2ms\tremaining: 194ms\n",
            "29:\tlearn: 0.4484652\ttotal: 81.6ms\tremaining: 190ms\n",
            "30:\tlearn: 0.4472184\ttotal: 84ms\tremaining: 187ms\n",
            "31:\tlearn: 0.4461788\ttotal: 86.5ms\tremaining: 184ms\n",
            "32:\tlearn: 0.4451923\ttotal: 88.9ms\tremaining: 180ms\n",
            "33:\tlearn: 0.4442798\ttotal: 91.2ms\tremaining: 177ms\n",
            "34:\tlearn: 0.4432182\ttotal: 93.7ms\tremaining: 174ms\n",
            "35:\tlearn: 0.4424176\ttotal: 96.2ms\tremaining: 171ms\n",
            "36:\tlearn: 0.4417001\ttotal: 98.7ms\tremaining: 168ms\n",
            "37:\tlearn: 0.4409673\ttotal: 101ms\tremaining: 165ms\n",
            "38:\tlearn: 0.4404351\ttotal: 104ms\tremaining: 162ms\n",
            "39:\tlearn: 0.4397464\ttotal: 106ms\tremaining: 159ms\n",
            "40:\tlearn: 0.4391581\ttotal: 109ms\tremaining: 156ms\n",
            "41:\tlearn: 0.4385409\ttotal: 111ms\tremaining: 153ms\n",
            "42:\tlearn: 0.4380600\ttotal: 113ms\tremaining: 150ms\n",
            "43:\tlearn: 0.4377052\ttotal: 116ms\tremaining: 147ms\n",
            "44:\tlearn: 0.4372290\ttotal: 118ms\tremaining: 145ms\n",
            "45:\tlearn: 0.4368235\ttotal: 121ms\tremaining: 142ms\n",
            "46:\tlearn: 0.4364556\ttotal: 124ms\tremaining: 139ms\n",
            "47:\tlearn: 0.4360546\ttotal: 126ms\tremaining: 137ms\n",
            "48:\tlearn: 0.4357084\ttotal: 128ms\tremaining: 134ms\n",
            "49:\tlearn: 0.4352376\ttotal: 131ms\tremaining: 131ms\n",
            "50:\tlearn: 0.4348639\ttotal: 133ms\tremaining: 128ms\n",
            "51:\tlearn: 0.4346431\ttotal: 136ms\tremaining: 125ms\n",
            "52:\tlearn: 0.4342580\ttotal: 139ms\tremaining: 123ms\n",
            "53:\tlearn: 0.4339176\ttotal: 141ms\tremaining: 121ms\n",
            "54:\tlearn: 0.4335642\ttotal: 144ms\tremaining: 118ms\n",
            "55:\tlearn: 0.4332462\ttotal: 146ms\tremaining: 115ms\n",
            "56:\tlearn: 0.4329652\ttotal: 149ms\tremaining: 112ms\n",
            "57:\tlearn: 0.4327750\ttotal: 152ms\tremaining: 110ms\n",
            "58:\tlearn: 0.4325286\ttotal: 154ms\tremaining: 107ms\n",
            "59:\tlearn: 0.4322964\ttotal: 156ms\tremaining: 104ms\n",
            "60:\tlearn: 0.4320173\ttotal: 161ms\tremaining: 103ms\n",
            "61:\tlearn: 0.4318200\ttotal: 163ms\tremaining: 99.8ms\n",
            "62:\tlearn: 0.4315957\ttotal: 165ms\tremaining: 97ms\n",
            "63:\tlearn: 0.4313115\ttotal: 168ms\tremaining: 94.3ms\n",
            "64:\tlearn: 0.4310378\ttotal: 170ms\tremaining: 91.7ms\n",
            "65:\tlearn: 0.4307915\ttotal: 173ms\tremaining: 89ms\n",
            "66:\tlearn: 0.4306351\ttotal: 175ms\tremaining: 86.3ms\n",
            "67:\tlearn: 0.4303635\ttotal: 178ms\tremaining: 83.6ms\n",
            "68:\tlearn: 0.4301760\ttotal: 180ms\tremaining: 80.9ms\n",
            "69:\tlearn: 0.4298979\ttotal: 182ms\tremaining: 78.2ms\n",
            "70:\tlearn: 0.4297598\ttotal: 185ms\tremaining: 75.5ms\n",
            "71:\tlearn: 0.4296354\ttotal: 187ms\tremaining: 72.8ms\n",
            "72:\tlearn: 0.4294650\ttotal: 190ms\tremaining: 70.1ms\n",
            "73:\tlearn: 0.4293553\ttotal: 192ms\tremaining: 67.4ms\n",
            "74:\tlearn: 0.4291391\ttotal: 194ms\tremaining: 64.7ms\n",
            "75:\tlearn: 0.4290241\ttotal: 197ms\tremaining: 62.1ms\n",
            "76:\tlearn: 0.4288977\ttotal: 199ms\tremaining: 59.4ms\n",
            "77:\tlearn: 0.4287137\ttotal: 202ms\tremaining: 57ms\n",
            "78:\tlearn: 0.4285098\ttotal: 205ms\tremaining: 54.5ms\n",
            "79:\tlearn: 0.4283727\ttotal: 208ms\tremaining: 51.9ms\n",
            "80:\tlearn: 0.4281971\ttotal: 210ms\tremaining: 49.4ms\n",
            "81:\tlearn: 0.4279507\ttotal: 213ms\tremaining: 46.8ms\n",
            "82:\tlearn: 0.4277894\ttotal: 216ms\tremaining: 44.2ms\n",
            "83:\tlearn: 0.4275667\ttotal: 219ms\tremaining: 41.7ms\n",
            "84:\tlearn: 0.4273744\ttotal: 222ms\tremaining: 39.2ms\n",
            "85:\tlearn: 0.4271142\ttotal: 225ms\tremaining: 36.6ms\n",
            "86:\tlearn: 0.4270151\ttotal: 229ms\tremaining: 34.2ms\n",
            "87:\tlearn: 0.4268857\ttotal: 232ms\tremaining: 31.6ms\n",
            "88:\tlearn: 0.4267516\ttotal: 235ms\tremaining: 29ms\n",
            "89:\tlearn: 0.4265861\ttotal: 237ms\tremaining: 26.4ms\n",
            "90:\tlearn: 0.4264133\ttotal: 240ms\tremaining: 23.7ms\n",
            "91:\tlearn: 0.4262514\ttotal: 242ms\tremaining: 21.1ms\n",
            "92:\tlearn: 0.4261076\ttotal: 245ms\tremaining: 18.4ms\n",
            "93:\tlearn: 0.4258919\ttotal: 247ms\tremaining: 15.8ms\n",
            "94:\tlearn: 0.4257891\ttotal: 250ms\tremaining: 13.1ms\n",
            "95:\tlearn: 0.4256428\ttotal: 252ms\tremaining: 10.5ms\n",
            "96:\tlearn: 0.4254795\ttotal: 255ms\tremaining: 7.87ms\n",
            "97:\tlearn: 0.4254009\ttotal: 257ms\tremaining: 5.24ms\n",
            "98:\tlearn: 0.4252838\ttotal: 259ms\tremaining: 2.62ms\n",
            "99:\tlearn: 0.4250659\ttotal: 262ms\tremaining: 0us\n"
          ]
        },
        {
          "data": {
            "text/plain": [
              "<catboost.core.CatBoostClassifier at 0x7fbfa4f3af10>"
            ]
          },
          "execution_count": 48,
          "metadata": {},
          "output_type": "execute_result"
        }
      ],
      "source": [
        "gridparams={'depth': 6,\n",
        "            'learning_rate':0.05,\n",
        "            'iterations': 100\n",
        "            }\n",
        "catboost_final_model = CatBoostClassifier(**gridparams)\n",
        "catboost_final_model.fit(X_train,y_train)"
      ]
    },
    {
      "cell_type": "code",
      "execution_count": null,
      "id": "943db53e",
      "metadata": {
        "id": "943db53e",
        "outputId": "68853dc9-c800-4429-b98b-2bb128b37da3"
      },
      "outputs": [
        {
          "name": "stdout",
          "output_type": "stream",
          "text": [
            "auc_score: 0.7944105166916731\n"
          ]
        },
        {
          "data": {
            "image/png": "[encoded data removed]",
            "text/plain": [
              "<Figure size 432x288 with 1 Axes>"
            ]
          },
          "metadata": {
            "needs_background": "light"
          },
          "output_type": "display_data"
        }
      ],
      "source": [
        "model_score(X_test, catboost_final_model)"
      ]
    },
    {
      "cell_type": "markdown",
      "id": "1898c11d",
      "metadata": {
        "id": "1898c11d"
      },
      "source": [
        "### KNearestNeighbour Classifier"
      ]
    },
    {
      "cell_type": "code",
      "execution_count": null,
      "id": "b38ba940",
      "metadata": {
        "id": "b38ba940",
        "outputId": "2296e0a3-ec48-4a68-ba41-1c132414cb0a",
        "colab": {
          "base_uri": "https://localhost:8080/",
          "height": 282
        }
      },
      "outputs": [
        {
          "output_type": "stream",
          "name": "stdout",
          "text": [
            "auc_score: 0.6684601923050206\n"
          ]
        },
        {
          "output_type": "display_data",
          "data": {
            "image/png": "[encoded data removed]",
            "text/plain": [
              "<Figure size 432x288 with 1 Axes>"
            ]
          },
          "metadata": {
            "needs_background": "light"
          }
        }
      ],
      "source": [
        "#Default model without hyperparameter tuning\n",
        "d_model = KNeighborsClassifier()\n",
        "d_model.fit(X_train_p, y_train)\n",
        "model_score(X_test=X_test_p, model=d_model)"
      ]
    },
    {
      "cell_type": "markdown",
      "id": "107d3555",
      "metadata": {
        "id": "107d3555"
      },
      "source": [
        "#### Hyperparameter Tuning for KNN Classifier"
      ]
    },
    {
      "cell_type": "code",
      "execution_count": null,
      "id": "9a847668",
      "metadata": {
        "id": "9a847668",
        "outputId": "1a3ded03-6c13-42a9-dc52-26221dc4771a"
      },
      "outputs": [
        {
          "name": "stdout",
          "output_type": "stream",
          "text": [
            "\n",
            "n_neighbors: 5\n",
            "scores: [0.6563566  0.66485611 0.66524289 0.65558729 0.66468754]\n",
            "cv_score: 0.66135\n",
            "\n",
            "n_neighbors: 6\n",
            "scores: [0.67077329 0.6633973  0.65894979 0.67114057 0.66068086]\n",
            "cv_score: 0.66499\n",
            "\n",
            "n_neighbors: 7\n",
            "scores: [0.67049076 0.67715611 0.66511678 0.66104108 0.67524196]\n",
            "cv_score: 0.66981\n",
            "\n",
            "n_neighbors: 8\n",
            "scores: [0.6798596  0.66049845 0.68104913 0.66149998 0.66353981]\n",
            "cv_score: 0.66929\n",
            "\n",
            "n_neighbors: 9\n",
            "scores: [0.68592263 0.67893977 0.66656826 0.6708632  0.66166668]\n",
            "cv_score: 0.67279\n"
          ]
        }
      ],
      "source": [
        "for n_neighbors in [5, 6, 7, 8, 9]:\n",
        "    print(f'\\nn_neighbors: {n_neighbors}')\n",
        "    model = KNeighborsClassifier(n_neighbors=n_neighbors)\n",
        "    crossValidation(X_train=X_train_p, y_train=y_train, model=model)"
      ]
    },
    {
      "cell_type": "code",
      "execution_count": null,
      "id": "7630f283",
      "metadata": {
        "id": "7630f283",
        "outputId": "2130789c-278d-4f5d-9125-bd12b69b940c"
      },
      "outputs": [
        {
          "name": "stdout",
          "output_type": "stream",
          "text": [
            "\n",
            "n_neighbors: 12\n",
            "scores: [0.678575   0.67210092 0.69700672 0.67650981 0.67494638]\n",
            "cv_score: 0.67983\n",
            "\n",
            "n_neighbors: 15\n",
            "scores: [0.67012838 0.68371524 0.6813129  0.69236474 0.68920951]\n",
            "cv_score: 0.68335\n",
            "\n",
            "n_neighbors: 18\n",
            "scores: [0.6986056  0.69363406 0.68522017 0.69114276 0.67609835]\n",
            "cv_score: 0.68894\n",
            "\n",
            "n_neighbors: 21\n",
            "scores: [0.695116   0.69453654 0.68892742 0.68427798 0.69056897]\n",
            "cv_score: 0.69069\n"
          ]
        }
      ],
      "source": [
        "for n_neighbors in [12, 15, 18, 21]:\n",
        "    print(f'\\nn_neighbors: {n_neighbors}')\n",
        "    model = KNeighborsClassifier(n_neighbors=n_neighbors)\n",
        "    crossValidation(X_train=X_train_p, y_train=y_train, model=model)"
      ]
    },
    {
      "cell_type": "code",
      "execution_count": null,
      "id": "54eb6631",
      "metadata": {
        "id": "54eb6631",
        "outputId": "d47bdabb-2db6-4e1b-9644-f90fad7b892c"
      },
      "outputs": [
        {
          "name": "stdout",
          "output_type": "stream",
          "text": [
            "\n",
            "n_neighbors: 24\n",
            "scores: [0.697612   0.68482804 0.69526947 0.68585129 0.68752835]\n",
            "cv_score: 0.69022\n",
            "\n",
            "n_neighbors: 27\n",
            "scores: [0.67685241 0.68747807 0.70098113 0.68630807 0.67766771]\n",
            "cv_score: 0.68586\n",
            "\n",
            "n_neighbors: 30\n",
            "scores: [0.69978906 0.68150164 0.68308401 0.68703445 0.68796509]\n",
            "cv_score: 0.68787\n",
            "\n",
            "n_neighbors: 33\n",
            "scores: [0.68461913 0.70263446 0.68290304 0.6689195  0.68757141]\n",
            "cv_score: 0.68533\n",
            "\n",
            "n_neighbors: 36\n",
            "scores: [0.69435091 0.67775122 0.68705461 0.68970793 0.69041031]\n",
            "cv_score: 0.68785\n"
          ]
        }
      ],
      "source": [
        "for n_neighbors in [24, 27, 30, 33, 36]:\n",
        "    print(f'\\nn_neighbors: {n_neighbors}')\n",
        "    model = KNeighborsClassifier(n_neighbors=n_neighbors)\n",
        "    crossValidation(X_train=X_train_p, y_train=y_train, model=model)"
      ]
    },
    {
      "cell_type": "code",
      "execution_count": null,
      "id": "9b0de94f",
      "metadata": {
        "id": "9b0de94f",
        "outputId": "204bfeab-222c-434a-f834-d0c535de70d2"
      },
      "outputs": [
        {
          "name": "stdout",
          "output_type": "stream",
          "text": [
            "\n",
            "n_neighbors: 21, p: 1\n",
            "scores: [0.69187353 0.70250102 0.70002279 0.68990568 0.68692266]\n",
            "cv_score: 0.69425\n",
            "\n",
            "n_neighbors: 21, p: 2\n",
            "scores: [0.68136115 0.67822673 0.68771998 0.69328422 0.69164527]\n",
            "cv_score: 0.68645\n"
          ]
        }
      ],
      "source": [
        "power_param = [1,2] # 1 stand for manhattan_distance (l1), and euclidean_distance (l2) for p = 2\n",
        "\n",
        "for n_neighbors in [21]:\n",
        "    for i in power_param:\n",
        "        print(f'\\nn_neighbors: {n_neighbors}, p: {i}')\n",
        "        model = KNeighborsClassifier(n_neighbors=n_neighbors, p=i)\n",
        "        crossValidation(X_train=X_train_p, y_train=y_train, model=model)"
      ]
    },
    {
      "cell_type": "code",
      "execution_count": null,
      "id": "163eba45",
      "metadata": {
        "id": "163eba45",
        "outputId": "89ec2cb9-0870-4de1-8e60-a9b32569dfba"
      },
      "outputs": [
        {
          "name": "stdout",
          "output_type": "stream",
          "text": [
            "\n",
            "n_neighbors: 21, p: 1, leaf size: 25\n",
            "scores: [0.68108496 0.70221778 0.68409581 0.70088625 0.70489378]\n",
            "cv_score: 0.69464\n",
            "\n",
            "n_neighbors: 21, p: 1, leaf size: 30\n",
            "scores: [0.70304352 0.70628303 0.69070925 0.69082742 0.69645047]\n",
            "cv_score: 0.69746\n",
            "\n",
            "n_neighbors: 21, p: 1, leaf size: 35\n",
            "scores: [0.68903434 0.69061404 0.68812298 0.70255245 0.71181728]\n",
            "cv_score: 0.69643\n",
            "\n",
            "n_neighbors: 21, p: 1, leaf size: 40\n",
            "scores: [0.67592722 0.69650216 0.69853239 0.6899222  0.71314639]\n",
            "cv_score: 0.69481\n"
          ]
        }
      ],
      "source": [
        "power_param = [1] # 1 stand for manhattan_distance (l1), and euclidean_distance (l2) for p = 2\n",
        "leaf_size_knn = [25, 30, 35, 40] #default is 30\n",
        "\n",
        "for n_neighbors in [21]:\n",
        "    for i in power_param:\n",
        "        for l in leaf_size_knn:\n",
        "            print(f'\\nn_neighbors: {n_neighbors}, p: {i}, leaf size: {l}')\n",
        "            model = KNeighborsClassifier(n_neighbors=n_neighbors, p=i, leaf_size=l)\n",
        "            crossValidation(X_train=X_train_p, y_train=y_train, model=model)"
      ]
    },
    {
      "cell_type": "markdown",
      "source": [
        "##### Plot showing how AUC score change as we increase n_neighbors number"
      ],
      "metadata": {
        "id": "O2FA2ZrLxBUL"
      },
      "id": "O2FA2ZrLxBUL"
    },
    {
      "cell_type": "code",
      "source": [
        "#Function to calculate knn model AUC score\n",
        "def knn_score(X_test, model):\n",
        "    y_pred = model.predict_proba(X_test)\n",
        "    auc = roc_auc_score(y_test['default.payment.next.month'], y_pred[:,1])\n",
        "    return auc"
      ],
      "metadata": {
        "id": "vG7g_Gb-xN2B"
      },
      "id": "vG7g_Gb-xN2B",
      "execution_count": null,
      "outputs": []
    },
    {
      "cell_type": "code",
      "source": [
        "#We are going to run it for n_neighbors = 1 to 21 and will be recording AUC score then plot.\n",
        "range_k = range(1,22)\n",
        "scores = {}\n",
        "scores_list = []\n",
        "for k in range_k:\n",
        "   knn_model_graph = KNeighborsClassifier(n_neighbors=k,p=1,leaf_size=30)\n",
        "   knn_model_graph.fit(X_train_p, y_train)\n",
        "   scores[k] = knn_score(X_test=X_test_p, model=knn_model_graph)\n",
        "   scores_list.append(scores[k])"
      ],
      "metadata": {
        "id": "HegtF6S8xS7c"
      },
      "id": "HegtF6S8xS7c",
      "execution_count": null,
      "outputs": []
    },
    {
      "cell_type": "code",
      "source": [
        "#Plot of how the AUC score changes\n",
        "%matplotlib inline\n",
        "plt.plot(range_k,scores_list)\n",
        "plt.xlabel(\"Value of n_neighbors\")\n",
        "plt.ylabel(\"AUC Score\")\n",
        "#save figure for blog post purpose don't need to include this cell in the actual code post\n",
        "#plt.savefig('knn_n_neighbors.png',dpi=500)"
      ],
      "metadata": {
        "colab": {
          "base_uri": "https://localhost:8080/",
          "height": 280
        },
        "id": "fo7UFh_Mxlnf",
        "outputId": "b77f09ab-25f7-4890-ce2a-eabf1974e811"
      },
      "id": "fo7UFh_Mxlnf",
      "execution_count": null,
      "outputs": [
        {
          "output_type": "display_data",
          "data": {
            "image/png": "[encoded data removed]",
            "text/plain": [
              "<Figure size 432x288 with 1 Axes>"
            ]
          },
          "metadata": {
            "needs_background": "light"
          }
        }
      ]
    },
    {
      "cell_type": "markdown",
      "id": "704582fa",
      "metadata": {
        "id": "704582fa"
      },
      "source": [
        "#### Retrain KNN model with entire training data"
      ]
    },
    {
      "cell_type": "code",
      "execution_count": null,
      "id": "e5353a02",
      "metadata": {
        "id": "e5353a02",
        "outputId": "e4dc2263-14be-4f6e-a06e-99b982a17b28"
      },
      "outputs": [
        {
          "data": {
            "text/plain": [
              "KNeighborsClassifier(n_neighbors=21, p=1)"
            ]
          },
          "execution_count": 113,
          "metadata": {},
          "output_type": "execute_result"
        }
      ],
      "source": [
        "knn_model = KNeighborsClassifier(n_neighbors=21,p=1,leaf_size=30)\n",
        "knn_model.fit(X_train_p, y_train)"
      ]
    },
    {
      "cell_type": "markdown",
      "id": "1e7f0fe7",
      "metadata": {
        "id": "1e7f0fe7"
      },
      "source": [
        "#### Test Model"
      ]
    },
    {
      "cell_type": "code",
      "execution_count": null,
      "id": "7274cdf9",
      "metadata": {
        "id": "7274cdf9",
        "outputId": "9d90848f-b83c-4281-dfad-d57fe2d28112"
      },
      "outputs": [
        {
          "name": "stdout",
          "output_type": "stream",
          "text": [
            "auc_score: 0.7073239121412297\n"
          ]
        },
        {
          "data": {
            "image/png": "[encoded data removed]",
            "text/plain": [
              "<Figure size 432x288 with 1 Axes>"
            ]
          },
          "metadata": {
            "needs_background": "light"
          },
          "output_type": "display_data"
        }
      ],
      "source": [
        "model_score(X_test=X_test_p, model=knn_model)"
      ]
    },
    {
      "cell_type": "markdown",
      "id": "da473f0f",
      "metadata": {
        "id": "da473f0f"
      },
      "source": [
        "### Model Stacking"
      ]
    },
    {
      "cell_type": "markdown",
      "id": "e9df24ba",
      "metadata": {
        "id": "e9df24ba"
      },
      "source": [
        "In this section we will explore how we can stack the models to generate final classifier"
      ]
    },
    {
      "cell_type": "code",
      "execution_count": null,
      "id": "2e62649e",
      "metadata": {
        "id": "2e62649e",
        "outputId": "faa508db-9920-41f2-deea-90dca0ce7916"
      },
      "outputs": [
        {
          "data": {
            "text/plain": [
              "VotingClassifier(estimators=[('xgb',\n",
              "                              XGBClassifier(base_score=0.5, booster='gbtree',\n",
              "                                            colsample_bylevel=1,\n",
              "                                            colsample_bynode=1,\n",
              "                                            colsample_bytree=0.3,\n",
              "                                            early_stopping_rounds=5, gamma=0,\n",
              "                                            gpu_id=-1, importance_type='gain',\n",
              "                                            interaction_constraints='',\n",
              "                                            learning_rate=0.01,\n",
              "                                            max_delta_step=0, max_depth=6,\n",
              "                                            min_child_weight=1, missing=nan,\n",
              "                                            monotone_constraints='()',\n",
              "                                            n_estimator...,\n",
              "                                            num_parallel_tree=1, random_state=0,\n",
              "                                            reg_alpha=0, reg_lambda=1,\n",
              "                                            scale_pos_weight=1, subsample=1,\n",
              "                                            tree_method='exact',\n",
              "                                            validate_parameters=1,\n",
              "                                            verbosity=None)),\n",
              "                             ('rf',\n",
              "                              RandomForestClassifier(max_depth=11,\n",
              "                                                     n_estimators=575,\n",
              "                                                     n_jobs=-1,\n",
              "                                                     random_state=5)),\n",
              "                             ('lr', LogisticRegression(C=5)),\n",
              "                             ('knn',\n",
              "                              KNeighborsClassifier(n_neighbors=21, p=1))],\n",
              "                 voting='soft', weights=[3, 2, 1, 1])"
            ]
          },
          "execution_count": 346,
          "metadata": {},
          "output_type": "execute_result"
        }
      ],
      "source": [
        "vc_model = VotingClassifier(estimators=[('xgb', xgb_model), ('rf', rf_model), ('lr', lr_model),  ('knn', knn_model)],\n",
        "                            weights=[3,2,1,1],\n",
        "                            voting='soft')\n",
        "vc_model.fit(X_train_p, y_train)"
      ]
    },
    {
      "cell_type": "code",
      "execution_count": null,
      "id": "303eaef4",
      "metadata": {
        "id": "303eaef4",
        "outputId": "797e39c7-4886-45de-ac11-0d90e7bd24e9"
      },
      "outputs": [
        {
          "name": "stdout",
          "output_type": "stream",
          "text": [
            "auc_score: 0.7962224388562419\n"
          ]
        },
        {
          "data": {
            "image/png": "[encoded data removed]",
            "text/plain": [
              "<Figure size 432x288 with 1 Axes>"
            ]
          },
          "metadata": {
            "needs_background": "light"
          },
          "output_type": "display_data"
        }
      ],
      "source": [
        "model_score(X_test=X_test_p, model=vc_model)"
      ]
    },
    {
      "cell_type": "markdown",
      "id": "e9baa6c8",
      "metadata": {
        "id": "e9baa6c8"
      },
      "source": [
        "### Pseudo Labeling"
      ]
    },
    {
      "cell_type": "markdown",
      "id": "1d4f8c51",
      "metadata": {
        "id": "1d4f8c51"
      },
      "source": [
        "In this technique we try to take benifit of the labels we generate for the test data.\n",
        "The whole process can be described in 2 phases \n",
        "\n",
        "Process:\n",
        "\n",
        "Phase 1:\n",
        "- Tune a model to get the best CV score on the train data\n",
        "- Train the model on complete train data\n",
        "- Generate labels for the test data\n",
        "- Augment the train data with the generated test features and labels\n",
        "\n",
        "Phase 2:\n",
        "- Tune the model to get best CV score on the Augmented train data\n",
        "- Train the model using complete Augmented train data\n",
        "- Generate labels for the test data\n",
        "- Compute AUC score\n",
        "\n",
        "We will perform the experiment with XGBClassifier model which we tuned in the earlier step"
      ]
    },
    {
      "cell_type": "markdown",
      "id": "702fd6dd",
      "metadata": {
        "id": "702fd6dd"
      },
      "source": [
        "#### Phase 1"
      ]
    },
    {
      "cell_type": "markdown",
      "id": "60ed8371",
      "metadata": {
        "id": "60ed8371"
      },
      "source": [
        "##### Training Base model"
      ]
    },
    {
      "cell_type": "code",
      "execution_count": null,
      "id": "e4efc2e7",
      "metadata": {
        "id": "e4efc2e7",
        "outputId": "550bdd27-d508-479f-851d-d9d288d6fe58"
      },
      "outputs": [
        {
          "data": {
            "text/plain": [
              "XGBClassifier(base_score=0.5, booster='gbtree', colsample_bylevel=1,\n",
              "              colsample_bynode=1, colsample_bytree=0.3, early_stopping_rounds=5,\n",
              "              gamma=0, gpu_id=-1, importance_type='gain',\n",
              "              interaction_constraints='', learning_rate=0.01, max_delta_step=0,\n",
              "              max_depth=7, min_child_weight=1, missing=nan,\n",
              "              monotone_constraints='()', n_estimators=600, n_jobs=-1,\n",
              "              num_parallel_tree=1, random_state=0, reg_alpha=0, reg_lambda=1,\n",
              "              scale_pos_weight=1, subsample=1, tree_method='exact',\n",
              "              validate_parameters=1, verbosity=None)"
            ]
          },
          "execution_count": 226,
          "metadata": {},
          "output_type": "execute_result"
        }
      ],
      "source": [
        "colsample_bytree = 0.3\n",
        "n_estimators = 600\n",
        "max_depth = 7\n",
        "learning_rate = 0.01\n",
        "\n",
        "xgb_model = XGBClassifier(colsample_bytree=colsample_bytree, early_stopping_rounds=5, n_estimators=n_estimators, max_depth=max_depth, n_jobs=-1, learning_rate=learning_rate, objective='binary:logistic')\n",
        "xgb_model.fit(X_train_p, y_train)"
      ]
    },
    {
      "cell_type": "markdown",
      "id": "0c651238",
      "metadata": {
        "id": "0c651238"
      },
      "source": [
        "##### AUC score for base model"
      ]
    },
    {
      "cell_type": "code",
      "execution_count": null,
      "id": "4927335e",
      "metadata": {
        "id": "4927335e",
        "outputId": "196eb00e-bb01-4692-ed01-50e8d3026093"
      },
      "outputs": [
        {
          "name": "stdout",
          "output_type": "stream",
          "text": [
            "auc_score: 0.7966432254765081\n"
          ]
        }
      ],
      "source": [
        "model_score(X_test=X_test_p, model=xgb_model)"
      ]
    },
    {
      "cell_type": "code",
      "execution_count": null,
      "id": "7cb746dd",
      "metadata": {
        "id": "7cb746dd",
        "outputId": "5150670e-5926-42de-fc94-3a3f7dfffc44"
      },
      "outputs": [
        {
          "data": {
            "text/html": [
              "<div>\n",
              "<style scoped>\n",
              "    .dataframe tbody tr th:only-of-type {\n",
              "        vertical-align: middle;\n",
              "    }\n",
              "\n",
              "    .dataframe tbody tr th {\n",
              "        vertical-align: top;\n",
              "    }\n",
              "\n",
              "    .dataframe thead th {\n",
              "        text-align: right;\n",
              "    }\n",
              "</style>\n",
              "<table border=\"1\" class=\"dataframe\">\n",
              "  <thead>\n",
              "    <tr style=\"text-align: right;\">\n",
              "      <th></th>\n",
              "      <th>ID</th>\n",
              "      <th>default.payment.next.month</th>\n",
              "    </tr>\n",
              "  </thead>\n",
              "  <tbody>\n",
              "    <tr>\n",
              "      <th>7400</th>\n",
              "      <td>29901</td>\n",
              "      <td>0.180284</td>\n",
              "    </tr>\n",
              "    <tr>\n",
              "      <th>7401</th>\n",
              "      <td>29902</td>\n",
              "      <td>0.316098</td>\n",
              "    </tr>\n",
              "    <tr>\n",
              "      <th>7402</th>\n",
              "      <td>29903</td>\n",
              "      <td>0.070100</td>\n",
              "    </tr>\n",
              "    <tr>\n",
              "      <th>7403</th>\n",
              "      <td>29904</td>\n",
              "      <td>0.090240</td>\n",
              "    </tr>\n",
              "    <tr>\n",
              "      <th>7404</th>\n",
              "      <td>29905</td>\n",
              "      <td>0.125830</td>\n",
              "    </tr>\n",
              "    <tr>\n",
              "      <th>...</th>\n",
              "      <td>...</td>\n",
              "      <td>...</td>\n",
              "    </tr>\n",
              "    <tr>\n",
              "      <th>7495</th>\n",
              "      <td>29996</td>\n",
              "      <td>0.061103</td>\n",
              "    </tr>\n",
              "    <tr>\n",
              "      <th>7496</th>\n",
              "      <td>29997</td>\n",
              "      <td>0.151556</td>\n",
              "    </tr>\n",
              "    <tr>\n",
              "      <th>7497</th>\n",
              "      <td>29998</td>\n",
              "      <td>0.528873</td>\n",
              "    </tr>\n",
              "    <tr>\n",
              "      <th>7498</th>\n",
              "      <td>29999</td>\n",
              "      <td>0.113907</td>\n",
              "    </tr>\n",
              "    <tr>\n",
              "      <th>7499</th>\n",
              "      <td>30000</td>\n",
              "      <td>0.151222</td>\n",
              "    </tr>\n",
              "  </tbody>\n",
              "</table>\n",
              "<p>100 rows × 2 columns</p>\n",
              "</div>"
            ],
            "text/plain": [
              "         ID  default.payment.next.month\n",
              "7400  29901                    0.180284\n",
              "7401  29902                    0.316098\n",
              "7402  29903                    0.070100\n",
              "7403  29904                    0.090240\n",
              "7404  29905                    0.125830\n",
              "...     ...                         ...\n",
              "7495  29996                    0.061103\n",
              "7496  29997                    0.151556\n",
              "7497  29998                    0.528873\n",
              "7498  29999                    0.113907\n",
              "7499  30000                    0.151222\n",
              "\n",
              "[100 rows x 2 columns]"
            ]
          },
          "execution_count": 241,
          "metadata": {},
          "output_type": "execute_result"
        }
      ],
      "source": [
        "y_pred = xgb_model.predict_proba(X_test_p)\n",
        "sol = pd.DataFrame({\"ID\":testIds, \"default.payment.next.month\":y_pred[:,1]})\n",
        "sol.tail(100)"
      ]
    },
    {
      "cell_type": "code",
      "execution_count": null,
      "id": "eaf0c769",
      "metadata": {
        "id": "eaf0c769"
      },
      "outputs": [],
      "source": [
        "sol.to_csv(\"data/submission.csv\", index=False)"
      ]
    },
    {
      "cell_type": "markdown",
      "id": "f1d9fa9c",
      "metadata": {
        "id": "f1d9fa9c"
      },
      "source": [
        "##### Augmenting the train data"
      ]
    },
    {
      "cell_type": "code",
      "execution_count": null,
      "id": "f13cae63",
      "metadata": {
        "id": "f13cae63",
        "outputId": "1135561b-646f-4661-adeb-81532e8e2a13"
      },
      "outputs": [
        {
          "name": "stdout",
          "output_type": "stream",
          "text": [
            "train shape: (27749, 25)\n",
            "test shape: (7500, 24)\n"
          ]
        }
      ],
      "source": [
        "train1 = pd.read_csv(\"data/train.csv\")\n",
        "test = pd.read_csv(\"data/test.csv\")\n",
        "print(f'train shape: {train.shape}')\n",
        "print(f'test shape: {test.shape}')"
      ]
    },
    {
      "cell_type": "code",
      "execution_count": null,
      "id": "1c32e3b8",
      "metadata": {
        "id": "1c32e3b8"
      },
      "outputs": [],
      "source": [
        "testIds = test['ID']"
      ]
    },
    {
      "cell_type": "code",
      "execution_count": null,
      "id": "5a59aab0",
      "metadata": {
        "id": "5a59aab0"
      },
      "outputs": [],
      "source": [
        "best_result = \"data/submission.csv\"\n",
        "test_results = pd.read_csv(best_result)\n",
        "\n",
        "# take only data where the model was able to predict with confidence\n",
        "confident_results = test_results[(test_results['default.payment.next.month'] < 0.2) | (test_results['default.payment.next.month'] > 0.8)]\n",
        "test_subset = pd.merge(confident_results,test,on='ID')\n",
        "train = pd.concat([train1, test_subset]).round({'default.payment.next.month':0})\n",
        "train.drop(['ID'], axis=1, inplace=True)\n",
        "test.drop(['ID'], axis=1, inplace=True)"
      ]
    },
    {
      "cell_type": "code",
      "execution_count": null,
      "id": "55442d5e",
      "metadata": {
        "id": "55442d5e",
        "outputId": "f09e3256-ab13-4f64-8e8a-62f3059273f6"
      },
      "outputs": [
        {
          "data": {
            "text/plain": [
              "(27749, 23)"
            ]
          },
          "execution_count": 256,
          "metadata": {},
          "output_type": "execute_result"
        }
      ],
      "source": [
        "# Grab target as y, remove target from X\n",
        "train_copy = train.copy()\n",
        "y_train_a = train_copy['default.payment.next.month']\n",
        "X_train_a = train_copy.drop(columns=['default.payment.next.month'])\n",
        "X_train_a.shape"
      ]
    },
    {
      "cell_type": "markdown",
      "id": "d7a63dcf",
      "metadata": {
        "id": "d7a63dcf"
      },
      "source": [
        "#### Phase 2"
      ]
    },
    {
      "cell_type": "markdown",
      "id": "5ddf9edd",
      "metadata": {
        "id": "5ddf9edd"
      },
      "source": [
        "##### Train model with Augmented train data"
      ]
    },
    {
      "cell_type": "code",
      "execution_count": null,
      "id": "f894c1aa",
      "metadata": {
        "id": "f894c1aa",
        "outputId": "9e28c439-0066-49c0-c7c7-70795af5ba17"
      },
      "outputs": [
        {
          "data": {
            "text/plain": [
              "(27749, 156)"
            ]
          },
          "execution_count": 257,
          "metadata": {},
          "output_type": "execute_result"
        }
      ],
      "source": [
        "# Fit the preprocessor using the augmented training data\n",
        "X_train_a_p = fetaure_preprocessor.fit_transform(X_train_a, y_train_a)\n",
        "X_train_a_p.shape"
      ]
    },
    {
      "cell_type": "code",
      "execution_count": null,
      "id": "7b828c60",
      "metadata": {
        "id": "7b828c60",
        "outputId": "fb7e0302-58e4-412e-cdec-56293281d8e7"
      },
      "outputs": [
        {
          "data": {
            "text/plain": [
              "(7500, 156)"
            ]
          },
          "execution_count": 258,
          "metadata": {},
          "output_type": "execute_result"
        }
      ],
      "source": [
        "# transform test data\n",
        "X_test_a = test.copy()\n",
        "X_test_a_p = fetaure_preprocessor.transform(X_test_a)\n",
        "X_test_a_p.shape"
      ]
    },
    {
      "cell_type": "code",
      "execution_count": null,
      "id": "e49c1086",
      "metadata": {
        "id": "e49c1086",
        "outputId": "03f10456-16d5-4025-da13-43cfc9b8bb87"
      },
      "outputs": [
        {
          "name": "stdout",
          "output_type": "stream",
          "text": [
            "\n",
            "colsample_bytree: 0.3, learning_rate: 0.01, n_estimators: 650, max_depth: 7\n",
            "scores: [0.80106323 0.81679153 0.8016998  0.81734255 0.80765121]\n",
            "cv_score: 0.80891\n",
            "\n",
            "colsample_bytree: 0.3, learning_rate: 0.01, n_estimators: 660, max_depth: 7\n",
            "scores: [0.81251285 0.80339654 0.78555936 0.81729779 0.82182829]\n",
            "cv_score: 0.80812\n",
            "\n",
            "colsample_bytree: 0.3, learning_rate: 0.01, n_estimators: 670, max_depth: 7\n",
            "scores: [0.81451122 0.80819465 0.80786165 0.79961095 0.81032675]\n",
            "cv_score: 0.8081\n"
          ]
        }
      ],
      "source": [
        "import warnings\n",
        "warnings.filterwarnings(\"ignore\", category=UserWarning)\n",
        "\n",
        "for colsample_bytree in [0.3]:\n",
        "    for learning_rate in [0.01]:\n",
        "        for n_estimators in [650, 660, 670]:\n",
        "                for max_depth in [7]:\n",
        "                    print(f'\\ncolsample_bytree: {colsample_bytree}, learning_rate: {learning_rate}, n_estimators: {n_estimators}, max_depth: {max_depth}')\n",
        "                    model = XGBClassifier(colsample_bytree=colsample_bytree, early_stopping_rounds=5, n_estimators=n_estimators, max_depth=max_depth, n_jobs=-1, \n",
        "                                          learning_rate=learning_rate, objective='binary:logistic', verbosity = 0, silent=True)\n",
        "                    crossValidation(X_train=X_train_a_p, y_train=y_train_a, model=model)"
      ]
    },
    {
      "cell_type": "code",
      "execution_count": null,
      "id": "6c91038c",
      "metadata": {
        "id": "6c91038c",
        "outputId": "6f3ce32a-abe8-4553-b554-1c62b30c5912"
      },
      "outputs": [
        {
          "data": {
            "text/plain": [
              "XGBClassifier(base_score=0.5, booster='gbtree', colsample_bylevel=1,\n",
              "              colsample_bynode=1, colsample_bytree=0.3, early_stopping_rounds=5,\n",
              "              gamma=0, gpu_id=-1, importance_type='gain',\n",
              "              interaction_constraints='', learning_rate=0.01, max_delta_step=0,\n",
              "              max_depth=7, min_child_weight=1, missing=nan,\n",
              "              monotone_constraints='()', n_estimators=650, n_jobs=-1,\n",
              "              num_parallel_tree=1, random_state=0, reg_alpha=0, reg_lambda=1,\n",
              "              scale_pos_weight=1, subsample=1, tree_method='exact',\n",
              "              validate_parameters=1, verbosity=None)"
            ]
          },
          "execution_count": 269,
          "metadata": {},
          "output_type": "execute_result"
        }
      ],
      "source": [
        "colsample_bytree = 0.3\n",
        "n_estimators = 650\n",
        "max_depth = 7\n",
        "learning_rate = 0.01\n",
        "\n",
        "xgb_model = XGBClassifier(colsample_bytree=colsample_bytree, early_stopping_rounds=5, n_estimators=n_estimators, max_depth=max_depth, n_jobs=-1, learning_rate=learning_rate, objective='binary:logistic')\n",
        "xgb_model.fit(X_train_a_p, y_train_a)"
      ]
    },
    {
      "cell_type": "code",
      "execution_count": null,
      "id": "33d3ae56",
      "metadata": {
        "id": "33d3ae56",
        "outputId": "942caaf9-9bf5-4f90-fa02-9b36a868d452"
      },
      "outputs": [
        {
          "name": "stdout",
          "output_type": "stream",
          "text": [
            "auc_score: 0.7962089806305743\n"
          ]
        }
      ],
      "source": [
        "model_score(X_test=X_test_a_p, model=xgb_model)"
      ]
    }
  ],
  "metadata": {
    "colab": {
      "collapsed_sections": [],
      "name": "Copy of Shelley_UCI_Credit_Defaults.ipynb",
      "provenance": []
    },
    "kernelspec": {
      "display_name": "Python 3",
      "language": "python",
      "name": "python3"
    },
    "language_info": {
      "codemirror_mode": {
        "name": "ipython",
        "version": 3
      },
      "file_extension": ".py",
      "mimetype": "text/x-python",
      "name": "python",
      "nbconvert_exporter": "python",
      "pygments_lexer": "ipython3",
      "version": "3.8.8"
    },
    "accelerator": "GPU"
  },
  "nbformat": 4,
  "nbformat_minor": 5
}